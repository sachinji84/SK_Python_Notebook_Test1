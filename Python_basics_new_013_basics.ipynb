{
 "cells": [
  {
   "cell_type": "markdown",
   "id": "f2262436",
   "metadata": {
    "toc": true
   },
   "source": [
    "<h1>Table of Contents<span class=\"tocSkip\"></span></h1>\n",
    "<div class=\"toc\"><ul class=\"toc-item\"><li><span><a href=\"#Python-If...Else\" data-toc-modified-id=\"Python-If...Else-1\"><span class=\"toc-item-num\">1&nbsp;&nbsp;</span>Python If...Else</a></span><ul class=\"toc-item\"><li><ul class=\"toc-item\"><li><span><a href=\"#Elif\" data-toc-modified-id=\"Elif-1.0.1\"><span class=\"toc-item-num\">1.0.1&nbsp;&nbsp;</span>Elif</a></span></li><li><span><a href=\"#Else\" data-toc-modified-id=\"Else-1.0.2\"><span class=\"toc-item-num\">1.0.2&nbsp;&nbsp;</span>Else</a></span></li><li><span><a href=\"#Short-Hand-If\" data-toc-modified-id=\"Short-Hand-If-1.0.3\"><span class=\"toc-item-num\">1.0.3&nbsp;&nbsp;</span>Short Hand If</a></span></li><li><span><a href=\"#Ternary-Operators,-or-Conditional-Expressions.\" data-toc-modified-id=\"Ternary-Operators,-or-Conditional-Expressions.-1.0.4\"><span class=\"toc-item-num\">1.0.4&nbsp;&nbsp;</span>Ternary Operators, or Conditional Expressions.</a></span></li><li><span><a href=\"#Nested-If\" data-toc-modified-id=\"Nested-If-1.0.5\"><span class=\"toc-item-num\">1.0.5&nbsp;&nbsp;</span>Nested If</a></span></li></ul></li></ul></li><li><span><a href=\"#Others-Concept-on-if..else\" data-toc-modified-id=\"Others-Concept-on-if..else-2\"><span class=\"toc-item-num\">2&nbsp;&nbsp;</span>Others Concept on if..else</a></span></li><li><span><a href=\"#Python-For-Loops\" data-toc-modified-id=\"Python-For-Loops-3\"><span class=\"toc-item-num\">3&nbsp;&nbsp;</span>Python For Loops</a></span></li><li><span><a href=\"#Python-While-Loops\" data-toc-modified-id=\"Python-While-Loops-4\"><span class=\"toc-item-num\">4&nbsp;&nbsp;</span>Python While Loops</a></span></li><li><span><a href=\"#Python-Operators\" data-toc-modified-id=\"Python-Operators-5\"><span class=\"toc-item-num\">5&nbsp;&nbsp;</span>Python Operators</a></span></li><li><span><a href=\"#Python-Functions\" data-toc-modified-id=\"Python-Functions-6\"><span class=\"toc-item-num\">6&nbsp;&nbsp;</span>Python Functions</a></span></li><li><span><a href=\"#Python-Lambda\" data-toc-modified-id=\"Python-Lambda-7\"><span class=\"toc-item-num\">7&nbsp;&nbsp;</span>Python Lambda</a></span></li><li><span><a href=\"#Python-built-in-functions\" data-toc-modified-id=\"Python-built-in-functions-8\"><span class=\"toc-item-num\">8&nbsp;&nbsp;</span>Python built-in functions</a></span><ul class=\"toc-item\"><li><span><a href=\"#Python-len()-Function\" data-toc-modified-id=\"Python-len()-Function-8.1\"><span class=\"toc-item-num\">8.1&nbsp;&nbsp;</span>Python len() Function</a></span></li><li><span><a href=\"#range()\" data-toc-modified-id=\"range()-8.2\"><span class=\"toc-item-num\">8.2&nbsp;&nbsp;</span>range()</a></span></li><li><span><a href=\"#Python-Iterators\" data-toc-modified-id=\"Python-Iterators-8.3\"><span class=\"toc-item-num\">8.3&nbsp;&nbsp;</span>Python Iterators</a></span></li></ul></li><li><span><a href=\"#Questions\" data-toc-modified-id=\"Questions-9\"><span class=\"toc-item-num\">9&nbsp;&nbsp;</span>Questions</a></span></li></ul></div>"
   ]
  },
  {
   "cell_type": "markdown",
   "id": "c201d672",
   "metadata": {},
   "source": [
    "# Python If...Else\n",
    "\n",
    "Python Conditions and If statements\n",
    "Python supports the usual logical conditions from mathematics:\n",
    "\n",
    "`Equals:    a == b\n",
    "Not Equals: a != b\n",
    "Less than:  a < b\n",
    "Less than or equal to: a <= b\n",
    "Greater than:          a > b\n",
    "Greater than or equal to: a >= b`\n",
    "\n"
   ]
  },
  {
   "cell_type": "code",
   "execution_count": 1,
   "id": "57875407",
   "metadata": {},
   "outputs": [
    {
     "name": "stdout",
     "output_type": "stream",
     "text": [
      "b is greater than a\n"
     ]
    }
   ],
   "source": [
    "# Example If statement:\n",
    "\n",
    "a = 33\n",
    "b = 200\n",
    "if b > a:\n",
    "    print(\"b is greater than a\")"
   ]
  },
  {
   "cell_type": "markdown",
   "id": "6cf0b683",
   "metadata": {},
   "source": [
    "In this example we use two variables, a and b, which are used as part of the if statement to test whether b is greater than a. As a is 33, and b is 200, we know that 200 is greater than 33, and so we print to screen that \"b is greater than a\".\n",
    "\n",
    "_Indentation_\n",
    "\n",
    "Python relies on indentation (whitespace at the beginning of a line) to define scope in the code. Other programming languages often use curly-brackets for this purpose.\n",
    "\n"
   ]
  },
  {
   "cell_type": "code",
   "execution_count": 2,
   "id": "4638e2ad",
   "metadata": {},
   "outputs": [
    {
     "ename": "IndentationError",
     "evalue": "expected an indented block (<ipython-input-2-ab1f7ee3e14a>, line 6)",
     "output_type": "error",
     "traceback": [
      "\u001b[1;36m  File \u001b[1;32m\"<ipython-input-2-ab1f7ee3e14a>\"\u001b[1;36m, line \u001b[1;32m6\u001b[0m\n\u001b[1;33m    print(\"b is greater than a\")\u001b[0m\n\u001b[1;37m    ^\u001b[0m\n\u001b[1;31mIndentationError\u001b[0m\u001b[1;31m:\u001b[0m expected an indented block\n"
     ]
    }
   ],
   "source": [
    "# Example If statement, without indentation (will raise an error):\n",
    "a = 33\n",
    "b = 200\n",
    "\n",
    "if b > a:\n",
    "print(\"b is greater than a\")"
   ]
  },
  {
   "cell_type": "markdown",
   "id": "d2cd3177",
   "metadata": {},
   "source": [
    "### Elif\n",
    "The elif keyword is pythons way of saying \"if the previous conditions were not true, then try this condition\"."
   ]
  },
  {
   "cell_type": "code",
   "execution_count": 3,
   "id": "1a9809d3",
   "metadata": {},
   "outputs": [
    {
     "name": "stdout",
     "output_type": "stream",
     "text": [
      "a and b are equal\n"
     ]
    }
   ],
   "source": [
    "# Example\n",
    "a = 33\n",
    "b = 33\n",
    "if b > a:\n",
    "    print(\"b is greater than a\")\n",
    "elif a == b:\n",
    "    print(\"a and b are equal\")"
   ]
  },
  {
   "cell_type": "markdown",
   "id": "6eb51215",
   "metadata": {},
   "source": [
    "### Else\n",
    "The else keyword catches anything which isn't caught by the preceding conditions.\n",
    "\n",
    "In this example a is greater than b, so the first condition is not true, also the elif condition is not true, so we go to the else condition and print to screen that \"a is greater than b\"."
   ]
  },
  {
   "cell_type": "code",
   "execution_count": 4,
   "id": "172d030d",
   "metadata": {},
   "outputs": [
    {
     "name": "stdout",
     "output_type": "stream",
     "text": [
      "a is greater than b\n"
     ]
    }
   ],
   "source": [
    "a = 200\n",
    "b = 33\n",
    "if b > a:\n",
    "    print(\"b is greater than a\")\n",
    "elif a == b:\n",
    "    print(\"a and b are equal\")\n",
    "else:\n",
    "    print(\"a is greater than b\")"
   ]
  },
  {
   "cell_type": "code",
   "execution_count": 5,
   "id": "0d0a0efb",
   "metadata": {},
   "outputs": [
    {
     "name": "stdout",
     "output_type": "stream",
     "text": [
      "b is not greater than a\n"
     ]
    }
   ],
   "source": [
    "# You can also have an else without the elif:\n",
    "\n",
    "a = 200\n",
    "b = 33\n",
    "if b > a:\n",
    "    print(\"b is greater than a\")\n",
    "else:\n",
    "    print(\"b is not greater than a\")"
   ]
  },
  {
   "cell_type": "markdown",
   "id": "52d8ca38",
   "metadata": {},
   "source": [
    "### Short Hand If\n",
    "If you have only one statement to execute, you can put it on the same line as the if statement."
   ]
  },
  {
   "cell_type": "code",
   "execution_count": 6,
   "id": "bbba6b2c",
   "metadata": {},
   "outputs": [
    {
     "name": "stdout",
     "output_type": "stream",
     "text": [
      "a is greater than b\n"
     ]
    }
   ],
   "source": [
    "# One line if statement:\n",
    "a = 200\n",
    "b = 33\n",
    "\n",
    "if a > b:print(\"a is greater than b\")"
   ]
  },
  {
   "cell_type": "markdown",
   "id": "0b93e56d",
   "metadata": {},
   "source": [
    "### Ternary Operators, or Conditional Expressions.\n",
    "\n",
    "_Short Hand If ... Else_\n",
    "\n",
    "If you have only one statement to execute, one for if, and one for else, you can put it all on the same line:"
   ]
  },
  {
   "cell_type": "code",
   "execution_count": 7,
   "id": "a3e6ed47",
   "metadata": {},
   "outputs": [
    {
     "name": "stdout",
     "output_type": "stream",
     "text": [
      "B>A\n"
     ]
    }
   ],
   "source": [
    "# Example One line if else statement:\n",
    "a = 2\n",
    "b = 330\n",
    "\n",
    "print(\"A>B\") if a > b else print(\"B>A\")"
   ]
  },
  {
   "cell_type": "markdown",
   "id": "2e3f9194",
   "metadata": {},
   "source": [
    "You can also have multiple else statements on the same line:"
   ]
  },
  {
   "cell_type": "code",
   "execution_count": 8,
   "id": "93918f10",
   "metadata": {},
   "outputs": [
    {
     "name": "stdout",
     "output_type": "stream",
     "text": [
      "A=B\n"
     ]
    }
   ],
   "source": [
    "# Example One line if else statement, with 3 conditions:\n",
    "\n",
    "a = 330\n",
    "b = 330\n",
    "\n",
    "print(\"A\") if a > b else print(\"A=B\") if a == b else print(\"B\")"
   ]
  },
  {
   "cell_type": "markdown",
   "id": "509d9bcb",
   "metadata": {},
   "source": [
    "__AND__ The and keyword is a logical operator, and is used to combine conditional statements:\n",
    "\n",
    "__OR__  The or keyword is a logical operator, and is used to combine conditional statements:"
   ]
  },
  {
   "cell_type": "code",
   "execution_count": 9,
   "id": "5330c6ed",
   "metadata": {},
   "outputs": [
    {
     "name": "stdout",
     "output_type": "stream",
     "text": [
      "Both conditions are True. a > b and c > a\n"
     ]
    }
   ],
   "source": [
    "# Example Test if a is greater than b, AND if c is greater than a:\n",
    "a = 200\n",
    "b = 33\n",
    "c = 500\n",
    "if a > b and c > a:\n",
    "    print(\"Both conditions are True. a > b and c > a\")"
   ]
  },
  {
   "cell_type": "code",
   "execution_count": 10,
   "id": "91a34e4f",
   "metadata": {},
   "outputs": [
    {
     "name": "stdout",
     "output_type": "stream",
     "text": [
      "At least one of the conditions is True. a > b \n"
     ]
    }
   ],
   "source": [
    "# Example Test if a is greater than b, OR if a is greater than c:\n",
    "a = 200\n",
    "b = 33\n",
    "c = 500\n",
    "if a > b or a > c :\n",
    "      print(\"At least one of the conditions is True. a > b \")"
   ]
  },
  {
   "cell_type": "markdown",
   "id": "207eb65a",
   "metadata": {},
   "source": [
    "### Nested If\n",
    "\n",
    "\n",
    "You can have if statements inside if statements, this is called nested if statements.\n"
   ]
  },
  {
   "cell_type": "code",
   "execution_count": 11,
   "id": "60a88c86",
   "metadata": {},
   "outputs": [
    {
     "name": "stdout",
     "output_type": "stream",
     "text": [
      "Above ten,\n",
      "and also above 20!\n"
     ]
    }
   ],
   "source": [
    "x = 41\n",
    "\n",
    "if x > 10:\n",
    "    print(\"Above ten,\")\n",
    "    if x > 20:\n",
    "        print(\"and also above 20!\")\n",
    "    else:\n",
    "        print(\"but not above 20.\")"
   ]
  },
  {
   "cell_type": "markdown",
   "id": "3294f6db",
   "metadata": {},
   "source": [
    "__pass__ Statement\n",
    "\n",
    "if statements cannot be empty, but if you for some reason have an if statement with no content, put in the pass statement to avoid getting an error."
   ]
  },
  {
   "cell_type": "code",
   "execution_count": 12,
   "id": "64b368b5",
   "metadata": {},
   "outputs": [
    {
     "ename": "SyntaxError",
     "evalue": "unexpected EOF while parsing (<ipython-input-12-dfbb85b8dd89>, line 5)",
     "output_type": "error",
     "traceback": [
      "\u001b[1;36m  File \u001b[1;32m\"<ipython-input-12-dfbb85b8dd89>\"\u001b[1;36m, line \u001b[1;32m5\u001b[0m\n\u001b[1;33m    # having an empty if statement like this, would raise an error without the pass statement\u001b[0m\n\u001b[1;37m                                                                                             ^\u001b[0m\n\u001b[1;31mSyntaxError\u001b[0m\u001b[1;31m:\u001b[0m unexpected EOF while parsing\n"
     ]
    }
   ],
   "source": [
    "a = 33\n",
    "b = 200\n",
    "\n",
    "if b > a:\n",
    "         # having an empty if statement like this, would raise an error without the pass statement"
   ]
  },
  {
   "cell_type": "code",
   "execution_count": 13,
   "id": "8582643e",
   "metadata": {},
   "outputs": [],
   "source": [
    "a = 33\n",
    "b = 200\n",
    "\n",
    "if b > a:\n",
    "    pass"
   ]
  },
  {
   "cell_type": "markdown",
   "id": "c9daa3fc",
   "metadata": {},
   "source": [
    "# Others Concept on if..else\n",
    "\n",
    "* Python programming language assumes any non-zero and non-null values as TRUE and if it is either zero or null then it is assumed as FALSE value."
   ]
  },
  {
   "cell_type": "code",
   "execution_count": 14,
   "id": "dcb670cb",
   "metadata": {},
   "outputs": [
    {
     "name": "stdout",
     "output_type": "stream",
     "text": [
      "Value of a is 10\n"
     ]
    }
   ],
   "source": [
    "# if-statements\n",
    "\n",
    "a = 10\n",
    "b = 0\n",
    "if a:  # --> it means if a is non zero. which is TRUE \n",
    "    print(\"Value of a is \" + str(a))"
   ]
  },
  {
   "cell_type": "code",
   "execution_count": 15,
   "id": "29ffcb79",
   "metadata": {},
   "outputs": [],
   "source": [
    "a = 10\n",
    "b = 0\n",
    "if b: # --> it means if b is non zero or non-null. which is FALSE hence it will not print.\n",
    "    print(\"Value of b is \" + str(b))"
   ]
  },
  {
   "cell_type": "code",
   "execution_count": 16,
   "id": "17912977",
   "metadata": {},
   "outputs": [
    {
     "name": "stdout",
     "output_type": "stream",
     "text": [
      "Value of b is 0\n"
     ]
    }
   ],
   "source": [
    "a = 10\n",
    "b = 0\n",
    "if not b:  # this is Flase but not is there so nagation of FALSE is TRUE \n",
    "    print(\"Value of b is \" + str(b))"
   ]
  },
  {
   "cell_type": "code",
   "execution_count": 17,
   "id": "ee10b25e",
   "metadata": {},
   "outputs": [
    {
     "name": "stdout",
     "output_type": "stream",
     "text": [
      "Value of b is equal to zero\n"
     ]
    }
   ],
   "source": [
    "a = 10\n",
    "b = 0\n",
    "\n",
    "if b:\n",
    "    print(\"Value of b is not equal to zero\")\n",
    "else:\n",
    "    print(\"Value of b is equal to zero\")"
   ]
  },
  {
   "cell_type": "code",
   "execution_count": 18,
   "id": "5f2728cf",
   "metadata": {},
   "outputs": [
    {
     "name": "stdout",
     "output_type": "stream",
     "text": [
      "Value of a is less than 50\n",
      "Which is 10\n"
     ]
    }
   ],
   "source": [
    "a = 10\n",
    "b = 0\n",
    "if a < 50:\n",
    "    print(\"Value of a is less than 50\")\n",
    "    if a == 30:\n",
    "        print(\"Which is 30\")\n",
    "    elif a == 10:\n",
    "        print(\"Which is 10\")\n",
    "    else:\n",
    "        print(\"Which is not either 10 or 20\")\n",
    "elif a > 50:\n",
    "    print(\"Value of a is more than 50\")\n",
    "else:\n",
    "    print(\"Couldn't find value of a\")"
   ]
  },
  {
   "cell_type": "markdown",
   "id": "b524570b",
   "metadata": {},
   "source": [
    "# Python For Loops"
   ]
  },
  {
   "cell_type": "markdown",
   "id": "7e24698c",
   "metadata": {},
   "source": [
    "# Python While Loops"
   ]
  },
  {
   "cell_type": "markdown",
   "id": "2ec8bbf7",
   "metadata": {},
   "source": [
    "# Python Operators"
   ]
  },
  {
   "cell_type": "markdown",
   "id": "93298607",
   "metadata": {},
   "source": [
    "# Python Functions"
   ]
  },
  {
   "cell_type": "markdown",
   "id": "064aa7f9",
   "metadata": {},
   "source": [
    "# Python Lambda"
   ]
  },
  {
   "cell_type": "markdown",
   "id": "069f170b",
   "metadata": {},
   "source": [
    "# Python built-in functions\n",
    "\n",
    "Python has a set of built-in functions.\n",
    "\n",
    "https://www.w3schools.com/python/python_ref_functions.asp\n",
    "\n",
    "`Function\tDescription\n",
    "abs()\tReturns the absolute value of a number\n",
    "all()\tReturns True if all items in an iterable object are true\n",
    "any()\tReturns True if any item in an iterable object is true\n",
    "ascii()\tReturns a readable version of an object. Replaces none-ascii characters with escape character\n",
    "bin()\tReturns the binary version of a number\n",
    "bool()\tReturns the boolean value of the specified object\n",
    "bytearray()\tReturns an array of bytes\n",
    "bytes()\tReturns a bytes object\n",
    "callable()\tReturns True if the specified object is callable, otherwise False\n",
    "chr()\tReturns a character from the specified Unicode code.\n",
    "classmethod()\tConverts a method into a class method\n",
    "compile()\tReturns the specified source as an object, ready to be executed\n",
    "complex()\tReturns a complex number\n",
    "delattr()\tDeletes the specified attribute (property or method) from the specified object\n",
    "dict()\tReturns a dictionary (Array)\n",
    "dir()\tReturns a list of the specified object's properties and methods\n",
    "divmod()\tReturns the quotient and the remainder when argument1 is divided by argument2\n",
    "enumerate()\tTakes a collection (e.g. a tuple) and returns it as an enumerate object\n",
    "eval()\tEvaluates and executes an expression\n",
    "exec()\tExecutes the specified code (or object)\n",
    "filter()\tUse a filter function to exclude items in an iterable object\n",
    "float()\tReturns a floating point number\n",
    "format()\tFormats a specified value\n",
    "frozenset()\tReturns a frozenset object\n",
    "getattr()\tReturns the value of the specified attribute (property or method)\n",
    "globals()\tReturns the current global symbol table as a dictionary\n",
    "hasattr()\tReturns True if the specified object has the specified attribute (property/method)\n",
    "hash()\tReturns the hash value of a specified object\n",
    "help()\tExecutes the built-in help system\n",
    "hex()\tConverts a number into a hexadecimal value\n",
    "id()\tReturns the id of an object\n",
    "input()\tAllowing user input\n",
    "int()\tReturns an integer number\n",
    "isinstance()\tReturns True if a specified object is an instance of a specified object\n",
    "issubclass()\tReturns True if a specified class is a subclass of a specified object\n",
    "iter()\tReturns an iterator object\n",
    "len()\tReturns the length of an object\n",
    "list()\tReturns a list\n",
    "locals()\tReturns an updated dictionary of the current local symbol table\n",
    "map()\tReturns the specified iterator with the specified function applied to each item\n",
    "max()\tReturns the largest item in an iterable\n",
    "memoryview()\tReturns a memory view object\n",
    "min()\tReturns the smallest item in an iterable\n",
    "next()\tReturns the next item in an iterable\n",
    "object()\tReturns a new object\n",
    "oct()\tConverts a number into an octal\n",
    "open()\tOpens a file and returns a file object\n",
    "ord()\tConvert an integer representing the Unicode of the specified character\n",
    "pow()\tReturns the value of x to the power of y\n",
    "print()\tPrints to the standard output device\n",
    "property()\tGets, sets, deletes a property\n",
    "range()\tReturns a sequence of numbers, starting from 0 and increments by 1 (by default)\n",
    "repr()\tReturns a readable version of an object\n",
    "reversed()\tReturns a reversed iterator\n",
    "round()\tRounds a numbers\n",
    "set()\tReturns a new set object\n",
    "setattr()\tSets an attribute (property/method) of an object\n",
    "slice()\tReturns a slice object\n",
    "sorted()\tReturns a sorted list\n",
    "staticmethod()\tConverts a method into a static method\n",
    "str()\tReturns a string object\n",
    "sum()\tSums the items of an iterator\n",
    "super()\tReturns an object that represents the parent class\n",
    "tuple()\tReturns a tuple\n",
    "type()\tReturns the type of an object\n",
    "vars()\tReturns the __dict__ property of an object\n",
    "zip()\tReturns an iterator, from two or more iterators`\n",
    "\n",
    "\n",
    "\n",
    "\n"
   ]
  },
  {
   "cell_type": "markdown",
   "id": "9bbac48b",
   "metadata": {},
   "source": [
    "## Python len() Function\n",
    "\n",
    "`Example\n",
    "Return the number of items in a list:\n",
    "mylist = [\"apple\", \"banana\", \"cherry\"]\n",
    "x = len(mylist)\n",
    "Definition and Usage\n",
    "The len() function returns the number of items in an object.\n",
    "When the object is a string, the len() function returns the number of characters in the string.\n",
    "Syntax\n",
    "len(object)\n",
    "Parameter Values\n",
    "Parameter\tDescription\n",
    "object\tRequired. An object. Must be a sequence or a collection\n",
    "More Examples\n",
    "Example\n",
    "Return the number of characters in a string:\n",
    "mylist = \"Hello\"\n",
    "x = len(mylist)`\n",
    "\n",
    "\n"
   ]
  },
  {
   "cell_type": "code",
   "execution_count": 19,
   "id": "e48707ff",
   "metadata": {},
   "outputs": [
    {
     "name": "stdout",
     "output_type": "stream",
     "text": [
      "3\n"
     ]
    }
   ],
   "source": [
    "# Return the number of items in a list:\n",
    "mylist = [\"apple\", \"orange\", \"cherry\"]\n",
    "x = len(mylist)\n",
    "print(x)"
   ]
  },
  {
   "cell_type": "code",
   "execution_count": 20,
   "id": "633ff2bc",
   "metadata": {},
   "outputs": [
    {
     "name": "stdout",
     "output_type": "stream",
     "text": [
      "5\n"
     ]
    }
   ],
   "source": [
    "# Return the number of characters in a string:\n",
    "myString = \"Hello\"\n",
    "x = len(myString)\n",
    "print(x)"
   ]
  },
  {
   "cell_type": "markdown",
   "id": "da95d8be",
   "metadata": {},
   "source": [
    "## range()\n",
    "\n",
    "https://www.geeksforgeeks.org/python-range-function/\n",
    "\n",
    "https://www.w3schools.com/python/ref_func_range.asp\n",
    "\n",
    "\n",
    "https://realpython.com/python-range/#the-history-of-pythons-range-function\n",
    "\n",
    "https://www.tutorialsteacher.com/python/range-method\n",
    "\n",
    "Python range() function returns the sequence of the given number between the given range.\n",
    "\n",
    "range() is a built-in function of Python. It is used when a user needs to perform an action a specific number of times. range() in Python(3.x) is just a renamed version of a function called xrange in Python(2.x). The range() function is used to generate a sequence of numbers. \n",
    "\n",
    "Python range() function for loop is commonly used hence, knowledge of same is the key aspect when dealing with any kind of Python code. \n",
    "\n",
    "__The most common use of range() function in Python is to iterate sequence type (Python range() List, string, etc. ) with for and while loop.__\n",
    "\n",
    "`Definition and Usage\n",
    "The range() function returns a sequence of numbers, starting from 0 by default, and increments by 1 (by default), and stops before a specified number.\n",
    "xxxxxxxxxxxxxxxxxxxxxxxxxxxxxxxxxxxxxxxxxxxxxxxxxxxxxxxxxxxxxxxxxxxxxxxxxxxxxx\n",
    "Syntax\n",
    "range(start, stop, step)\n",
    "Parameter Values\n",
    "Parameter\tDescription\n",
    "start\tOptional. An integer number specifying at which position to start. Default is 0\n",
    "stop\tRequired. An integer number specifying at which position to stop (not included).The range of integers end at stop – 1.\n",
    "step\tOptional. An integer number specifying the incrementation. Default is 1\n",
    "xxxxxxxxxx\n",
    "There are three ways you can call range() : \n",
    "range(stop) takes one argument.\n",
    "range(start, stop) takes two arguments.\n",
    "range(start, stop, step) takes three arguments.\n",
    "xxxxxxxxxxxxxxxxxxxxxxxxxxxxxxxxxxxxxxxxxxxxxxxxxxxxxxxxxxxxxxxxxxxxxxxxxxxxxx\n",
    "Example\n",
    "Create a sequence of numbers from 0 to 5, and print each item in the sequence:\n",
    "x = range(6)\n",
    "for n in x:\n",
    "  print(n)\n",
    "xxxxxxxxxxxxxxxxxxxxxxxxxxxxxxxxxxxxxxxxxxxxxxxxxxxxxxxxxxxxxxxxxxxxxxxxxxxxxx\n",
    "More Examples\n",
    "Example\n",
    "Create a sequence of numbers from 3 to 5, and print each item in the sequence:\n",
    "x = range(3, 6)\n",
    "for n in x:\n",
    "  print(n)\n",
    "xxxxxxxxxxxxxxxxxxxxxxxxxxxxxxxxxxxxxxxxxxxxxxxxxxxxxxxxxxxxxxxxxxxxxxxxxxxxxx\n",
    "Example\n",
    "Create a sequence of numbers from 3 to 19, but increment by 2 instead of 1:\n",
    "x = range(3, 20, 2)\n",
    "for n in x:\n",
    "  print(n)`\n",
    "\n",
    "\n",
    "Points to remember about Python range() function : \n",
    "\n",
    "* range() function only works with the integers i.e. whole numbers.\n",
    "* All arguments must be integers. Users can not pass a string or float number or any other type in a start, stop and step argument of a range().\n",
    "* All three arguments can be positive or negative.\n",
    "* The step value must not be zero. If a step is zero python raises a ValueError exception.\n",
    "* __range() is a type in Python__\n",
    "* Users can access items in a range() by index, just as users do with a list:\n",
    "* The range() function At its simplest, it accepts an integer and returns a range object (a type of iterable).\n",
    "* range() is mainly used for two purposes:\n",
    " 1. Executing the body of a for-loop a specific number of times\n",
    " 2. Creating more efficient iterables of integers than can be done using lists or tuples\n"
   ]
  },
  {
   "cell_type": "code",
   "execution_count": 21,
   "id": "3019fc4b",
   "metadata": {},
   "outputs": [
    {
     "name": "stdout",
     "output_type": "stream",
     "text": [
      "0\n",
      "1\n",
      "2\n",
      "3\n",
      "4\n",
      "5\n"
     ]
    }
   ],
   "source": [
    "# Create a sequence of numbers from 0 to 5, and print each item in the sequence:\n",
    "x = range(6)\n",
    "for n in x:\n",
    "    print(n)"
   ]
  },
  {
   "cell_type": "code",
   "execution_count": 22,
   "id": "db8970d6",
   "metadata": {},
   "outputs": [
    {
     "name": "stdout",
     "output_type": "stream",
     "text": [
      "3\n",
      "4\n",
      "5\n"
     ]
    }
   ],
   "source": [
    "# Create a sequence of numbers from 3 to 5, and print each item in the sequence:\n",
    "\n",
    "x = range(3, 6)\n",
    "for n in x:\n",
    "    print(n)"
   ]
  },
  {
   "cell_type": "code",
   "execution_count": 23,
   "id": "145eb7e0",
   "metadata": {},
   "outputs": [
    {
     "name": "stdout",
     "output_type": "stream",
     "text": [
      "3\n",
      "5\n",
      "7\n",
      "9\n",
      "11\n",
      "13\n",
      "15\n",
      "17\n",
      "19\n"
     ]
    }
   ],
   "source": [
    "# Create a sequence of numbers from 3 to 19, but increment by 2 instead of 1:\n",
    "\n",
    "x = range(3, 20, 2)\n",
    "for n in x:\n",
    "    print(n)"
   ]
  },
  {
   "cell_type": "code",
   "execution_count": 24,
   "id": "c0d131f0",
   "metadata": {},
   "outputs": [
    {
     "name": "stdout",
     "output_type": "stream",
     "text": [
      "0 1 2 3 4 5 6 7 8 9 \n",
      "\n",
      "0 10\n",
      "1 20\n",
      "2 30\n",
      "3 40\n",
      "\n",
      "Sum of first 10 natural number : 55\n"
     ]
    }
   ],
   "source": [
    "# Python Program to show range() basics\n",
    "\n",
    "# printing a number\n",
    "for i in range(10):\n",
    "    print(i, end=\" \")\n",
    "print(\"\\n\")\n",
    "\n",
    "# using range for iteration\n",
    "l = [10, 20, 30, 40]\n",
    "for i in range(len(l)):\n",
    "    print(i,l[i],end=\"\\n\")\n",
    "print()\n",
    "\n",
    "# performing sum of natural number\n",
    "sum = 0\n",
    "for i in range(1, 11):\n",
    "    sum = sum + i\n",
    "print(\"Sum of first 10 natural number :\", sum)"
   ]
  },
  {
   "cell_type": "markdown",
   "id": "217ba63b",
   "metadata": {},
   "source": [
    "__using range for iteration__"
   ]
  },
  {
   "cell_type": "code",
   "execution_count": 25,
   "id": "9fb32a9e",
   "metadata": {},
   "outputs": [
    {
     "name": "stdout",
     "output_type": "stream",
     "text": [
      "lenght of alist:4\n",
      "0 100\n",
      "1 200\n",
      "2 300\n",
      "3 400\n"
     ]
    }
   ],
   "source": [
    "# using range for iteration OF  List\n",
    "alist = [100, 200, 300, 400]\n",
    "print(f\"lenght of alist:{len(alist)}\")\n",
    "for i in range(len(alist)):\n",
    "    print(i, alist[i])"
   ]
  },
  {
   "cell_type": "code",
   "execution_count": 26,
   "id": "192dd2c4",
   "metadata": {},
   "outputs": [
    {
     "name": "stdout",
     "output_type": "stream",
     "text": [
      "lenght of myString:11\n",
      "0 h\n",
      "1 e\n",
      "2 l\n",
      "3 l\n",
      "4 o\n",
      "5  \n",
      "6 w\n",
      "7 o\n",
      "8 r\n",
      "9 l\n",
      "10 d\n"
     ]
    }
   ],
   "source": [
    "# using range for iteration OF  String\n",
    "myString = \"hello world\"\n",
    "print(f\"lenght of myString:{len(myString)}\")\n",
    "for i in range(len(myString)):\n",
    "    print(i, myString[i])"
   ]
  },
  {
   "cell_type": "markdown",
   "id": "be288ade",
   "metadata": {},
   "source": [
    "__Example 2:  Demonstration of Python range(stop)__"
   ]
  },
  {
   "cell_type": "code",
   "execution_count": 27,
   "id": "81962368",
   "metadata": {},
   "outputs": [
    {
     "name": "stdout",
     "output_type": "stream",
     "text": [
      "0 1 2 3 4 5 6 7 8 9 \n",
      "0 1 2 3 4 5 6 7 8 9 10 11 12 13 14 15 16 17 18 19 "
     ]
    }
   ],
   "source": [
    "# Python program to print whole number using range()\n",
    "\n",
    "# printing first 10 whole number\n",
    "for i in range(10):\n",
    "    print(i, end=\" \")\n",
    "print()\n",
    "\n",
    "# printing first 20 # whole number\n",
    "for i in range(20):\n",
    "    print(i, end=\" \")"
   ]
  },
  {
   "cell_type": "markdown",
   "id": "e5015de6",
   "metadata": {},
   "source": [
    "__Example 3:  Demonstration of Python range(start, stop)__"
   ]
  },
  {
   "cell_type": "code",
   "execution_count": 28,
   "id": "86103e9b",
   "metadata": {},
   "outputs": [
    {
     "name": "stdout",
     "output_type": "stream",
     "text": [
      "1 2 3 4 5 6 7 8 9 10 11 12 13 14 15 16 17 18 19 \n",
      "5 6 7 8 9 10 11 12 13 14 15 16 17 18 19 "
     ]
    }
   ],
   "source": [
    "# Python program to print natural number using range()\n",
    "\n",
    "# printing a natural number upto 20\n",
    "for i in range(1, 20):\n",
    "    print(i, end=\" \")\n",
    "print()\n",
    "\n",
    "# printing a natural\n",
    "# number from 5 to 20\n",
    "for i in range(5, 20):\n",
    "    print(i, end=\" \")"
   ]
  },
  {
   "cell_type": "markdown",
   "id": "fc1805de",
   "metadata": {},
   "source": [
    "__Example 4:  Demonstration of Python range(start, stop, step)__"
   ]
  },
  {
   "cell_type": "code",
   "execution_count": 29,
   "id": "9b84031d",
   "metadata": {},
   "outputs": [
    {
     "name": "stdout",
     "output_type": "stream",
     "text": [
      "0 3 6 9 12 15 18 21 24 27 \n",
      "0 5 10 15 20 25 30 35 40 45 "
     ]
    }
   ],
   "source": [
    "# Python program to print all number divisible by 3 and 5\n",
    "\n",
    "# using range to print number divisible by 3\n",
    "for i in range(0, 30, 3):\n",
    "    print(i, end=\" \")\n",
    "print()\n",
    "\n",
    "# using range to print number divisible by 5\n",
    "for i in range(0, 50, 5):\n",
    "    print(i, end=\" \")"
   ]
  },
  {
   "attachments": {
    "image.png": {
     "image/png": "[encoded data removed]"
    }
   },
   "cell_type": "markdown",
   "id": "89455067",
   "metadata": {},
   "source": [
    "__print even number between 0 to 10__\n",
    "\n",
    "In this example, we are printing an even number between 0 to 10 so we choose our starting point from 0(start = 0) and stop the series at 10(stop = 10). For printing even number the difference between one number and the next must be 2 (step = 2) after providing a step we get a following output ( 0, 2, 4, 8).\n",
    "\n",
    "![image.png](attachment:image.png)\n",
    "\n",
    "\n"
   ]
  },
  {
   "cell_type": "code",
   "execution_count": 30,
   "id": "014fa9dc",
   "metadata": {},
   "outputs": [
    {
     "name": "stdout",
     "output_type": "stream",
     "text": [
      "0 2 4 6 8 \n"
     ]
    }
   ],
   "source": [
    "# incremented by 2\n",
    "for i in range(0, 10, 2):\n",
    "    print(i, end=\" \")\n",
    "print()"
   ]
  },
  {
   "cell_type": "markdown",
   "id": "6b2ada40",
   "metadata": {},
   "source": [
    "__Example 5: Incrementing with the range using positive step__\n",
    "\n",
    "If a user wants to increment, then the user needs steps to be a positive number. For example: "
   ]
  },
  {
   "cell_type": "code",
   "execution_count": 31,
   "id": "c2745811",
   "metadata": {},
   "outputs": [
    {
     "name": "stdout",
     "output_type": "stream",
     "text": [
      "2 4 6 8 10 12 14 16 18 20 22 24 \n",
      "0 4 8 12 16 20 24 28 \n",
      "15 18 21 24 "
     ]
    }
   ],
   "source": [
    "# Python program to increment with range()\n",
    "\n",
    "# incremented by 2\n",
    "for i in range(2, 25, 2):\n",
    "    print(i, end=\" \")\n",
    "print()\n",
    "\n",
    "# incremented by 4\n",
    "for i in range(0, 30, 4):\n",
    "    print(i, end=\" \")\n",
    "print()\n",
    "\n",
    "# incremented by 3\n",
    "for i in range(15, 25, 3):\n",
    "    print(i, end=\" \")"
   ]
  },
  {
   "cell_type": "markdown",
   "id": "7c44d11a",
   "metadata": {},
   "source": [
    "__Example 5: Incrementing with the range using negitive  step__\n",
    "\n",
    "If a user wants to decrement, then the user needs steps to be a negative number. For example: "
   ]
  },
  {
   "cell_type": "code",
   "execution_count": 32,
   "id": "886e60dd",
   "metadata": {},
   "outputs": [
    {
     "name": "stdout",
     "output_type": "stream",
     "text": [
      "25 23 21 19 17 15 13 11 9 7 5 3 \n",
      "30 26 22 18 14 10 6 2 \n",
      "25 22 19 16 13 10 7 4 1 -2 -5 "
     ]
    }
   ],
   "source": [
    "# Python program to decrement with range()\n",
    "\n",
    "# incremented by -2\n",
    "for i in range(25, 2, -2):\n",
    "    print(i, end=\" \")\n",
    "print()\n",
    "\n",
    "# incremented by -4\n",
    "for i in range(30, 0, -4):\n",
    "    print(i, end=\" \")\n",
    "print()\n",
    "\n",
    "# incremented by -3\n",
    "for i in range(25, -6, -3):\n",
    "    print(i, end=\" \")"
   ]
  },
  {
   "cell_type": "markdown",
   "id": "5b0a4fc7",
   "metadata": {},
   "source": [
    "__if strat < stop then it will be empty output__"
   ]
  },
  {
   "cell_type": "code",
   "execution_count": 33,
   "id": "66f4dfd0",
   "metadata": {},
   "outputs": [],
   "source": [
    "for i in range(0,-5):\n",
    "    print(i)"
   ]
  },
  {
   "cell_type": "code",
   "execution_count": 34,
   "id": "382559ee",
   "metadata": {},
   "outputs": [
    {
     "data": {
      "text/plain": [
       "[]"
      ]
     },
     "execution_count": 34,
     "metadata": {},
     "output_type": "execute_result"
    }
   ],
   "source": [
    "list(range(5,2))"
   ]
  },
  {
   "cell_type": "markdown",
   "id": "63cafef6",
   "metadata": {},
   "source": [
    "__Example 7: Python range() float__\n",
    "    \n",
    "Python range() function doesn’t support the float numbers. i.e. user cannot use floating-point or non-integer number in any of its argument. Users can use only integer numbers. For example "
   ]
  },
  {
   "cell_type": "code",
   "execution_count": 35,
   "id": "be2cfe54",
   "metadata": {},
   "outputs": [
    {
     "ename": "TypeError",
     "evalue": "'float' object cannot be interpreted as an integer",
     "output_type": "error",
     "traceback": [
      "\u001b[1;31m---------------------------------------------------------------------------\u001b[0m",
      "\u001b[1;31mTypeError\u001b[0m                                 Traceback (most recent call last)",
      "\u001b[1;32m<ipython-input-35-a4fff894e050>\u001b[0m in \u001b[0;36m<module>\u001b[1;34m\u001b[0m\n\u001b[0;32m      2\u001b[0m \u001b[1;33m\u001b[0m\u001b[0m\n\u001b[0;32m      3\u001b[0m \u001b[1;31m# using a float number\u001b[0m\u001b[1;33m\u001b[0m\u001b[1;33m\u001b[0m\u001b[1;33m\u001b[0m\u001b[0m\n\u001b[1;32m----> 4\u001b[1;33m \u001b[1;32mfor\u001b[0m \u001b[0mi\u001b[0m \u001b[1;32min\u001b[0m \u001b[0mrange\u001b[0m\u001b[1;33m(\u001b[0m\u001b[1;36m3.3\u001b[0m\u001b[1;33m)\u001b[0m\u001b[1;33m:\u001b[0m\u001b[1;33m\u001b[0m\u001b[1;33m\u001b[0m\u001b[0m\n\u001b[0m\u001b[0;32m      5\u001b[0m     \u001b[0mprint\u001b[0m\u001b[1;33m(\u001b[0m\u001b[0mi\u001b[0m\u001b[1;33m)\u001b[0m\u001b[1;33m\u001b[0m\u001b[1;33m\u001b[0m\u001b[0m\n\u001b[0;32m      6\u001b[0m \u001b[1;33m\u001b[0m\u001b[0m\n",
      "\u001b[1;31mTypeError\u001b[0m: 'float' object cannot be interpreted as an integer"
     ]
    }
   ],
   "source": [
    "# Python program to show using float number in range()\n",
    "\n",
    "# using a float number\n",
    "for i in range(3.3):\n",
    "    print(i)\n",
    "\n",
    "# using a float number\n",
    "for i in range(5.5):\n",
    "    print(i)"
   ]
  },
  {
   "cell_type": "markdown",
   "id": "891c0bef",
   "metadata": {},
   "source": [
    "__Example 9: Accessing range() with index value__\n",
    "    \n",
    "A sequence of numbers is returned by the range() function as its object that can be accessed by its index value. Both positive and negative indexing is supported by its object."
   ]
  },
  {
   "cell_type": "code",
   "execution_count": 36,
   "id": "f9e518a4",
   "metadata": {},
   "outputs": [
    {
     "name": "stdout",
     "output_type": "stream",
     "text": [
      "0 1 2 3 4 5 6 7 8 9 \n",
      "First element: 0\n",
      "\n",
      "Last element: 9\n",
      "\n",
      "Fifth element: 4\n"
     ]
    }
   ],
   "source": [
    "# Python program to demonstrate range function\n",
    "\n",
    "for n in range(10):\n",
    "    print(n,end=\" \")\n",
    "print()\n",
    "ele = range(10)[0]\n",
    "print(\"First element:\", ele)\n",
    "\n",
    "ele = range(10)[-1]\n",
    "print(\"\\nLast element:\", ele)\n",
    "\n",
    "ele = range(10)[4]\n",
    "print(\"\\nFifth element:\", ele)"
   ]
  },
  {
   "cell_type": "markdown",
   "id": "0a155cca",
   "metadata": {},
   "source": [
    "__Example 8: Concatenation of two range() functions__\n",
    "\n",
    "The result from two range() functions can be concatenated by using the chain() method of itertools module. The chain() method is used to print all the values in iterable targets one after another mentioned in its arguments."
   ]
  },
  {
   "cell_type": "code",
   "execution_count": 37,
   "id": "35592e8f",
   "metadata": {},
   "outputs": [
    {
     "name": "stdout",
     "output_type": "stream",
     "text": [
      "Concatenating the result\n",
      "0 1 2 3 4 10 12 14 16 18 "
     ]
    }
   ],
   "source": [
    "# Python program to concatenate the result of two range functions\n",
    "\n",
    "from itertools import chain\n",
    "\n",
    "# Using chain method\n",
    "print(\"Concatenating the result\")\n",
    "res = chain(range(5), range(10, 20, 2))\n",
    "for i in res:\n",
    "    print(i, end=\" \")"
   ]
  },
  {
   "cell_type": "markdown",
   "id": "7a730d0f",
   "metadata": {},
   "source": [
    "https://discuss.codecademy.com/t/why-use-the-range-function-to-iterate-a-for-loop-for-a-specific-count/349877\n",
    "\n",
    "__Question__\n",
    "This exercise uses a range() function to cause the for loop to iterate a specific number of times. Why can’t the number of times to iterate a for loop be specified without range()?\n",
    "\n",
    "__Answer__\n",
    "In Python, a for loop is intended to iterate over a collection of items, unlike other languages where it is tied to a variable which has an initial value, an increment, and a test for the final value. Since the for loop is expecting a collection or list to iterate over, the range() function is used to provide a list of numbers. This list of numbers is used to cause the for loop to iterate the desired number of times. It’s important to remember that the list generated by range() defaults from 0 to one less than the number specified.\n",
    "\n",
    "The following example uses range() with a starting number of 1 to print the squares of the numbers 1 through 10.\n",
    "\n",
    ">for number in range(1,11):         \n",
    "    print(number ** 2)             "
   ]
  },
  {
   "cell_type": "code",
   "execution_count": 38,
   "id": "c15ad21e",
   "metadata": {},
   "outputs": [
    {
     "name": "stdout",
     "output_type": "stream",
     "text": [
      "1\n",
      "4\n",
      "9\n",
      "16\n",
      "25\n",
      "36\n",
      "49\n",
      "64\n",
      "81\n",
      "100\n"
     ]
    }
   ],
   "source": [
    "for number in range(1,11):         \n",
    "    print(number ** 2)  "
   ]
  },
  {
   "cell_type": "markdown",
   "id": "cb3e6d60",
   "metadata": {},
   "source": [
    "__The range() function returns an iterator.__\n",
    "\n",
    "There is no output, as you have intuited. Each iteration is a number so it makes sense to call the variable, number.\n",
    "\n",
    "In Python 3 a range isn’t even a list, just a range, an object that knows where it starts, and where it ends, and it has a method to find the next number in the sequence.\n",
    "\n",
    "__means range() also a kind of Data type__"
   ]
  },
  {
   "cell_type": "code",
   "execution_count": 39,
   "id": "f22e478c",
   "metadata": {},
   "outputs": [],
   "source": [
    "x = range(5)"
   ]
  },
  {
   "cell_type": "code",
   "execution_count": 40,
   "id": "3d351120",
   "metadata": {},
   "outputs": [
    {
     "data": {
      "text/plain": [
       "range"
      ]
     },
     "execution_count": 40,
     "metadata": {},
     "output_type": "execute_result"
    }
   ],
   "source": [
    "type(x)"
   ]
  },
  {
   "cell_type": "code",
   "execution_count": 41,
   "id": "29b91091",
   "metadata": {},
   "outputs": [
    {
     "data": {
      "text/plain": [
       "1"
      ]
     },
     "execution_count": 41,
     "metadata": {},
     "output_type": "execute_result"
    }
   ],
   "source": [
    "x.count(2)"
   ]
  },
  {
   "cell_type": "code",
   "execution_count": 42,
   "id": "2bce4ffe",
   "metadata": {},
   "outputs": [
    {
     "name": "stdout",
     "output_type": "stream",
     "text": [
      "0.3\n",
      "0.6\n",
      "0.8999999999999999\n",
      "1.2\n",
      "1.5\n"
     ]
    }
   ],
   "source": [
    "import numpy as np\n",
    "\n",
    "for i in np.arange(0.3, 1.6, 0.3):\n",
    "    print(i)"
   ]
  },
  {
   "cell_type": "markdown",
   "id": "5e7e50e0",
   "metadata": {},
   "source": [
    "__Advanced Usage Examples for Python’s range() Function__\n",
    "\n",
    "Now that you know the basics of how to use range(), it’s time to dig a little deeper.\n",
    "range() is mainly used for two purposes: \n",
    "1. __Executing the body of a for-loop a specific number of times__\n",
    "2. __Creating more efficient iterables of integers than can be done using lists or tuples__\n",
    "\n",
    "The first use is probably the most common, and you could make the case that itertools gives you a more efficient way to construct iterables than range() does.\n",
    "\n",
    "Here are a few more points to keep in mind when you use range.\n",
    "\n",
    "`range() is a type in Python:\n",
    " type(range(3))\n",
    " <class 'range'>`\n",
    "\n",
    "You can access items in a range() by index, just as you would with a list:\n",
    "\n",
    "`range(3)[1]\n",
    "1\n",
    "range(3)[2]\n",
    "2`\n",
    "\n",
    "You can even use slicing notation on a range(), but the output in a REPL may seem a little strange at first:\n",
    "\n",
    "`range(6)[2:5]\n",
    "range(2, 5)`\n",
    "\n",
    "\n",
    "Although that output may look odd, slicing a range() just returns another range().\n",
    "The fact that you can access elements of a range() by index and slice a range() highlights an important fact: range() is lazy, unlike a list, but isn’t an iterator.`"
   ]
  },
  {
   "cell_type": "markdown",
   "id": "53526765",
   "metadata": {},
   "source": [
    "## Python Iterators\n",
    "\n",
    "https://www.w3schools.com/python/python_iterators.asp\n",
    "\n",
    "\n",
    "An iterator is an object that contains a countable number of values.\n",
    "\n",
    "An iterator is an object that can be iterated upon, meaning that you can traverse through all the values.\n",
    "\n",
    "Technically, in Python, an iterator is an object which implements the iterator protocol, which consist of the methods `__iter__()` and `__next__()`.\n",
    "\n",
    "__Iterator vs Iterable__\n",
    "\n",
    "Lists, tuples, dictionaries, and sets are all iterable objects. They are iterable containers which you can get an iterator from.\n",
    "\n",
    "\n",
    "All these objects have a iter() method which is used to get an iterator:\n",
    "\n",
    "1. _iter() method to inerator through iterable objects_"
   ]
  },
  {
   "cell_type": "code",
   "execution_count": 43,
   "id": "cdb3553f",
   "metadata": {},
   "outputs": [
    {
     "name": "stdout",
     "output_type": "stream",
     "text": [
      "<tuple_iterator object at 0x000001D4B7FF9070>\n",
      "apple\n",
      "banana\n",
      "cherry\n"
     ]
    }
   ],
   "source": [
    "# Example Return an iterator from a tuple, and print each value:\n",
    "\n",
    "mytuple = (\"apple\", \"banana\", \"cherry\")\n",
    "myit = iter(mytuple)\n",
    "\n",
    "print(myit)\n",
    "print(next(myit))\n",
    "print(next(myit))\n",
    "print(next(myit))"
   ]
  },
  {
   "cell_type": "code",
   "execution_count": 44,
   "id": "30dba02a",
   "metadata": {},
   "outputs": [
    {
     "ename": "StopIteration",
     "evalue": "",
     "output_type": "error",
     "traceback": [
      "\u001b[1;31m---------------------------------------------------------------------------\u001b[0m",
      "\u001b[1;31mStopIteration\u001b[0m                             Traceback (most recent call last)",
      "\u001b[1;32m<ipython-input-44-0f9298b8341e>\u001b[0m in \u001b[0;36m<module>\u001b[1;34m\u001b[0m\n\u001b[1;32m----> 1\u001b[1;33m \u001b[0mnext\u001b[0m\u001b[1;33m(\u001b[0m\u001b[0mmyit\u001b[0m\u001b[1;33m)\u001b[0m \u001b[1;31m# there is nothign in iterator myit hence it error.\u001b[0m\u001b[1;33m\u001b[0m\u001b[1;33m\u001b[0m\u001b[0m\n\u001b[0m",
      "\u001b[1;31mStopIteration\u001b[0m: "
     ]
    }
   ],
   "source": [
    "next(myit) # there is nothign in iterator myit hence it error."
   ]
  },
  {
   "cell_type": "markdown",
   "id": "eb5f3a30",
   "metadata": {},
   "source": [
    "Even strings are iterable objects, and can return an iterator:"
   ]
  },
  {
   "cell_type": "code",
   "execution_count": 45,
   "id": "192f831a",
   "metadata": {},
   "outputs": [
    {
     "name": "stdout",
     "output_type": "stream",
     "text": [
      "b\n",
      "a\n",
      "n\n",
      "a\n",
      "n\n",
      "a\n"
     ]
    }
   ],
   "source": [
    "# Example Strings are also iterable objects, containing a sequence of characters:\n",
    "\n",
    "mystr = \"banana\"\n",
    "myit = iter(mystr)\n",
    "\n",
    "print(next(myit))\n",
    "print(next(myit))\n",
    "print(next(myit))\n",
    "print(next(myit))\n",
    "print(next(myit))\n",
    "print(next(myit))"
   ]
  },
  {
   "cell_type": "code",
   "execution_count": 46,
   "id": "eae4fd14",
   "metadata": {},
   "outputs": [
    {
     "name": "stdout",
     "output_type": "stream",
     "text": [
      "<list_iterator object at 0x000001D4B7FF9CD0>\n",
      "banana\n",
      "apple\n",
      "orange\n"
     ]
    },
    {
     "ename": "StopIteration",
     "evalue": "",
     "output_type": "error",
     "traceback": [
      "\u001b[1;31m---------------------------------------------------------------------------\u001b[0m",
      "\u001b[1;31mStopIteration\u001b[0m                             Traceback (most recent call last)",
      "\u001b[1;32m<ipython-input-46-f1a5b23570ff>\u001b[0m in \u001b[0;36m<module>\u001b[1;34m\u001b[0m\n\u001b[0;32m      7\u001b[0m \u001b[0mprint\u001b[0m\u001b[1;33m(\u001b[0m\u001b[0mnext\u001b[0m\u001b[1;33m(\u001b[0m\u001b[0mmyit\u001b[0m\u001b[1;33m)\u001b[0m\u001b[1;33m)\u001b[0m\u001b[1;33m\u001b[0m\u001b[1;33m\u001b[0m\u001b[0m\n\u001b[0;32m      8\u001b[0m \u001b[0mprint\u001b[0m\u001b[1;33m(\u001b[0m\u001b[0mnext\u001b[0m\u001b[1;33m(\u001b[0m\u001b[0mmyit\u001b[0m\u001b[1;33m)\u001b[0m\u001b[1;33m)\u001b[0m\u001b[1;33m\u001b[0m\u001b[1;33m\u001b[0m\u001b[0m\n\u001b[1;32m----> 9\u001b[1;33m \u001b[0mprint\u001b[0m\u001b[1;33m(\u001b[0m\u001b[0mnext\u001b[0m\u001b[1;33m(\u001b[0m\u001b[0mmyit\u001b[0m\u001b[1;33m)\u001b[0m\u001b[1;33m)\u001b[0m\u001b[1;33m\u001b[0m\u001b[1;33m\u001b[0m\u001b[0m\n\u001b[0m\u001b[0;32m     10\u001b[0m \u001b[0mprint\u001b[0m\u001b[1;33m(\u001b[0m\u001b[0mnext\u001b[0m\u001b[1;33m(\u001b[0m\u001b[0mmyit\u001b[0m\u001b[1;33m)\u001b[0m\u001b[1;33m)\u001b[0m\u001b[1;33m\u001b[0m\u001b[1;33m\u001b[0m\u001b[0m\n\u001b[0;32m     11\u001b[0m \u001b[0mprint\u001b[0m\u001b[1;33m(\u001b[0m\u001b[0mnext\u001b[0m\u001b[1;33m(\u001b[0m\u001b[0mmyit\u001b[0m\u001b[1;33m)\u001b[0m\u001b[1;33m)\u001b[0m\u001b[1;33m\u001b[0m\u001b[1;33m\u001b[0m\u001b[0m\n",
      "\u001b[1;31mStopIteration\u001b[0m: "
     ]
    }
   ],
   "source": [
    "# List iterator \n",
    "\n",
    "mylist = [\"banana\", \"apple\", \"orange\"]\n",
    "myit = iter(mylist)\n",
    "print(myit)\n",
    "print(next(myit))\n",
    "print(next(myit))\n",
    "print(next(myit))\n",
    "print(next(myit))\n",
    "print(next(myit))\n",
    "print(next(myit))"
   ]
  },
  {
   "cell_type": "code",
   "execution_count": 47,
   "id": "3030981f",
   "metadata": {},
   "outputs": [
    {
     "name": "stdout",
     "output_type": "stream",
     "text": [
      "<dict_keyiterator object at 0x000001D4B8006B30>\n",
      "brand\n",
      "model\n",
      "year\n"
     ]
    },
    {
     "ename": "StopIteration",
     "evalue": "",
     "output_type": "error",
     "traceback": [
      "\u001b[1;31m---------------------------------------------------------------------------\u001b[0m",
      "\u001b[1;31mStopIteration\u001b[0m                             Traceback (most recent call last)",
      "\u001b[1;32m<ipython-input-47-838124fea77f>\u001b[0m in \u001b[0;36m<module>\u001b[1;34m\u001b[0m\n\u001b[0;32m      5\u001b[0m \u001b[0mprint\u001b[0m\u001b[1;33m(\u001b[0m\u001b[0mnext\u001b[0m\u001b[1;33m(\u001b[0m\u001b[0mmyit\u001b[0m\u001b[1;33m)\u001b[0m\u001b[1;33m)\u001b[0m\u001b[1;33m\u001b[0m\u001b[1;33m\u001b[0m\u001b[0m\n\u001b[0;32m      6\u001b[0m \u001b[0mprint\u001b[0m\u001b[1;33m(\u001b[0m\u001b[0mnext\u001b[0m\u001b[1;33m(\u001b[0m\u001b[0mmyit\u001b[0m\u001b[1;33m)\u001b[0m\u001b[1;33m)\u001b[0m\u001b[1;33m\u001b[0m\u001b[1;33m\u001b[0m\u001b[0m\n\u001b[1;32m----> 7\u001b[1;33m \u001b[0mprint\u001b[0m\u001b[1;33m(\u001b[0m\u001b[0mnext\u001b[0m\u001b[1;33m(\u001b[0m\u001b[0mmyit\u001b[0m\u001b[1;33m)\u001b[0m\u001b[1;33m)\u001b[0m\u001b[1;33m\u001b[0m\u001b[1;33m\u001b[0m\u001b[0m\n\u001b[0m\u001b[0;32m      8\u001b[0m \u001b[0mprint\u001b[0m\u001b[1;33m(\u001b[0m\u001b[0mnext\u001b[0m\u001b[1;33m(\u001b[0m\u001b[0mmyit\u001b[0m\u001b[1;33m)\u001b[0m\u001b[1;33m)\u001b[0m\u001b[1;33m\u001b[0m\u001b[1;33m\u001b[0m\u001b[0m\n\u001b[0;32m      9\u001b[0m \u001b[0mprint\u001b[0m\u001b[1;33m(\u001b[0m\u001b[0mnext\u001b[0m\u001b[1;33m(\u001b[0m\u001b[0mmyit\u001b[0m\u001b[1;33m)\u001b[0m\u001b[1;33m)\u001b[0m\u001b[1;33m\u001b[0m\u001b[1;33m\u001b[0m\u001b[0m\n",
      "\u001b[1;31mStopIteration\u001b[0m: "
     ]
    }
   ],
   "source": [
    "mydict = {\"brand\": \"Ford\", \"model\": \"Mustang\", \"year\": 1964}\n",
    "myit = iter(mydict)\n",
    "print(myit)\n",
    "print(next(myit))\n",
    "print(next(myit))\n",
    "print(next(myit))\n",
    "print(next(myit))\n",
    "print(next(myit))\n",
    "print(next(myit))"
   ]
  },
  {
   "cell_type": "markdown",
   "id": "dae70536",
   "metadata": {},
   "source": [
    "__Looping Through an Iterator__\n",
    "\n",
    "2. We can also use a `for loop` to iterate through an iterable object\n",
    "\n",
    "The for loop actually creates an iterator object and executes the next() method for each loop.\n",
    "\n",
    "\n"
   ]
  },
  {
   "cell_type": "code",
   "execution_count": 48,
   "id": "f2074511",
   "metadata": {},
   "outputs": [
    {
     "name": "stdout",
     "output_type": "stream",
     "text": [
      "apple\n",
      "banana\n",
      "cherry\n"
     ]
    }
   ],
   "source": [
    "# Example Iterate the values of a tuple:\n",
    "\n",
    "mytuple = (\"apple\", \"banana\", \"cherry\")\n",
    "\n",
    "for x in mytuple:\n",
    "    print(x)"
   ]
  },
  {
   "cell_type": "code",
   "execution_count": 49,
   "id": "034adcf8",
   "metadata": {},
   "outputs": [
    {
     "name": "stdout",
     "output_type": "stream",
     "text": [
      "b\n",
      "a\n",
      "n\n",
      "a\n",
      "n\n",
      "a\n"
     ]
    }
   ],
   "source": [
    "# Example Iterate the characters of a string:\n",
    "\n",
    "mystr = \"banana\"\n",
    "\n",
    "for x in mystr:\n",
    "    print(x)"
   ]
  },
  {
   "cell_type": "markdown",
   "id": "58777ff8",
   "metadata": {},
   "source": [
    "__Create an Iterator__\n",
    "\n",
    "To create an object/class as an iterator you have to implement the methods __iter__() and __next__() to your object.\n",
    "\n",
    "As you have learned in the Python Classes/Objects chapter, all classes have a function called __init__(), which allows you to do some initializing when the object is being created.\n",
    "\n",
    "The __iter__() method acts similar, you can do operations (initializing etc.), but must always return the iterator object itself.\n",
    "\n",
    "The __next__() method also allows you to do operations, and must return the next item in the sequence."
   ]
  },
  {
   "cell_type": "code",
   "execution_count": 50,
   "id": "11c21b5b",
   "metadata": {},
   "outputs": [
    {
     "name": "stdout",
     "output_type": "stream",
     "text": [
      "<__main__.MyNumbers object at 0x000001D4B7FF9D60>\n",
      "1\n",
      "2\n",
      "3\n",
      "4\n",
      "5\n"
     ]
    }
   ],
   "source": [
    "# Example Create an iterator that returns numbers, starting with 1, and\n",
    "# each sequence will increase by one (returning 1,2,3,4,5 etc.):\n",
    "\n",
    "class MyNumbers:\n",
    "    def __iter__(self):\n",
    "        self.a = 1\n",
    "        return self\n",
    "\n",
    "    def __next__(self):\n",
    "        x = self.a\n",
    "        self.a += 1\n",
    "        return x\n",
    "\n",
    "\n",
    "myclass = MyNumbers()\n",
    "myiter = iter(myclass)\n",
    "print(myiter)\n",
    "print(next(myiter))\n",
    "print(next(myiter))\n",
    "print(next(myiter))\n",
    "print(next(myiter))\n",
    "print(next(myiter))"
   ]
  },
  {
   "cell_type": "markdown",
   "id": "879e0ee7",
   "metadata": {},
   "source": [
    "__StopIteration__\n",
    "The example above would continue forever if you had enough next() statements, or if it was used in a for loop.\n",
    "\n",
    "To prevent the iteration to go on forever, we can use the StopIteration statement.\n",
    "\n",
    "In the __next__() method, we can add a terminating condition to raise an error if the iteration is done a specified number of times:"
   ]
  },
  {
   "cell_type": "code",
   "execution_count": 51,
   "id": "7c35662d",
   "metadata": {},
   "outputs": [
    {
     "name": "stdout",
     "output_type": "stream",
     "text": [
      "<__main__.MyNumbers object at 0x000001D4B7FF9A60>\n",
      "<__main__.MyNumbers object at 0x000001D4B7FF9A60>\n",
      "1\n",
      "2\n",
      "3\n",
      "4\n",
      "5\n",
      "6\n",
      "7\n",
      "8\n",
      "9\n",
      "10\n",
      "11\n",
      "12\n",
      "13\n",
      "14\n",
      "15\n",
      "16\n",
      "17\n",
      "18\n",
      "19\n",
      "20\n"
     ]
    }
   ],
   "source": [
    "# Example Stop after 20 iterations:\n",
    "class MyNumbers:\n",
    "    def __iter__(self):\n",
    "        self.a = 1\n",
    "        return self\n",
    "\n",
    "    def __next__(self):\n",
    "        if self.a <= 20:\n",
    "            x = self.a\n",
    "            self.a += 1\n",
    "            return x\n",
    "        else:\n",
    "            raise StopIteration\n",
    "\n",
    "\n",
    "myclassObj = MyNumbers()\n",
    "print(myclassObj)\n",
    "myiter = iter(myclassObj)\n",
    "print(myiter)\n",
    "\n",
    "for x in myiter:\n",
    "    print(x)\n"
   ]
  },
  {
   "cell_type": "markdown",
   "id": "d8dd7451",
   "metadata": {},
   "source": [
    "# Questions\n",
    "\n",
    "__Que.__ => Why below the memory address of both variables a and b is same 140717257009072 As per my understanding, a and b both are object(instence ) of class 'int' is there any concept that if both Objects have same values then both object share the memory ???"
   ]
  },
  {
   "cell_type": "code",
   "execution_count": 52,
   "id": "7d243ffa",
   "metadata": {},
   "outputs": [
    {
     "name": "stdout",
     "output_type": "stream",
     "text": [
      "140727646103472\n",
      "140727646103472\n"
     ]
    }
   ],
   "source": [
    "a = 5\n",
    "b = 5\n",
    "print(id(a))\n",
    "print(id(b))"
   ]
  },
  {
   "cell_type": "markdown",
   "id": "b4dbf22a",
   "metadata": {},
   "source": [
    "This "
   ]
  }
 ],
 "metadata": {
  "kernelspec": {
   "display_name": "Python 3",
   "language": "python",
   "name": "python3"
  },
  "language_info": {
   "codemirror_mode": {
    "name": "ipython",
    "version": 3
   },
   "file_extension": ".py",
   "mimetype": "text/x-python",
   "name": "python",
   "nbconvert_exporter": "python",
   "pygments_lexer": "ipython3",
   "version": "3.8.8"
  },
  "toc": {
   "base_numbering": 1,
   "nav_menu": {},
   "number_sections": true,
   "sideBar": true,
   "skip_h1_title": false,
   "title_cell": "Table of Contents",
   "title_sidebar": "Contents",
   "toc_cell": true,
   "toc_position": {
    "height": "calc(100% - 180px)",
    "left": "10px",
    "top": "150px",
    "width": "279.409px"
   },
   "toc_section_display": true,
   "toc_window_display": true
  }
 },
 "nbformat": 4,
 "nbformat_minor": 5
}
