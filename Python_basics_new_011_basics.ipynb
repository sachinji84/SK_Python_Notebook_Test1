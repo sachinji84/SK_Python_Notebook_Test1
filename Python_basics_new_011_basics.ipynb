{
 "cells": [
  {
   "cell_type": "markdown",
   "id": "c8a05593",
   "metadata": {
    "toc": true
   },
   "source": [
    "<h1>Table of Contents<span class=\"tocSkip\"></span></h1>\n",
    "<div class=\"toc\"><ul class=\"toc-item\"><li><span><a href=\"#Jupyter-Formatting-tips\" data-toc-modified-id=\"Jupyter-Formatting-tips-1\"><span class=\"toc-item-num\">1&nbsp;&nbsp;</span>Jupyter Formatting tips</a></span></li><li><span><a href=\"#Leanring-target\" data-toc-modified-id=\"Leanring-target-2\"><span class=\"toc-item-num\">2&nbsp;&nbsp;</span>Leanring target</a></span></li><li><span><a href=\"#Python-Introduction\" data-toc-modified-id=\"Python-Introduction-3\"><span class=\"toc-item-num\">3&nbsp;&nbsp;</span>Python Introduction</a></span><ul class=\"toc-item\"><li><span><a href=\"#What-is-Python?\" data-toc-modified-id=\"What-is-Python?-3.1\"><span class=\"toc-item-num\">3.1&nbsp;&nbsp;</span>What is Python?</a></span></li><li><span><a href=\"#What-can-Python-do?\" data-toc-modified-id=\"What-can-Python-do?-3.2\"><span class=\"toc-item-num\">3.2&nbsp;&nbsp;</span>What can Python do?</a></span></li><li><span><a href=\"#Why-Python?\" data-toc-modified-id=\"Why-Python?-3.3\"><span class=\"toc-item-num\">3.3&nbsp;&nbsp;</span>Why Python?</a></span></li><li><span><a href=\"#Good-to-know\" data-toc-modified-id=\"Good-to-know-3.4\"><span class=\"toc-item-num\">3.4&nbsp;&nbsp;</span>Good to know</a></span></li><li><span><a href=\"#Python-Syntax-compared-to-other-programming-languages\" data-toc-modified-id=\"Python-Syntax-compared-to-other-programming-languages-3.5\"><span class=\"toc-item-num\">3.5&nbsp;&nbsp;</span>Python Syntax compared to other programming languages</a></span></li><li><span><a href=\"#Python-Install\" data-toc-modified-id=\"Python-Install-3.6\"><span class=\"toc-item-num\">3.6&nbsp;&nbsp;</span>Python Install</a></span></li><li><span><a href=\"#Python-Quickstart\" data-toc-modified-id=\"Python-Quickstart-3.7\"><span class=\"toc-item-num\">3.7&nbsp;&nbsp;</span>Python Quickstart</a></span></li><li><span><a href=\"#The-Python-Command-Line\" data-toc-modified-id=\"The-Python-Command-Line-3.8\"><span class=\"toc-item-num\">3.8&nbsp;&nbsp;</span>The Python Command Line</a></span></li><li><span><a href=\"#Python-Syntax\" data-toc-modified-id=\"Python-Syntax-3.9\"><span class=\"toc-item-num\">3.9&nbsp;&nbsp;</span>Python Syntax</a></span></li><li><span><a href=\"#Python-Indentation\" data-toc-modified-id=\"Python-Indentation-3.10\"><span class=\"toc-item-num\">3.10&nbsp;&nbsp;</span>Python Indentation</a></span></li></ul></li><li><span><a href=\"#Python-Variables\" data-toc-modified-id=\"Python-Variables-4\"><span class=\"toc-item-num\">4&nbsp;&nbsp;</span>Python Variables</a></span><ul class=\"toc-item\"><li><span><a href=\"#Python---Variable-Names\" data-toc-modified-id=\"Python---Variable-Names-4.1\"><span class=\"toc-item-num\">4.1&nbsp;&nbsp;</span>Python - Variable Names</a></span></li><li><span><a href=\"#Multi-Words-Variable-Names\" data-toc-modified-id=\"Multi-Words-Variable-Names-4.2\"><span class=\"toc-item-num\">4.2&nbsp;&nbsp;</span>Multi Words Variable Names</a></span><ul class=\"toc-item\"><li><span><a href=\"#Camel-Case\" data-toc-modified-id=\"Camel-Case-4.2.1\"><span class=\"toc-item-num\">4.2.1&nbsp;&nbsp;</span>Camel Case</a></span></li><li><span><a href=\"#Pascal-Case\" data-toc-modified-id=\"Pascal-Case-4.2.2\"><span class=\"toc-item-num\">4.2.2&nbsp;&nbsp;</span>Pascal Case</a></span></li><li><span><a href=\"#Snake-Case\" data-toc-modified-id=\"Snake-Case-4.2.3\"><span class=\"toc-item-num\">4.2.3&nbsp;&nbsp;</span>Snake Case</a></span></li></ul></li><li><span><a href=\"#Python-Variables---Assign-Multiple-Values\" data-toc-modified-id=\"Python-Variables---Assign-Multiple-Values-4.3\"><span class=\"toc-item-num\">4.3&nbsp;&nbsp;</span>Python Variables - Assign Multiple Values</a></span><ul class=\"toc-item\"><li><span><a href=\"#Many-Values-to-Multiple-Variables\" data-toc-modified-id=\"Many-Values-to-Multiple-Variables-4.3.1\"><span class=\"toc-item-num\">4.3.1&nbsp;&nbsp;</span>Many Values to Multiple Variables</a></span></li><li><span><a href=\"#One-Value-to-Multiple-Variables\" data-toc-modified-id=\"One-Value-to-Multiple-Variables-4.3.2\"><span class=\"toc-item-num\">4.3.2&nbsp;&nbsp;</span>One Value to Multiple Variables</a></span></li></ul></li><li><span><a href=\"#Unpack-a-Collection-(Unpacking)\" data-toc-modified-id=\"Unpack-a-Collection-(Unpacking)-4.4\"><span class=\"toc-item-num\">4.4&nbsp;&nbsp;</span>Unpack a Collection (Unpacking)</a></span></li><li><span><a href=\"#Output-Variables\" data-toc-modified-id=\"Output-Variables-4.5\"><span class=\"toc-item-num\">4.5&nbsp;&nbsp;</span>Output Variables</a></span></li><li><span><a href=\"#Python---Global-Variables\" data-toc-modified-id=\"Python---Global-Variables-4.6\"><span class=\"toc-item-num\">4.6&nbsp;&nbsp;</span>Python - Global Variables</a></span></li><li><span><a href=\"#Python---Local-Variables\" data-toc-modified-id=\"Python---Local-Variables-4.7\"><span class=\"toc-item-num\">4.7&nbsp;&nbsp;</span>Python - Local Variables</a></span><ul class=\"toc-item\"><li><span><a href=\"#The-global-Keyword\" data-toc-modified-id=\"The-global-Keyword-4.7.1\"><span class=\"toc-item-num\">4.7.1&nbsp;&nbsp;</span>The global Keyword</a></span></li></ul></li><li><span><a href=\"#Creating-Variables\" data-toc-modified-id=\"Creating-Variables-4.8\"><span class=\"toc-item-num\">4.8&nbsp;&nbsp;</span>Creating Variables</a></span></li><li><span><a href=\"#DELETE-varibables\" data-toc-modified-id=\"DELETE-varibables-4.9\"><span class=\"toc-item-num\">4.9&nbsp;&nbsp;</span>DELETE varibables</a></span></li><li><span><a href=\"#Get-the-data-Type-of--variable\" data-toc-modified-id=\"Get-the-data-Type-of--variable-4.10\"><span class=\"toc-item-num\">4.10&nbsp;&nbsp;</span>Get the data Type of  variable</a></span></li><li><span><a href=\"#Casting\" data-toc-modified-id=\"Casting-4.11\"><span class=\"toc-item-num\">4.11&nbsp;&nbsp;</span>Casting</a></span></li><li><span><a href=\"#Single-or-Double-Quotes?\" data-toc-modified-id=\"Single-or-Double-Quotes?-4.12\"><span class=\"toc-item-num\">4.12&nbsp;&nbsp;</span>Single or Double Quotes?</a></span></li><li><span><a href=\"#Quotations-in-python\" data-toc-modified-id=\"Quotations-in-python-4.13\"><span class=\"toc-item-num\">4.13&nbsp;&nbsp;</span>Quotations in python</a></span><ul class=\"toc-item\"><li><span><a href=\"#Python-Docstrings\" data-toc-modified-id=\"Python-Docstrings-4.13.1\"><span class=\"toc-item-num\">4.13.1&nbsp;&nbsp;</span>Python Docstrings</a></span></li></ul></li><li><span><a href=\"#Python---Comments\" data-toc-modified-id=\"Python---Comments-4.14\"><span class=\"toc-item-num\">4.14&nbsp;&nbsp;</span>Python - Comments</a></span><ul class=\"toc-item\"><li><span><a href=\"#Multi-Line-Comments\" data-toc-modified-id=\"Multi-Line-Comments-4.14.1\"><span class=\"toc-item-num\">4.14.1&nbsp;&nbsp;</span>Multi Line Comments</a></span></li></ul></li><li><span><a href=\"#Case-Sensitive\" data-toc-modified-id=\"Case-Sensitive-4.15\"><span class=\"toc-item-num\">4.15&nbsp;&nbsp;</span>Case-Sensitive</a></span></li></ul></li></ul></div>"
   ]
  },
  {
   "cell_type": "markdown",
   "id": "3e90dad6",
   "metadata": {
    "heading_collapsed": true
   },
   "source": [
    "#  Jupyter Formatting tips\n",
    "\n",
    "https://medium.com/analytics-vidhya/the-jupyter-notebook-formatting-guide-873ab39f765e\n",
    "\n",
    "\n",
    "https://www.geeksforgeeks.org/jupyter-notebook-tips-and-tricks/?ref=lbp"
   ]
  },
  {
   "cell_type": "markdown",
   "id": "547dd780",
   "metadata": {},
   "source": [
    "# Leanring target \n",
    "\n",
    "\n",
    "`Python Data Types\n",
    "Python Numbers\n",
    "Python Casting\n",
    "Python If...Else\n",
    "Python While Loops\n",
    "Python For Loops\n",
    "Python Strings\n",
    "Python Lists\n",
    "Python Tuples\n",
    "Python Sets\n",
    "Python Dictionaries\n",
    "Python Arrays\n",
    "Python Booleans\n",
    "complete the methods of Strings,Lists,Tuples,Sets,Dictionaries as per w3schools \n",
    "Complete the build-in method\n",
    "Python Operators\n",
    "Python Functions\n",
    "Python Lambda\n",
    "Python RegEx\n",
    "Python Modules\n",
    "Python Dates\n",
    "Python Math\n",
    "Python JSON\n",
    "Python Classes/Objects\n",
    "Python Inheritance\n",
    "Python Iterators\n",
    "Python Scope\n",
    "Python PIP\n",
    "Python Try...Except\n",
    "Python User Input\n",
    "Python String Formatting`"
   ]
  },
  {
   "cell_type": "markdown",
   "id": "963b72dc",
   "metadata": {},
   "source": [
    "\n",
    "__This text to appear in bold__\n",
    "\n",
    "_This text to appear in Italics_\n",
    "\n",
    "> Line break:\n",
    "You often end up having to use a line break while writing text, there isn’t really a need to start a new paragraph by inserting two lines gap. You can use a simple <br> tag to insert a line break.\n",
    "\n",
    "Line break <br> \n",
    "can  be <br>\n",
    "done in this way <br>\n",
    "\n",
    "> Headings:\n",
    "Headings can be used in 5 different font size, the largest ideally used for titles and the other 4 sizes for headings as and when needed. Headings can be initiated using # followed by space and then the text of the heading. This prints the largest sized heading. You have to keep adding # to make the heading smaller.\n",
    "\n",
    "\n",
    "05. Colors:\n",
    "Highlighting some text in a different colour helps put through message that needs special attention. It’s quite simple to achieve this using \n",
    "\n",
    "<font color=pink>The text to be show in pink</font>.\n",
    "<font color=blue>The text to be show in pink</font>.\n",
    "<font color=red>The text to be show in pink</font>.\n",
    "<font color=green>The text to be show in pink</font>.\n",
    "<font color=yellow>The text to be show in pink</font>.\n",
    "\n",
    "\n",
    "06. Horizontal separator:\n",
    "If you want to insert a horizontal line that acts as a separator spanning across the width of the markdown cell all you have to do is type three asterisks without spaces in a new line ***.\n",
    "\n",
    "This is above the horizontel separator \n",
    "****************************************\n",
    "This is below the horizontel separator \n",
    "\n",
    "\n",
    "07. Numbered list and sub-lists:\n",
    "A numbered list can be generated by typing in a number, followed by a dot and a space\n",
    "> Example: 1. some text\n",
    "Follow the same pattern for the items following in the numbered list. For sub-lists, a tab space followed by the same format above will generate sub lists with a different label schema automatically. The same technique can be followed for more deeper sublists.\n",
    "\n",
    "Numbered list can be start with a number and a space Eg 1. text\n",
    "\n",
    "1. This \n",
    "2. is \n",
    "3. A \n",
    "4. Numbered \n",
    "    1. sub text \n",
    "    2. sub text \n",
    "      1. sub sub text\n",
    "      2. sub sub text \n",
    "5. list \n",
    "\n",
    "\n",
    "08. Text indentation:\n",
    "If you would like to display some code or text in an indented block, all you have to do is to start the line with a > followed by a space and then the text. The text is indented and has a gray horizontal line to the left until the next carriage return is detected.\n",
    "Example:\n",
    "> this is indented text\n",
    "\n",
    "\n",
    "09. Monospace font:\n",
    "Monospace font is some text highlighted in a light gray background. Typically used to indicate file paths, user entered messages, file names etc,.\n",
    "Example: `this is monospace font`\n",
    "\n",
    "10. Mathematical symbols:\n",
    "Mathematical symbols can be shown between two $ symbols.\n",
    "Example:\n",
    "\n",
    "$x = x + y$"
   ]
  },
  {
   "cell_type": "markdown",
   "id": "6364db86",
   "metadata": {},
   "source": [
    "# Python Introduction\n",
    "\n",
    "\n",
    "__Please read this Notebook with word document;__\n",
    "\n",
    "__<font color=red>D:\\Mytech\\ETLHive\\DS_ML\\Python_ML_Learning\\Python_and_Pycharm\\My_Python_Notes.docx</font>__"
   ]
  },
  {
   "cell_type": "markdown",
   "id": "029e7c5f",
   "metadata": {},
   "source": [
    "## What is Python?\n",
    "Python is a popular programming language. It was created by Guido van Rossum, and released in 1991.\n",
    "\n",
    "It is used for:\n",
    "web development (server-side), software development, mathematics, system scripting.\n",
    "\n",
    "## What can Python do?\n",
    "* Python can be used on a server to create web applications.\n",
    "* Python can be used alongside software to create workflows.\n",
    "* Python can connect to database systems. It can also read and modify files.\n",
    "* python can be used to handle big data and perform complex mathematics.\n",
    "* Python can be used for rapid prototyping, or for production-ready software development.\n",
    "## Why Python?\n",
    "*Python works on different platforms (Windows, Mac, Linux, Raspberry Pi, etc).\n",
    "*Python has a simple syntax similar to the English language.\n",
    "*Python has syntax that allows developers to write programs with fewer lines than some other programming languages.\n",
    "*Python runs on an interpreter system, meaning that code can be executed as soon as it is written. This means that prototyping can be very quick.\n",
    "*Python can be treated in a procedural way, an object-oriented way or a functional way.\n",
    "## Good to know\n",
    "The most recent major version of Python is Python 3, which we shall be using in this tutorial. However, Python 2, although not being updated with anything other than security updates, is still quite popular.\n",
    "*In this tutorial Python will be written in a text editor. It is possible to write Python in an Integrated Development Environment, such as Thonny, Pycharm, Netbeans or Eclipse which are particularly useful when managing larger collections of Python files.\n",
    "## Python Syntax compared to other programming languages\n",
    "* Python was designed for readability, and has some similarities to the English language with influence from mathematics.\n",
    "* Python uses new lines to complete a command, as opposed to other programming languages which often use semicolons or parentheses.\n",
    "* Python relies on indentation, using whitespace, to define scope; such as the scope of loops, functions and classes. Other programming languages often use curly-brackets for this purpose."
   ]
  },
  {
   "cell_type": "code",
   "execution_count": 1,
   "id": "71e4be04",
   "metadata": {},
   "outputs": [
    {
     "name": "stdout",
     "output_type": "stream",
     "text": [
      "Hello, World!\n"
     ]
    }
   ],
   "source": [
    "print(\"Hello, World!\")"
   ]
  },
  {
   "cell_type": "markdown",
   "id": "778692cc",
   "metadata": {},
   "source": [
    "## Python Install\n",
    "Many PCs and Macs will have python already installed.\n",
    "\n",
    "To check if you have python installed on a Windows PC, search in the start bar for Python or run the following on the Command Line (cmd.exe):\n",
    "\n",
    "`C:\\Users\\Your Name>python --version`\n",
    "\n",
    "To check if you have python installed on a Linux or Mac, then on linux open the command line or on Mac open the Terminal and type:\n",
    "\n",
    "`python --version`\n",
    "\n",
    "If you find that you do not have Python installed on your computer, then you can download it for free from the following website: https://www.python.org/"
   ]
  },
  {
   "attachments": {
    "image.png": {
     "image/png": "[encoded data removed]"
    }
   },
   "cell_type": "markdown",
   "id": "42085c49",
   "metadata": {},
   "source": [
    "## Python Quickstart\n",
    "\n",
    "Python is an interpreted programming language, this means that as a developer you write Python (.py) files in a text editor and then put those files into the python interpreter to be executed.\n",
    "\n",
    "The way to run a python file is like this on the command line:\n",
    "\n",
    "`C:\\Users\\Your Name>python helloworld.py`\n",
    "\n",
    "Where \"helloworld.py\" is the name of your python file.\n",
    "\n",
    "Let's write our first Python file, called helloworld.py, which can be done in any text editor.\n",
    "\n",
    "`HelloWorld.py\n",
    "import sys <br>\n",
    "print(\"Hello World\") <br>\n",
    "print(\"Hello \" + sys.argv[1] + \" from \" + sys.argv[0])`\n",
    "\n",
    "argv[0] means program name itself \n",
    "\n",
    "\n",
    "Simple as that. Save your file. Open your command line, navigate to the directory where you saved your file, and run:\n",
    "\n",
    "![image.png](attachment:image.png)\n"
   ]
  },
  {
   "attachments": {
    "Screenshot%202021-12-21%20111426.png": {
     "image/png": "[encoded data removed]"
    }
   },
   "cell_type": "markdown",
   "id": "37d398f1",
   "metadata": {},
   "source": [
    "## The Python Command Line\n",
    "\n",
    "To test a short amount of code in python sometimes it is quickest and easiest not to write the code in a file. This is made possible because Python can be run as a command line itself.\n",
    "\n",
    "Type the following on the Windows, Mac or Linux command line:\n",
    "\n",
    "`C:\\Users\\Your Name>python`\n",
    "\n",
    "Or, if the \"python\" command did not work, you can try \"py\":\n",
    "\n",
    "`C:\\Users\\Your Name>py`\n",
    "\n",
    "From there you can write any python, including our hello world example from earlier in the tutorial:\n",
    "\n",
    "![Screenshot%202021-12-21%20111426.png](attachment:Screenshot%202021-12-21%20111426.png)\n",
    "\n",
    "\n",
    "Whenever you are done in the python command line, you can simply type the following to quit the python command line interface:\n",
    "\n",
    "`exit()`"
   ]
  },
  {
   "cell_type": "markdown",
   "id": "1f669cc6",
   "metadata": {},
   "source": [
    "## Python Syntax\n",
    "Execute Python Syntax\n",
    "As we learned in the previous page, Python syntax can be executed by writing directly in the Command Line:\n",
    "\n",
    "\n",
    "\n"
   ]
  },
  {
   "cell_type": "code",
   "execution_count": 2,
   "id": "d32b5853",
   "metadata": {},
   "outputs": [
    {
     "name": "stdout",
     "output_type": "stream",
     "text": [
      "Hello, World!\n"
     ]
    }
   ],
   "source": [
    "print(\"Hello, World!\")"
   ]
  },
  {
   "cell_type": "markdown",
   "id": "d5a4cd48",
   "metadata": {},
   "source": [
    "Or by creating a python file on the server, using the .py file extension, and running it in the Command Line:\n",
    "\n",
    " `C:\\Users\\Your Name>python myfile.py`"
   ]
  },
  {
   "cell_type": "markdown",
   "id": "9a9e4b4a",
   "metadata": {},
   "source": [
    "##  Python Indentation\n",
    "\n",
    "Indentation refers to the spaces at the beginning of a code line.\n",
    "\n",
    "Where in other programming languages the indentation in code is for readability only, the indentation in Python is very important.\n",
    "\n",
    "Python uses indentation to __indicate a block of code.__"
   ]
  },
  {
   "cell_type": "code",
   "execution_count": 3,
   "id": "a27441ae",
   "metadata": {},
   "outputs": [
    {
     "ename": "IndentationError",
     "evalue": "expected an indented block (<ipython-input-3-a314491c53bb>, line 2)",
     "output_type": "error",
     "traceback": [
      "\u001b[1;36m  File \u001b[1;32m\"<ipython-input-3-a314491c53bb>\"\u001b[1;36m, line \u001b[1;32m2\u001b[0m\n\u001b[1;33m    print(\"Five is greater than two!\")\u001b[0m\n\u001b[1;37m    ^\u001b[0m\n\u001b[1;31mIndentationError\u001b[0m\u001b[1;31m:\u001b[0m expected an indented block\n"
     ]
    }
   ],
   "source": [
    "if 5 > 2:\n",
    "print(\"Five is greater than two!\")"
   ]
  },
  {
   "cell_type": "markdown",
   "id": "feeaefb0",
   "metadata": {},
   "source": [
    "Python will give you an error if you skip the indentation:\n",
    " > IndentationError: expected an indented block\n",
    " \n",
    "__The number of spaces is up to you as a programmer, but it has to be at least one.__"
   ]
  },
  {
   "cell_type": "code",
   "execution_count": 4,
   "id": "479163d2",
   "metadata": {},
   "outputs": [
    {
     "name": "stdout",
     "output_type": "stream",
     "text": [
      "Five is greater than two!\n",
      "Five is greater than two!\n"
     ]
    }
   ],
   "source": [
    "if 5 > 2:\n",
    " print(\"Five is greater than two!\")\n",
    "if 5 > 2:\n",
    "        print(\"Five is greater than two!\")"
   ]
  },
  {
   "cell_type": "markdown",
   "id": "d01f5bb2",
   "metadata": {},
   "source": [
    "__You have to use the same number of spaces in the same block of code, otherwise Python will give you an error__\n",
    "\n"
   ]
  },
  {
   "cell_type": "code",
   "execution_count": 5,
   "id": "58a5eccb",
   "metadata": {},
   "outputs": [
    {
     "ename": "IndentationError",
     "evalue": "unexpected indent (<ipython-input-5-997e6ebc5695>, line 3)",
     "output_type": "error",
     "traceback": [
      "\u001b[1;36m  File \u001b[1;32m\"<ipython-input-5-997e6ebc5695>\"\u001b[1;36m, line \u001b[1;32m3\u001b[0m\n\u001b[1;33m    print(\"Five is greater than two!\")\u001b[0m\n\u001b[1;37m    ^\u001b[0m\n\u001b[1;31mIndentationError\u001b[0m\u001b[1;31m:\u001b[0m unexpected indent\n"
     ]
    }
   ],
   "source": [
    "if 5 > 2:\n",
    "    print(\"Five is greater than two!\")\n",
    "      print(\"Five is greater than two!\")"
   ]
  },
  {
   "cell_type": "code",
   "execution_count": 6,
   "id": "f2b8f652",
   "metadata": {},
   "outputs": [
    {
     "name": "stdout",
     "output_type": "stream",
     "text": [
      "Five is greater than two!\n",
      "Five is greater than two!\n"
     ]
    }
   ],
   "source": [
    "if 5 > 2:\n",
    "    print(\"Five is greater than two!\")\n",
    "    print(\"Five is greater than two!\")"
   ]
  },
  {
   "cell_type": "markdown",
   "id": "6d24be82",
   "metadata": {},
   "source": [
    "# Python Variables\n",
    "\n",
    "__Variables__ <br>\n",
    "Variables are containers for storing data values.\n",
    "\n",
    "In Python, variables are created when you assign a value to it:\n",
    "\n",
    "`some imp points;`\n",
    "* Remember that variable names are case-sensitive\n",
    "\n"
   ]
  },
  {
   "cell_type": "markdown",
   "id": "993698cc",
   "metadata": {},
   "source": [
    "## Python - Variable Names\n",
    "\n",
    "__Variable Names__\n",
    "\n",
    "* A variable can have a short name (like x and y) or a more descriptive name (age, carname, total_volume). \n",
    "\n",
    "`Rules for Python variables:`\n",
    "* A variable name must start with a letter or the underscore character\n",
    "* A variable name cannot start with a number\n",
    "* A variable name can only contain alpha-numeric characters and underscores (A-z, 0-9, and _ )\n",
    "* Variable names are case-sensitive (age, Age and AGE are three different variables)"
   ]
  },
  {
   "cell_type": "code",
   "execution_count": 7,
   "id": "90a4e4b7",
   "metadata": {},
   "outputs": [
    {
     "name": "stdout",
     "output_type": "stream",
     "text": [
      "John\n",
      "John\n",
      "John\n",
      "John\n",
      "John\n",
      "John\n",
      "John\n"
     ]
    }
   ],
   "source": [
    "# Legal variable names:\n",
    "myvar = \"John\"\n",
    "my_var = \"John\"\n",
    "_my_var = \"John\"\n",
    "myVar = \"John\"\n",
    "MYVAR = \"John\"\n",
    "myvar2 = \"John\"\n",
    "_My_Var_ = 'John'\n",
    "\n",
    "\n",
    "print(myvar)\n",
    "print(my_var)\n",
    "print(_my_var)\n",
    "print(myVar)\n",
    "print(MYVAR)\n",
    "print(myvar2)\n",
    "print(_My_Var_)"
   ]
  },
  {
   "cell_type": "code",
   "execution_count": 8,
   "id": "c2bac27d",
   "metadata": {},
   "outputs": [
    {
     "ename": "SyntaxError",
     "evalue": "invalid syntax (<ipython-input-8-111512aed2f9>, line 2)",
     "output_type": "error",
     "traceback": [
      "\u001b[1;36m  File \u001b[1;32m\"<ipython-input-8-111512aed2f9>\"\u001b[1;36m, line \u001b[1;32m2\u001b[0m\n\u001b[1;33m    2myvar = \"John\"\u001b[0m\n\u001b[1;37m     ^\u001b[0m\n\u001b[1;31mSyntaxError\u001b[0m\u001b[1;31m:\u001b[0m invalid syntax\n"
     ]
    }
   ],
   "source": [
    "# Illegal variable names:\n",
    "2myvar = \"John\"\n",
    "my-var = \"John\"\n",
    "my var = \"John\""
   ]
  },
  {
   "cell_type": "markdown",
   "id": "a35162c7",
   "metadata": {},
   "source": [
    "To comment multiple lines you can use:\n",
    "\n",
    "ctrl + /"
   ]
  },
  {
   "cell_type": "code",
   "execution_count": 9,
   "id": "ba4bcd07",
   "metadata": {},
   "outputs": [],
   "source": [
    "# Hi this is \n",
    "# a  block commnet in one go using \n",
    "# using ctrl + /"
   ]
  },
  {
   "cell_type": "markdown",
   "id": "837e81e6",
   "metadata": {},
   "source": [
    "## Multi Words Variable Names\n",
    "\n",
    "Variable names with more than one word can be difficult to read.\n",
    "\n",
    "There are several techniques you can use to make them more readable:"
   ]
  },
  {
   "cell_type": "markdown",
   "id": "aac7d8d5",
   "metadata": {},
   "source": [
    "### Camel Case\n",
    "Each word, except the first, starts with a capital letter:"
   ]
  },
  {
   "cell_type": "code",
   "execution_count": 10,
   "id": "77caaf4d",
   "metadata": {},
   "outputs": [
    {
     "data": {
      "text/plain": [
       "'John'"
      ]
     },
     "execution_count": 10,
     "metadata": {},
     "output_type": "execute_result"
    }
   ],
   "source": [
    "myVariableName = \"John\"\n",
    "myVariableName"
   ]
  },
  {
   "cell_type": "markdown",
   "id": "8e7e6fdd",
   "metadata": {},
   "source": [
    "### Pascal Case\n",
    "\n",
    "Each word starts with a capital letter:\n"
   ]
  },
  {
   "cell_type": "code",
   "execution_count": 11,
   "id": "68a96f6b",
   "metadata": {},
   "outputs": [
    {
     "data": {
      "text/plain": [
       "'John'"
      ]
     },
     "execution_count": 11,
     "metadata": {},
     "output_type": "execute_result"
    }
   ],
   "source": [
    "MyVariableName = \"John\"\n",
    "MyVariableName"
   ]
  },
  {
   "cell_type": "markdown",
   "id": "5cc62a14",
   "metadata": {},
   "source": [
    "### Snake Case\n",
    "Each word is separated by an underscore character:"
   ]
  },
  {
   "cell_type": "code",
   "execution_count": 12,
   "id": "26f85612",
   "metadata": {},
   "outputs": [
    {
     "data": {
      "text/plain": [
       "'John'"
      ]
     },
     "execution_count": 12,
     "metadata": {},
     "output_type": "execute_result"
    }
   ],
   "source": [
    "my_variable_name = \"John\"\n",
    "my_variable_name"
   ]
  },
  {
   "cell_type": "markdown",
   "id": "f8eb362b",
   "metadata": {},
   "source": [
    "## Python Variables - Assign Multiple Values\n",
    "\n",
    "### Many Values to Multiple Variables\n",
    "\n",
    "Python allows you to assign values to multiple variables in one line:\n"
   ]
  },
  {
   "cell_type": "code",
   "execution_count": 13,
   "id": "2b314d70",
   "metadata": {},
   "outputs": [
    {
     "name": "stdout",
     "output_type": "stream",
     "text": [
      "Orange\n",
      "Banana\n",
      "Cherry\n"
     ]
    }
   ],
   "source": [
    "x, y, z = \"Orange\", \"Banana\", \"Cherry\"\n",
    "print(x)\n",
    "print(y)\n",
    "print(z)"
   ]
  },
  {
   "cell_type": "code",
   "execution_count": 14,
   "id": "2b681542",
   "metadata": {},
   "outputs": [
    {
     "data": {
      "text/plain": [
       "'Orange'"
      ]
     },
     "execution_count": 14,
     "metadata": {},
     "output_type": "execute_result"
    }
   ],
   "source": [
    "x"
   ]
  },
  {
   "cell_type": "code",
   "execution_count": 15,
   "id": "8fee40ea",
   "metadata": {},
   "outputs": [
    {
     "data": {
      "text/plain": [
       "'Banana'"
      ]
     },
     "execution_count": 15,
     "metadata": {},
     "output_type": "execute_result"
    }
   ],
   "source": [
    "y"
   ]
  },
  {
   "cell_type": "code",
   "execution_count": 16,
   "id": "9269a49e",
   "metadata": {
    "scrolled": true
   },
   "outputs": [
    {
     "data": {
      "text/plain": [
       "'Cherry'"
      ]
     },
     "execution_count": 16,
     "metadata": {},
     "output_type": "execute_result"
    }
   ],
   "source": [
    "z"
   ]
  },
  {
   "cell_type": "markdown",
   "id": "8c152203",
   "metadata": {},
   "source": [
    "__`Note: Make sure the number of variables matches the number of values, or else you will get an error.`__"
   ]
  },
  {
   "cell_type": "code",
   "execution_count": 17,
   "id": "d9fd17af",
   "metadata": {
    "scrolled": true
   },
   "outputs": [
    {
     "ename": "ValueError",
     "evalue": "not enough values to unpack (expected 3, got 2)",
     "output_type": "error",
     "traceback": [
      "\u001b[1;31m---------------------------------------------------------------------------\u001b[0m",
      "\u001b[1;31mValueError\u001b[0m                                Traceback (most recent call last)",
      "\u001b[1;32m<ipython-input-17-a3e95b13ee04>\u001b[0m in \u001b[0;36m<module>\u001b[1;34m\u001b[0m\n\u001b[1;32m----> 1\u001b[1;33m \u001b[0mx\u001b[0m\u001b[1;33m,\u001b[0m \u001b[0my\u001b[0m\u001b[1;33m,\u001b[0m \u001b[0mz\u001b[0m \u001b[1;33m=\u001b[0m \u001b[1;34m\"Orange\"\u001b[0m\u001b[1;33m,\u001b[0m \u001b[1;34m\"Banana\"\u001b[0m\u001b[1;33m\u001b[0m\u001b[1;33m\u001b[0m\u001b[0m\n\u001b[0m",
      "\u001b[1;31mValueError\u001b[0m: not enough values to unpack (expected 3, got 2)"
     ]
    }
   ],
   "source": [
    "x, y, z = \"Orange\", \"Banana\""
   ]
  },
  {
   "cell_type": "markdown",
   "id": "09223258",
   "metadata": {},
   "source": [
    "### One Value to Multiple Variables\n",
    "And you can assign the same value to multiple variables in one line:"
   ]
  },
  {
   "cell_type": "code",
   "execution_count": 18,
   "id": "0b3f4e7a",
   "metadata": {},
   "outputs": [
    {
     "name": "stdout",
     "output_type": "stream",
     "text": [
      "Orange\n",
      "Orange\n",
      "Orange\n"
     ]
    }
   ],
   "source": [
    "x = y = z = \"Orange\"\n",
    "print(x)\n",
    "print(y)\n",
    "print(z)"
   ]
  },
  {
   "cell_type": "markdown",
   "id": "39bc2486",
   "metadata": {},
   "source": [
    "## Unpack a Collection (Unpacking)\n",
    "If you have a collection of values in a list, tuple etc. Python allows you extract the values into variables. This is called `unpacking`"
   ]
  },
  {
   "cell_type": "code",
   "execution_count": 19,
   "id": "e5ed62b1",
   "metadata": {},
   "outputs": [],
   "source": [
    "fruits = [\"apple\", \"banana\", \"cherry\"]"
   ]
  },
  {
   "cell_type": "code",
   "execution_count": 20,
   "id": "4ba8d5d2",
   "metadata": {},
   "outputs": [
    {
     "data": {
      "text/plain": [
       "list"
      ]
     },
     "execution_count": 20,
     "metadata": {},
     "output_type": "execute_result"
    }
   ],
   "source": [
    "type(fruits)"
   ]
  },
  {
   "cell_type": "code",
   "execution_count": 21,
   "id": "43b19b20",
   "metadata": {},
   "outputs": [
    {
     "name": "stdout",
     "output_type": "stream",
     "text": [
      "apple\n",
      "banana\n",
      "cherry\n"
     ]
    }
   ],
   "source": [
    "x, y, z = fruits\n",
    "print(x)\n",
    "print(y)\n",
    "print(z)"
   ]
  },
  {
   "cell_type": "markdown",
   "id": "ef47e128",
   "metadata": {},
   "source": [
    "Learn more about unpacking in Unpack Tuples(https://www.w3schools.com/python/python_tuples_unpack.asp) Chapter."
   ]
  },
  {
   "cell_type": "markdown",
   "id": "a1a3553f",
   "metadata": {},
   "source": [
    "## Output Variables\n",
    "\n",
    "The Python print statement is often used to output variables."
   ]
  },
  {
   "cell_type": "code",
   "execution_count": 22,
   "id": "2942e8f2",
   "metadata": {},
   "outputs": [],
   "source": [
    "x = \"awesome\""
   ]
  },
  {
   "cell_type": "code",
   "execution_count": 23,
   "id": "0e3e9777",
   "metadata": {},
   "outputs": [
    {
     "name": "stdout",
     "output_type": "stream",
     "text": [
      "Python is awesome\n"
     ]
    }
   ],
   "source": [
    "print(\"Python is\", x)"
   ]
  },
  {
   "cell_type": "markdown",
   "id": "006f230c",
   "metadata": {},
   "source": [
    "__print with comma will print variables or text followed by Single SPACE(which is default). hence here you see one space between \"Python is\" and  \"awesome\"`__\n",
    "\n",
    "To combine both text and a variable, Python uses the + character:"
   ]
  },
  {
   "cell_type": "code",
   "execution_count": 24,
   "id": "54972b21",
   "metadata": {},
   "outputs": [
    {
     "name": "stdout",
     "output_type": "stream",
     "text": [
      "Python isawesome\n"
     ]
    }
   ],
   "source": [
    "print(\"Python is\" + x)"
   ]
  },
  {
   "cell_type": "markdown",
   "id": "7514dab4",
   "metadata": {},
   "source": [
    "__print with + sign print variables or text as concatination. hence here you see no gaps between \"Python is\" and  \"awesome\"__\n",
    "\n",
    "You can also use the + character to add a variable to another variable:"
   ]
  },
  {
   "cell_type": "code",
   "execution_count": 25,
   "id": "e9831871",
   "metadata": {},
   "outputs": [
    {
     "name": "stdout",
     "output_type": "stream",
     "text": [
      "Python isawesome\n"
     ]
    }
   ],
   "source": [
    "x = \"Python is\"\n",
    "y = \"awesome\"\n",
    "z = x + y\n",
    "print(z)"
   ]
  },
  {
   "cell_type": "code",
   "execution_count": 26,
   "id": "4cdc754e",
   "metadata": {},
   "outputs": [
    {
     "name": "stdout",
     "output_type": "stream",
     "text": [
      "Python is awesome\n"
     ]
    }
   ],
   "source": [
    "x = \"Python is \"\n",
    "y = \"awesome\"\n",
    "z = x + y\n",
    "print(z)"
   ]
  },
  {
   "cell_type": "markdown",
   "id": "ca41cae7",
   "metadata": {},
   "source": [
    "For numbers, the + character works as a mathematical operator:"
   ]
  },
  {
   "cell_type": "code",
   "execution_count": 27,
   "id": "7c835d00",
   "metadata": {},
   "outputs": [
    {
     "data": {
      "text/plain": [
       "15"
      ]
     },
     "execution_count": 27,
     "metadata": {},
     "output_type": "execute_result"
    }
   ],
   "source": [
    "x = 5\n",
    "y = 10\n",
    "x + y"
   ]
  },
  {
   "cell_type": "code",
   "execution_count": 28,
   "id": "199ce901",
   "metadata": {},
   "outputs": [
    {
     "name": "stdout",
     "output_type": "stream",
     "text": [
      "15\n"
     ]
    }
   ],
   "source": [
    "x = 5\n",
    "y = 10\n",
    "print(x + y)"
   ]
  },
  {
   "cell_type": "markdown",
   "id": "6e0e11ec",
   "metadata": {},
   "source": [
    "If you try to combine a string and a number, Python will give you an error:\n",
    "\n",
    "becasue \n",
    "  <font color=red>__NOTE : at Run time just to performe the operations varibables Type can not be changed  because Pythyon is a Strongly typed language__</font>"
   ]
  },
  {
   "cell_type": "code",
   "execution_count": 29,
   "id": "42fec022",
   "metadata": {},
   "outputs": [
    {
     "ename": "TypeError",
     "evalue": "unsupported operand type(s) for +: 'int' and 'str'",
     "output_type": "error",
     "traceback": [
      "\u001b[1;31m---------------------------------------------------------------------------\u001b[0m",
      "\u001b[1;31mTypeError\u001b[0m                                 Traceback (most recent call last)",
      "\u001b[1;32m<ipython-input-29-e970332ecd61>\u001b[0m in \u001b[0;36m<module>\u001b[1;34m\u001b[0m\n\u001b[0;32m      1\u001b[0m \u001b[0mx\u001b[0m \u001b[1;33m=\u001b[0m \u001b[1;36m5\u001b[0m\u001b[1;33m\u001b[0m\u001b[1;33m\u001b[0m\u001b[0m\n\u001b[0;32m      2\u001b[0m \u001b[0my\u001b[0m \u001b[1;33m=\u001b[0m \u001b[1;34m\"John\"\u001b[0m\u001b[1;33m\u001b[0m\u001b[1;33m\u001b[0m\u001b[0m\n\u001b[1;32m----> 3\u001b[1;33m \u001b[0mx\u001b[0m \u001b[1;33m+\u001b[0m \u001b[0my\u001b[0m\u001b[1;33m\u001b[0m\u001b[1;33m\u001b[0m\u001b[0m\n\u001b[0m",
      "\u001b[1;31mTypeError\u001b[0m: unsupported operand type(s) for +: 'int' and 'str'"
     ]
    }
   ],
   "source": [
    "x = 5\n",
    "y = \"John\"\n",
    "x + y"
   ]
  },
  {
   "cell_type": "markdown",
   "id": "23b70b35",
   "metadata": {},
   "source": [
    "## Python - Global Variables\n",
    "\n",
    "__Global Variables__\n",
    "\n",
    "Variables that are created outside of a function (as in all of the examples above) are known as global variables.\n",
    "\n",
    "Global variables can be used by everyone, both inside of functions and outside."
   ]
  },
  {
   "cell_type": "code",
   "execution_count": 30,
   "id": "ea4e878f",
   "metadata": {},
   "outputs": [
    {
     "name": "stdout",
     "output_type": "stream",
     "text": [
      "Python is awesome\n",
      "Python is awesome\n",
      "Python is awesome\n"
     ]
    }
   ],
   "source": [
    "# Create a variable outside of a function, and use it inside the function\n",
    "x = \"awesome\"\n",
    "print(\"Python is \" + x)\n",
    "\n",
    "\n",
    "def myfunc():\n",
    "    print(\"Python is \" + x)\n",
    "\n",
    "\n",
    "myfunc()\n",
    "print(\"Python is \" + x)"
   ]
  },
  {
   "cell_type": "markdown",
   "id": "3d9a54e9",
   "metadata": {},
   "source": [
    "## Python - Local Variables\n",
    "\n",
    "__Local Variables__\n",
    "\n",
    "If you create a variable with the same name _inside a function_, this variable will be local, and can only be used inside the function. \n",
    "\n",
    "The global variable with the same name will remain as it was, global and with the original value."
   ]
  },
  {
   "cell_type": "code",
   "execution_count": 31,
   "id": "dde83f96",
   "metadata": {},
   "outputs": [
    {
     "name": "stdout",
     "output_type": "stream",
     "text": [
      "Python is awesome\n",
      "Python is fantastic\n",
      "Python is awesome\n"
     ]
    }
   ],
   "source": [
    "# Create a variable inside a function, with the same name as the global variable\n",
    "x = \"awesome\"\n",
    "print(\"Python is \" + x)\n",
    "\n",
    "\n",
    "def myfunc():\n",
    "    x = \"fantastic\"\n",
    "    print(\"Python is \" + x)\n",
    "\n",
    "\n",
    "myfunc()\n",
    "\n",
    "print(\"Python is \" + x)"
   ]
  },
  {
   "cell_type": "markdown",
   "id": "e008c773",
   "metadata": {},
   "source": [
    "Even though outside and inside of function variable name is same as x\n",
    "here  `x = \"fantastic\"` is a Local  Variable<br>\n",
    "and   `x = \"awesome\"`   is a Global Variable \n"
   ]
  },
  {
   "cell_type": "markdown",
   "id": "8c577d58",
   "metadata": {},
   "source": [
    "### The global Keyword\n",
    "Normally, when you create a variable inside a function, that variable is local, and can only be used inside that function.\n",
    "\n",
    "To create a global variable inside a function, you can use the `global keyword`"
   ]
  },
  {
   "cell_type": "code",
   "execution_count": 32,
   "id": "5aed9450",
   "metadata": {},
   "outputs": [
    {
     "name": "stdout",
     "output_type": "stream",
     "text": [
      "Python is fantastic\n",
      "Python is fantastic\n"
     ]
    }
   ],
   "source": [
    "# If you use the global keyword, the variable belongs to the global scope:\n",
    "def myfunc():\n",
    "    global x\n",
    "    x = \"fantastic\"\n",
    "    print(\"Python is \" + x)\n",
    "\n",
    "\n",
    "myfunc()\n",
    "\n",
    "print(\"Python is \" + x)"
   ]
  },
  {
   "cell_type": "markdown",
   "id": "f6a6ddb9",
   "metadata": {},
   "source": [
    "Also, use the `global keyword` if you want to change a global variable inside a function.\n",
    "\n",
    "To change the value of a global variable inside a function, refer to the variable by using the global keyword:"
   ]
  },
  {
   "cell_type": "code",
   "execution_count": 33,
   "id": "30d60088",
   "metadata": {
    "scrolled": false
   },
   "outputs": [
    {
     "name": "stdout",
     "output_type": "stream",
     "text": [
      "Python is awesome\n",
      "Python is fantastic\n",
      "Python is fantastic\n"
     ]
    }
   ],
   "source": [
    "x = \"awesome\"\n",
    "print(\"Python is \" + x)\n",
    "\n",
    "\n",
    "def myfunc():\n",
    "    global x\n",
    "    x = \"fantastic\"\n",
    "    print(\"Python is \" + x)\n",
    "\n",
    "\n",
    "myfunc()\n",
    "\n",
    "print(\"Python is \" + x)"
   ]
  },
  {
   "cell_type": "code",
   "execution_count": 34,
   "id": "ab1916a3",
   "metadata": {},
   "outputs": [],
   "source": [
    "x = 5\n",
    "y = \"Hello, World!\""
   ]
  },
  {
   "cell_type": "code",
   "execution_count": 35,
   "id": "97a475ef",
   "metadata": {},
   "outputs": [
    {
     "data": {
      "text/plain": [
       "5"
      ]
     },
     "execution_count": 35,
     "metadata": {},
     "output_type": "execute_result"
    }
   ],
   "source": [
    "x"
   ]
  },
  {
   "cell_type": "code",
   "execution_count": 36,
   "id": "a19f5b77",
   "metadata": {},
   "outputs": [
    {
     "name": "stdout",
     "output_type": "stream",
     "text": [
      "5\n"
     ]
    }
   ],
   "source": [
    "print(x)"
   ]
  },
  {
   "cell_type": "code",
   "execution_count": 37,
   "id": "5447e0df",
   "metadata": {},
   "outputs": [
    {
     "name": "stdout",
     "output_type": "stream",
     "text": [
      "<class 'int'>\n"
     ]
    }
   ],
   "source": [
    "print(type(x))"
   ]
  },
  {
   "cell_type": "code",
   "execution_count": 38,
   "id": "d93e8703",
   "metadata": {},
   "outputs": [
    {
     "data": {
      "text/plain": [
       "int"
      ]
     },
     "execution_count": 38,
     "metadata": {},
     "output_type": "execute_result"
    }
   ],
   "source": [
    "type(x)"
   ]
  },
  {
   "cell_type": "code",
   "execution_count": 39,
   "id": "53805768",
   "metadata": {},
   "outputs": [
    {
     "data": {
      "text/plain": [
       "'Hello, World!'"
      ]
     },
     "execution_count": 39,
     "metadata": {},
     "output_type": "execute_result"
    }
   ],
   "source": [
    "y"
   ]
  },
  {
   "cell_type": "code",
   "execution_count": 40,
   "id": "b98d96bd",
   "metadata": {},
   "outputs": [
    {
     "name": "stdout",
     "output_type": "stream",
     "text": [
      "Hello, World!\n",
      "<class 'str'>\n"
     ]
    }
   ],
   "source": [
    "print(y)\n",
    "print(type(y))"
   ]
  },
  {
   "cell_type": "markdown",
   "id": "cf4ccfde",
   "metadata": {},
   "source": [
    "<font color=red>__Python has no command for declaring a variable.__</font>\n",
    "\n",
    "You will learn more about variables in the Python Variables chapter.\n",
    "\n",
    "## Creating Variables\n",
    "Python has no command for declaring a variable.\n",
    "\n",
    "A variable is created the moment you first assign a value to it.\n"
   ]
  },
  {
   "cell_type": "code",
   "execution_count": 41,
   "id": "80c8f3a8",
   "metadata": {},
   "outputs": [
    {
     "name": "stdout",
     "output_type": "stream",
     "text": [
      "5\n",
      "John\n"
     ]
    }
   ],
   "source": [
    "x = 5\n",
    "y = \"John\"\n",
    "print(x)\n",
    "print(y)"
   ]
  },
  {
   "cell_type": "markdown",
   "id": "3c49b1dc",
   "metadata": {},
   "source": [
    "__Variables do not need to be declared with any particular type__\n",
    "\n",
    "__Variables can even change type after they have been set__ \n",
    "\n",
    "<font color=red>NOTE : at Run time varibables Type can be changed because Pythyon is a Dynamiclly typed language</font>"
   ]
  },
  {
   "cell_type": "code",
   "execution_count": 42,
   "id": "d23d5b05",
   "metadata": {},
   "outputs": [
    {
     "data": {
      "text/plain": [
       "4"
      ]
     },
     "execution_count": 42,
     "metadata": {},
     "output_type": "execute_result"
    }
   ],
   "source": [
    "x = 4       # x is of type int\n",
    "x"
   ]
  },
  {
   "cell_type": "code",
   "execution_count": 43,
   "id": "5ef7d22f",
   "metadata": {},
   "outputs": [],
   "source": [
    "x = \"Sally\" # x is now of type str"
   ]
  },
  {
   "cell_type": "code",
   "execution_count": 44,
   "id": "ba5257d2",
   "metadata": {},
   "outputs": [
    {
     "data": {
      "text/plain": [
       "'Sally'"
      ]
     },
     "execution_count": 44,
     "metadata": {},
     "output_type": "execute_result"
    }
   ],
   "source": [
    "x"
   ]
  },
  {
   "cell_type": "markdown",
   "id": "161451a5",
   "metadata": {},
   "source": [
    "## DELETE varibables "
   ]
  },
  {
   "cell_type": "code",
   "execution_count": 45,
   "id": "df7b44c4",
   "metadata": {},
   "outputs": [
    {
     "data": {
      "text/plain": [
       "1"
      ]
     },
     "execution_count": 45,
     "metadata": {},
     "output_type": "execute_result"
    }
   ],
   "source": [
    "var1 = 1\n",
    "var1"
   ]
  },
  {
   "cell_type": "code",
   "execution_count": 46,
   "id": "4493f056",
   "metadata": {},
   "outputs": [
    {
     "data": {
      "text/plain": [
       "1"
      ]
     },
     "execution_count": 46,
     "metadata": {},
     "output_type": "execute_result"
    }
   ],
   "source": [
    "var1"
   ]
  },
  {
   "cell_type": "code",
   "execution_count": 47,
   "id": "522fdf68",
   "metadata": {},
   "outputs": [],
   "source": [
    "del var1"
   ]
  },
  {
   "cell_type": "code",
   "execution_count": 48,
   "id": "718db64a",
   "metadata": {},
   "outputs": [
    {
     "ename": "NameError",
     "evalue": "name 'var1' is not defined",
     "output_type": "error",
     "traceback": [
      "\u001b[1;31m---------------------------------------------------------------------------\u001b[0m",
      "\u001b[1;31mNameError\u001b[0m                                 Traceback (most recent call last)",
      "\u001b[1;32m<ipython-input-48-c38af2e98b62>\u001b[0m in \u001b[0;36m<module>\u001b[1;34m\u001b[0m\n\u001b[1;32m----> 1\u001b[1;33m \u001b[0mvar1\u001b[0m \u001b[1;31m# var1 is Deleted\u001b[0m\u001b[1;33m\u001b[0m\u001b[1;33m\u001b[0m\u001b[0m\n\u001b[0m",
      "\u001b[1;31mNameError\u001b[0m: name 'var1' is not defined"
     ]
    }
   ],
   "source": [
    "var1 # var1 is Deleted "
   ]
  },
  {
   "cell_type": "markdown",
   "id": "5b88b691",
   "metadata": {},
   "source": [
    "## Get the data Type of  variable\n",
    "You can get the data type of a variable with the `type()` function."
   ]
  },
  {
   "cell_type": "code",
   "execution_count": 49,
   "id": "f8c35bb1",
   "metadata": {},
   "outputs": [
    {
     "name": "stdout",
     "output_type": "stream",
     "text": [
      "<class 'int'>\n",
      "<class 'str'>\n"
     ]
    }
   ],
   "source": [
    "x = 5\n",
    "y = \"John\"\n",
    "print(type(x))\n",
    "print(type(y))"
   ]
  },
  {
   "cell_type": "code",
   "execution_count": 50,
   "id": "b4495795",
   "metadata": {},
   "outputs": [
    {
     "data": {
      "text/plain": [
       "int"
      ]
     },
     "execution_count": 50,
     "metadata": {},
     "output_type": "execute_result"
    }
   ],
   "source": [
    "type(x)"
   ]
  },
  {
   "cell_type": "code",
   "execution_count": 51,
   "id": "81176b45",
   "metadata": {},
   "outputs": [
    {
     "data": {
      "text/plain": [
       "str"
      ]
     },
     "execution_count": 51,
     "metadata": {},
     "output_type": "execute_result"
    }
   ],
   "source": [
    "type(y)"
   ]
  },
  {
   "cell_type": "markdown",
   "id": "4d191fbf",
   "metadata": {},
   "source": [
    "You will learn more about data types(https://www.w3schools.com/python/python_datatypes.asp) \n",
    "and casting(https://www.w3schools.com/python/python_casting.asp) later in this tutorial."
   ]
  },
  {
   "cell_type": "markdown",
   "id": "a899463b",
   "metadata": {},
   "source": [
    "## Casting\n",
    "\n",
    "If you want to specify the `data type` of a variable, this can be done with casting."
   ]
  },
  {
   "cell_type": "code",
   "execution_count": 52,
   "id": "e608015f",
   "metadata": {},
   "outputs": [
    {
     "data": {
      "text/plain": [
       "'3'"
      ]
     },
     "execution_count": 52,
     "metadata": {},
     "output_type": "execute_result"
    }
   ],
   "source": [
    "x = str(3)    # x will be '3'\n",
    "x"
   ]
  },
  {
   "cell_type": "code",
   "execution_count": 53,
   "id": "6dc7ff0b",
   "metadata": {},
   "outputs": [
    {
     "data": {
      "text/plain": [
       "3"
      ]
     },
     "execution_count": 53,
     "metadata": {},
     "output_type": "execute_result"
    }
   ],
   "source": [
    "y = int(3)    # y will be 3\n",
    "y"
   ]
  },
  {
   "cell_type": "code",
   "execution_count": 54,
   "id": "ae9badd9",
   "metadata": {},
   "outputs": [
    {
     "data": {
      "text/plain": [
       "3.0"
      ]
     },
     "execution_count": 54,
     "metadata": {},
     "output_type": "execute_result"
    }
   ],
   "source": [
    "z = float(3)  # z will be 3.0\n",
    "z"
   ]
  },
  {
   "cell_type": "markdown",
   "id": "82ba6e3b",
   "metadata": {},
   "source": [
    "## Single or Double Quotes?\n",
    "\n",
    "String variables can be declared either by using single or double quotes:\n",
    "\n",
    "`x = \"John\" is the same as x = 'John'`  there will be no issue "
   ]
  },
  {
   "cell_type": "code",
   "execution_count": 55,
   "id": "0945e33b",
   "metadata": {},
   "outputs": [
    {
     "data": {
      "text/plain": [
       "'John'"
      ]
     },
     "execution_count": 55,
     "metadata": {},
     "output_type": "execute_result"
    }
   ],
   "source": [
    "x = \"John\"\n",
    "x"
   ]
  },
  {
   "cell_type": "code",
   "execution_count": 56,
   "id": "41ae9980",
   "metadata": {},
   "outputs": [
    {
     "data": {
      "text/plain": [
       "'John'"
      ]
     },
     "execution_count": 56,
     "metadata": {},
     "output_type": "execute_result"
    }
   ],
   "source": [
    "x = 'John'\n",
    "x"
   ]
  },
  {
   "cell_type": "code",
   "execution_count": 57,
   "id": "67d7bb05",
   "metadata": {},
   "outputs": [
    {
     "name": "stdout",
     "output_type": "stream",
     "text": [
      "welcome to Sachin's home\n"
     ]
    }
   ],
   "source": [
    "print(\"welcome to Sachin's home\")"
   ]
  },
  {
   "cell_type": "code",
   "execution_count": 58,
   "id": "2151622d",
   "metadata": {},
   "outputs": [
    {
     "name": "stdout",
     "output_type": "stream",
     "text": [
      "welcome to Sachin\"s home\n"
     ]
    }
   ],
   "source": [
    "print('welcome to Sachin\"s home')"
   ]
  },
  {
   "cell_type": "code",
   "execution_count": 59,
   "id": "7f53ae2e",
   "metadata": {},
   "outputs": [
    {
     "ename": "SyntaxError",
     "evalue": "invalid syntax (<ipython-input-59-0c959b929d80>, line 1)",
     "output_type": "error",
     "traceback": [
      "\u001b[1;36m  File \u001b[1;32m\"<ipython-input-59-0c959b929d80>\"\u001b[1;36m, line \u001b[1;32m1\u001b[0m\n\u001b[1;33m    print(\"welcome to Sachin\"s home\")\u001b[0m\n\u001b[1;37m                             ^\u001b[0m\n\u001b[1;31mSyntaxError\u001b[0m\u001b[1;31m:\u001b[0m invalid syntax\n"
     ]
    }
   ],
   "source": [
    "print(\"welcome to Sachin\"s home\")"
   ]
  },
  {
   "cell_type": "code",
   "execution_count": 60,
   "id": "e0735758",
   "metadata": {},
   "outputs": [
    {
     "ename": "SyntaxError",
     "evalue": "invalid syntax (<ipython-input-60-bdfe3186a528>, line 1)",
     "output_type": "error",
     "traceback": [
      "\u001b[1;36m  File \u001b[1;32m\"<ipython-input-60-bdfe3186a528>\"\u001b[1;36m, line \u001b[1;32m1\u001b[0m\n\u001b[1;33m    print('welcome to Sachin's home')\u001b[0m\n\u001b[1;37m                             ^\u001b[0m\n\u001b[1;31mSyntaxError\u001b[0m\u001b[1;31m:\u001b[0m invalid syntax\n"
     ]
    }
   ],
   "source": [
    "print('welcome to Sachin's home')"
   ]
  },
  {
   "cell_type": "markdown",
   "id": "dd449611",
   "metadata": {},
   "source": [
    "## Quotations in python\n",
    "\n",
    "Python accepts;\n",
    "* single quote (''), \n",
    " \n",
    "* one double quote (\"\") and \n",
    " \n",
    "* triple single quotes(''' ''') and \n",
    "* triple double quotes(\"\"\" \"\"\") to denote string literals.The triple quotes are used to span the string across multiple lines."
   ]
  },
  {
   "cell_type": "code",
   "execution_count": 61,
   "id": "7a9f0074",
   "metadata": {},
   "outputs": [
    {
     "data": {
      "text/plain": [
       "'word'"
      ]
     },
     "execution_count": 61,
     "metadata": {},
     "output_type": "execute_result"
    }
   ],
   "source": [
    "word = 'word'\n",
    "word"
   ]
  },
  {
   "cell_type": "code",
   "execution_count": 62,
   "id": "9c8d952d",
   "metadata": {},
   "outputs": [
    {
     "data": {
      "text/plain": [
       "\"This is a sentence. consist of 'words' \""
      ]
     },
     "execution_count": 62,
     "metadata": {},
     "output_type": "execute_result"
    }
   ],
   "source": [
    "sentence = \"This is a sentence. consist of 'words' \"\n",
    "sentence"
   ]
  },
  {
   "cell_type": "code",
   "execution_count": 63,
   "id": "cdb115bc",
   "metadata": {},
   "outputs": [
    {
     "data": {
      "text/plain": [
       "'This is a paragraph. It is\\nmade up of multiple lines and \"sentences\" and \\'words\\'.'"
      ]
     },
     "execution_count": 63,
     "metadata": {},
     "output_type": "execute_result"
    }
   ],
   "source": [
    "paragraph = \"\"\"This is a paragraph. It is\n",
    "made up of multiple lines and \"sentences\" and 'words'.\"\"\"\n",
    "\n",
    "paragraph"
   ]
  },
  {
   "cell_type": "markdown",
   "id": "498c20fb",
   "metadata": {},
   "source": [
    "in above \\n is the new line character"
   ]
  },
  {
   "cell_type": "code",
   "execution_count": 64,
   "id": "5034c93a",
   "metadata": {},
   "outputs": [
    {
     "name": "stdout",
     "output_type": "stream",
     "text": [
      "This is a paragraph. It is\n",
      "made up of multiple lines and \"sentences\" and 'words'.\n"
     ]
    }
   ],
   "source": [
    "print(paragraph)"
   ]
  },
  {
   "cell_type": "markdown",
   "id": "e56887b9",
   "metadata": {},
   "source": [
    "__when you use The triple quotes make sure its same at Starting and end  (either 3 single quote or 3 double quotes) \n",
    "else it will be an error as below__"
   ]
  },
  {
   "cell_type": "code",
   "execution_count": 65,
   "id": "223d7b6c",
   "metadata": {},
   "outputs": [
    {
     "ename": "SyntaxError",
     "evalue": "EOF while scanning triple-quoted string literal (<ipython-input-65-ec4bc6b14059>, line 2)",
     "output_type": "error",
     "traceback": [
      "\u001b[1;36m  File \u001b[1;32m\"<ipython-input-65-ec4bc6b14059>\"\u001b[1;36m, line \u001b[1;32m2\u001b[0m\n\u001b[1;33m    made up of multiple lines and sentences.\"\"\"\u001b[0m\n\u001b[1;37m                                               \n^\u001b[0m\n\u001b[1;31mSyntaxError\u001b[0m\u001b[1;31m:\u001b[0m EOF while scanning triple-quoted string literal\n"
     ]
    }
   ],
   "source": [
    "paragraph = '''This is a paragraph. It is\n",
    "made up of multiple lines and sentences.\"\"\""
   ]
  },
  {
   "cell_type": "code",
   "execution_count": 66,
   "id": "9e401c4a",
   "metadata": {
    "scrolled": true
   },
   "outputs": [
    {
     "ename": "SyntaxError",
     "evalue": "EOF while scanning triple-quoted string literal (<ipython-input-66-c731cfa3f42d>, line 2)",
     "output_type": "error",
     "traceback": [
      "\u001b[1;36m  File \u001b[1;32m\"<ipython-input-66-c731cfa3f42d>\"\u001b[1;36m, line \u001b[1;32m2\u001b[0m\n\u001b[1;33m    made up of multiple lines and sentences.'''\u001b[0m\n\u001b[1;37m                                               \n^\u001b[0m\n\u001b[1;31mSyntaxError\u001b[0m\u001b[1;31m:\u001b[0m EOF while scanning triple-quoted string literal\n"
     ]
    }
   ],
   "source": [
    "paragraph = \"\"\"This is a paragraph. It is\n",
    "made up of multiple lines and sentences.'''"
   ]
  },
  {
   "cell_type": "markdown",
   "id": "15f7a3a8",
   "metadata": {},
   "source": [
    "### Python Docstrings "
   ]
  },
  {
   "cell_type": "code",
   "execution_count": 67,
   "id": "f1ccfad2",
   "metadata": {},
   "outputs": [
    {
     "data": {
      "text/plain": [
       "'This is a line 1 \\n#@this is line 2 \\n$#this is line 3'"
      ]
     },
     "execution_count": 67,
     "metadata": {},
     "output_type": "execute_result"
    }
   ],
   "source": [
    "# Docstrings with Double Quote \n",
    "\"\"\"This is a line 1 \n",
    "#@this is line 2 \n",
    "$#this is line 3\"\"\""
   ]
  },
  {
   "cell_type": "code",
   "execution_count": 68,
   "id": "d9b20adc",
   "metadata": {},
   "outputs": [
    {
     "data": {
      "text/plain": [
       "'This is a line 1 \\n#@this is line 2 \\n$#this is line 3'"
      ]
     },
     "execution_count": 68,
     "metadata": {},
     "output_type": "execute_result"
    }
   ],
   "source": [
    "# Docstrings with Single Quote \n",
    "'''This is a line 1 \n",
    "#@this is line 2 \n",
    "$#this is line 3'''"
   ]
  },
  {
   "cell_type": "code",
   "execution_count": 69,
   "id": "2b0c7cab",
   "metadata": {
    "scrolled": true
   },
   "outputs": [
    {
     "name": "stdout",
     "output_type": "stream",
     "text": [
      "This is a line 1 \n",
      "#@this is line 2 \n",
      "$#this is line 3\n"
     ]
    }
   ],
   "source": [
    "print(\"\"\"This is a line 1 \n",
    "#@this is line 2 \n",
    "$#this is line 3\"\"\")"
   ]
  },
  {
   "cell_type": "code",
   "execution_count": 70,
   "id": "db5ad072",
   "metadata": {
    "scrolled": true
   },
   "outputs": [
    {
     "name": "stdout",
     "output_type": "stream",
     "text": [
      "This is a line 1 \n",
      "#@this is line 2 \n",
      "$#this is line 3\n"
     ]
    }
   ],
   "source": [
    "print('''This is a line 1 \n",
    "#@this is line 2 \n",
    "$#this is line 3''')"
   ]
  },
  {
   "cell_type": "markdown",
   "id": "f68c450d",
   "metadata": {},
   "source": [
    "__we can use Double Quotes or Single Quotes__"
   ]
  },
  {
   "cell_type": "code",
   "execution_count": 71,
   "id": "d0e36e32",
   "metadata": {},
   "outputs": [
    {
     "name": "stdout",
     "output_type": "stream",
     "text": [
      "welcome to Sachin's home\n"
     ]
    }
   ],
   "source": [
    "print(\"welcome to Sachin's home\") #single Quote within double quote "
   ]
  },
  {
   "cell_type": "code",
   "execution_count": 72,
   "id": "62818354",
   "metadata": {},
   "outputs": [
    {
     "name": "stdout",
     "output_type": "stream",
     "text": [
      "welcome to Sachin\"s home\n"
     ]
    }
   ],
   "source": [
    "print('welcome to Sachin\"s home') #Double Quote within double quote "
   ]
  },
  {
   "cell_type": "markdown",
   "id": "fa4ceb54",
   "metadata": {},
   "source": [
    "## Python - Comments\n",
    "Python has commenting capability for the purpose of in-code documentation.\n",
    "\n",
    "* Comments start with a `#(i.e. hash)`, and Python will render the rest of the line as a comment.\n",
    "* Comments can be used to explain Python code.\n",
    "* Comments can be used to make the code more readable.\n",
    "* Comments can be used to prevent execution when testing code.\n",
    "* Comments starts with a #, and Python will ignore them:"
   ]
  },
  {
   "cell_type": "code",
   "execution_count": 73,
   "id": "e9b4efd5",
   "metadata": {},
   "outputs": [
    {
     "name": "stdout",
     "output_type": "stream",
     "text": [
      "Hello, World!\n"
     ]
    }
   ],
   "source": [
    "# This is a comment.\n",
    "print(\"Hello, World!\")"
   ]
  },
  {
   "cell_type": "markdown",
   "id": "fd400f01",
   "metadata": {},
   "source": [
    "Comments can be placed at the end of a line, and Python will ignore the rest of the line:"
   ]
  },
  {
   "cell_type": "code",
   "execution_count": 74,
   "id": "3f03ecbe",
   "metadata": {
    "scrolled": true
   },
   "outputs": [
    {
     "name": "stdout",
     "output_type": "stream",
     "text": [
      "Hello, World!\n"
     ]
    }
   ],
   "source": [
    "print(\"Hello, World!\") #this it to check comment"
   ]
  },
  {
   "cell_type": "markdown",
   "id": "5dd0ebd9",
   "metadata": {},
   "source": [
    "A comment does not have to be text that explains the code, it can also be used to prevent Python from executing code:"
   ]
  },
  {
   "cell_type": "code",
   "execution_count": 75,
   "id": "3edb4d99",
   "metadata": {},
   "outputs": [
    {
     "name": "stdout",
     "output_type": "stream",
     "text": [
      "Cheers, Mate!\n"
     ]
    }
   ],
   "source": [
    "#print(\"Hello, World!\")\n",
    "print(\"Cheers, Mate!\")"
   ]
  },
  {
   "cell_type": "markdown",
   "id": "ed931371",
   "metadata": {},
   "source": [
    "### Multi Line Comments\n",
    "Python does not really have a syntax for multi line comments.\n",
    "\n",
    "To add a multiline comment you could insert a # for each line:"
   ]
  },
  {
   "cell_type": "code",
   "execution_count": 76,
   "id": "735c2baa",
   "metadata": {},
   "outputs": [
    {
     "name": "stdout",
     "output_type": "stream",
     "text": [
      "Hello, World!\n"
     ]
    }
   ],
   "source": [
    "#This is a comment\n",
    "#written in\n",
    "#more than just one line\n",
    "print(\"Hello, World!\")"
   ]
  },
  {
   "cell_type": "markdown",
   "id": "d966da08",
   "metadata": {},
   "source": [
    "Or, not quite as intended, you can use a multiline string.\n",
    "\n",
    "Since Python will ignore string literals that are not assigned to a variable, you can add a multiline string (triple quotes) in your code, and place your comment inside i.\n",
    "\n",
    "__As long as the string is not assigned to a variable, Python will read the code, but then ignore it, and you have made a multiline comment.__\n"
   ]
  },
  {
   "cell_type": "code",
   "execution_count": 77,
   "id": "c93004c5",
   "metadata": {},
   "outputs": [
    {
     "name": "stdout",
     "output_type": "stream",
     "text": [
      "Hello, World!\n"
     ]
    }
   ],
   "source": [
    "\"\"\"\n",
    "This is a comment\n",
    "written in\n",
    "more than just one line\n",
    "\"\"\"\n",
    "print(\"Hello, World!\")"
   ]
  },
  {
   "cell_type": "markdown",
   "id": "7e9d12e9",
   "metadata": {},
   "source": [
    "## Case-Sensitive\n",
    "Variable names are case-sensitive."
   ]
  },
  {
   "cell_type": "code",
   "execution_count": 78,
   "id": "1ad18c54",
   "metadata": {},
   "outputs": [],
   "source": [
    "# This will create two variables:\n",
    "# A will not overwrite a\n",
    "a = 4\n",
    "A = \"Sally\""
   ]
  },
  {
   "cell_type": "code",
   "execution_count": 79,
   "id": "1114431f",
   "metadata": {},
   "outputs": [
    {
     "data": {
      "text/plain": [
       "4"
      ]
     },
     "execution_count": 79,
     "metadata": {},
     "output_type": "execute_result"
    }
   ],
   "source": [
    "a  # a is different then A"
   ]
  },
  {
   "cell_type": "code",
   "execution_count": 80,
   "id": "85f6c674",
   "metadata": {},
   "outputs": [
    {
     "data": {
      "text/plain": [
       "'Sally'"
      ]
     },
     "execution_count": 80,
     "metadata": {},
     "output_type": "execute_result"
    }
   ],
   "source": [
    "A  # A is different then a"
   ]
  },
  {
   "cell_type": "code",
   "execution_count": 81,
   "id": "efe9f1b6",
   "metadata": {},
   "outputs": [
    {
     "ename": "SyntaxError",
     "evalue": "invalid syntax (<ipython-input-81-bef9f4c2ff65>, line 3)",
     "output_type": "error",
     "traceback": [
      "\u001b[1;36m  File \u001b[1;32m\"<ipython-input-81-bef9f4c2ff65>\"\u001b[1;36m, line \u001b[1;32m3\u001b[0m\n\u001b[1;33m    https://medium.com/analytics-vidhya/the-jupyter-notebook-formatting-guide-873ab39f765e\u001b[0m\n\u001b[1;37m          ^\u001b[0m\n\u001b[1;31mSyntaxError\u001b[0m\u001b[1;31m:\u001b[0m invalid syntax\n"
     ]
    }
   ],
   "source": [
    "#  Jupyter Formatting tips\n",
    "\n",
    "https://medium.com/analytics-vidhya/the-jupyter-notebook-formatting-guide-873ab39f765e\n",
    "\n",
    "\n",
    "https://www.geeksforgeeks.org/jupyter-notebook-tips-and-tricks/?ref=lbp\n",
    "\n",
    "# Leanring target \n",
    "\n",
    "\n",
    "`Python Data Types\n",
    "Python Numbers\n",
    "Python Casting\n",
    "Python If...Else\n",
    "Python While Loops\n",
    "Python For Loops\n",
    "Python Strings\n",
    "Python Lists\n",
    "Python Tuples\n",
    "Python Sets\n",
    "Python Dictionaries\n",
    "Python Arrays\n",
    "Python Booleans\n",
    "complete the methods of Strings,Lists,Tuples,Sets,Dictionaries as per w3schools \n",
    "Complete the build-in method\n",
    "Python Operators\n",
    "Python Functions\n",
    "Python Lambda\n",
    "Python RegEx\n",
    "Python Modules\n",
    "Python Dates\n",
    "Python Math\n",
    "Python JSON\n",
    "Python Classes/Objects\n",
    "Python Inheritance\n",
    "Python Iterators\n",
    "Python Scope\n",
    "Python PIP\n",
    "Python Try...Except\n",
    "Python User Input\n",
    "Python String Formatting`\n",
    "\n",
    "\n",
    "__This text to appear in bold__\n",
    "\n",
    "_This text to appear in Italics_\n",
    "\n",
    "> Line break:\n",
    "You often end up having to use a line break while writing text, there isn’t really a need to start a new paragraph by inserting two lines gap. You can use a simple <br> tag to insert a line break.\n",
    "\n",
    "Line break <br> \n",
    "can  be <br>\n",
    "done in this way <br>\n",
    "\n",
    "> Headings:\n",
    "Headings can be used in 5 different font size, the largest ideally used for titles and the other 4 sizes for headings as and when needed. Headings can be initiated using # followed by space and then the text of the heading. This prints the largest sized heading. You have to keep adding # to make the heading smaller.\n",
    "\n",
    "\n",
    "05. Colors:\n",
    "Highlighting some text in a different colour helps put through message that needs special attention. It’s quite simple to achieve this using \n",
    "\n",
    "<font color=pink>The text to be show in pink</font>.\n",
    "<font color=blue>The text to be show in pink</font>.\n",
    "<font color=red>The text to be show in pink</font>.\n",
    "<font color=green>The text to be show in pink</font>.\n",
    "<font color=yellow>The text to be show in pink</font>.\n",
    "\n",
    "\n",
    "06. Horizontal separator:\n",
    "If you want to insert a horizontal line that acts as a separator spanning across the width of the markdown cell all you have to do is type three asterisks without spaces in a new line ***.\n",
    "\n",
    "This is above the horizontel separator \n",
    "****************************************\n",
    "This is below the horizontel separator \n",
    "\n",
    "\n",
    "07. Numbered list and sub-lists:\n",
    "A numbered list can be generated by typing in a number, followed by a dot and a space\n",
    "> Example: 1. some text\n",
    "Follow the same pattern for the items following in the numbered list. For sub-lists, a tab space followed by the same format above will generate sub lists with a different label schema automatically. The same technique can be followed for more deeper sublists.\n",
    "\n",
    "Numbered list can be start with a number and a space Eg 1. text\n",
    "\n",
    "1. This \n",
    "2. is \n",
    "3. A \n",
    "4. Numbered \n",
    "    1. sub text \n",
    "    2. sub text \n",
    "      1. sub sub text\n",
    "      2. sub sub text \n",
    "5. list \n",
    "\n",
    "\n",
    "08. Text indentation:\n",
    "If you would like to display some code or text in an indented block, all you have to do is to start the line with a > followed by a space and then the text. The text is indented and has a gray horizontal line to the left until the next carriage return is detected.\n",
    "Example:\n",
    "> this is indented text\n",
    "\n",
    "\n",
    "09. Monospace font:\n",
    "Monospace font is some text highlighted in a light gray background. Typically used to indicate file paths, user entered messages, file names etc,.\n",
    "Example: `this is monospace font`\n",
    "\n",
    "10. Mathematical symbols:\n",
    "Mathematical symbols can be shown between two $ symbols.\n",
    "Example:\n",
    "\n",
    "$x = x + y$\n",
    "\n",
    "# Python Introduction\n",
    "\n",
    "\n",
    "__Please read this Notebook with word document;__\n",
    "\n",
    "__<font color=red>D:\\Mytech\\ETLHive\\DS_ML\\Python_ML_Learning\\Python_and_Pycharm\\My_Python_Notes.docx</font>__\n",
    "\n",
    "## What is Python?\n",
    "Python is a popular programming language. It was created by Guido van Rossum, and released in 1991.\n",
    "\n",
    "It is used for:\n",
    "web development (server-side), software development, mathematics, system scripting.\n",
    "\n",
    "## What can Python do?\n",
    "* Python can be used on a server to create web applications.\n",
    "* Python can be used alongside software to create workflows.\n",
    "* Python can connect to database systems. It can also read and modify files.\n",
    "* python can be used to handle big data and perform complex mathematics.\n",
    "* Python can be used for rapid prototyping, or for production-ready software development.\n",
    "## Why Python?\n",
    "*Python works on different platforms (Windows, Mac, Linux, Raspberry Pi, etc).\n",
    "*Python has a simple syntax similar to the English language.\n",
    "*Python has syntax that allows developers to write programs with fewer lines than some other programming languages.\n",
    "*Python runs on an interpreter system, meaning that code can be executed as soon as it is written. This means that prototyping can be very quick.\n",
    "*Python can be treated in a procedural way, an object-oriented way or a functional way.\n",
    "## Good to know\n",
    "The most recent major version of Python is Python 3, which we shall be using in this tutorial. However, Python 2, although not being updated with anything other than security updates, is still quite popular.\n",
    "*In this tutorial Python will be written in a text editor. It is possible to write Python in an Integrated Development Environment, such as Thonny, Pycharm, Netbeans or Eclipse which are particularly useful when managing larger collections of Python files.\n",
    "## Python Syntax compared to other programming languages\n",
    "* Python was designed for readability, and has some similarities to the English language with influence from mathematics.\n",
    "* Python uses new lines to complete a command, as opposed to other programming languages which often use semicolons or parentheses.\n",
    "* Python relies on indentation, using whitespace, to define scope; such as the scope of loops, functions and classes. Other programming languages often use curly-brackets for this purpose.\n",
    "\n",
    "print(\"Hello, World!\")\n",
    "\n",
    "## Python Install\n",
    "Many PCs and Macs will have python already installed.\n",
    "\n",
    "To check if you have python installed on a Windows PC, search in the start bar for Python or run the following on the Command Line (cmd.exe):\n",
    "\n",
    "`C:\\Users\\Your Name>python --version`\n",
    "\n",
    "To check if you have python installed on a Linux or Mac, then on linux open the command line or on Mac open the Terminal and type:\n",
    "\n",
    "`python --version`\n",
    "\n",
    "If you find that you do not have Python installed on your computer, then you can download it for free from the following website: https://www.python.org/\n",
    "\n",
    "## Python Quickstart\n",
    "\n",
    "Python is an interpreted programming language, this means that as a developer you write Python (.py) files in a text editor and then put those files into the python interpreter to be executed.\n",
    "\n",
    "The way to run a python file is like this on the command line:\n",
    "\n",
    "`C:\\Users\\Your Name>python helloworld.py`\n",
    "\n",
    "Where \"helloworld.py\" is the name of your python file.\n",
    "\n",
    "Let's write our first Python file, called helloworld.py, which can be done in any text editor.\n",
    "\n",
    "`HelloWorld.py\n",
    "import sys <br>\n",
    "print(\"Hello World\") <br>\n",
    "print(\"Hello \" + sys.argv[1] + \" from \" + sys.argv[0])`\n",
    "\n",
    "argv[0] means program name itself \n",
    "\n",
    "\n",
    "Simple as that. Save your file. Open your command line, navigate to the directory where you saved your file, and run:\n",
    "\n",
    "![image.png](attachment:image.png)\n",
    "\n",
    "\n",
    "## The Python Command Line\n",
    "\n",
    "To test a short amount of code in python sometimes it is quickest and easiest not to write the code in a file. This is made possible because Python can be run as a command line itself.\n",
    "\n",
    "Type the following on the Windows, Mac or Linux command line:\n",
    "\n",
    "`C:\\Users\\Your Name>python`\n",
    "\n",
    "Or, if the \"python\" command did not work, you can try \"py\":\n",
    "\n",
    "`C:\\Users\\Your Name>py`\n",
    "\n",
    "From there you can write any python, including our hello world example from earlier in the tutorial:\n",
    "\n",
    "![Screenshot%202021-12-21%20111426.png](attachment:Screenshot%202021-12-21%20111426.png)\n",
    "\n",
    "\n",
    "Whenever you are done in the python command line, you can simply type the following to quit the python command line interface:\n",
    "\n",
    "`exit()`\n",
    "\n",
    "## Python Syntax\n",
    "Execute Python Syntax\n",
    "As we learned in the previous page, Python syntax can be executed by writing directly in the Command Line:\n",
    "\n",
    "\n",
    "\n",
    "\n",
    "\n",
    "print(\"Hello, World!\")\n",
    "\n",
    "Or by creating a python file on the server, using the .py file extension, and running it in the Command Line:\n",
    "\n",
    " `C:\\Users\\Your Name>python myfile.py`\n",
    "\n",
    "##  Python Indentation\n",
    "\n",
    "Indentation refers to the spaces at the beginning of a code line.\n",
    "\n",
    "Where in other programming languages the indentation in code is for readability only, the indentation in Python is very important.\n",
    "\n",
    "Python uses indentation to __indicate a block of code.__\n",
    "\n",
    "if 5 > 2:\n",
    "print(\"Five is greater than two!\")\n",
    "\n",
    "Python will give you an error if you skip the indentation:\n",
    " > IndentationError: expected an indented block\n",
    " \n",
    "__The number of spaces is up to you as a programmer, but it has to be at least one.__\n",
    "\n",
    "if 5 > 2:\n",
    " print(\"Five is greater than two!\")\n",
    "if 5 > 2:\n",
    "        print(\"Five is greater than two!\")\n",
    "\n",
    "__You have to use the same number of spaces in the same block of code, otherwise Python will give you an error__\n",
    "\n",
    "\n",
    "\n",
    "if 5 > 2:\n",
    "    print(\"Five is greater than two!\")\n",
    "      print(\"Five is greater than two!\")\n",
    "\n",
    "if 5 > 2:\n",
    "    print(\"Five is greater than two!\")\n",
    "    print(\"Five is greater than two!\")\n",
    "\n",
    "# Python Variables\n",
    "\n",
    "__Variables__ <br>\n",
    "Variables are containers for storing data values.\n",
    "\n",
    "In Python, variables are created when you assign a value to it:\n",
    "\n",
    "`some imp points;`\n",
    "* Remember that variable names are case-sensitive\n",
    "\n",
    "\n",
    "\n",
    "## Python - Variable Names\n",
    "\n",
    "__Variable Names__\n",
    "\n",
    "* A variable can have a short name (like x and y) or a more descriptive name (age, carname, total_volume). \n",
    "\n",
    "`Rules for Python variables:`\n",
    "* A variable name must start with a letter or the underscore character\n",
    "* A variable name cannot start with a number\n",
    "* A variable name can only contain alpha-numeric characters and underscores (A-z, 0-9, and _ )\n",
    "* Variable names are case-sensitive (age, Age and AGE are three different variables)\n",
    "\n",
    "# Legal variable names:\n",
    "myvar = \"John\"\n",
    "my_var = \"John\"\n",
    "_my_var = \"John\"\n",
    "myVar = \"John\"\n",
    "MYVAR = \"John\"\n",
    "myvar2 = \"John\"\n",
    "_My_Var_ = 'John'\n",
    "\n",
    "\n",
    "print(myvar)\n",
    "print(my_var)\n",
    "print(_my_var)\n",
    "print(myVar)\n",
    "print(MYVAR)\n",
    "print(myvar2)\n",
    "print(_My_Var_)\n",
    "\n",
    "# Illegal variable names:\n",
    "2myvar = \"John\"\n",
    "my-var = \"John\"\n",
    "my var = \"John\"\n",
    "\n",
    "To comment multiple lines you can use:\n",
    "\n",
    "ctrl + /\n",
    "\n",
    "# Hi this is \n",
    "# a  block commnet in one go using \n",
    "# using ctrl + /\n",
    "\n",
    "## Multi Words Variable Names\n",
    "\n",
    "Variable names with more than one word can be difficult to read.\n",
    "\n",
    "There are several techniques you can use to make them more readable:\n",
    "\n",
    "### Camel Case\n",
    "Each word, except the first, starts with a capital letter:\n",
    "\n",
    "myVariableName = \"John\"\n",
    "myVariableName\n",
    "\n",
    "### Pascal Case\n",
    "\n",
    "Each word starts with a capital letter:\n",
    "\n",
    "\n",
    "MyVariableName = \"John\"\n",
    "MyVariableName\n",
    "\n",
    "### Snake Case\n",
    "Each word is separated by an underscore character:\n",
    "\n",
    "my_variable_name = \"John\"\n",
    "my_variable_name\n",
    "\n",
    "## Python Variables - Assign Multiple Values\n",
    "\n",
    "### Many Values to Multiple Variables\n",
    "\n",
    "Python allows you to assign values to multiple variables in one line:\n",
    "\n",
    "\n",
    "x, y, z = \"Orange\", \"Banana\", \"Cherry\"\n",
    "print(x)\n",
    "print(y)\n",
    "print(z)\n",
    "\n",
    "x\n",
    "\n",
    "y\n",
    "\n",
    "z\n",
    "\n",
    "__`Note: Make sure the number of variables matches the number of values, or else you will get an error.`__\n",
    "\n",
    "x, y, z = \"Orange\", \"Banana\"\n",
    "\n",
    "### One Value to Multiple Variables\n",
    "And you can assign the same value to multiple variables in one line:\n",
    "\n",
    "x = y = z = \"Orange\"\n",
    "print(x)\n",
    "print(y)\n",
    "print(z)\n",
    "\n",
    "## Unpack a Collection (Unpacking)\n",
    "If you have a collection of values in a list, tuple etc. Python allows you extract the values into variables. This is called `unpacking`\n",
    "\n",
    "fruits = [\"apple\", \"banana\", \"cherry\"]\n",
    "\n",
    "type(fruits)\n",
    "\n",
    "x, y, z = fruits\n",
    "print(x)\n",
    "print(y)\n",
    "print(z)\n",
    "\n",
    "Learn more about unpacking in Unpack Tuples(https://www.w3schools.com/python/python_tuples_unpack.asp) Chapter.\n",
    "\n",
    "## Output Variables\n",
    "\n",
    "The Python print statement is often used to output variables.\n",
    "\n",
    "x = \"awesome\"\n",
    "\n",
    "print(\"Python is\", x)\n",
    "\n",
    "__print with comma will print variables or text followed by Single SPACE(which is default). hence here you see one space between \"Python is\" and  \"awesome\"`__\n",
    "\n",
    "To combine both text and a variable, Python uses the + character:\n",
    "\n",
    "print(\"Python is\" + x)\n",
    "\n",
    "__print with + sign print variables or text as concatination. hence here you see no gaps between \"Python is\" and  \"awesome\"__\n",
    "\n",
    "You can also use the + character to add a variable to another variable:\n",
    "\n",
    "x = \"Python is\"\n",
    "y = \"awesome\"\n",
    "z = x + y\n",
    "print(z)\n",
    "\n",
    "x = \"Python is \"\n",
    "y = \"awesome\"\n",
    "z = x + y\n",
    "print(z)\n",
    "\n",
    "For numbers, the + character works as a mathematical operator:\n",
    "\n",
    "x = 5\n",
    "y = 10\n",
    "x + y\n",
    "\n",
    "x = 5\n",
    "y = 10\n",
    "print(x + y)\n",
    "\n",
    "If you try to combine a string and a number, Python will give you an error:\n",
    "\n",
    "becasue \n",
    "  <font color=red>__NOTE : at Run time just to performe the operations varibables Type can not be changed  because Pythyon is a Strongly typed language__</font>\n",
    "\n",
    "x = 5\n",
    "y = \"John\"\n",
    "x + y\n",
    "\n",
    "## Python - Global Variables\n",
    "\n",
    "__Global Variables__\n",
    "\n",
    "Variables that are created outside of a function (as in all of the examples above) are known as global variables.\n",
    "\n",
    "Global variables can be used by everyone, both inside of functions and outside.\n",
    "\n",
    "# Create a variable outside of a function, and use it inside the function\n",
    "x = \"awesome\"\n",
    "print(\"Python is \" + x)\n",
    "\n",
    "\n",
    "def myfunc():\n",
    "    print(\"Python is \" + x)\n",
    "\n",
    "\n",
    "myfunc()\n",
    "print(\"Python is \" + x)\n",
    "\n",
    "## Python - Local Variables\n",
    "\n",
    "__Local Variables__\n",
    "\n",
    "If you create a variable with the same name _inside a function_, this variable will be local, and can only be used inside the function. \n",
    "\n",
    "The global variable with the same name will remain as it was, global and with the original value.\n",
    "\n",
    "# Create a variable inside a function, with the same name as the global variable\n",
    "x = \"awesome\"\n",
    "print(\"Python is \" + x)\n",
    "\n",
    "\n",
    "def myfunc():\n",
    "    x = \"fantastic\"\n",
    "    print(\"Python is \" + x)\n",
    "\n",
    "\n",
    "myfunc()\n",
    "\n",
    "print(\"Python is \" + x)\n",
    "\n",
    "Even though outside and inside of function variable name is same as x\n",
    "here  `x = \"fantastic\"` is a Local  Variable<br>\n",
    "and   `x = \"awesome\"`   is a Global Variable \n",
    "\n",
    "\n",
    "### The global Keyword\n",
    "Normally, when you create a variable inside a function, that variable is local, and can only be used inside that function.\n",
    "\n",
    "To create a global variable inside a function, you can use the `global keyword`\n",
    "\n",
    "# If you use the global keyword, the variable belongs to the global scope:\n",
    "def myfunc():\n",
    "    global x\n",
    "    x = \"fantastic\"\n",
    "    print(\"Python is \" + x)\n",
    "\n",
    "\n",
    "myfunc()\n",
    "\n",
    "print(\"Python is \" + x)\n",
    "\n",
    "Also, use the `global keyword` if you want to change a global variable inside a function.\n",
    "\n",
    "To change the value of a global variable inside a function, refer to the variable by using the global keyword:\n",
    "\n",
    "x = \"awesome\"\n",
    "print(\"Python is \" + x)\n",
    "\n",
    "\n",
    "def myfunc():\n",
    "    global x\n",
    "    x = \"fantastic\"\n",
    "    print(\"Python is \" + x)\n",
    "\n",
    "\n",
    "myfunc()\n",
    "\n",
    "print(\"Python is \" + x)\n",
    "\n",
    "x = 5\n",
    "y = \"Hello, World!\"\n",
    "\n",
    "x\n",
    "\n",
    "print(x)\n",
    "\n",
    "print(type(x))\n",
    "\n",
    "type(x)\n",
    "\n",
    "y\n",
    "\n",
    "print(y)\n",
    "print(type(y))\n",
    "\n",
    "<font color=red>__Python has no command for declaring a variable.__</font>\n",
    "\n",
    "You will learn more about variables in the Python Variables chapter.\n",
    "\n",
    "## Creating Variables\n",
    "Python has no command for declaring a variable.\n",
    "\n",
    "A variable is created the moment you first assign a value to it.\n",
    "\n",
    "\n",
    "x = 5\n",
    "y = \"John\"\n",
    "print(x)\n",
    "print(y)\n",
    "\n",
    "__Variables do not need to be declared with any particular type__\n",
    "\n",
    "__Variables can even change type after they have been set__ \n",
    "\n",
    "<font color=red>NOTE : at Run time varibables Type can be changed because Pythyon is a Dynamiclly typed language</font>\n",
    "\n",
    "x = 4       # x is of type int\n",
    "x\n",
    "\n",
    "x = \"Sally\" # x is now of type str\n",
    "\n",
    "x\n",
    "\n",
    "## DELETE varibables \n",
    "\n",
    "var1 = 1\n",
    "var1\n",
    "\n",
    "var1\n",
    "\n",
    "del var1\n",
    "\n",
    "var1 # var1 is Deleted \n",
    "\n",
    "## Get the data Type of  variable\n",
    "You can get the data type of a variable with the `type()` function.\n",
    "\n",
    "x = 5\n",
    "y = \"John\"\n",
    "print(type(x))\n",
    "print(type(y))\n",
    "\n",
    "type(x)\n",
    "\n",
    "type(y)\n",
    "\n",
    "You will learn more about data types(https://www.w3schools.com/python/python_datatypes.asp) \n",
    "and casting(https://www.w3schools.com/python/python_casting.asp) later in this tutorial.\n",
    "\n",
    "## Casting\n",
    "\n",
    "If you want to specify the `data type` of a variable, this can be done with casting.\n",
    "\n",
    "x = str(3)    # x will be '3'\n",
    "x\n",
    "\n",
    "y = int(3)    # y will be 3\n",
    "y\n",
    "\n",
    "z = float(3)  # z will be 3.0\n",
    "z\n",
    "\n",
    "## Single or Double Quotes?\n",
    "\n",
    "String variables can be declared either by using single or double quotes:\n",
    "\n",
    "`x = \"John\" is the same as x = 'John'`  there will be no issue \n",
    "\n",
    "x = \"John\"\n",
    "x\n",
    "\n",
    "x = 'John'\n",
    "x\n",
    "\n",
    "print(\"welcome to Sachin's home\")\n",
    "\n",
    "print('welcome to Sachin\"s home')\n",
    "\n",
    "print(\"welcome to Sachin\"s home\")\n",
    "\n",
    "print('welcome to Sachin's home')\n",
    "\n",
    "## Quotations in python\n",
    "\n",
    "Python accepts;\n",
    "* single quote (''), \n",
    " \n",
    "* one double quote (\"\") and \n",
    " \n",
    "* triple single quotes(''' ''') and \n",
    "* triple double quotes(\"\"\" \"\"\") to denote string literals.The triple quotes are used to span the string across multiple lines.\n",
    "\n",
    "word = 'word'\n",
    "word\n",
    "\n",
    "sentence = \"This is a sentence. consist of 'words' \"\n",
    "sentence\n",
    "\n",
    "paragraph = \"\"\"This is a paragraph. It is\n",
    "made up of multiple lines and \"sentences\" and 'words'.\"\"\"\n",
    "\n",
    "paragraph\n",
    "\n",
    "in above \\n is the new line character\n",
    "\n",
    "print(paragraph)\n",
    "\n",
    "__when you use The triple quotes make sure its same at Starting and end  (either 3 single quote or 3 double quotes) \n",
    "else it will be an error as below__\n",
    "\n",
    "paragraph = '''This is a paragraph. It is\n",
    "made up of multiple lines and sentences.\"\"\"\n",
    "\n",
    "paragraph = \"\"\"This is a paragraph. It is\n",
    "made up of multiple lines and sentences.'''\n",
    "\n",
    "### Python Docstrings \n",
    "\n",
    "# Docstrings with Double Quote \n",
    "\"\"\"This is a line 1 \n",
    "#@this is line 2 \n",
    "$#this is line 3\"\"\"\n",
    "\n",
    "# Docstrings with Single Quote \n",
    "'''This is a line 1 \n",
    "#@this is line 2 \n",
    "$#this is line 3'''\n",
    "\n",
    "print(\"\"\"This is a line 1 \n",
    "#@this is line 2 \n",
    "$#this is line 3\"\"\")\n",
    "\n",
    "print('''This is a line 1 \n",
    "#@this is line 2 \n",
    "$#this is line 3''')\n",
    "\n",
    "__we can use Double Quotes or Single Quotes__\n",
    "\n",
    "print(\"welcome to Sachin's home\") #single Quote within double quote \n",
    "\n",
    "print('welcome to Sachin\"s home') #Double Quote within double quote \n",
    "\n",
    "## Python - Comments\n",
    "Python has commenting capability for the purpose of in-code documentation.\n",
    "\n",
    "* Comments start with a `#(i.e. hash)`, and Python will render the rest of the line as a comment.\n",
    "* Comments can be used to explain Python code.\n",
    "* Comments can be used to make the code more readable.\n",
    "* Comments can be used to prevent execution when testing code.\n",
    "* Comments starts with a #, and Python will ignore them:\n",
    "\n",
    "# This is a comment.\n",
    "print(\"Hello, World!\")\n",
    "\n",
    "Comments can be placed at the end of a line, and Python will ignore the rest of the line:\n",
    "\n",
    "print(\"Hello, World!\") #this it to check comment\n",
    "\n",
    "A comment does not have to be text that explains the code, it can also be used to prevent Python from executing code:\n",
    "\n",
    "#print(\"Hello, World!\")\n",
    "print(\"Cheers, Mate!\")\n",
    "\n",
    "### Multi Line Comments\n",
    "Python does not really have a syntax for multi line comments.\n",
    "\n",
    "To add a multiline comment you could insert a # for each line:\n",
    "\n",
    "#This is a comment\n",
    "#written in\n",
    "#more than just one line\n",
    "print(\"Hello, World!\")\n",
    "\n",
    "Or, not quite as intended, you can use a multiline string.\n",
    "\n",
    "Since Python will ignore string literals that are not assigned to a variable, you can add a multiline string (triple quotes) in your code, and place your comment inside i.\n",
    "\n",
    "__As long as the string is not assigned to a variable, Python will read the code, but then ignore it, and you have made a multiline comment.__\n",
    "\n",
    "\n",
    "\"\"\"\n",
    "This is a comment\n",
    "written in\n",
    "more than just one line\n",
    "\"\"\"\n",
    "print(\"Hello, World!\")\n",
    "\n",
    "## Case-Sensitive\n",
    "Variable names are case-sensitive.\n",
    "\n",
    "# This will create two variables:\n",
    "# A will not overwrite a\n",
    "a = 4\n",
    "A = \"Sally\"\n",
    "\n",
    "a  # a is different then A\n",
    "\n",
    "A  # A is different then a"
   ]
  }
 ],
 "metadata": {
  "kernelspec": {
   "display_name": "Python 3",
   "language": "python",
   "name": "python3"
  },
  "language_info": {
   "codemirror_mode": {
    "name": "ipython",
    "version": 3
   },
   "file_extension": ".py",
   "mimetype": "text/x-python",
   "name": "python",
   "nbconvert_exporter": "python",
   "pygments_lexer": "ipython3",
   "version": "3.8.8"
  },
  "toc": {
   "base_numbering": 1,
   "nav_menu": {},
   "number_sections": true,
   "sideBar": true,
   "skip_h1_title": false,
   "title_cell": "Table of Contents",
   "title_sidebar": "Contents",
   "toc_cell": true,
   "toc_position": {
    "height": "calc(100% - 180px)",
    "left": "10px",
    "top": "150px",
    "width": "279.398px"
   },
   "toc_section_display": true,
   "toc_window_display": true
  }
 },
 "nbformat": 4,
 "nbformat_minor": 5
}
