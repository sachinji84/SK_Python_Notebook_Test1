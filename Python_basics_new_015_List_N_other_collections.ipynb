{
 "cells": [
  {
   "cell_type": "markdown",
   "id": "94b20f51",
   "metadata": {
    "toc": true
   },
   "source": [
    "<h1>Table of Contents<span class=\"tocSkip\"></span></h1>\n",
    "<div class=\"toc\"><ul class=\"toc-item\"><li><span><a href=\"#What-is-an-Array?\" data-toc-modified-id=\"What-is-an-Array?-1\"><span class=\"toc-item-num\">1&nbsp;&nbsp;</span>What is an Array?</a></span></li><li><span><a href=\"#Python-List\" data-toc-modified-id=\"Python-List-2\"><span class=\"toc-item-num\">2&nbsp;&nbsp;</span>Python List</a></span><ul class=\"toc-item\"><li><span><a href=\"#Ordered\" data-toc-modified-id=\"Ordered-2.1\"><span class=\"toc-item-num\">2.1&nbsp;&nbsp;</span>Ordered</a></span></li><li><span><a href=\"#Changeable\" data-toc-modified-id=\"Changeable-2.2\"><span class=\"toc-item-num\">2.2&nbsp;&nbsp;</span>Changeable</a></span></li><li><span><a href=\"#Allow-Duplicates\" data-toc-modified-id=\"Allow-Duplicates-2.3\"><span class=\"toc-item-num\">2.3&nbsp;&nbsp;</span>Allow Duplicates</a></span></li><li><span><a href=\"#List-Length\" data-toc-modified-id=\"List-Length-2.4\"><span class=\"toc-item-num\">2.4&nbsp;&nbsp;</span>List Length</a></span></li><li><span><a href=\"#List-Items---Data-Types\" data-toc-modified-id=\"List-Items---Data-Types-2.5\"><span class=\"toc-item-num\">2.5&nbsp;&nbsp;</span>List Items - Data Types</a></span></li><li><span><a href=\"#Empty-list-creation\" data-toc-modified-id=\"Empty-list-creation-2.6\"><span class=\"toc-item-num\">2.6&nbsp;&nbsp;</span>Empty list creation</a></span></li><li><span><a href=\"#Access-Items\" data-toc-modified-id=\"Access-Items-2.7\"><span class=\"toc-item-num\">2.7&nbsp;&nbsp;</span>Access Items</a></span></li><li><span><a href=\"#Negative-Indexing\" data-toc-modified-id=\"Negative-Indexing-2.8\"><span class=\"toc-item-num\">2.8&nbsp;&nbsp;</span>Negative Indexing</a></span></li><li><span><a href=\"#Range-of-Indexes\" data-toc-modified-id=\"Range-of-Indexes-2.9\"><span class=\"toc-item-num\">2.9&nbsp;&nbsp;</span>Range of Indexes</a></span><ul class=\"toc-item\"><li><span><a href=\"#Range-of-Negative-Indexes\" data-toc-modified-id=\"Range-of-Negative-Indexes-2.9.1\"><span class=\"toc-item-num\">2.9.1&nbsp;&nbsp;</span>Range of Negative Indexes</a></span></li></ul></li><li><span><a href=\"#Check-if-Item-Exists\" data-toc-modified-id=\"Check-if-Item-Exists-2.10\"><span class=\"toc-item-num\">2.10&nbsp;&nbsp;</span>Check if Item Exists</a></span></li><li><span><a href=\"#Python---Change-List-Items\" data-toc-modified-id=\"Python---Change-List-Items-2.11\"><span class=\"toc-item-num\">2.11&nbsp;&nbsp;</span>Python - Change List Items</a></span></li><li><span><a href=\"#Python---Join-Lists-(alist+blist)\" data-toc-modified-id=\"Python---Join-Lists-(alist+blist)-2.12\"><span class=\"toc-item-num\">2.12&nbsp;&nbsp;</span>Python - Join Lists (alist+blist)</a></span></li><li><span><a href=\"#Python---Loop-Lists\" data-toc-modified-id=\"Python---Loop-Lists-2.13\"><span class=\"toc-item-num\">2.13&nbsp;&nbsp;</span>Python - Loop Lists</a></span></li><li><span><a href=\"#Python---List-Comprehension\" data-toc-modified-id=\"Python---List-Comprehension-2.14\"><span class=\"toc-item-num\">2.14&nbsp;&nbsp;</span>Python - List Comprehension</a></span><ul class=\"toc-item\"><li><span><a href=\"#Convert-List-to-Tuple\" data-toc-modified-id=\"Convert-List-to-Tuple-2.14.1\"><span class=\"toc-item-num\">2.14.1&nbsp;&nbsp;</span>Convert List to Tuple</a></span></li></ul></li><li><span><a href=\"#Python-List-methods-and-other-concepts\" data-toc-modified-id=\"Python-List-methods-and-other-concepts-2.15\"><span class=\"toc-item-num\">2.15&nbsp;&nbsp;</span>Python List methods and other concepts</a></span><ul class=\"toc-item\"><li><span><a href=\"#List-insert()-Method\" data-toc-modified-id=\"List-insert()-Method-2.15.1\"><span class=\"toc-item-num\">2.15.1&nbsp;&nbsp;</span>List insert() Method</a></span></li><li><span><a href=\"#List-append()-Method\" data-toc-modified-id=\"List-append()-Method-2.15.2\"><span class=\"toc-item-num\">2.15.2&nbsp;&nbsp;</span>List append() Method</a></span></li><li><span><a href=\"#List-extend()-Method\" data-toc-modified-id=\"List-extend()-Method-2.15.3\"><span class=\"toc-item-num\">2.15.3&nbsp;&nbsp;</span>List extend() Method</a></span></li><li><span><a href=\"#List-remove()-Method--(Remove-Specified-Item)\" data-toc-modified-id=\"List-remove()-Method--(Remove-Specified-Item)-2.15.4\"><span class=\"toc-item-num\">2.15.4&nbsp;&nbsp;</span>List remove() Method  (Remove Specified Item)</a></span></li><li><span><a href=\"#List-pop()-Method--(Remove-Specified-Index)\" data-toc-modified-id=\"List-pop()-Method--(Remove-Specified-Index)-2.15.5\"><span class=\"toc-item-num\">2.15.5&nbsp;&nbsp;</span>List pop() Method  (Remove Specified Index)</a></span></li><li><span><a href=\"#List-clear()-Method--(Clear-the-List)\" data-toc-modified-id=\"List-clear()-Method--(Clear-the-List)-2.15.6\"><span class=\"toc-item-num\">2.15.6&nbsp;&nbsp;</span>List clear() Method  (Clear the List)</a></span></li><li><span><a href=\"#List-copy()-Method\" data-toc-modified-id=\"List-copy()-Method-2.15.7\"><span class=\"toc-item-num\">2.15.7&nbsp;&nbsp;</span>List copy() Method</a></span></li><li><span><a href=\"#List-list()-method-(remember-to-use-only-single-round-brackets().-its-different-then-list-construtor)\" data-toc-modified-id=\"List-list()-method-(remember-to-use-only-single-round-brackets().-its-different-then-list-construtor)-2.15.8\"><span class=\"toc-item-num\">2.15.8&nbsp;&nbsp;</span>List list() method (remember to use only single round-brackets(). its different then list construtor)</a></span></li><li><span><a href=\"#The-list()-Constructor\" data-toc-modified-id=\"The-list()-Constructor-2.15.9\"><span class=\"toc-item-num\">2.15.9&nbsp;&nbsp;</span>The list() Constructor</a></span></li><li><span><a href=\"#List-sort()-Method\" data-toc-modified-id=\"List-sort()-Method-2.15.10\"><span class=\"toc-item-num\">2.15.10&nbsp;&nbsp;</span>List sort() Method</a></span></li><li><span><a href=\"#None-object\" data-toc-modified-id=\"None-object-2.15.11\"><span class=\"toc-item-num\">2.15.11&nbsp;&nbsp;</span>None object</a></span></li><li><span><a href=\"#List-reverse()-Method\" data-toc-modified-id=\"List-reverse()-Method-2.15.12\"><span class=\"toc-item-num\">2.15.12&nbsp;&nbsp;</span>List reverse() Method</a></span></li><li><span><a href=\"#List-count()-Method\" data-toc-modified-id=\"List-count()-Method-2.15.13\"><span class=\"toc-item-num\">2.15.13&nbsp;&nbsp;</span>List count() Method</a></span></li><li><span><a href=\"#List-index()-Method\" data-toc-modified-id=\"List-index()-Method-2.15.14\"><span class=\"toc-item-num\">2.15.14&nbsp;&nbsp;</span>List index() Method</a></span></li></ul></li></ul></li><li><span><a href=\"#Python-Tuple\" data-toc-modified-id=\"Python-Tuple-3\"><span class=\"toc-item-num\">3&nbsp;&nbsp;</span>Python Tuple</a></span><ul class=\"toc-item\"><li><span><a href=\"#Tuple-Items\" data-toc-modified-id=\"Tuple-Items-3.1\"><span class=\"toc-item-num\">3.1&nbsp;&nbsp;</span>Tuple Items</a></span></li><li><span><a href=\"#Ordered\" data-toc-modified-id=\"Ordered-3.2\"><span class=\"toc-item-num\">3.2&nbsp;&nbsp;</span>Ordered</a></span></li><li><span><a href=\"#Unchangeable\" data-toc-modified-id=\"Unchangeable-3.3\"><span class=\"toc-item-num\">3.3&nbsp;&nbsp;</span>Unchangeable</a></span></li><li><span><a href=\"#Allow-Duplicates\" data-toc-modified-id=\"Allow-Duplicates-3.4\"><span class=\"toc-item-num\">3.4&nbsp;&nbsp;</span>Allow Duplicates</a></span></li><li><span><a href=\"#Tuple-Length\" data-toc-modified-id=\"Tuple-Length-3.5\"><span class=\"toc-item-num\">3.5&nbsp;&nbsp;</span>Tuple Length</a></span></li><li><span><a href=\"#Create-Tuple-With-One-Item\" data-toc-modified-id=\"Create-Tuple-With-One-Item-3.6\"><span class=\"toc-item-num\">3.6&nbsp;&nbsp;</span>Create Tuple With One Item</a></span></li><li><span><a href=\"#Tuple-Items---Data-Types\" data-toc-modified-id=\"Tuple-Items---Data-Types-3.7\"><span class=\"toc-item-num\">3.7&nbsp;&nbsp;</span>Tuple Items - Data Types</a></span></li><li><span><a href=\"#The-tuple()-Constructor\" data-toc-modified-id=\"The-tuple()-Constructor-3.8\"><span class=\"toc-item-num\">3.8&nbsp;&nbsp;</span>The tuple() Constructor</a></span></li><li><span><a href=\"#Empty-Tuple--creation\" data-toc-modified-id=\"Empty-Tuple--creation-3.9\"><span class=\"toc-item-num\">3.9&nbsp;&nbsp;</span>Empty Tuple  creation</a></span></li><li><span><a href=\"#Access-Tuple-Items\" data-toc-modified-id=\"Access-Tuple-Items-3.10\"><span class=\"toc-item-num\">3.10&nbsp;&nbsp;</span>Access Tuple Items</a></span><ul class=\"toc-item\"><li><span><a href=\"#Range-of-Indexes\" data-toc-modified-id=\"Range-of-Indexes-3.10.1\"><span class=\"toc-item-num\">3.10.1&nbsp;&nbsp;</span>Range of Indexes</a></span></li><li><span><a href=\"#Range-of-Negative-Indexes\" data-toc-modified-id=\"Range-of-Negative-Indexes-3.10.2\"><span class=\"toc-item-num\">3.10.2&nbsp;&nbsp;</span>Range of Negative Indexes</a></span></li></ul></li><li><span><a href=\"#Check-if-Item-Exists\" data-toc-modified-id=\"Check-if-Item-Exists-3.11\"><span class=\"toc-item-num\">3.11&nbsp;&nbsp;</span>Check if Item Exists</a></span></li><li><span><a href=\"#Update-Tuples\" data-toc-modified-id=\"Update-Tuples-3.12\"><span class=\"toc-item-num\">3.12&nbsp;&nbsp;</span>Update Tuples</a></span><ul class=\"toc-item\"><li><span><a href=\"#Update-Items\" data-toc-modified-id=\"Update-Items-3.12.1\"><span class=\"toc-item-num\">3.12.1&nbsp;&nbsp;</span>Update Items</a></span></li></ul></li><li><span><a href=\"#convert-a-Tuple-to-list\" data-toc-modified-id=\"convert-a-Tuple-to-list-3.13\"><span class=\"toc-item-num\">3.13&nbsp;&nbsp;</span>convert a Tuple to list</a></span><ul class=\"toc-item\"><li><span><a href=\"#Add-Items\" data-toc-modified-id=\"Add-Items-3.13.1\"><span class=\"toc-item-num\">3.13.1&nbsp;&nbsp;</span>Add Items</a></span></li><li><span><a href=\"#Remove-Items\" data-toc-modified-id=\"Remove-Items-3.13.2\"><span class=\"toc-item-num\">3.13.2&nbsp;&nbsp;</span>Remove Items</a></span></li></ul></li><li><span><a href=\"#Unpack-Tuples\" data-toc-modified-id=\"Unpack-Tuples-3.14\"><span class=\"toc-item-num\">3.14&nbsp;&nbsp;</span>Unpack Tuples</a></span></li><li><span><a href=\"#Join-Tuples\" data-toc-modified-id=\"Join-Tuples-3.15\"><span class=\"toc-item-num\">3.15&nbsp;&nbsp;</span>Join Tuples</a></span></li><li><span><a href=\"#Multiply-Tuples\" data-toc-modified-id=\"Multiply-Tuples-3.16\"><span class=\"toc-item-num\">3.16&nbsp;&nbsp;</span>Multiply Tuples</a></span></li><li><span><a href=\"#Loop-Tuples\" data-toc-modified-id=\"Loop-Tuples-3.17\"><span class=\"toc-item-num\">3.17&nbsp;&nbsp;</span>Loop Tuples</a></span></li><li><span><a href=\"#Python-Tuple-methods-and-other-concepts\" data-toc-modified-id=\"Python-Tuple-methods-and-other-concepts-3.18\"><span class=\"toc-item-num\">3.18&nbsp;&nbsp;</span>Python Tuple methods and other concepts</a></span><ul class=\"toc-item\"><li><span><a href=\"#Tuple-count()-method\" data-toc-modified-id=\"Tuple-count()-method-3.18.1\"><span class=\"toc-item-num\">3.18.1&nbsp;&nbsp;</span>Tuple count() method</a></span></li><li><span><a href=\"#Tuple-index()-method\" data-toc-modified-id=\"Tuple-index()-method-3.18.2\"><span class=\"toc-item-num\">3.18.2&nbsp;&nbsp;</span>Tuple index() method</a></span></li></ul></li></ul></li><li><span><a href=\"#Python-Dictionaries\" data-toc-modified-id=\"Python-Dictionaries-4\"><span class=\"toc-item-num\">4&nbsp;&nbsp;</span>Python Dictionaries</a></span><ul class=\"toc-item\"><li><span><a href=\"#Dict-Length\" data-toc-modified-id=\"Dict-Length-4.1\"><span class=\"toc-item-num\">4.1&nbsp;&nbsp;</span>Dict Length</a></span></li><li><span><a href=\"#Ordered-or-Unordered?\" data-toc-modified-id=\"Ordered-or-Unordered?-4.2\"><span class=\"toc-item-num\">4.2&nbsp;&nbsp;</span>Ordered or Unordered?</a></span></li><li><span><a href=\"#Dictionaries-are-Mutable\" data-toc-modified-id=\"Dictionaries-are-Mutable-4.3\"><span class=\"toc-item-num\">4.3&nbsp;&nbsp;</span>Dictionaries are Mutable</a></span></li><li><span><a href=\"#Changeable\" data-toc-modified-id=\"Changeable-4.4\"><span class=\"toc-item-num\">4.4&nbsp;&nbsp;</span>Changeable</a></span></li><li><span><a href=\"#Duplicates-Not-Allowed\" data-toc-modified-id=\"Duplicates-Not-Allowed-4.5\"><span class=\"toc-item-num\">4.5&nbsp;&nbsp;</span>Duplicates Not Allowed</a></span></li><li><span><a href=\"#Dictionary-Items---Data-Types\" data-toc-modified-id=\"Dictionary-Items---Data-Types-4.6\"><span class=\"toc-item-num\">4.6&nbsp;&nbsp;</span>Dictionary Items - Data Types</a></span></li><li><span><a href=\"#Access-Dictionary-Items\" data-toc-modified-id=\"Access-Dictionary-Items-4.7\"><span class=\"toc-item-num\">4.7&nbsp;&nbsp;</span>Access Dictionary Items</a></span></li><li><span><a href=\"#Check-if-Key-Exists\" data-toc-modified-id=\"Check-if-Key-Exists-4.8\"><span class=\"toc-item-num\">4.8&nbsp;&nbsp;</span>Check if Key Exists</a></span></li><li><span><a href=\"#Change/update--Dictionary-Items\" data-toc-modified-id=\"Change/update--Dictionary-Items-4.9\"><span class=\"toc-item-num\">4.9&nbsp;&nbsp;</span>Change/update  Dictionary Items</a></span></li><li><span><a href=\"#Add-Dictionary-Items\" data-toc-modified-id=\"Add-Dictionary-Items-4.10\"><span class=\"toc-item-num\">4.10&nbsp;&nbsp;</span>Add Dictionary Items</a></span></li><li><span><a href=\"#Copy-Dictionaries\" data-toc-modified-id=\"Copy-Dictionaries-4.11\"><span class=\"toc-item-num\">4.11&nbsp;&nbsp;</span>Copy Dictionaries</a></span></li><li><span><a href=\"#Remove-Dictionary-Items\" data-toc-modified-id=\"Remove-Dictionary-Items-4.12\"><span class=\"toc-item-num\">4.12&nbsp;&nbsp;</span>Remove Dictionary Items</a></span></li><li><span><a href=\"#Loop-Dictionaries\" data-toc-modified-id=\"Loop-Dictionaries-4.13\"><span class=\"toc-item-num\">4.13&nbsp;&nbsp;</span>Loop Dictionaries</a></span></li><li><span><a href=\"#Nested-Dictionaries\" data-toc-modified-id=\"Nested-Dictionaries-4.14\"><span class=\"toc-item-num\">4.14&nbsp;&nbsp;</span>Nested Dictionaries</a></span></li><li><span><a href=\"#Python-Dictionary-methods-and-other-concepts\" data-toc-modified-id=\"Python-Dictionary-methods-and-other-concepts-4.15\"><span class=\"toc-item-num\">4.15&nbsp;&nbsp;</span>Python Dictionary methods and other concepts</a></span><ul class=\"toc-item\"><li><span><a href=\"#Dictionary-get()-Method\" data-toc-modified-id=\"Dictionary-get()-Method-4.15.1\"><span class=\"toc-item-num\">4.15.1&nbsp;&nbsp;</span>Dictionary get() Method</a></span></li><li><span><a href=\"#Dictionary-keys()-Method\" data-toc-modified-id=\"Dictionary-keys()-Method-4.15.2\"><span class=\"toc-item-num\">4.15.2&nbsp;&nbsp;</span>Dictionary keys() Method</a></span></li><li><span><a href=\"#Dictionary-values()-Method\" data-toc-modified-id=\"Dictionary-values()-Method-4.15.3\"><span class=\"toc-item-num\">4.15.3&nbsp;&nbsp;</span>Dictionary values() Method</a></span></li><li><span><a href=\"#Dictionary-items()-Method\" data-toc-modified-id=\"Dictionary-items()-Method-4.15.4\"><span class=\"toc-item-num\">4.15.4&nbsp;&nbsp;</span>Dictionary items() Method</a></span></li><li><span><a href=\"#Dictionary-update()-Method\" data-toc-modified-id=\"Dictionary-update()-Method-4.15.5\"><span class=\"toc-item-num\">4.15.5&nbsp;&nbsp;</span>Dictionary update() Method</a></span></li><li><span><a href=\"#Dictionary-pop()-Method\" data-toc-modified-id=\"Dictionary-pop()-Method-4.15.6\"><span class=\"toc-item-num\">4.15.6&nbsp;&nbsp;</span>Dictionary pop() Method</a></span></li><li><span><a href=\"#Dictionary-popitem()-Method\" data-toc-modified-id=\"Dictionary-popitem()-Method-4.15.7\"><span class=\"toc-item-num\">4.15.7&nbsp;&nbsp;</span>Dictionary popitem() Method</a></span></li><li><span><a href=\"#Dictionary-clear()-Method\" data-toc-modified-id=\"Dictionary-clear()-Method-4.15.8\"><span class=\"toc-item-num\">4.15.8&nbsp;&nbsp;</span>Dictionary clear() Method</a></span></li><li><span><a href=\"#Dictionary-copy()-Method\" data-toc-modified-id=\"Dictionary-copy()-Method-4.15.9\"><span class=\"toc-item-num\">4.15.9&nbsp;&nbsp;</span>Dictionary copy() Method</a></span></li><li><span><a href=\"#dict()-method-(remember-to-use-only-single-round-brackets().-its-different-then-dict-construtor)\" data-toc-modified-id=\"dict()-method-(remember-to-use-only-single-round-brackets().-its-different-then-dict-construtor)-4.15.10\"><span class=\"toc-item-num\">4.15.10&nbsp;&nbsp;</span>dict() method (remember to use only single round-brackets(). its different then dict construtor)</a></span></li><li><span><a href=\"#The-dict()-constructor\" data-toc-modified-id=\"The-dict()-constructor-4.15.11\"><span class=\"toc-item-num\">4.15.11&nbsp;&nbsp;</span>The dict() constructor</a></span></li><li><span><a href=\"#Create-Empty-Dict\" data-toc-modified-id=\"Create-Empty-Dict-4.15.12\"><span class=\"toc-item-num\">4.15.12&nbsp;&nbsp;</span>Create Empty Dict</a></span></li><li><span><a href=\"#Dictionary-setdefault()-Method\" data-toc-modified-id=\"Dictionary-setdefault()-Method-4.15.13\"><span class=\"toc-item-num\">4.15.13&nbsp;&nbsp;</span>Dictionary setdefault() Method</a></span></li><li><span><a href=\"#Dictionary-fromkeys()-Method\" data-toc-modified-id=\"Dictionary-fromkeys()-Method-4.15.14\"><span class=\"toc-item-num\">4.15.14&nbsp;&nbsp;</span>Dictionary fromkeys() Method</a></span></li></ul></li></ul></li><li><span><a href=\"#Python-Set\" data-toc-modified-id=\"Python-Set-5\"><span class=\"toc-item-num\">5&nbsp;&nbsp;</span>Python Set</a></span><ul class=\"toc-item\"><li><span><a href=\"#Set-Items\" data-toc-modified-id=\"Set-Items-5.1\"><span class=\"toc-item-num\">5.1&nbsp;&nbsp;</span>Set Items</a></span></li><li><span><a href=\"#Unordered\" data-toc-modified-id=\"Unordered-5.2\"><span class=\"toc-item-num\">5.2&nbsp;&nbsp;</span>Unordered</a></span></li><li><span><a href=\"#Unchangeable\" data-toc-modified-id=\"Unchangeable-5.3\"><span class=\"toc-item-num\">5.3&nbsp;&nbsp;</span>Unchangeable</a></span></li><li><span><a href=\"#Duplicates-Not-Allowed\" data-toc-modified-id=\"Duplicates-Not-Allowed-5.4\"><span class=\"toc-item-num\">5.4&nbsp;&nbsp;</span>Duplicates Not Allowed</a></span></li><li><span><a href=\"#Get-the-Length-of-a-Set\" data-toc-modified-id=\"Get-the-Length-of-a-Set-5.5\"><span class=\"toc-item-num\">5.5&nbsp;&nbsp;</span>Get the Length of a Set</a></span></li><li><span><a href=\"#Set-Items---Data-Types\" data-toc-modified-id=\"Set-Items---Data-Types-5.6\"><span class=\"toc-item-num\">5.6&nbsp;&nbsp;</span>Set Items - Data Types</a></span></li><li><span><a href=\"#Convert-set-to-list\" data-toc-modified-id=\"Convert-set-to-list-5.7\"><span class=\"toc-item-num\">5.7&nbsp;&nbsp;</span>Convert set to list</a></span></li><li><span><a href=\"#The-set()-Constructor\" data-toc-modified-id=\"The-set()-Constructor-5.8\"><span class=\"toc-item-num\">5.8&nbsp;&nbsp;</span>The set() Constructor</a></span></li><li><span><a href=\"#Access-Items\" data-toc-modified-id=\"Access-Items-5.9\"><span class=\"toc-item-num\">5.9&nbsp;&nbsp;</span>Access Items</a></span></li><li><span><a href=\"#Change-Items\" data-toc-modified-id=\"Change-Items-5.10\"><span class=\"toc-item-num\">5.10&nbsp;&nbsp;</span>Change Items</a></span></li><li><span><a href=\"#Add-Items\" data-toc-modified-id=\"Add-Items-5.11\"><span class=\"toc-item-num\">5.11&nbsp;&nbsp;</span>Add Items</a></span></li><li><span><a href=\"#Add-Sets\" data-toc-modified-id=\"Add-Sets-5.12\"><span class=\"toc-item-num\">5.12&nbsp;&nbsp;</span>Add Sets</a></span></li><li><span><a href=\"#Add-Any-Iterable\" data-toc-modified-id=\"Add-Any-Iterable-5.13\"><span class=\"toc-item-num\">5.13&nbsp;&nbsp;</span>Add Any Iterable</a></span></li><li><span><a href=\"#Remove-Set-Items\" data-toc-modified-id=\"Remove-Set-Items-5.14\"><span class=\"toc-item-num\">5.14&nbsp;&nbsp;</span>Remove Set Items</a></span></li><li><span><a href=\"#Join-Sets\" data-toc-modified-id=\"Join-Sets-5.15\"><span class=\"toc-item-num\">5.15&nbsp;&nbsp;</span>Join Sets</a></span><ul class=\"toc-item\"><li><span><a href=\"#Keep-ONLY-the-Duplicates\" data-toc-modified-id=\"Keep-ONLY-the-Duplicates-5.15.1\"><span class=\"toc-item-num\">5.15.1&nbsp;&nbsp;</span>Keep ONLY the Duplicates</a></span></li><li><span><a href=\"#Keep-All,-But-NOT-the-Duplicates\" data-toc-modified-id=\"Keep-All,-But-NOT-the-Duplicates-5.15.2\"><span class=\"toc-item-num\">5.15.2&nbsp;&nbsp;</span>Keep All, But NOT the Duplicates</a></span></li></ul></li><li><span><a href=\"#Python-Set-methods-and-other-concepts\" data-toc-modified-id=\"Python-Set-methods-and-other-concepts-5.16\"><span class=\"toc-item-num\">5.16&nbsp;&nbsp;</span>Python Set methods and other concepts</a></span><ul class=\"toc-item\"><li><span><a href=\"#Set-add()-Method\" data-toc-modified-id=\"Set-add()-Method-5.16.1\"><span class=\"toc-item-num\">5.16.1&nbsp;&nbsp;</span>Set add() Method</a></span></li><li><span><a href=\"#Set-update()-Method\" data-toc-modified-id=\"Set-update()-Method-5.16.2\"><span class=\"toc-item-num\">5.16.2&nbsp;&nbsp;</span>Set update() Method</a></span></li><li><span><a href=\"#Set-remove()-Method\" data-toc-modified-id=\"Set-remove()-Method-5.16.3\"><span class=\"toc-item-num\">5.16.3&nbsp;&nbsp;</span>Set remove() Method</a></span></li><li><span><a href=\"#Set-discard()-Method\" data-toc-modified-id=\"Set-discard()-Method-5.16.4\"><span class=\"toc-item-num\">5.16.4&nbsp;&nbsp;</span>Set discard() Method</a></span></li><li><span><a href=\"#Set-pop()-Method\" data-toc-modified-id=\"Set-pop()-Method-5.16.5\"><span class=\"toc-item-num\">5.16.5&nbsp;&nbsp;</span>Set pop() Method</a></span></li><li><span><a href=\"#Set-clear()-Method\" data-toc-modified-id=\"Set-clear()-Method-5.16.6\"><span class=\"toc-item-num\">5.16.6&nbsp;&nbsp;</span>Set clear() Method</a></span></li><li><span><a href=\"#Set-copy()-Method\" data-toc-modified-id=\"Set-copy()-Method-5.16.7\"><span class=\"toc-item-num\">5.16.7&nbsp;&nbsp;</span>Set copy() Method</a></span></li></ul></li></ul></li><li><span><a href=\"#Python-Arrays\" data-toc-modified-id=\"Python-Arrays-6\"><span class=\"toc-item-num\">6&nbsp;&nbsp;</span>Python Arrays</a></span></li><li><span><a href=\"#Python-Booleans\" data-toc-modified-id=\"Python-Booleans-7\"><span class=\"toc-item-num\">7&nbsp;&nbsp;</span>Python Booleans</a></span></li><li><span><a href=\"#List-in-short\" data-toc-modified-id=\"List-in-short-8\"><span class=\"toc-item-num\">8&nbsp;&nbsp;</span>List in short</a></span></li></ul></div>"
   ]
  },
  {
   "cell_type": "markdown",
   "id": "8f66aa6e",
   "metadata": {},
   "source": [
    "# What is an Array?\n",
    "\n",
    "An array is a special variable, which can hold more than one value at a time.\n",
    "\n",
    "If you have a list of items (a list of car names, for example), storing the cars in single variables could look like this:\n",
    "\n",
    "* car1 = \"Ford\"\n",
    "* car2 = \"Volvo\"\n",
    "* car3 = \"BMW\"\n",
    "However, what if you want to loop through the cars and find a specific one? And what if you had not 3 cars, but 300?\n",
    "\n",
    "The solution is an array!\n",
    "\n",
    "An array can hold many values under a single name, and you can access the values by referring to an index number.\n",
    "\n",
    "Python does not have built-in support for Arrays, but Python Lists can be used instead.\n",
    "\n"
   ]
  },
  {
   "attachments": {
    "image-4.png": {
     "image/png": "[encoded data removed]"
    }
   },
   "cell_type": "markdown",
   "id": "41294f2e",
   "metadata": {},
   "source": [
    "#   Python List\n",
    "\n",
    "__Python Collections (Arrays)__ \n",
    "\n",
    "__NOTE__\n",
    "* Python does not have built-in support for Arrays, but Python Lists can be used instead.\n",
    "* This page shows you how to use LISTS as ARRAYS, however, to work with arrays in Python you will have to import a library, like the NumPy library\n",
    "* Set items are unchangeable, but you can remove and/or add items whenever you like\n",
    "* As of Python version 3.7, dictionaries are ordered. In Python 3.6 and earlier, dictionaries are unordered\n",
    "\n",
    "There are four collection data types in the Python programming language:\n",
    "\n",
    "* List\t\tis a collection which is ordered,indexed and changeable (mutable).    \t Y duplicates members.\n",
    "* Tuple\t\tis a collection which is ordered,indexed and unchangeable. (immutable) Y duplicate members.\n",
    "* Dictionary is a collection which is ordered,indexed and changeable (mutable).       N duplicate members.\n",
    "* Set\t\t is a collection which is unordered and unindexed.  (mutable).                 N duplicate members.\n",
    "\n",
    "\n",
    "![image-4.png](attachment:image-4.png)\n",
    "\n",
    "\n",
    "\n",
    "When choosing a collection type, it is useful to understand the properties of that type. Choosing the right type for a particular data set could mean retention of meaning, and, it could mean an increase in efficiency or security.\n",
    "\n",
    "\n",
    "\n",
    "https://www.geeksforgeeks.org/python-list/\n",
    "\n",
    "https://www.geeksforgeeks.org/python-list/?ref=lbp -- list and its methods \n",
    "\n",
    "\n",
    "\n",
    "A list is a collection which is ordered and changeable. In Python lists are written with square brackets.\n",
    "\n",
    "* Ordered -> The order of elements in List would be Fix. If “apple” is first element in list, then whatever times to print the list “apple” will be first \n",
    "* Indexed --> List elements can be accessed by index value like 0,1 etc.\n",
    "* Changeable  --> add, update and delete of elements are possible.\n",
    "* Full collection deletes --> entire List can be deleted.\n",
    "* Duplicate allowed --> Elements/values  can be repeated .\n",
    "\n",
    "\n",
    "\n",
    "Lists are used to store multiple items in a single variable.\n",
    "\n",
    "Lists are one of 4 built-in data types in Python used to store collections of data, the other 3 are Tuple, Set, and Dictionary, all with different qualities and usage.\n",
    "\n",
    "Lists are created using square brackets\n"
   ]
  },
  {
   "cell_type": "code",
   "execution_count": 1,
   "id": "4af690d9",
   "metadata": {},
   "outputs": [
    {
     "name": "stdout",
     "output_type": "stream",
     "text": [
      "['apple', 'banana', 'cherry']\n"
     ]
    }
   ],
   "source": [
    "thislist = [\"apple\", \"banana\", \"cherry\"]\n",
    "print(thislist)"
   ]
  },
  {
   "cell_type": "markdown",
   "id": "9067dd28",
   "metadata": {},
   "source": [
    "From Python's perspective, lists are defined as objects with the data type 'list':"
   ]
  },
  {
   "cell_type": "code",
   "execution_count": 2,
   "id": "7232c3a0",
   "metadata": {},
   "outputs": [
    {
     "name": "stdout",
     "output_type": "stream",
     "text": [
      "['apple', 'banana', 'cherry']\n",
      "<class 'list'>\n"
     ]
    }
   ],
   "source": [
    "thislist = [\"apple\", \"banana\", \"cherry\"]\n",
    "print(thislist)\n",
    "print(type(thislist))"
   ]
  },
  {
   "cell_type": "markdown",
   "id": "e6537e98",
   "metadata": {},
   "source": [
    "_List Items_\n",
    "\n",
    "List items are ordered, changeable, and allow duplicate values.\n",
    "\n",
    "List items are indexed, the first item has index [0], the second item has index [1] etc."
   ]
  },
  {
   "cell_type": "code",
   "execution_count": 3,
   "id": "c226defa",
   "metadata": {},
   "outputs": [
    {
     "data": {
      "text/plain": [
       "'apple'"
      ]
     },
     "execution_count": 3,
     "metadata": {},
     "output_type": "execute_result"
    }
   ],
   "source": [
    "thislist[0]"
   ]
  },
  {
   "cell_type": "code",
   "execution_count": 4,
   "id": "730123a2",
   "metadata": {},
   "outputs": [
    {
     "data": {
      "text/plain": [
       "str"
      ]
     },
     "execution_count": 4,
     "metadata": {},
     "output_type": "execute_result"
    }
   ],
   "source": [
    "type(thislist[0])"
   ]
  },
  {
   "cell_type": "code",
   "execution_count": 5,
   "id": "a0819f03",
   "metadata": {},
   "outputs": [
    {
     "data": {
      "text/plain": [
       "'banana'"
      ]
     },
     "execution_count": 5,
     "metadata": {},
     "output_type": "execute_result"
    }
   ],
   "source": [
    "thislist[1]"
   ]
  },
  {
   "cell_type": "code",
   "execution_count": 6,
   "id": "1e6f5a13",
   "metadata": {},
   "outputs": [
    {
     "data": {
      "text/plain": [
       "'cherry'"
      ]
     },
     "execution_count": 6,
     "metadata": {},
     "output_type": "execute_result"
    }
   ],
   "source": [
    "thislist[2]"
   ]
  },
  {
   "cell_type": "code",
   "execution_count": 7,
   "id": "cc54be56",
   "metadata": {},
   "outputs": [
    {
     "ename": "IndexError",
     "evalue": "list index out of range",
     "output_type": "error",
     "traceback": [
      "\u001b[1;31m---------------------------------------------------------------------------\u001b[0m",
      "\u001b[1;31mIndexError\u001b[0m                                Traceback (most recent call last)",
      "\u001b[1;32m<ipython-input-7-dd40c437b8be>\u001b[0m in \u001b[0;36m<module>\u001b[1;34m\u001b[0m\n\u001b[1;32m----> 1\u001b[1;33m \u001b[0mthislist\u001b[0m\u001b[1;33m[\u001b[0m\u001b[1;36m3\u001b[0m\u001b[1;33m]\u001b[0m\u001b[1;33m\u001b[0m\u001b[1;33m\u001b[0m\u001b[0m\n\u001b[0m",
      "\u001b[1;31mIndexError\u001b[0m: list index out of range"
     ]
    }
   ],
   "source": [
    "thislist[3]"
   ]
  },
  {
   "cell_type": "markdown",
   "id": "6b62efc1",
   "metadata": {},
   "source": [
    "## Ordered\n",
    "\n",
    "When we say that lists are ordered, it means that the items have a defined order, and that order will not change.\n",
    "\n",
    "If you add new items to a list, the new items will be placed at the end of the list.\n",
    "\n",
    "`Note: There are some list methods that will change the order, but in general: the order of the items will not change.`"
   ]
  },
  {
   "cell_type": "code",
   "execution_count": 8,
   "id": "b3d2f3fd",
   "metadata": {},
   "outputs": [
    {
     "name": "stdout",
     "output_type": "stream",
     "text": [
      "['apple', 'banana', 'cherry']\n",
      "['apple', 'banana', 'cherry', 'orange']\n"
     ]
    }
   ],
   "source": [
    "thislist = [\"apple\", \"banana\", \"cherry\"]\n",
    "print(thislist)\n",
    "thislist.append(\"orange\")\n",
    "print(thislist)"
   ]
  },
  {
   "cell_type": "markdown",
   "id": "20b14c02",
   "metadata": {},
   "source": [
    "## Changeable\n",
    "\n",
    "The list is changeable, meaning that we can change, add, and remove items in a list after it has been created.\n",
    "\n",
    "__Add__"
   ]
  },
  {
   "cell_type": "code",
   "execution_count": 9,
   "id": "f5d9ebd0",
   "metadata": {},
   "outputs": [
    {
     "name": "stdout",
     "output_type": "stream",
     "text": [
      "['apple', 'banana', 'cherry']\n",
      "['apple', 'banana', 'cherry', 'orange']\n"
     ]
    }
   ],
   "source": [
    "# add item \"orange\"\n",
    "thislist = [\"apple\", \"banana\", \"cherry\"]\n",
    "print(thislist)\n",
    "thislist.append(\"orange\")\n",
    "print(thislist)"
   ]
  },
  {
   "cell_type": "markdown",
   "id": "b7c2d3a3",
   "metadata": {},
   "source": [
    "__Update__"
   ]
  },
  {
   "cell_type": "code",
   "execution_count": 10,
   "id": "b0712bb7",
   "metadata": {},
   "outputs": [
    {
     "name": "stdout",
     "output_type": "stream",
     "text": [
      "['apple', 'banana', 'cherry']\n",
      "['apple', 'Papaya', 'cherry']\n"
     ]
    }
   ],
   "source": [
    "# change / Update item from \"banana\" to \"Papaya\"\n",
    "thislist = [\"apple\", \"banana\", \"cherry\"]\n",
    "print(thislist)\n",
    "thislist[1]=\"Papaya\"\n",
    "print(thislist)"
   ]
  },
  {
   "cell_type": "markdown",
   "id": "df169946",
   "metadata": {},
   "source": [
    "__Delete__"
   ]
  },
  {
   "cell_type": "code",
   "execution_count": 11,
   "id": "c035b3ca",
   "metadata": {},
   "outputs": [
    {
     "name": "stdout",
     "output_type": "stream",
     "text": [
      "['apple', 'banana', 'cherry']\n",
      "['apple', 'cherry']\n"
     ]
    }
   ],
   "source": [
    "# Remove Item \"banana\"\n",
    "thislist = [\"apple\", \"banana\", \"cherry\"]\n",
    "print(thislist)\n",
    "thislist.remove(\"banana\")\n",
    "print(thislist)"
   ]
  },
  {
   "cell_type": "markdown",
   "id": "98d308d0",
   "metadata": {},
   "source": [
    "## Allow Duplicates\n",
    "\n",
    "Since lists are indexed, lists can have items with the same value:"
   ]
  },
  {
   "cell_type": "code",
   "execution_count": 12,
   "id": "24608ef8",
   "metadata": {},
   "outputs": [
    {
     "name": "stdout",
     "output_type": "stream",
     "text": [
      "['apple', 'banana', 'cherry', 'apple', 'cherry']\n"
     ]
    }
   ],
   "source": [
    "# Example Lists allow duplicate values:\n",
    "\n",
    "thislist = [\"apple\", \"banana\", \"cherry\", \"apple\", \"cherry\"]\n",
    "print(thislist)"
   ]
  },
  {
   "cell_type": "markdown",
   "id": "63ec8a92",
   "metadata": {},
   "source": [
    "## List Length\n",
    "\n",
    "To determine how many items a list has, use the len() function:\n",
    "\n",
    "__Note: The length of an array is always one more than the highest array index.__"
   ]
  },
  {
   "cell_type": "code",
   "execution_count": 13,
   "id": "ac9bc79e",
   "metadata": {},
   "outputs": [
    {
     "name": "stdout",
     "output_type": "stream",
     "text": [
      "['apple', 'banana', 'cherry']\n",
      "cherry\n",
      "3\n"
     ]
    }
   ],
   "source": [
    "# Example: Print the number of items in the list:\n",
    "\n",
    "thislist = [\"apple\", \"banana\", \"cherry\"]\n",
    "print(thislist)\n",
    "print(thislist[2]) # highest index is 2 \n",
    "print(len(thislist)) # and Length is highest index + 1 = 3 "
   ]
  },
  {
   "cell_type": "markdown",
   "id": "067aebfd",
   "metadata": {},
   "source": [
    "## List Items - Data Types\n",
    "\n",
    "List items can be of any data type:"
   ]
  },
  {
   "cell_type": "code",
   "execution_count": 14,
   "id": "97e75bba",
   "metadata": {},
   "outputs": [
    {
     "name": "stdout",
     "output_type": "stream",
     "text": [
      "['apple', 'banana', 'cherry']\n",
      "<class 'str'>\n",
      "[1, 5, 7, 9, 3]\n",
      "<class 'int'>\n",
      "[True, False, False]\n",
      "<class 'bool'>\n"
     ]
    }
   ],
   "source": [
    "# Example String, int and boolean data types:\n",
    "\n",
    "list1 = [\"apple\", \"banana\", \"cherry\"]\n",
    "list2 = [1, 5, 7, 9, 3]\n",
    "list3 = [True, False, False]\n",
    "\n",
    "print(list1)\n",
    "print(type(list1[0]))\n",
    "\n",
    "print(list2)\n",
    "print(type(list2[0]))\n",
    "\n",
    "print(list3)\n",
    "print(type(list3[0]))"
   ]
  },
  {
   "cell_type": "markdown",
   "id": "42a8c482",
   "metadata": {},
   "source": [
    "A Single list can contain different data types"
   ]
  },
  {
   "cell_type": "code",
   "execution_count": 15,
   "id": "75cdd98e",
   "metadata": {},
   "outputs": [
    {
     "name": "stdout",
     "output_type": "stream",
     "text": [
      "['abc', 34, True, 40, 'male']\n",
      "<class 'str'>\n",
      "<class 'int'>\n",
      "<class 'bool'>\n"
     ]
    }
   ],
   "source": [
    "# Example A list with strings, integers and boolean values:\n",
    "list1 = [\"abc\", 34, True, 40, \"male\"]\n",
    "\n",
    "print(list1)\n",
    "print(type(list1[0]))\n",
    "print(type(list1[1]))\n",
    "print(type(list1[2]))"
   ]
  },
  {
   "cell_type": "markdown",
   "id": "c7221806",
   "metadata": {},
   "source": [
    "## Empty list creation\n",
    "\n"
   ]
  },
  {
   "cell_type": "code",
   "execution_count": 16,
   "id": "6a0e019d",
   "metadata": {},
   "outputs": [
    {
     "name": "stdout",
     "output_type": "stream",
     "text": [
      "[]\n",
      "<class 'list'>\n",
      "0\n"
     ]
    }
   ],
   "source": [
    "# You can create a empty List also using list\n",
    "Empty_list = list()\n",
    "\n",
    "print(Empty_list)\n",
    "print(type(Empty_list))\n",
    "print(len(Empty_list))"
   ]
  },
  {
   "cell_type": "code",
   "execution_count": 17,
   "id": "090ca987",
   "metadata": {},
   "outputs": [
    {
     "name": "stdout",
     "output_type": "stream",
     "text": [
      "[]\n",
      "<class 'list'>\n",
      "0\n"
     ]
    }
   ],
   "source": [
    "# another ways to create Empty list is:\n",
    "Empty_list  = []\n",
    "\n",
    "print(Empty_list)\n",
    "print(type(Empty_list))\n",
    "print(len(Empty_list))"
   ]
  },
  {
   "cell_type": "markdown",
   "id": "6cdbcc55",
   "metadata": {},
   "source": [
    "## Access Items\n",
    "\n",
    "List items are indexed and you can access them by referring to the index number\n",
    "\n",
    "`Note: The first item has index 0.`"
   ]
  },
  {
   "cell_type": "code",
   "execution_count": 18,
   "id": "2a96e5f8",
   "metadata": {},
   "outputs": [
    {
     "name": "stdout",
     "output_type": "stream",
     "text": [
      "banana\n"
     ]
    }
   ],
   "source": [
    "# Example Print the second item of the list:\n",
    "thislist = [\"apple\", \"banana\", \"cherry\"]\n",
    "print(thislist[1])"
   ]
  },
  {
   "cell_type": "markdown",
   "id": "d2897733",
   "metadata": {},
   "source": [
    "## Negative Indexing\n",
    "\n",
    "Negative indexing means start from the end\n",
    "\n",
    "-1 refers to the last item, -2 refers to the second last item etc."
   ]
  },
  {
   "cell_type": "code",
   "execution_count": 19,
   "id": "6189dbdb",
   "metadata": {},
   "outputs": [
    {
     "name": "stdout",
     "output_type": "stream",
     "text": [
      "cherry\n"
     ]
    }
   ],
   "source": [
    "# Example Print the last item of the list:\n",
    "\n",
    "thislist = [\"apple\", \"banana\", \"cherry\"]\n",
    "print(thislist[-1])"
   ]
  },
  {
   "cell_type": "code",
   "execution_count": 20,
   "id": "4f049e84",
   "metadata": {},
   "outputs": [
    {
     "name": "stdout",
     "output_type": "stream",
     "text": [
      "[1, 2, [3, 4]]\n",
      "4\n"
     ]
    }
   ],
   "source": [
    "# Example  how do you access 4 in below list\n",
    "my_list2 = [1, 2, [3, 4]]\n",
    "print(my_list2)\n",
    "\n",
    "print(my_list2[2][1])"
   ]
  },
  {
   "cell_type": "markdown",
   "id": "ddfd3767",
   "metadata": {},
   "source": [
    "## Range of Indexes\n",
    "\n",
    "\n",
    "You can specify a range of indexes by specifying where to start and where to end the range.\n",
    "\n",
    "When specifying a range, the return value will be a new list with the specified items.\n",
    "\n",
    "`Note: The search will start at index 2 (included) and end at index 5 (not included). Remember that the first item has index 0.`"
   ]
  },
  {
   "cell_type": "code",
   "execution_count": 21,
   "id": "c387e965",
   "metadata": {},
   "outputs": [
    {
     "name": "stdout",
     "output_type": "stream",
     "text": [
      "['cherry', 'orange', 'kiwi']\n"
     ]
    }
   ],
   "source": [
    "# Example Return the third, fourth, and fifth item:\n",
    "thislist = [\"apple\", \"banana\", \"cherry\", \"orange\", \"kiwi\", \"melon\", \"mango\"]\n",
    "print(thislist[2:5]) # start from index 2 .. end at 5-1 = index 4 "
   ]
  },
  {
   "cell_type": "markdown",
   "id": "186303fc",
   "metadata": {},
   "source": [
    "By leaving out the start value, the range will start at the first item:"
   ]
  },
  {
   "cell_type": "code",
   "execution_count": 22,
   "id": "e20a25b9",
   "metadata": {},
   "outputs": [
    {
     "name": "stdout",
     "output_type": "stream",
     "text": [
      "['apple', 'banana', 'cherry', 'orange']\n"
     ]
    }
   ],
   "source": [
    "# Example This example returns the items from the beginning to, but NOT including, \"kiwi\":\n",
    "thislist = [\"apple\", \"banana\", \"cherry\", \"orange\", \"kiwi\", \"melon\", \"mango\"]\n",
    "print(thislist[:4])"
   ]
  },
  {
   "cell_type": "markdown",
   "id": "886792ce",
   "metadata": {},
   "source": [
    "By leaving out the end value, the range will go on to the end of the list:"
   ]
  },
  {
   "cell_type": "code",
   "execution_count": 23,
   "id": "742f8f10",
   "metadata": {},
   "outputs": [
    {
     "name": "stdout",
     "output_type": "stream",
     "text": [
      "['cherry', 'orange', 'kiwi', 'melon', 'mango']\n"
     ]
    }
   ],
   "source": [
    "# Example This example returns the items from \"cherry\" to the end:\n",
    "\n",
    "thislist = [\"apple\", \"banana\", \"cherry\", \"orange\", \"kiwi\", \"melon\", \"mango\"]\n",
    "print(thislist[2:])"
   ]
  },
  {
   "cell_type": "markdown",
   "id": "5afcc09c",
   "metadata": {},
   "source": [
    "### Range of Negative Indexes\n",
    "\n",
    "Specify negative indexes if you want to start the search from the end of the list:"
   ]
  },
  {
   "cell_type": "code",
   "execution_count": 24,
   "id": "8c55fed3",
   "metadata": {},
   "outputs": [
    {
     "name": "stdout",
     "output_type": "stream",
     "text": [
      "['orange', 'kiwi', 'melon']\n"
     ]
    }
   ],
   "source": [
    "# Example This example returns the items from \"orange\" (-4) to, but NOT including \"mango\" (-1):\n",
    "thislist = [\"apple\", \"banana\", \"cherry\", \"orange\", \"kiwi\", \"melon\", \"mango\"]\n",
    "print(thislist[-4:-1])"
   ]
  },
  {
   "cell_type": "markdown",
   "id": "976d6987",
   "metadata": {},
   "source": [
    "## Check if Item Exists\n",
    "To determine if a specified item is present in a list use the `in` keyword:\n"
   ]
  },
  {
   "cell_type": "code",
   "execution_count": 25,
   "id": "7c9286a6",
   "metadata": {},
   "outputs": [
    {
     "name": "stdout",
     "output_type": "stream",
     "text": [
      "Yes, 'apple' is in the fruits list\n"
     ]
    }
   ],
   "source": [
    "# Example Check if \"apple\" is present in the list:\n",
    "\n",
    "thislist = [\"apple\", \"banana\", \"cherry\"]\n",
    "if \"apple\" in thislist:\n",
    "    print(\"Yes, 'apple' is in the fruits list\")"
   ]
  },
  {
   "cell_type": "markdown",
   "id": "00096b06",
   "metadata": {},
   "source": [
    "## Python - Change List Items\n",
    "\n",
    "__Change Item Value__\n",
    "To change the value of a specific item, refer to the index number:"
   ]
  },
  {
   "cell_type": "code",
   "execution_count": 26,
   "id": "a82d3605",
   "metadata": {},
   "outputs": [
    {
     "name": "stdout",
     "output_type": "stream",
     "text": [
      "['apple', 'blackcurrant', 'cherry']\n"
     ]
    }
   ],
   "source": [
    "# Example Change the second item:\n",
    "\n",
    "thislist = [\"apple\", \"banana\", \"cherry\"]\n",
    "thislist[1] = \"blackcurrant\"\n",
    "print(thislist)"
   ]
  },
  {
   "cell_type": "markdown",
   "id": "56005bf6",
   "metadata": {},
   "source": [
    "__Change a Range of Item Values__\n",
    "To change the value of items within a specific range, define a list with the new values, and refer to the range of index numbers where you want to insert the new values:"
   ]
  },
  {
   "cell_type": "code",
   "execution_count": 27,
   "id": "2e565e31",
   "metadata": {},
   "outputs": [
    {
     "name": "stdout",
     "output_type": "stream",
     "text": [
      "['apple', 'blackcurrant', 'watermelon', 'orange', 'kiwi', 'mango']\n"
     ]
    }
   ],
   "source": [
    "# Example\n",
    "# Change the values \"banana\" and \"cherry\" with the values \"blackcurrant\" and \"watermelon\":\n",
    "\n",
    "thislist = [\"apple\", \"banana\", \"cherry\", \"orange\", \"kiwi\", \"mango\"]\n",
    "thislist[1:3] = [\"blackcurrant\", \"watermelon\"]\n",
    "print(thislist)"
   ]
  },
  {
   "cell_type": "markdown",
   "id": "39d1194b",
   "metadata": {},
   "source": [
    "If you insert more items than you replace, the new items will be inserted where you specified, and the remaining items will move accordingly\n",
    "\n",
    "`Note: The length of the list will change when the number of items inserted does not match the number of items replaced.`"
   ]
  },
  {
   "cell_type": "code",
   "execution_count": 28,
   "id": "39a2b4c1",
   "metadata": {},
   "outputs": [
    {
     "name": "stdout",
     "output_type": "stream",
     "text": [
      "['apple', 'blackcurrant', 'watermelon', 'Orange', 'cherry']\n"
     ]
    }
   ],
   "source": [
    "# Example Change the second value by replacing it with two new values:\n",
    "\n",
    "thislist = [\"apple\", \"banana\", \"Orange\", \"cherry\"]\n",
    "thislist[1:2] = [\"blackcurrant\", \"watermelon\"]\n",
    "print(thislist)"
   ]
  },
  {
   "cell_type": "markdown",
   "id": "03f944a0",
   "metadata": {},
   "source": [
    "If you insert less items than you replace, the new items will be inserted where you specified, and the remaining items will move accordingly:"
   ]
  },
  {
   "cell_type": "code",
   "execution_count": 29,
   "id": "8b6c6274",
   "metadata": {},
   "outputs": [
    {
     "name": "stdout",
     "output_type": "stream",
     "text": [
      "['apple', 'watermelon']\n"
     ]
    }
   ],
   "source": [
    "# Example Change the second and third value by replacing it with one value:\n",
    "thislist = [\"apple\", \"banana\", \"cherry\"]\n",
    "thislist[1:3] = [\"watermelon\"]\n",
    "print(thislist)"
   ]
  },
  {
   "cell_type": "markdown",
   "id": "df189750",
   "metadata": {},
   "source": [
    "## Python - Join Lists (alist+blist)\n",
    "\n",
    "__Join Two Lists__\n",
    "\n",
    "There are several ways to join, or concatenate, two or more lists in Python.\n",
    "\n",
    "One of the easiest ways are by using the + operator.\n"
   ]
  },
  {
   "cell_type": "code",
   "execution_count": 30,
   "id": "b70bdb59",
   "metadata": {},
   "outputs": [
    {
     "name": "stdout",
     "output_type": "stream",
     "text": [
      "['a', 'b', 'c', 1, 2, 3]\n"
     ]
    }
   ],
   "source": [
    "## Join two list:\n",
    "\n",
    "list1 = [\"a\", \"b\", \"c\"]\n",
    "list2 = [1, 2, 3]\n",
    "\n",
    "list3 = list1 + list2\n",
    "print(list3)"
   ]
  },
  {
   "cell_type": "markdown",
   "id": "c997af2a",
   "metadata": {},
   "source": [
    "Or you can use the extend() method, which purpose is to add elements from one list to another list:"
   ]
  },
  {
   "cell_type": "code",
   "execution_count": 31,
   "id": "c3b6c442",
   "metadata": {},
   "outputs": [
    {
     "name": "stdout",
     "output_type": "stream",
     "text": [
      "['a', 'b', 'c', 1, 2, 3]\n"
     ]
    }
   ],
   "source": [
    "# Example Use the extend() method to add list2 at the end of list1:\n",
    "list1 = [\"a\", \"b\", \"c\"]\n",
    "list2 = [1, 2, 3]\n",
    "\n",
    "list1.extend(list2)\n",
    "print(list1)"
   ]
  },
  {
   "cell_type": "markdown",
   "id": "8b5c7403",
   "metadata": {},
   "source": [
    "## Python - Loop Lists\n",
    "\n",
    "__For Loop Through a List__\n",
    "\n",
    "You can loop through the list items by using a for loop:\n",
    "\n",
    "\n",
    "Learn more about for loops in Python For Loops https://www.w3schools.com/python/python_for_loops.asp"
   ]
  },
  {
   "cell_type": "code",
   "execution_count": 32,
   "id": "841bbe4a",
   "metadata": {},
   "outputs": [
    {
     "name": "stdout",
     "output_type": "stream",
     "text": [
      "apple\n",
      "banana\n",
      "cherry\n"
     ]
    }
   ],
   "source": [
    "# Example Print all items in the list, one by one:\n",
    "thislist = [\"apple\", \"banana\", \"cherry\"]\n",
    "\n",
    "for x in thislist:\n",
    "    print(x)"
   ]
  },
  {
   "cell_type": "markdown",
   "id": "66652eff",
   "metadata": {},
   "source": [
    "__Loop Through the Index Numbers__\n",
    "\n",
    "You can also loop through the list items by referring to their index number."
   ]
  },
  {
   "cell_type": "code",
   "execution_count": 33,
   "id": "25da748b",
   "metadata": {},
   "outputs": [
    {
     "name": "stdout",
     "output_type": "stream",
     "text": [
      "0 1 2 \n",
      "\n",
      "0 apple\n",
      "1 banana\n",
      "2 cherry\n"
     ]
    }
   ],
   "source": [
    "# Example Print all items by referring to their index number:\n",
    "thislist = [\"apple\", \"banana\", \"cherry\"]\n",
    "\n",
    "for i in range(len(thislist)): # The iterable created here by range is [0, 1, 2].\n",
    "    print(i, end=\" \")\n",
    "print(\"\\n\")\n",
    "for x in range(len(thislist)):\n",
    "    print(x, thislist[x])"
   ]
  },
  {
   "cell_type": "markdown",
   "id": "9983e411",
   "metadata": {},
   "source": [
    "__Using a While Loop__\n",
    "\n",
    "You can loop through the list items by using a while loop.\n",
    "\n",
    "Use the len() function to determine the length of the list, then start at 0 and loop your way through the list items by refering to their indexes.\n",
    "\n",
    "Remember to increase the index by 1 after each iteration.\n",
    "\n",
    "Learn more about while loops in  Python While Loops Chapter https://www.w3schools.com/python/python_while_loops.asp\n",
    "\n"
   ]
  },
  {
   "cell_type": "code",
   "execution_count": 34,
   "id": "b32b9ced",
   "metadata": {},
   "outputs": [
    {
     "name": "stdout",
     "output_type": "stream",
     "text": [
      "0 apple\n",
      "1 banana\n",
      "2 cherry\n"
     ]
    }
   ],
   "source": [
    "# Example Print all items, using a while loop to go through all the index numbers\n",
    "thislist = [\"apple\", \"banana\", \"cherry\"]\n",
    "i = 0\n",
    "while i < len(thislist):\n",
    "    print(i, thislist[i])\n",
    "    i = i + 1"
   ]
  },
  {
   "cell_type": "markdown",
   "id": "7aa15985",
   "metadata": {},
   "source": [
    "__Looping Using List Comprehension__\n",
    "\n",
    "List Comprehension offers the shortest syntax for looping through lists:\n",
    "\n",
    "earn more about list comprehension in the next chapter: https://www.w3schools.com/python/python_lists_comprehension.asp"
   ]
  },
  {
   "cell_type": "code",
   "execution_count": 35,
   "id": "4cf2cb2a",
   "metadata": {},
   "outputs": [
    {
     "name": "stdout",
     "output_type": "stream",
     "text": [
      "apple\n",
      "banana\n",
      "cherry\n"
     ]
    },
    {
     "data": {
      "text/plain": [
       "[None, None, None]"
      ]
     },
     "execution_count": 35,
     "metadata": {},
     "output_type": "execute_result"
    }
   ],
   "source": [
    "# Example A short hand for loop that will print all items in a list:\n",
    "thislist = [\"apple\", \"banana\", \"cherry\"]\n",
    "[print(i) for i in thislist]"
   ]
  },
  {
   "cell_type": "markdown",
   "id": "55adb764",
   "metadata": {},
   "source": [
    "here once value of “i” is itratted using for loop then in final list nothing will be there hence it is showing a list of None object here \n",
    "\n",
    "But if you keep print outside of list then see the output;"
   ]
  },
  {
   "cell_type": "code",
   "execution_count": 36,
   "id": "a2871ad6",
   "metadata": {},
   "outputs": [
    {
     "name": "stdout",
     "output_type": "stream",
     "text": [
      "['apple', 'banana', 'cherry']\n"
     ]
    }
   ],
   "source": [
    "thislist = [\"apple\", \"banana\", \"cherry\"]\n",
    "print([i for i in thislist])"
   ]
  },
  {
   "cell_type": "markdown",
   "id": "5cb59a47",
   "metadata": {},
   "source": [
    "## Python - List Comprehension\n",
    "\n",
    "List comprehension offers a shorter syntax when you want to create a new list based on the values of an existing list.\n",
    "\n",
    "\n",
    "Example:\n",
    "Based on a list of fruits, you want a new list, containing only the fruits with the letter \"a\" in the name.\n",
    "\n",
    "Without list comprehension you will have to write a for statement with a conditional test inside Liek belolw;\n",
    "\n"
   ]
  },
  {
   "cell_type": "code",
   "execution_count": 37,
   "id": "95924f1d",
   "metadata": {},
   "outputs": [
    {
     "name": "stdout",
     "output_type": "stream",
     "text": [
      "['apple', 'banana', 'cherry', 'kiwi', 'mango']\n",
      "['apple', 'banana', 'mango']\n"
     ]
    }
   ],
   "source": [
    "fruits = [\"apple\", \"banana\", \"cherry\", \"kiwi\", \"mango\"]\n",
    "print(fruits)\n",
    "\n",
    "newlist = []\n",
    "\n",
    "for x in fruits:\n",
    "    if \"a\" in x:\n",
    "        newlist.append(x)\n",
    "\n",
    "print(newlist)"
   ]
  },
  {
   "cell_type": "markdown",
   "id": "9f5ad9f7",
   "metadata": {},
   "source": [
    "With list comprehension you can do all that with only one line of code:"
   ]
  },
  {
   "cell_type": "code",
   "execution_count": 38,
   "id": "1c0e1d68",
   "metadata": {},
   "outputs": [
    {
     "name": "stdout",
     "output_type": "stream",
     "text": [
      "['apple', 'banana', 'mango']\n"
     ]
    }
   ],
   "source": [
    "fruits = [\"apple\", \"banana\", \"cherry\", \"kiwi\", \"mango\"]\n",
    "newlist = [x for x in fruits if \"a\" in x]\n",
    "\n",
    "print(newlist)"
   ]
  },
  {
   "cell_type": "markdown",
   "id": "a629464c",
   "metadata": {},
   "source": [
    "The Syntax\n",
    "`newlist = [expression for item in iterable if condition == True]`\n",
    "\n",
    "The return value is a new list, leaving the old list unchanged.\n",
    "\n",
    "__Condition__\n",
    "The condition is like a filter that only accepts the items that Evaluate to True."
   ]
  },
  {
   "cell_type": "code",
   "execution_count": 39,
   "id": "2dac4059",
   "metadata": {},
   "outputs": [
    {
     "name": "stdout",
     "output_type": "stream",
     "text": [
      "['banana', 'cherry', 'kiwi', 'mango']\n"
     ]
    }
   ],
   "source": [
    "# Example Only accept items that are not \"apple\":\n",
    "fruits = [\"apple\", \"banana\", \"cherry\", \"kiwi\", \"mango\"]\n",
    "\n",
    "newlist = [x for x in fruits if x != \"apple\"]\n",
    "\n",
    "print(newlist)"
   ]
  },
  {
   "cell_type": "markdown",
   "id": "35af475d",
   "metadata": {},
   "source": [
    "The condition if x != \"apple\"  will return True for all elements other than \"apple\", making the new list contain all fruits except \"apple\".\n",
    "\n",
    "The condition is optional and can be omitted:"
   ]
  },
  {
   "cell_type": "code",
   "execution_count": 40,
   "id": "5878557c",
   "metadata": {},
   "outputs": [
    {
     "name": "stdout",
     "output_type": "stream",
     "text": [
      "['apple', 'banana', 'cherry', 'kiwi', 'mango']\n"
     ]
    }
   ],
   "source": [
    "# Example With no if statement:\n",
    "fruits = [\"apple\", \"banana\", \"cherry\", \"kiwi\", \"mango\"]\n",
    "\n",
    "newlist = [x for x in fruits]\n",
    "\n",
    "print(newlist)\n"
   ]
  },
  {
   "cell_type": "markdown",
   "id": "209224cd",
   "metadata": {},
   "source": [
    "__Iterable__ : The iterable can be any iterable object, like a list, tuple, set etc."
   ]
  },
  {
   "cell_type": "code",
   "execution_count": 41,
   "id": "8f77f371",
   "metadata": {},
   "outputs": [
    {
     "name": "stdout",
     "output_type": "stream",
     "text": [
      "[0, 1, 2, 3, 4, 5, 6, 7, 8, 9]\n"
     ]
    }
   ],
   "source": [
    "# Example You can use the range() function to create an iterable:\n",
    "newlist = [x for x in range(10)]\n",
    "\n",
    "print(newlist)"
   ]
  },
  {
   "cell_type": "code",
   "execution_count": 42,
   "id": "a1b42ec5",
   "metadata": {},
   "outputs": [
    {
     "name": "stdout",
     "output_type": "stream",
     "text": [
      "['apple', 'banana', 'cherry', 'kiwi', 'mango']\n"
     ]
    }
   ],
   "source": [
    "# Example You can use the range() function to create an iterable:\n",
    "\n",
    "fruits = [\"apple\", \"banana\", \"cherry\", \"kiwi\", \"mango\"]\n",
    "\n",
    "newlist = [fruits[i] for i in range(len(fruits))]\n",
    "\n",
    "print(newlist)"
   ]
  },
  {
   "cell_type": "code",
   "execution_count": 43,
   "id": "2fca7f55",
   "metadata": {},
   "outputs": [
    {
     "name": "stdout",
     "output_type": "stream",
     "text": [
      "[0, 1, 2, 3, 4]\n"
     ]
    }
   ],
   "source": [
    "# Example Accept only numbers lower than 5:\n",
    "\n",
    "newlist = [x for x in range(10) if x < 5]\n",
    "\n",
    "print(newlist)"
   ]
  },
  {
   "cell_type": "markdown",
   "id": "ed81ea2c",
   "metadata": {},
   "source": [
    "__Expression__: \n",
    "\n",
    "The expression is the current item in the iteration, but it is also the outcome, which you can manipulate before it ends up like a list item in the new list:"
   ]
  },
  {
   "cell_type": "code",
   "execution_count": 44,
   "id": "27eef4a7",
   "metadata": {},
   "outputs": [
    {
     "name": "stdout",
     "output_type": "stream",
     "text": [
      "['BANANA', 'CHERRY', 'KIWI', 'MANGO']\n"
     ]
    }
   ],
   "source": [
    "# Example Set the values in the new list to upper case:\n",
    "fruits = [\"apple\", \"banana\", \"cherry\", \"kiwi\", \"mango\"]\n",
    "\n",
    "newlist = [x.upper() for x in fruits if x != \"apple\"]\n",
    "\n",
    "print(newlist)"
   ]
  },
  {
   "cell_type": "markdown",
   "id": "ad3474ab",
   "metadata": {},
   "source": [
    "You can set the outcome to whatever you like:"
   ]
  },
  {
   "cell_type": "code",
   "execution_count": 45,
   "id": "47648bf9",
   "metadata": {},
   "outputs": [
    {
     "name": "stdout",
     "output_type": "stream",
     "text": [
      "['hello', 'hello', 'hello', 'hello', 'hello']\n"
     ]
    }
   ],
   "source": [
    "# Example Set all values in the new list to 'hello':\n",
    "fruits = [\"apple\", \"banana\", \"cherry\", \"kiwi\", \"mango\"]\n",
    "\n",
    "newlist = ['hello' for x in fruits]\n",
    "\n",
    "print(newlist)"
   ]
  },
  {
   "cell_type": "markdown",
   "id": "4d427176",
   "metadata": {},
   "source": [
    "The expression can also contain conditions, __not like a filter__, but as a way to manipulate the outcome:\n",
    "\n",
    "below example says ; \n",
    "\n",
    "__\"Leave the 'apple' and Return the item if it is not banana, if it is banana return orange\"__"
   ]
  },
  {
   "cell_type": "code",
   "execution_count": 46,
   "id": "6bd28e9b",
   "metadata": {},
   "outputs": [
    {
     "name": "stdout",
     "output_type": "stream",
     "text": [
      "['orange', 'cherry', 'kiwi', 'mango']\n"
     ]
    }
   ],
   "source": [
    "# Example Return \"orange\" instead of \"banana\"\n",
    "\n",
    "fruits = [\"apple\", \"banana\", \"cherry\", \"kiwi\", \"mango\"]\n",
    "\n",
    "newlist = [x if x != \"banana\" else \"orange\" for x in fruits if x != \"apple\"]\n",
    "\n",
    "print(newlist)"
   ]
  },
  {
   "cell_type": "markdown",
   "id": "54af2231",
   "metadata": {},
   "source": [
    "### Convert List to Tuple \n",
    "\n",
    "\n"
   ]
  },
  {
   "cell_type": "code",
   "execution_count": 47,
   "id": "39947fa8",
   "metadata": {},
   "outputs": [
    {
     "name": "stdout",
     "output_type": "stream",
     "text": [
      "['apple', 'banana', 'cherry']\n",
      "<class 'list'>\n",
      "now lets do List to Tuple Coversion\n",
      "<class 'tuple'>\n",
      "('apple', 'banana', 'cherry')\n"
     ]
    }
   ],
   "source": [
    "mylist2 = ['apple', 'banana', 'cherry']\n",
    "print(mylist2)\n",
    "print(type(mylist2))\n",
    "\n",
    "print(\"now lets do List to Tuple Coversion\")\n",
    "\n",
    "mytuple = tuple(mylist2)\n",
    "print(type(mytuple))\n",
    "print(mytuple)"
   ]
  },
  {
   "cell_type": "code",
   "execution_count": 48,
   "id": "cf755419",
   "metadata": {},
   "outputs": [
    {
     "name": "stdout",
     "output_type": "stream",
     "text": [
      "[1, 3, 5, 7, 9]\n",
      "[1, 9, 25, 49, 81]\n"
     ]
    }
   ],
   "source": [
    "# Example List Comprehension\n",
    "list1 = [1, 3, 5, 7, 9]\n",
    "print(list1)\n",
    "list2 = [i ** 2 for i in list1]  # --> here we are creating list2 from list1 using List Comprehension\n",
    "print(list2)"
   ]
  },
  {
   "cell_type": "markdown",
   "id": "a3ffb931",
   "metadata": {},
   "source": [
    "## Python List methods and other concepts\n",
    "\n",
    "`List Methods\n",
    "Python has a set of built-in methods that you can use on lists.\n",
    "Method\tDescription\n",
    "append()\tAdds an element at the end of the list\n",
    "clear()\tRemoves all the elements from the list\n",
    "copy()\tReturns a copy of the list\n",
    "count()\tReturns the number of elements with the specified value\n",
    "extend()\tAdd the elements of a list (or any iterable), to the end of the current list\n",
    "index()\tReturns the index of the first element with the specified value\n",
    "insert()\tAdds an element at the specified position\n",
    "pop()\tRemoves the element at the specified position\n",
    "remove()\tRemoves the item with the specified value\n",
    "reverse()\tReverses the order of the list\n",
    "sort()\tSorts the list`\n",
    "\n",
    "__Built-in functions with List__\n",
    "\n",
    "https://www.geeksforgeeks.org/python-list/?ref=leftbar-rightbar\n",
    "\n",
    "* reduce() apply a particular function passed in its argument to all of the list elements stores the intermediate result and only returns the final summation value https://www.geeksforgeeks.org/reduce-in-python/\n",
    "* sum() Sums up the numbers in the list\n",
    "* ord() Returns an integer representing the Unicode code point of the given Unicode character\n",
    "* cmp() This function returns 1, if first list is “greater” than second list\n",
    "* max() return maximum element of given list\n",
    "* min() return minimum element of given list\n",
    "* all() Returns true if all element are true or if list is empty\n",
    "* any() return true if any element of the list is true. if list is empty, return false\n",
    "* len() Returns length of the list or size of the list\n",
    "* enumerate()  Returns enumerate object of list\n",
    "* accumulate() apply a particular function passed in its argument to all of the list elements returns a list containing the intermediate results\n",
    "* filter() tests if each element of a list true or not\n",
    "* map() returns a list of the results after applying the given function to each item of a given iterable\n",
    "* lambda() This function can have any number of arguments but only one expression, which is evaluated and returned.`\n"
   ]
  },
  {
   "attachments": {
    "image.png": {
     "image/png": "[encoded data removed]"
    }
   },
   "cell_type": "markdown",
   "id": "c49780df",
   "metadata": {},
   "source": [
    "__Geek for geek__\n",
    "\n",
    "* Append()\tAdd an element to the end of the list\t\thttps://www.geeksforgeeks.org/append-extend-python/\n",
    "* Extend()\tAdd all elements of a list to the another list\t\thttps://www.geeksforgeeks.org/append-extend-python/\n",
    "* Insert()\tInsert an item at the defined index\t\thttps://www.geeksforgeeks.org/list-methods-in-python-set-2-del-remove-sort-insert-pop-extend/\n",
    "* Remove()\tRemoves an item from the list\t\thttps://www.geeksforgeeks.org/list-methods-in-python-set-2-del-remove-sort-insert-pop-extend/\n",
    "* Pop()\tRemoves and returns an element at the given index\t\thttps://www.geeksforgeeks.org/list-methods-in-python-set-2-del-remove-sort-insert-pop-extend/\n",
    "* Clear()\tRemoves all items from the list\t\thttps://www.geeksforgeeks.org/list-methods-in-python-set-2-del-remove-sort-insert-pop-extend/\n",
    "* Index()\tReturns the index of the first matched item\t\thttps://www.geeksforgeeks.org/python-list-index/\n",
    "* Count()\tReturns the count of number of items passed as an argument\t\thttps://www.geeksforgeeks.org/python-list-function-count/\n",
    "* Sort()\tSort items in a list in ascending order\t\thttps://www.geeksforgeeks.org/sort-in-python/\n",
    "* Reverse()\tReverse the order of items in the list\t\thttps://www.geeksforgeeks.org/list-methods-in-python-set-2-del-remove-sort-insert-pop-extend/\n",
    "* copy()\tReturns a copy of the list\t\thttps://www.geeksforgeeks.org/python-list-copy-method/\n",
    "\n",
    "![image.png](attachment:image.png)\n"
   ]
  },
  {
   "cell_type": "markdown",
   "id": "2ebf8cb7",
   "metadata": {},
   "source": [
    "### List insert() Method\n",
    "\n",
    "`Definition and Usage\n",
    "The insert() method inserts the specified value at the specified position/Index.\n",
    "Syntax\n",
    "list.insert(pos, elmnt)\n",
    "Parameter Values\n",
    "Parameter\tDescription\n",
    "pos\tRequired. A number specifying in which position to insert the value\n",
    "elmnt\tRequired. An element of any type (string, number, object etc.)`"
   ]
  },
  {
   "cell_type": "code",
   "execution_count": 49,
   "id": "29291605",
   "metadata": {},
   "outputs": [
    {
     "name": "stdout",
     "output_type": "stream",
     "text": [
      "['apple', 'orange', 'banana', 'cherry']\n"
     ]
    }
   ],
   "source": [
    "# Example Insert the value \"orange\" as the second element of the fruit list:\n",
    "\n",
    "fruits = ['apple', 'banana', 'cherry']\n",
    "\n",
    "fruits.insert(1, \"orange\")\n",
    "\n",
    "print(fruits)"
   ]
  },
  {
   "cell_type": "markdown",
   "id": "d8652ac3",
   "metadata": {},
   "source": [
    "To insert a new list item, without replacing any of the existing values, we can use the insert() method.\n",
    "\n",
    "The insert() method inserts an item at the specified index:\n",
    "\n",
    "`Note: As a result of the example Below, the list will now contain 4 items.`"
   ]
  },
  {
   "cell_type": "code",
   "execution_count": 50,
   "id": "a8ee5fdf",
   "metadata": {},
   "outputs": [
    {
     "name": "stdout",
     "output_type": "stream",
     "text": [
      "['apple', 'banana', 'watermelon', 'cherry']\n"
     ]
    }
   ],
   "source": [
    "# Example Insert \"watermelon\" as the third item:\n",
    "\n",
    "thislist = [\"apple\", \"banana\", \"cherry\"]\n",
    "thislist.insert(2, \"watermelon\")\n",
    "print(thislist)"
   ]
  },
  {
   "cell_type": "markdown",
   "id": "3a948e39",
   "metadata": {},
   "source": [
    "### List append() Method\n",
    "\n",
    "`Definition and Usage\n",
    "The append() method appends an element to the end of the list.\n",
    "Syntax\n",
    "list.append(elmnt)\n",
    "Parameter Values\n",
    "Parameter\tDescription\n",
    "elmnt\tRequired. An element of any type (string, number, object etc.)`\n"
   ]
  },
  {
   "cell_type": "code",
   "execution_count": 51,
   "id": "34821c64",
   "metadata": {},
   "outputs": [
    {
     "name": "stdout",
     "output_type": "stream",
     "text": [
      "['apple', 'banana', 'cherry', 'orange']\n"
     ]
    }
   ],
   "source": [
    "# Example Add an element to the fruits list:\n",
    "fruits = [\"apple\", \"banana\", \"cherry\"]\n",
    "\n",
    "fruits.append(\"orange\")\n",
    "\n",
    "print(fruits)"
   ]
  },
  {
   "cell_type": "markdown",
   "id": "68b79727",
   "metadata": {},
   "source": [
    "__NOTE: A list is an object. If you append another list onto a list, the parameter list will be a single object at the end of the list.__"
   ]
  },
  {
   "cell_type": "code",
   "execution_count": 52,
   "id": "390b8138",
   "metadata": {},
   "outputs": [
    {
     "name": "stdout",
     "output_type": "stream",
     "text": [
      "['apple', 'banana', 'cherry', ['Ford', 'BMW', 'Volvo']]\n",
      "<class 'list'>\n",
      "\n",
      "<class 'str'>\n",
      "<class 'str'>\n",
      "<class 'str'>\n",
      "<class 'list'>\n"
     ]
    }
   ],
   "source": [
    "# Example Add a list to a list:\n",
    "a = [\"apple\", \"banana\", \"cherry\"]\n",
    "b = [\"Ford\", \"BMW\", \"Volvo\"]\n",
    "a.append(b)\n",
    "print(a)\n",
    "print(type(a))\n",
    "print()\n",
    "print(type(a[0]))\n",
    "print(type(a[1]))\n",
    "print(type(a[2]))\n",
    "print(type(a[3]))"
   ]
  },
  {
   "cell_type": "code",
   "execution_count": 53,
   "id": "62541175",
   "metadata": {},
   "outputs": [
    {
     "name": "stdout",
     "output_type": "stream",
     "text": [
      "[1, 2, 3, 4, 5, 6, 7, 8, 9, 10, 11, 12, 13, 14, 15, 16, 17, 18, 19]\n",
      "<class 'list'>\n"
     ]
    }
   ],
   "source": [
    "# Ex. \n",
    "x = range(1, 20)\n",
    "y = list()\n",
    "for i in x:\n",
    "    y.append(i)\n",
    "print(y)\n",
    "print(type(y))"
   ]
  },
  {
   "cell_type": "markdown",
   "id": "09f88db6",
   "metadata": {},
   "source": [
    "### List extend() Method\n",
    "\n",
    "`Definition and Usage\n",
    "The extend() method adds the specified list elements (or any iterable) to the end of the current list.\n",
    "Syntax\n",
    "list.extend(iterable)\n",
    "Parameter Values\n",
    "Parameter\tDescription\n",
    "iterable\tRequired. Any iterable (list, set, tuple, etc.)`\n"
   ]
  },
  {
   "cell_type": "code",
   "execution_count": 54,
   "id": "bd1644d6",
   "metadata": {},
   "outputs": [
    {
     "name": "stdout",
     "output_type": "stream",
     "text": [
      "['apple', 'banana', 'cherry', 'Ford', 'BMW', 'Volvo']\n"
     ]
    }
   ],
   "source": [
    "# Example Add the elements of list cars to the fruits list:\n",
    "fruits = ['apple', 'banana', 'cherry']\n",
    "cars = ['Ford', 'BMW', 'Volvo']\n",
    "fruits.extend(cars)\n",
    "print(fruits)"
   ]
  },
  {
   "cell_type": "code",
   "execution_count": 55,
   "id": "1f809d78",
   "metadata": {},
   "outputs": [
    {
     "name": "stdout",
     "output_type": "stream",
     "text": [
      "<class 'list'>\n",
      "<class 'tuple'>\n",
      "['apple', 'banana', 'cherry', 1, 4, 5, 9]\n"
     ]
    }
   ],
   "source": [
    "# Example Add a tuple to the fruits list:\n",
    "fruits = ['apple', 'banana', 'cherry']\n",
    "print(type(fruits))\n",
    "\n",
    "points = (1, 4, 5, 9)\n",
    "print(type(points))\n",
    "\n",
    "fruits.extend(points)\n",
    "print(fruits)"
   ]
  },
  {
   "cell_type": "markdown",
   "id": "54388784",
   "metadata": {},
   "source": [
    "To append elements from another list to the current list, use the extend() method.\n",
    "\n",
    "The elements will be added to the end of the list."
   ]
  },
  {
   "cell_type": "code",
   "execution_count": 56,
   "id": "a9d617a7",
   "metadata": {},
   "outputs": [
    {
     "name": "stdout",
     "output_type": "stream",
     "text": [
      "['apple', 'banana', 'cherry', 'mango', 'pineapple', 'papaya']\n"
     ]
    }
   ],
   "source": [
    "# Add the elements of tropical to thislist:\n",
    "thislist = [\"apple\", \"banana\", \"cherry\"]\n",
    "tropical = [\"mango\", \"pineapple\", \"papaya\"]\n",
    "thislist.extend(tropical)\n",
    "print(thislist)"
   ]
  },
  {
   "cell_type": "markdown",
   "id": "c55bd731",
   "metadata": {},
   "source": [
    "The extend() method does not have to append lists, you can add any iterable object (tuples, sets, dictionaries etc.)."
   ]
  },
  {
   "cell_type": "code",
   "execution_count": 57,
   "id": "71d3815b",
   "metadata": {},
   "outputs": [
    {
     "name": "stdout",
     "output_type": "stream",
     "text": [
      "['apple', 'banana', 'cherry', 'kiwi', 'orange']\n"
     ]
    }
   ],
   "source": [
    "# Example Add elements of a tuple to a list:\n",
    "\n",
    "thislist = [\"apple\", \"banana\", \"cherry\"]\n",
    "thistuple = (\"kiwi\", \"orange\")\n",
    "thislist.extend(thistuple)\n",
    "print(thislist)"
   ]
  },
  {
   "cell_type": "markdown",
   "id": "8723a1c8",
   "metadata": {},
   "source": [
    "__NOTE: A string is an iterable, so if you extend a list with a string, you’ll append each character as you iterate over the string.__"
   ]
  },
  {
   "cell_type": "code",
   "execution_count": 58,
   "id": "6a38b9b9",
   "metadata": {},
   "outputs": [
    {
     "name": "stdout",
     "output_type": "stream",
     "text": [
      "['geeks', 'for', 6, 0, 4, 1, 'g', 'e', 'e', 'k', 's']\n"
     ]
    }
   ],
   "source": [
    "my_list = ['geeks', 'for', 6, 0, 4, 1]\n",
    "my_list.extend('geeks')\n",
    "print(my_list)"
   ]
  },
  {
   "cell_type": "markdown",
   "id": "817e704e",
   "metadata": {},
   "source": [
    "__Difference Bw Extend and Append__\n",
    "\n",
    "\n"
   ]
  },
  {
   "cell_type": "code",
   "execution_count": 59,
   "id": "c214f999",
   "metadata": {},
   "outputs": [
    {
     "name": "stdout",
     "output_type": "stream",
     "text": [
      "['apple', 'banana', 'cherry', 1, 4, 5, 9]\n",
      "1\n",
      "<class 'int'>\n"
     ]
    }
   ],
   "source": [
    "x = ['apple', 'banana', 'cherry']\n",
    "points = (1, 4, 5, 9)\n",
    "x.extend(points)\n",
    "print(x)\n",
    "print(x[3])\n",
    "print(type(x[3]))"
   ]
  },
  {
   "cell_type": "markdown",
   "id": "731d819b",
   "metadata": {},
   "source": [
    "In extend :  points  (a tuple) will be added in the last to list x as individual elements of List x . Means if you try to find out type(x[3]) will be int\n",
    "\n",
    "Whereas if you do same in append then the type would be same as whatever was there before adding it to x list as below;\n",
    "\n"
   ]
  },
  {
   "cell_type": "code",
   "execution_count": 60,
   "id": "2e304b81",
   "metadata": {},
   "outputs": [
    {
     "name": "stdout",
     "output_type": "stream",
     "text": [
      "['apple', 'banana', 'cherry', (1, 4, 5, 9)]\n",
      "(1, 4, 5, 9)\n",
      "<class 'tuple'>\n"
     ]
    }
   ],
   "source": [
    "x = ['apple', 'banana', 'cherry']\n",
    "points = (1, 4, 5, 9)\n",
    "x.append(points)\n",
    "print(x)\n",
    "print(x[3])\n",
    "print(type(x[3]))"
   ]
  },
  {
   "cell_type": "markdown",
   "id": "bfe60f41",
   "metadata": {},
   "source": [
    "see above the element of index 3 is Tuple only in list x \n",
    "\n",
    "\n",
    "Time Complexity: https://www.geeksforgeeks.org/append-extend-python/\n",
    "\n",
    "Append has constant time complexity i.e.,O(1).\n",
    "Extend has time complexity of O(k). Where k is the length of list which need to be added."
   ]
  },
  {
   "cell_type": "markdown",
   "id": "655f8c23",
   "metadata": {},
   "source": [
    "### List remove() Method  (Remove Specified Item)\n",
    "\n",
    "__Note: The list's remove() method only removes the first occurrence of the specified value.__\n",
    "\n",
    "`Definition and Usage\n",
    "The remove() method removes the first occurrence of the element with the specified value.\n",
    "Syntax\n",
    "list.remove(elmnt)\n",
    "Parameter Values\n",
    "Parameter\tDescription\n",
    "elmnt\tRequired. Any type (string, number, list etc.) The element you want to remove`"
   ]
  },
  {
   "cell_type": "code",
   "execution_count": 61,
   "id": "782ba9ba",
   "metadata": {},
   "outputs": [
    {
     "name": "stdout",
     "output_type": "stream",
     "text": [
      "['apple', 'banana', 'cherry', 'banana']\n",
      "['apple', 'cherry', 'banana']\n"
     ]
    }
   ],
   "source": [
    "# Example Remove the \"banana\" element of the fruit list\n",
    "fruits = ['apple', 'banana', 'cherry', 'banana'] # see here 'banana' is two times\n",
    "print(fruits)\n",
    "fruits.remove(\"banana\") # --> but this will remove only first occurrence of 'banana' from left to right \n",
    "print(fruits)"
   ]
  },
  {
   "cell_type": "markdown",
   "id": "72949c2c",
   "metadata": {},
   "source": [
    "### List pop() Method  (Remove Specified Index)\n",
    "\n",
    "`Definition and Usage\n",
    "The pop() method removes the element at the specified position (or the last item if index is not specified)\n",
    "Syntax\n",
    "list.pop(pos)\n",
    "Parameter Values\n",
    "Parameter\tDescription\n",
    "pos\tOptional. A number specifying the position of the element you want to remove, default value is -1, which returns the last item`"
   ]
  },
  {
   "cell_type": "code",
   "execution_count": 62,
   "id": "4fe6a8b6",
   "metadata": {},
   "outputs": [
    {
     "name": "stdout",
     "output_type": "stream",
     "text": [
      "['apple', 'banana', 'cherry']\n",
      "['apple', 'cherry']\n",
      "banana\n",
      "<class 'str'>\n"
     ]
    }
   ],
   "source": [
    "# Example Remove the second element of the fruit list:\n",
    "\n",
    "fruits = ['apple', 'banana', 'cherry']\n",
    "print(fruits)\n",
    "element1 = fruits.pop(1) # Note: The pop() method returns removed value with this you can capture what pop() has removed. \n",
    "print(fruits)\n",
    "print(element1) # pop() removed this one\n",
    "print(type(element1))"
   ]
  },
  {
   "cell_type": "markdown",
   "id": "faa508c4",
   "metadata": {},
   "source": [
    "If you do not specify the index, the pop() method removes the last item."
   ]
  },
  {
   "cell_type": "code",
   "execution_count": 63,
   "id": "fe02b3a5",
   "metadata": {},
   "outputs": [
    {
     "name": "stdout",
     "output_type": "stream",
     "text": [
      "['apple', 'banana', 'cherry']\n",
      "['apple', 'banana']\n"
     ]
    }
   ],
   "source": [
    "# Example Remove the last item:\n",
    "\n",
    "thislist = [\"apple\", \"banana\", \"cherry\"]\n",
    "print(thislist)\n",
    "thislist.pop()\n",
    "print(thislist)"
   ]
  },
  {
   "cell_type": "markdown",
   "id": "525e305c",
   "metadata": {},
   "source": [
    "The __del__ keyword also removes the specified index:"
   ]
  },
  {
   "cell_type": "code",
   "execution_count": 64,
   "id": "c1dd5081",
   "metadata": {},
   "outputs": [
    {
     "name": "stdout",
     "output_type": "stream",
     "text": [
      "['apple', 'banana', 'cherry']\n",
      "['banana', 'cherry']\n"
     ]
    }
   ],
   "source": [
    "# Example Remove the first item:\n",
    "\n",
    "thislist = [\"apple\", \"banana\", \"cherry\"]\n",
    "print(thislist)\n",
    "del thislist[0]\n",
    "print(thislist)"
   ]
  },
  {
   "cell_type": "markdown",
   "id": "62949a22",
   "metadata": {},
   "source": [
    "The del keyword can also delete the list completely."
   ]
  },
  {
   "cell_type": "code",
   "execution_count": 65,
   "id": "2792f82d",
   "metadata": {},
   "outputs": [
    {
     "name": "stdout",
     "output_type": "stream",
     "text": [
      "['apple', 'banana', 'cherry']\n"
     ]
    },
    {
     "ename": "NameError",
     "evalue": "name 'thislist' is not defined",
     "output_type": "error",
     "traceback": [
      "\u001b[1;31m---------------------------------------------------------------------------\u001b[0m",
      "\u001b[1;31mNameError\u001b[0m                                 Traceback (most recent call last)",
      "\u001b[1;32m<ipython-input-65-1d19a08949e9>\u001b[0m in \u001b[0;36m<module>\u001b[1;34m\u001b[0m\n\u001b[0;32m      4\u001b[0m \u001b[0mprint\u001b[0m\u001b[1;33m(\u001b[0m\u001b[0mthislist\u001b[0m\u001b[1;33m)\u001b[0m\u001b[1;33m\u001b[0m\u001b[1;33m\u001b[0m\u001b[0m\n\u001b[0;32m      5\u001b[0m \u001b[1;32mdel\u001b[0m \u001b[0mthislist\u001b[0m\u001b[1;33m\u001b[0m\u001b[1;33m\u001b[0m\u001b[0m\n\u001b[1;32m----> 6\u001b[1;33m \u001b[0mprint\u001b[0m\u001b[1;33m(\u001b[0m\u001b[0mthislist\u001b[0m\u001b[1;33m)\u001b[0m \u001b[1;31m#this will cause an error because you have succsesfully deleted \"thislist\".\u001b[0m\u001b[1;33m\u001b[0m\u001b[1;33m\u001b[0m\u001b[0m\n\u001b[0m",
      "\u001b[1;31mNameError\u001b[0m: name 'thislist' is not defined"
     ]
    }
   ],
   "source": [
    "# Example Delete the entire list:\n",
    "\n",
    "thislist = [\"apple\", \"banana\", \"cherry\"]\n",
    "print(thislist)\n",
    "del thislist\n",
    "print(thislist) #this will cause an error because you have succsesfully deleted \"thislist\"."
   ]
  },
  {
   "cell_type": "markdown",
   "id": "8e14ed97",
   "metadata": {},
   "source": [
    "### List clear() Method  (Clear the List)\n",
    "\n",
    "The clear() method empties the list.\n",
    "\n",
    "The list still remains, but it has no content.\n",
    "\n",
    "`Definition and Usage\n",
    "The clear() method removes all the elements from a list.\n",
    "Syntax\n",
    "list.clear()\n",
    "Parameter Values\n",
    "No parameters`"
   ]
  },
  {
   "cell_type": "code",
   "execution_count": 66,
   "id": "1f10ce7e",
   "metadata": {},
   "outputs": [
    {
     "name": "stdout",
     "output_type": "stream",
     "text": [
      "['apple', 'banana', 'cherry']\n",
      "3\n",
      "[]\n",
      "0\n"
     ]
    }
   ],
   "source": [
    "# Example Remove all elements from the fruits list:\n",
    "fruits = [\"apple\", \"banana\", \"cherry\"]\n",
    "print(fruits)\n",
    "print(len(fruits))\n",
    "\n",
    "fruits.clear()\n",
    "print(fruits)\n",
    "print(len(fruits))"
   ]
  },
  {
   "cell_type": "markdown",
   "id": "9f36b393",
   "metadata": {},
   "source": [
    "### List copy() Method \n",
    "\n",
    "You cannot copy a list simply by typing list2 = list1, because: list2 will only be a reference to list1, and changes made in list1 will automatically also be made in list2.\n",
    "\n",
    "There are ways to make a copy, \n",
    "\n",
    "1. one way is to use the built-in List method copy().\n",
    "\n",
    "`Definition and Usage\n",
    "The copy() method returns a copy of the specified list.\n",
    "Syntax\n",
    "list.copy()\n",
    "Parameter Values\n",
    "No parameters`"
   ]
  },
  {
   "cell_type": "code",
   "execution_count": 67,
   "id": "7a23221e",
   "metadata": {},
   "outputs": [
    {
     "name": "stdout",
     "output_type": "stream",
     "text": [
      "['apple', 'banana', 'cherry']\n",
      "\n",
      "['apple', 'banana', 'cherry']\n",
      "\n",
      "['apple', 'banana', 'cherry']\n",
      "['apple', 'banana', 'cherry', 'orange']\n",
      "1882593301888\n",
      "1882593301056\n"
     ]
    }
   ],
   "source": [
    "# Example Make a copy of a list with the copy() method:\n",
    "\n",
    "thislist = [\"apple\", \"banana\", \"cherry\"]\n",
    "print(thislist)\n",
    "\n",
    "print()\n",
    "mylist = thislist.copy()\n",
    "print(mylist)\n",
    "\n",
    "print()\n",
    "mylist.append(\"orange\")\n",
    "print(thislist) # \"orange\" will NOT be added to this as thislist is sepearte list\n",
    "print(mylist) # \"orange\" will be added to this only as mylist is sepearte list \n",
    "\n",
    "print(id(thislist)) # see here both points to a sepearte object location \n",
    "print(id(mylist))"
   ]
  },
  {
   "cell_type": "code",
   "execution_count": 68,
   "id": "5c2742fd",
   "metadata": {},
   "outputs": [
    {
     "name": "stdout",
     "output_type": "stream",
     "text": [
      "['apple', 'banana', 'cherry']\n",
      "\n",
      "['apple', 'banana', 'cherry']\n",
      "\n",
      "['apple', 'banana', 'cherry', 'orange']\n",
      "['apple', 'banana', 'cherry', 'orange']\n",
      "1882593301504\n",
      "1882593301504\n"
     ]
    }
   ],
   "source": [
    "thislist = [\"apple\", \"banana\", \"cherry\"]\n",
    "print(thislist)\n",
    "print()\n",
    "mylist = thislist\n",
    "print(mylist)\n",
    "print()\n",
    "mylist.append(\"orange\")\n",
    "print(thislist) # \"orange\" will be added to this as thislist is list as mylist and thislist are referrning same object \n",
    "print(mylist)\n",
    "print(id(thislist))\n",
    "print(id(mylist))"
   ]
  },
  {
   "cell_type": "markdown",
   "id": "49df561a",
   "metadata": {},
   "source": [
    "### List list() method (remember to use only single round-brackets(). its different then list construtor)\n",
    "Another way to make a copy is to use the built-in method list()."
   ]
  },
  {
   "cell_type": "markdown",
   "id": "c4a09de4",
   "metadata": {},
   "source": [
    "__list() as method__ is used to copy a alreday existing list and create another list __(copy)__"
   ]
  },
  {
   "cell_type": "code",
   "execution_count": 69,
   "id": "42273d9a",
   "metadata": {},
   "outputs": [
    {
     "name": "stdout",
     "output_type": "stream",
     "text": [
      "['apple', 'banana', 'cherry']\n",
      "['apple', 'banana', 'cherry']\n"
     ]
    }
   ],
   "source": [
    "#Example Make a copy of a list with the list() method:\n",
    "thislist = [\"apple\", \"banana\", \"cherry\"]\n",
    "print(thislist)\n",
    "mylist = list(thislist) # note the single round-brackets and single squre brackets\n",
    "print(mylist)"
   ]
  },
  {
   "cell_type": "code",
   "execution_count": 70,
   "id": "0b48f2f7",
   "metadata": {
    "scrolled": true
   },
   "outputs": [
    {
     "name": "stdout",
     "output_type": "stream",
     "text": [
      "['apple', 'banana', 'cherry']\n"
     ]
    }
   ],
   "source": [
    "# just creating a list by giing a list as below. its meaningless as we just create list like \n",
    "#  mylist = list(\"apple\", \"banana\", \"cherry\")\n",
    "\n",
    "mylist = list([\"apple\", \"banana\", \"cherry\"]) # note the single round-brackets and single squre brackets\n",
    "print(mylist)"
   ]
  },
  {
   "cell_type": "markdown",
   "id": "b82a432e",
   "metadata": {},
   "source": [
    "its different then __list constructor__ where you have to give actual values or tuple of values to create list __create new__"
   ]
  },
  {
   "cell_type": "code",
   "execution_count": 71,
   "id": "f0c4e967",
   "metadata": {},
   "outputs": [
    {
     "name": "stdout",
     "output_type": "stream",
     "text": [
      "<class 'tuple'> ('apple', 'banana', 'cherry')\n",
      "<class 'list'> ['apple', 'banana', 'cherry']\n",
      "<class 'list'> ['apple', 'banana', 'cherry']\n"
     ]
    }
   ],
   "source": [
    "atuple = (\"apple\", \"banana\", \"cherry\")\n",
    "print(type(atuple), atuple)\n",
    "\n",
    "mylist1 = list(atuple)  # creating a list form tuple.\n",
    "print(type(mylist), mylist)\n",
    "\n",
    "# you can directly provide values with double round brackets.(i.e. put tuple inside single round brackets)\n",
    "mylist2 = list((\"apple\", \"banana\", \"cherry\")) # see the  double round-brackets. its list constructor\n",
    "print(type(mylist2), mylist2)"
   ]
  },
  {
   "cell_type": "code",
   "execution_count": 72,
   "id": "0ec4bedd",
   "metadata": {
    "scrolled": true
   },
   "outputs": [
    {
     "name": "stdout",
     "output_type": "stream",
     "text": [
      "['apple', 'banana', 'cherry']\n"
     ]
    },
    {
     "ename": "TypeError",
     "evalue": "list expected at most 1 argument, got 3",
     "output_type": "error",
     "traceback": [
      "\u001b[1;31m---------------------------------------------------------------------------\u001b[0m",
      "\u001b[1;31mTypeError\u001b[0m                                 Traceback (most recent call last)",
      "\u001b[1;32m<ipython-input-72-0e44c4837e43>\u001b[0m in \u001b[0;36m<module>\u001b[1;34m\u001b[0m\n\u001b[0;32m      1\u001b[0m \u001b[0mthislist\u001b[0m \u001b[1;33m=\u001b[0m \u001b[1;33m[\u001b[0m\u001b[1;34m\"apple\"\u001b[0m\u001b[1;33m,\u001b[0m \u001b[1;34m\"banana\"\u001b[0m\u001b[1;33m,\u001b[0m \u001b[1;34m\"cherry\"\u001b[0m\u001b[1;33m]\u001b[0m\u001b[1;33m\u001b[0m\u001b[1;33m\u001b[0m\u001b[0m\n\u001b[0;32m      2\u001b[0m \u001b[0mprint\u001b[0m\u001b[1;33m(\u001b[0m\u001b[0mthislist\u001b[0m\u001b[1;33m)\u001b[0m\u001b[1;33m\u001b[0m\u001b[1;33m\u001b[0m\u001b[0m\n\u001b[1;32m----> 3\u001b[1;33m \u001b[0mmylist\u001b[0m \u001b[1;33m=\u001b[0m \u001b[0mlist\u001b[0m\u001b[1;33m(\u001b[0m\u001b[1;34m\"apple\"\u001b[0m\u001b[1;33m,\u001b[0m \u001b[1;34m\"banana\"\u001b[0m\u001b[1;33m,\u001b[0m \u001b[1;34m\"cherry\"\u001b[0m\u001b[1;33m)\u001b[0m \u001b[1;31m# this will be an ERROR\u001b[0m\u001b[1;33m\u001b[0m\u001b[1;33m\u001b[0m\u001b[0m\n\u001b[0m\u001b[0;32m      4\u001b[0m \u001b[0mprint\u001b[0m\u001b[1;33m(\u001b[0m\u001b[0mmylist\u001b[0m\u001b[1;33m)\u001b[0m\u001b[1;33m\u001b[0m\u001b[1;33m\u001b[0m\u001b[0m\n",
      "\u001b[1;31mTypeError\u001b[0m: list expected at most 1 argument, got 3"
     ]
    }
   ],
   "source": [
    "thislist = [\"apple\", \"banana\", \"cherry\"]\n",
    "print(thislist)\n",
    "mylist = list(\"apple\", \"banana\", \"cherry\") # this will be an ERROR \n",
    "print(mylist)"
   ]
  },
  {
   "cell_type": "markdown",
   "id": "61af26fe",
   "metadata": {},
   "source": [
    "### The list() Constructor\n",
    "\n",
    "It is also possible to use the list() constructor when creating a new list."
   ]
  },
  {
   "cell_type": "code",
   "execution_count": 73,
   "id": "22ec2382",
   "metadata": {},
   "outputs": [
    {
     "name": "stdout",
     "output_type": "stream",
     "text": [
      "['apple', 'banana', 'cherry']\n"
     ]
    }
   ],
   "source": [
    "# Example Using the list() constructor to make a List:\n",
    "thislist = list((\"apple\", \"banana\", \"cherry\")) # note the double round-brackets\n",
    "print(thislist)"
   ]
  },
  {
   "cell_type": "markdown",
   "id": "a384e4f0",
   "metadata": {},
   "source": [
    "### List sort() Method\n",
    "\n",
    "List objects have a sort() method that will sort the list alphanumerically, ascending, by default:\n",
    "\n",
    "`Definition and Usage\n",
    "The sort() method sorts the list ascending by default.\n",
    "You can also make a function to decide the sorting criteria(s).\n",
    "Syntax\n",
    "list.sort(reverse=True|False, key=myFunc)\n",
    "Parameter Values\n",
    "Parameter\tDescription\n",
    "reverse\tOptional. reverse=True will sort the list descending. Default is reverse=False\n",
    "key\t    Optional. A function to specify the sorting criteria(s)`"
   ]
  },
  {
   "cell_type": "code",
   "execution_count": 74,
   "id": "0f9e936a",
   "metadata": {},
   "outputs": [
    {
     "name": "stdout",
     "output_type": "stream",
     "text": [
      "['BMW', 'Ford', 'Volvo']\n"
     ]
    }
   ],
   "source": [
    "# Example Sort the list ascending:\n",
    "cars = ['Ford', 'BMW', 'Volvo']\n",
    "\n",
    "cars.sort() # ----------> no order thn Ascending and no function then by default alphabetically\n",
    "\n",
    "print(cars)"
   ]
  },
  {
   "cell_type": "code",
   "execution_count": 75,
   "id": "3bf69043",
   "metadata": {},
   "outputs": [
    {
     "name": "stdout",
     "output_type": "stream",
     "text": [
      "['Volvo', 'Ford', 'BMW']\n"
     ]
    }
   ],
   "source": [
    "# Example Sort the list descending:\n",
    "cars = ['Ford', 'BMW', 'Volvo']\n",
    "\n",
    "cars.sort(reverse=True)\n",
    "\n",
    "print(cars)"
   ]
  },
  {
   "cell_type": "code",
   "execution_count": 76,
   "id": "db133f82",
   "metadata": {},
   "outputs": [
    {
     "name": "stdout",
     "output_type": "stream",
     "text": [
      "['VW', 'BMW', 'Ford', 'Mitsubishi']\n"
     ]
    }
   ],
   "source": [
    "# Example Sort the list by the length of the values:(in acending order)\n",
    "\n",
    "# A function that returns the length of the value:\n",
    "def myFunc(e):\n",
    "    return len(e)\n",
    "\n",
    "cars = ['Ford', 'Mitsubishi', 'BMW', 'VW']\n",
    "\n",
    "cars.sort(key=myFunc)\n",
    "\n",
    "print(cars)"
   ]
  },
  {
   "cell_type": "code",
   "execution_count": 77,
   "id": "01d07a61",
   "metadata": {},
   "outputs": [
    {
     "name": "stdout",
     "output_type": "stream",
     "text": [
      "['Mitsubishi', 'Ford', 'BMW', 'VW']\n"
     ]
    }
   ],
   "source": [
    "# Example Sort the list by the length of the values and reversed:(Decending order)\n",
    "\n",
    "# A function that returns the length of the value:\n",
    "def myFunc(e):\n",
    "    return len(e)\n",
    "\n",
    "cars = ['Ford', 'Mitsubishi', 'BMW', 'VW']\n",
    "\n",
    "cars.sort(reverse=True, key=myFunc)\n",
    "print(cars)"
   ]
  },
  {
   "cell_type": "code",
   "execution_count": 78,
   "id": "0cce21ef",
   "metadata": {},
   "outputs": [
    {
     "name": "stdout",
     "output_type": "stream",
     "text": [
      "[{'car': 'Ford', 'year': 2005}, {'car': 'Mitsubishi', 'year': 2000}, {'car': 'BMW', 'year': 2019}, {'car': 'VW', 'year': 2011}]\n",
      "<class 'list'>\n",
      "<class 'dict'>\n",
      "[{'car': 'Mitsubishi', 'year': 2000}, {'car': 'Ford', 'year': 2005}, {'car': 'VW', 'year': 2011}, {'car': 'BMW', 'year': 2019}]\n"
     ]
    }
   ],
   "source": [
    "# Example Sort a list of dictionaries based on the \"year\" value of the dictionaries:\n",
    "\n",
    "# A function that returns the 'year' value:\n",
    "def myFunc(e):\n",
    "    return e['year']\n",
    "\n",
    "\n",
    "cars = [{'car': 'Ford', 'year': 2005},\n",
    "        {'car': 'Mitsubishi', 'year': 2000},\n",
    "        {'car': 'BMW', 'year': 2019},\n",
    "        {'car': 'VW', 'year': 2011}]\n",
    "\n",
    "print(cars)\n",
    "print(type(cars))\n",
    "print(type(cars[2]))\n",
    "cars.sort(key=myFunc)\n",
    "print(cars)"
   ]
  },
  {
   "cell_type": "code",
   "execution_count": 79,
   "id": "34b26a02",
   "metadata": {},
   "outputs": [
    {
     "name": "stdout",
     "output_type": "stream",
     "text": [
      "['orange', 'mango', 'kiwi', 'pineapple', 'banana']\n",
      "['banana', 'kiwi', 'mango', 'orange', 'pineapple']\n"
     ]
    }
   ],
   "source": [
    "# Example Sort the list alphabetically:\n",
    "\n",
    "thislist = [\"orange\", \"mango\", \"kiwi\", \"pineapple\", \"banana\"]\n",
    "print(thislist)\n",
    "\n",
    "thislist.sort()\n",
    "print(thislist)"
   ]
  },
  {
   "cell_type": "code",
   "execution_count": 80,
   "id": "ef08fdde",
   "metadata": {},
   "outputs": [
    {
     "name": "stdout",
     "output_type": "stream",
     "text": [
      "[100, 50, 65, 82, 23]\n",
      "[23, 50, 65, 82, 100]\n"
     ]
    }
   ],
   "source": [
    "# Example Sort the list numerically:\n",
    "\n",
    "thislist = [100, 50, 65, 82, 23]\n",
    "print(thislist)\n",
    "\n",
    "thislist.sort()\n",
    "print(thislist)"
   ]
  },
  {
   "cell_type": "markdown",
   "id": "2e15e8a8",
   "metadata": {},
   "source": [
    "To sort descending, use the keyword argument reverse = True:"
   ]
  },
  {
   "cell_type": "code",
   "execution_count": 81,
   "id": "6efd493f",
   "metadata": {},
   "outputs": [
    {
     "name": "stdout",
     "output_type": "stream",
     "text": [
      "['orange', 'mango', 'kiwi', 'pineapple', 'banana']\n",
      "['pineapple', 'orange', 'mango', 'kiwi', 'banana']\n"
     ]
    }
   ],
   "source": [
    "# Example Sort the list descending:\n",
    "\n",
    "thislist = [\"orange\", \"mango\", \"kiwi\", \"pineapple\", \"banana\"]\n",
    "print(thislist)\n",
    "\n",
    "thislist.sort(reverse=True)\n",
    "print(thislist)"
   ]
  },
  {
   "cell_type": "code",
   "execution_count": 82,
   "id": "1448c00d",
   "metadata": {},
   "outputs": [
    {
     "name": "stdout",
     "output_type": "stream",
     "text": [
      "[100, 82, 65, 50, 23]\n"
     ]
    }
   ],
   "source": [
    "# Example Sort the list descending:\n",
    "\n",
    "thislist = [100, 50, 65, 82, 23]\n",
    "thislist.sort(reverse = True)\n",
    "print(thislist)"
   ]
  },
  {
   "cell_type": "markdown",
   "id": "e35de644",
   "metadata": {},
   "source": [
    "__Customize Sort Function__\n",
    "\n",
    "You can also customize your own function by using the keyword argument key = function.\n",
    "\n",
    "The function will return a number that will be used to sort the list (the lowest number first):"
   ]
  },
  {
   "cell_type": "code",
   "execution_count": 83,
   "id": "0746855c",
   "metadata": {},
   "outputs": [
    {
     "name": "stdout",
     "output_type": "stream",
     "text": [
      "[100, 50, 65, 82, 23]\n",
      "[50, 65, 23, 82, 100]\n"
     ]
    }
   ],
   "source": [
    "# Example Sort the list based on how close the number is to 50:\n",
    "def myfunc(n):\n",
    "    return abs(n - 50)\n",
    "\n",
    "\n",
    "thislist = [100, 50, 65, 82, 23]\n",
    "\n",
    "print(thislist)\n",
    "thislist.sort(key=myfunc)\n",
    "print(thislist)"
   ]
  },
  {
   "cell_type": "markdown",
   "id": "a099549c",
   "metadata": {},
   "source": [
    "__Case Insensitive Sort__\n",
    "\n",
    "By default the sort() method is case sensitive, resulting in all _capital letters_ being sorted before lower case letters:"
   ]
  },
  {
   "cell_type": "code",
   "execution_count": 84,
   "id": "74a3436f",
   "metadata": {},
   "outputs": [
    {
     "name": "stdout",
     "output_type": "stream",
     "text": [
      "['banana', 'Orange', 'Kiwi', 'cherry']\n",
      "['Kiwi', 'Orange', 'banana', 'cherry']\n"
     ]
    }
   ],
   "source": [
    "# Example Case sensitive sorting can give an unexpected result:\n",
    "\n",
    "thislist = [\"banana\", \"Orange\", \"Kiwi\", \"cherry\"] # here \"Kiwi\" and \"Orange\" start with capital letter \n",
    "print(thislist)\n",
    "thislist.sort()\n",
    "print(thislist)"
   ]
  },
  {
   "cell_type": "markdown",
   "id": "f3c0028c",
   "metadata": {},
   "source": [
    "see above, we expacted  sort output as `['banana', 'cherry', 'kiwi', 'orange']`\n",
    "but we got `['Kiwi', 'Orange', 'banana', 'cherry']` because 'Kiwi', 'Orange' start with captial letter.\n",
    "\n",
    "Luckily we can use built-in functions as key functions when sorting a list.\n",
    "\n",
    "So if you want a case-insensitive sort function, use str.lower as a key function:"
   ]
  },
  {
   "cell_type": "code",
   "execution_count": 85,
   "id": "4cc3bdfb",
   "metadata": {},
   "outputs": [
    {
     "name": "stdout",
     "output_type": "stream",
     "text": [
      "['banana', 'Orange', 'Kiwi', 'cherry']\n",
      "['banana', 'cherry', 'Kiwi', 'Orange']\n"
     ]
    }
   ],
   "source": [
    "# Example Perform a case-insensitive sort of the list:\n",
    "\n",
    "thislist = [\"banana\", \"Orange\", \"Kiwi\", \"cherry\"]\n",
    "print(thislist)\n",
    "thislist.sort(key = str.lower)\n",
    "print(thislist)"
   ]
  },
  {
   "cell_type": "code",
   "execution_count": 86,
   "id": "2d67f75a",
   "metadata": {},
   "outputs": [
    {
     "name": "stdout",
     "output_type": "stream",
     "text": [
      "['banana', 'Orange', 'Kiwi', 'cherry']\n",
      "None\n",
      "<class 'NoneType'>\n"
     ]
    }
   ],
   "source": [
    "# if you reassign the sort() result to other variables then it will be nothing;\n",
    "thislist = [\"banana\", \"Orange\", \"Kiwi\", \"cherry\"]\n",
    "print(thislist)\n",
    "my_sorted_list = thislist.sort(key = str.lower)\n",
    "print(my_sorted_list)\n",
    "print(type(my_sorted_list)) # <class 'NoneType'> this is the type of a None object"
   ]
  },
  {
   "cell_type": "code",
   "execution_count": 87,
   "id": "2b41e583",
   "metadata": {},
   "outputs": [
    {
     "name": "stdout",
     "output_type": "stream",
     "text": [
      "['banana', 'Orange', 'Kiwi', 'cherry']\n",
      "['banana', 'cherry', 'Kiwi', 'Orange']\n",
      "<class 'list'>\n"
     ]
    }
   ],
   "source": [
    "# try this way . it will work\n",
    "thislist = [\"banana\", \"Orange\", \"Kiwi\", \"cherry\"]\n",
    "print(thislist)\n",
    "thislist.sort(key = str.lower)\n",
    "my_sorted_list = thislist\n",
    "print(my_sorted_list)\n",
    "print(type(my_sorted_list)) "
   ]
  },
  {
   "cell_type": "markdown",
   "id": "856e919a",
   "metadata": {},
   "source": [
    "### None object \n",
    "\n",
    "There is a special object called “None” in Python "
   ]
  },
  {
   "cell_type": "code",
   "execution_count": 88,
   "id": "7f0d5d17",
   "metadata": {},
   "outputs": [
    {
     "name": "stdout",
     "output_type": "stream",
     "text": [
      "None\n"
     ]
    }
   ],
   "source": [
    "print(None) # it undersatnd what is None"
   ]
  },
  {
   "cell_type": "code",
   "execution_count": 89,
   "id": "7c463e5e",
   "metadata": {},
   "outputs": [
    {
     "ename": "NameError",
     "evalue": "name 'test' is not defined",
     "output_type": "error",
     "traceback": [
      "\u001b[1;31m---------------------------------------------------------------------------\u001b[0m",
      "\u001b[1;31mNameError\u001b[0m                                 Traceback (most recent call last)",
      "\u001b[1;32m<ipython-input-89-bf450c2779f9>\u001b[0m in \u001b[0;36m<module>\u001b[1;34m\u001b[0m\n\u001b[1;32m----> 1\u001b[1;33m \u001b[0mprint\u001b[0m\u001b[1;33m(\u001b[0m\u001b[0mtest\u001b[0m\u001b[1;33m)\u001b[0m \u001b[1;31m# see it did not undersatnd what is test\u001b[0m\u001b[1;33m\u001b[0m\u001b[1;33m\u001b[0m\u001b[0m\n\u001b[0m",
      "\u001b[1;31mNameError\u001b[0m: name 'test' is not defined"
     ]
    }
   ],
   "source": [
    "print(test) # see it did not undersatnd what is test "
   ]
  },
  {
   "cell_type": "markdown",
   "id": "8e93a093",
   "metadata": {},
   "source": [
    "### List reverse() Method\n",
    "\n",
    "\n",
    "`Definition and Usage\n",
    "The reverse() method reverses the sorting order of the elements.\n",
    "Syntax\n",
    "list.reverse()\n",
    "Parameter Values\n",
    "No parameters\n",
    "Related Pages\n",
    "The buil-in function reversed() returns a reversed iterator object.`"
   ]
  },
  {
   "cell_type": "code",
   "execution_count": 90,
   "id": "ed26b7be",
   "metadata": {},
   "outputs": [
    {
     "name": "stdout",
     "output_type": "stream",
     "text": [
      "['apple', 'banana', 'cherry']\n",
      "['cherry', 'banana', 'apple']\n"
     ]
    }
   ],
   "source": [
    "# Example Reverse the order of the fruit list:\n",
    "fruits = ['apple', 'banana', 'cherry']\n",
    "print(fruits)\n",
    "\n",
    "fruits.reverse()\n",
    "print(fruits)"
   ]
  },
  {
   "cell_type": "markdown",
   "id": "2939e6de",
   "metadata": {},
   "source": [
    "What if you want to reverse the order of a list, regardless of the alphabet?\n",
    "The reverse() method reverses the current sorting order of the elements."
   ]
  },
  {
   "cell_type": "code",
   "execution_count": 91,
   "id": "1cfca7e9",
   "metadata": {},
   "outputs": [
    {
     "name": "stdout",
     "output_type": "stream",
     "text": [
      "['banana', 'Orange', 'Kiwi', 'cherry']\n",
      "['cherry', 'Kiwi', 'Orange', 'banana']\n"
     ]
    }
   ],
   "source": [
    "# Example Reverse the order of the list items:\n",
    "thislist = [\"banana\", \"Orange\", \"Kiwi\", \"cherry\"]\n",
    "print(thislist)\n",
    "\n",
    "thislist.reverse()\n",
    "print(thislist)"
   ]
  },
  {
   "cell_type": "markdown",
   "id": "9ad30898",
   "metadata": {},
   "source": [
    "### List count() Method\n",
    "\n",
    "`Definition and Usage\n",
    "The count() method returns the number of elements with the specified value.\n",
    "Syntax\n",
    "list.count(value)\n",
    "Parameter Values\n",
    "Parameter\tDescription\n",
    "value\tRequired. Any type (string, number, list, tuple, etc.). The value to search for`"
   ]
  },
  {
   "cell_type": "code",
   "execution_count": 92,
   "id": "49bb8bbf",
   "metadata": {},
   "outputs": [
    {
     "name": "stdout",
     "output_type": "stream",
     "text": [
      "1\n"
     ]
    }
   ],
   "source": [
    "# Example Return the number of times the value \"cherry\" appears in the fruits list:\n",
    "fruits = [\"apple\", \"banana\", \"cherry\"]\n",
    "\n",
    "x = fruits.count(\"cherry\")\n",
    "\n",
    "print(x)"
   ]
  },
  {
   "cell_type": "code",
   "execution_count": 93,
   "id": "488e9dff",
   "metadata": {},
   "outputs": [
    {
     "name": "stdout",
     "output_type": "stream",
     "text": [
      "2\n"
     ]
    }
   ],
   "source": [
    "# Example Return the number of times the value 9 appears int the list:\n",
    "points = [1, 4, 2, 9, 7, 8, 9, 3, 1]\n",
    "\n",
    "x = points.count(9)\n",
    "\n",
    "print(x)"
   ]
  },
  {
   "cell_type": "markdown",
   "id": "59404150",
   "metadata": {},
   "source": [
    "### List index() Method\n",
    "\n",
    "`Definition and Usage\n",
    "The index() method returns the position/index of  the first occurrence of the specified value.\n",
    "Syntax\n",
    "list.index(elmnt)\n",
    "Parameter Values\n",
    "Parameter\tDescription\n",
    "elmnt\tRequired. Any type (string, number, list, etc.). The element to search for`"
   ]
  },
  {
   "cell_type": "code",
   "execution_count": 94,
   "id": "4a6464e1",
   "metadata": {},
   "outputs": [
    {
     "name": "stdout",
     "output_type": "stream",
     "text": [
      "['apple', 'banana', 'cherry']\n",
      "index/position of 'cherry' is : 2\n"
     ]
    }
   ],
   "source": [
    "# Example What is the position of the value \"cherry\":\n",
    "fruits = ['apple', 'banana', 'cherry']\n",
    "print(fruits)\n",
    "\n",
    "x = fruits.index(\"cherry\")\n",
    "print(\"index/position of 'cherry' is :\", x)"
   ]
  },
  {
   "cell_type": "markdown",
   "id": "c972b0b9",
   "metadata": {},
   "source": [
    "__Note: The index() method only returns the first occurrence of the value.__\n",
    "\n",
    "see in below example. we have value 32, two times in list `points` but we have got result as 3 only. which means only first occurence been counted."
   ]
  },
  {
   "cell_type": "code",
   "execution_count": 95,
   "id": "de422996",
   "metadata": {},
   "outputs": [
    {
     "name": "stdout",
     "output_type": "stream",
     "text": [
      "[4, 55, 64, 32, 16, 32]\n",
      "index/position of 32 in list is : 3\n"
     ]
    }
   ],
   "source": [
    "# Example What is the position of the value 32:\n",
    "points = [4, 55, 64, 32, 16, 32]\n",
    "print(points)\n",
    "\n",
    "x = points.index(32)\n",
    "print(\"index/position of 32 in list is :\", x)"
   ]
  },
  {
   "attachments": {
    "image-4.png": {
     "image/png": "[encoded data removed]"
    }
   },
   "cell_type": "markdown",
   "id": "1db87ed9",
   "metadata": {},
   "source": [
    "#  Python Tuple\n",
    "\n",
    "__NOTE__\n",
    "* Python does not have built-in support for Arrays, but Python Lists can be used instead.\n",
    "* This page shows you how to use LISTS as ARRAYS, however, to work with arrays in Python you will have to import a library, like the NumPy library\n",
    "* Set items are unchangeable, but you can remove and/or add items whenever you like\n",
    "* As of Python version 3.7, dictionaries are ordered. In Python 3.6 and earlier, dictionaries are unordered\n",
    "\n",
    "There are four collection data types in the Python programming language:\n",
    "\n",
    "* List\t\tis a collection which is ordered,indexed and changeable (mutable).    \t Y duplicates members.\n",
    "* Tuple\t\tis a collection which is ordered,indexed and unchangeable. (immutable) Y duplicate members.\n",
    "* Dictionary is a collection which is ordered,indexed and changeable (mutable).       N duplicate members.\n",
    "* Set\t\t is a collection which is unordered and unindexed.  (mutable).                 N duplicate members.\n",
    "\n",
    "\n",
    "![image-4.png](attachment:image-4.png)\n",
    "\n",
    "\n",
    "\n",
    "When choosing a collection type, it is useful to understand the properties of that type. Choosing the right type for a particular data set could mean retention of meaning, and, it could mean an increase in efficiency or security.\n",
    "\n",
    "__Tuple__\n",
    "\n",
    "Tuples are used to store multiple items in a single variable.\n",
    "\n",
    "Tuple is one of 4 built-in data types in Python used to store collections of data, the other 3 are List, Set, and Dictionary, all with different qualities and usage.\n",
    "\n",
    "\n",
    "A tuple is a collection which is ordered and unchangeable. In Python tuples are written with round brackets.\n",
    "\n",
    "You Cannot add or Delete any element of Tuple. You can just access using index and can delete entire Tuple \n",
    "\n",
    "* Ordered  : The order of elements in Tuple would be Fix. If “apple” is first element in tuple, then whatever times to print the tuple “apple” will be first \n",
    "* Indexed : Tuple elements can be accessed by index value like 0,1 etc.\n",
    "* Unchangeable : add, update and delete of elements are NOT possible.\n",
    "* Full collection deletes : Entire tuple can be deleted.\n",
    "* Duplicate allowed : Elements can be repeated in tuple \n",
    "\n"
   ]
  },
  {
   "cell_type": "code",
   "execution_count": 96,
   "id": "62252fd5",
   "metadata": {},
   "outputs": [
    {
     "name": "stdout",
     "output_type": "stream",
     "text": [
      "('apple', 'banana', 'cherry')\n"
     ]
    }
   ],
   "source": [
    "# Example Create a Tuple:\n",
    "\n",
    "thistuple = (\"apple\", \"banana\", \"cherry\")\n",
    "print(thistuple)"
   ]
  },
  {
   "cell_type": "markdown",
   "id": "0d25b2df",
   "metadata": {},
   "source": [
    "## Tuple Items\n",
    "\n",
    "Tuple items are ordered, unchangeable, and allow duplicate values.\n",
    "\n",
    "we can create Tuple as ; `tuple = (values,values,.....)`\n",
    "\n",
    "Tuple items are indexed, the first item has index [0], the second item has index [1] etc."
   ]
  },
  {
   "cell_type": "code",
   "execution_count": 97,
   "id": "b818c5ae",
   "metadata": {},
   "outputs": [
    {
     "name": "stdout",
     "output_type": "stream",
     "text": [
      "('apple', 'banana', 'cherry')\n"
     ]
    }
   ],
   "source": [
    "thistuple = (\"apple\", \"banana\", \"cherry\")\n",
    "print(thistuple)"
   ]
  },
  {
   "cell_type": "code",
   "execution_count": 98,
   "id": "d5b22dfb",
   "metadata": {},
   "outputs": [
    {
     "data": {
      "text/plain": [
       "'apple'"
      ]
     },
     "execution_count": 98,
     "metadata": {},
     "output_type": "execute_result"
    }
   ],
   "source": [
    "thistuple[0]"
   ]
  },
  {
   "cell_type": "code",
   "execution_count": 99,
   "id": "f8becfc4",
   "metadata": {},
   "outputs": [
    {
     "data": {
      "text/plain": [
       "'banana'"
      ]
     },
     "execution_count": 99,
     "metadata": {},
     "output_type": "execute_result"
    }
   ],
   "source": [
    "thistuple[1]"
   ]
  },
  {
   "cell_type": "code",
   "execution_count": 100,
   "id": "1a834b51",
   "metadata": {},
   "outputs": [
    {
     "data": {
      "text/plain": [
       "'cherry'"
      ]
     },
     "execution_count": 100,
     "metadata": {},
     "output_type": "execute_result"
    }
   ],
   "source": [
    "thistuple[2]"
   ]
  },
  {
   "cell_type": "code",
   "execution_count": 101,
   "id": "01f85a8f",
   "metadata": {},
   "outputs": [
    {
     "ename": "IndexError",
     "evalue": "tuple index out of range",
     "output_type": "error",
     "traceback": [
      "\u001b[1;31m---------------------------------------------------------------------------\u001b[0m",
      "\u001b[1;31mIndexError\u001b[0m                                Traceback (most recent call last)",
      "\u001b[1;32m<ipython-input-101-1a99a858315c>\u001b[0m in \u001b[0;36m<module>\u001b[1;34m\u001b[0m\n\u001b[1;32m----> 1\u001b[1;33m \u001b[0mthistuple\u001b[0m\u001b[1;33m[\u001b[0m\u001b[1;36m3\u001b[0m\u001b[1;33m]\u001b[0m\u001b[1;33m\u001b[0m\u001b[1;33m\u001b[0m\u001b[0m\n\u001b[0m",
      "\u001b[1;31mIndexError\u001b[0m: tuple index out of range"
     ]
    }
   ],
   "source": [
    "thistuple[3]"
   ]
  },
  {
   "cell_type": "markdown",
   "id": "f845ee49",
   "metadata": {},
   "source": [
    "## Ordered\n",
    "\n",
    "When we say that tuples are ordered, it means that the items have a defined order, and that order will not change."
   ]
  },
  {
   "cell_type": "markdown",
   "id": "e572fdad",
   "metadata": {},
   "source": [
    "## Unchangeable\n",
    "\n",
    "Tuples are unchangeable, meaning that we cannot change, add or remove items after the tuple has been created.\n"
   ]
  },
  {
   "cell_type": "markdown",
   "id": "dfdf62f2",
   "metadata": {},
   "source": [
    "## Allow Duplicates\n",
    "\n",
    "Since tuples are indexed, they can have items with the same value"
   ]
  },
  {
   "cell_type": "code",
   "execution_count": 102,
   "id": "66c7e865",
   "metadata": {},
   "outputs": [
    {
     "name": "stdout",
     "output_type": "stream",
     "text": [
      "('apple', 'banana', 'cherry', 'apple', 'cherry')\n"
     ]
    }
   ],
   "source": [
    "# Example Tuples allow duplicate values:\n",
    "\n",
    "thistuple = (\"apple\", \"banana\", \"cherry\", \"apple\", \"cherry\")\n",
    "print(thistuple)"
   ]
  },
  {
   "cell_type": "markdown",
   "id": "ca1eea2f",
   "metadata": {},
   "source": [
    "## Tuple Length\n",
    "\n",
    "To determine how many items a tuple has, use the len() function:"
   ]
  },
  {
   "cell_type": "code",
   "execution_count": 103,
   "id": "56bebb82",
   "metadata": {},
   "outputs": [
    {
     "name": "stdout",
     "output_type": "stream",
     "text": [
      "3\n"
     ]
    }
   ],
   "source": [
    "# Example Print the number of items in the tuple:\n",
    "\n",
    "thistuple = (\"apple\", \"banana\", \"cherry\")\n",
    "print(len(thistuple))"
   ]
  },
  {
   "cell_type": "markdown",
   "id": "bc1dd54b",
   "metadata": {},
   "source": [
    "## Create Tuple With One Item\n",
    "\n",
    "To create a tuple with only one item, you have to __add a comma after the item, otherwise Python will not recognize it as a tuple.__"
   ]
  },
  {
   "cell_type": "code",
   "execution_count": 104,
   "id": "771f13a9",
   "metadata": {},
   "outputs": [
    {
     "name": "stdout",
     "output_type": "stream",
     "text": [
      "<class 'tuple'>\n",
      "<class 'str'>\n"
     ]
    }
   ],
   "source": [
    "# Example One item tuple, remember the comma:\n",
    "thistuple = (\"apple\",)\n",
    "print(type(thistuple))\n",
    "\n",
    "# NOT a tuple\n",
    "thistuple = (\"apple\")\n",
    "print(type(thistuple))"
   ]
  },
  {
   "cell_type": "markdown",
   "id": "0f994d40",
   "metadata": {},
   "source": [
    "## Tuple Items - Data Types\n",
    "\n",
    "Tuple items can be of any data type:"
   ]
  },
  {
   "cell_type": "code",
   "execution_count": 105,
   "id": "a40b16e5",
   "metadata": {},
   "outputs": [
    {
     "name": "stdout",
     "output_type": "stream",
     "text": [
      "('apple', 'banana', 'cherry') <class 'str'>\n",
      "(1, 5, 7, 9, 3) <class 'int'>\n",
      "(True, False, False) <class 'bool'>\n"
     ]
    }
   ],
   "source": [
    "# Example String, int and boolean data types:\n",
    "\n",
    "tuple1 = (\"apple\", \"banana\", \"cherry\")\n",
    "tuple2 = (1, 5, 7, 9, 3)\n",
    "tuple3 = (True, False, False)\n",
    "\n",
    "print(tuple1,type(tuple1[0]))\n",
    "print(tuple2,type(tuple2[0]))\n",
    "print(tuple3,type(tuple3[0]))"
   ]
  },
  {
   "cell_type": "markdown",
   "id": "85d49b70",
   "metadata": {},
   "source": [
    "Single tuple can contain different data types:"
   ]
  },
  {
   "cell_type": "code",
   "execution_count": 106,
   "id": "54f84888",
   "metadata": {},
   "outputs": [
    {
     "name": "stdout",
     "output_type": "stream",
     "text": [
      "('abc', 34, True, 40, 2.5)\n",
      "<class 'str'>\n",
      "<class 'int'>\n",
      "<class 'bool'>\n",
      "<class 'int'>\n",
      "<class 'float'>\n"
     ]
    }
   ],
   "source": [
    "# Example  A tuple with strings, integers and boolean values:\n",
    "tuple1 = (\"abc\", 34, True, 40, 2.5) # see the data in tuple could be any type \n",
    "print(tuple1)\n",
    "print(type(tuple1[0]))\n",
    "print(type(tuple1[1]))\n",
    "print(type(tuple1[2]))\n",
    "print(type(tuple1[3]))\n",
    "print(type(tuple1[4]))\n"
   ]
  },
  {
   "cell_type": "markdown",
   "id": "022cfd11",
   "metadata": {},
   "source": [
    "__type()__\n",
    "\n",
    "From Python's perspective, tuples are defined as objects with the data type 'tuple':"
   ]
  },
  {
   "cell_type": "code",
   "execution_count": 107,
   "id": "7627af9c",
   "metadata": {},
   "outputs": [
    {
     "name": "stdout",
     "output_type": "stream",
     "text": [
      "<class 'tuple'>\n"
     ]
    }
   ],
   "source": [
    "# Example  What is the data type of a tuple?\n",
    "\n",
    "mytuple = (\"apple\", \"banana\", \"cherry\")\n",
    "print(type(mytuple))"
   ]
  },
  {
   "cell_type": "markdown",
   "id": "afd283e4",
   "metadata": {},
   "source": [
    "## The tuple() Constructor\n",
    "\n",
    "It is also possible to use the tuple() constructor to make a tuple."
   ]
  },
  {
   "cell_type": "code",
   "execution_count": 108,
   "id": "52c0926a",
   "metadata": {},
   "outputs": [
    {
     "name": "stdout",
     "output_type": "stream",
     "text": [
      "('apple', 'banana', 'cherry')\n"
     ]
    }
   ],
   "source": [
    "# Example Using the tuple() method to make a tuple:\n",
    "\n",
    "thistuple = tuple((\"apple\", \"banana\", \"cherry\")) # note the double round-brackets\n",
    "print(thistuple)\n"
   ]
  },
  {
   "cell_type": "markdown",
   "id": "8cdb9c67",
   "metadata": {},
   "source": [
    "## Empty Tuple  creation\n",
    "\n"
   ]
  },
  {
   "cell_type": "code",
   "execution_count": 109,
   "id": "9b5bd68c",
   "metadata": {},
   "outputs": [
    {
     "name": "stdout",
     "output_type": "stream",
     "text": [
      "()\n",
      "<class 'tuple'>\n",
      "0\n"
     ]
    }
   ],
   "source": [
    "# You can create a empty Tuple also using tuple()\n",
    "Empty_tuple = tuple()\n",
    "\n",
    "print(Empty_tuple)\n",
    "print(type(Empty_tuple))\n",
    "print(len(Empty_tuple))"
   ]
  },
  {
   "cell_type": "code",
   "execution_count": 110,
   "id": "ce798fc5",
   "metadata": {},
   "outputs": [
    {
     "name": "stdout",
     "output_type": "stream",
     "text": [
      "()\n",
      "<class 'tuple'>\n",
      "0\n"
     ]
    }
   ],
   "source": [
    "# another ways to create Empty list is:\n",
    "Empty_list  = ()\n",
    "\n",
    "print(Empty_tuple)\n",
    "print(type(Empty_tuple))\n",
    "print(len(Empty_tuple))"
   ]
  },
  {
   "cell_type": "markdown",
   "id": "4099c75d",
   "metadata": {},
   "source": [
    "## Access Tuple Items\n",
    "\n",
    "* You can access tuple items by referring to the index number, inside square brackets:\n",
    "* Note: The first item has index 0.\n"
   ]
  },
  {
   "cell_type": "code",
   "execution_count": 111,
   "id": "0504ad26",
   "metadata": {},
   "outputs": [
    {
     "name": "stdout",
     "output_type": "stream",
     "text": [
      "banana\n"
     ]
    }
   ],
   "source": [
    "# Example Print the second item in the tuple:\n",
    "\n",
    "thistuple = (\"apple\", \"banana\", \"cherry\")\n",
    "print(thistuple[1])"
   ]
  },
  {
   "cell_type": "markdown",
   "id": "3224315b",
   "metadata": {},
   "source": [
    "__Negative Indexing__\n",
    "Negative indexing means start from the end.\n",
    "\n",
    "-1 refers to the last item, -2 refers to the second last item etc."
   ]
  },
  {
   "cell_type": "code",
   "execution_count": 112,
   "id": "5bac46c9",
   "metadata": {},
   "outputs": [
    {
     "name": "stdout",
     "output_type": "stream",
     "text": [
      "cherry\n"
     ]
    }
   ],
   "source": [
    "# Example Print the last item of the tuple:\n",
    "\n",
    "thistuple = (\"apple\", \"banana\", \"cherry\")\n",
    "print(thistuple[-1])"
   ]
  },
  {
   "cell_type": "markdown",
   "id": "76e75fe4",
   "metadata": {},
   "source": [
    "### Range of Indexes\n",
    "\n",
    "You can specify a range of indexes by specifying where to start and where to end the range.\n",
    "\n",
    "When specifying a range, the return value will be a new tuple with the specified items."
   ]
  },
  {
   "cell_type": "code",
   "execution_count": 113,
   "id": "4f416235",
   "metadata": {},
   "outputs": [
    {
     "name": "stdout",
     "output_type": "stream",
     "text": [
      "('cherry', 'orange', 'kiwi')\n",
      "<class 'tuple'>\n"
     ]
    }
   ],
   "source": [
    "# Example Return the third, fourth, and fifth item:\n",
    "\n",
    "\n",
    "thistuple = (\"apple\", \"banana\", \"cherry\", \"orange\", \"kiwi\", \"melon\", \"mango\")\n",
    "print(thistuple[2:5])\n",
    "\n",
    "print(type(thistuple[2:5]))"
   ]
  },
  {
   "cell_type": "markdown",
   "id": "b7609501",
   "metadata": {},
   "source": [
    "__Note: The search will start at index 2 (included) and end at index 5 (not included).__\n",
    "\n",
    "__Remember that the first item has index 0.__\n",
    "\n",
    "\n",
    "By leaving out the start value, the range will start at the first item:"
   ]
  },
  {
   "cell_type": "code",
   "execution_count": 114,
   "id": "bd46cc33",
   "metadata": {},
   "outputs": [
    {
     "name": "stdout",
     "output_type": "stream",
     "text": [
      "('apple', 'banana', 'cherry', 'orange')\n"
     ]
    }
   ],
   "source": [
    "# Example This example returns the items from the beginning to, but NOT included, \"kiwi\":\n",
    "\n",
    "thistuple = (\"apple\", \"banana\", \"cherry\", \"orange\", \"kiwi\", \"melon\", \"mango\")\n",
    "print(thistuple[:4])"
   ]
  },
  {
   "cell_type": "markdown",
   "id": "4ecfb8df",
   "metadata": {},
   "source": [
    "By leaving out the end value, the range will go on to the end of the list:"
   ]
  },
  {
   "cell_type": "code",
   "execution_count": 115,
   "id": "bc020336",
   "metadata": {},
   "outputs": [
    {
     "name": "stdout",
     "output_type": "stream",
     "text": [
      "('cherry', 'orange', 'kiwi', 'melon', 'mango')\n"
     ]
    }
   ],
   "source": [
    "# Example This example returns the items from \"cherry\" and to the end:\n",
    "\n",
    "thistuple = (\"apple\", \"banana\", \"cherry\", \"orange\", \"kiwi\", \"melon\", \"mango\")\n",
    "print(thistuple[2:])"
   ]
  },
  {
   "cell_type": "markdown",
   "id": "69ef1d71",
   "metadata": {},
   "source": [
    "### Range of Negative Indexes\n",
    "\n",
    "* Specify negative indexes if you want to start the search from the end of the tuple:"
   ]
  },
  {
   "cell_type": "code",
   "execution_count": 116,
   "id": "06488723",
   "metadata": {},
   "outputs": [
    {
     "name": "stdout",
     "output_type": "stream",
     "text": [
      "('orange', 'kiwi', 'melon')\n"
     ]
    }
   ],
   "source": [
    "# Example This example returns the items from index -4 (included) to index -1 (excluded)\n",
    "\n",
    "thistuple = (\"apple\", \"banana\", \"cherry\", \"orange\", \"kiwi\", \"melon\", \"mango\")\n",
    "print(thistuple[-4:-1])"
   ]
  },
  {
   "cell_type": "markdown",
   "id": "9d434f0e",
   "metadata": {},
   "source": [
    "## Check if Item Exists\n",
    "\n",
    "To determine if a specified item is present in a tuple use the in keyword:"
   ]
  },
  {
   "cell_type": "code",
   "execution_count": 117,
   "id": "4198da4e",
   "metadata": {},
   "outputs": [
    {
     "name": "stdout",
     "output_type": "stream",
     "text": [
      "Yes, 'apple' is in the fruits tuple\n"
     ]
    }
   ],
   "source": [
    "# Example Check if \"apple\" is present in the tuple:\n",
    "\n",
    "thistuple = (\"apple\", \"banana\", \"cherry\")\n",
    "if \"apple\" in thistuple:\n",
    "  print(\"Yes, 'apple' is in the fruits tuple\")"
   ]
  },
  {
   "cell_type": "code",
   "execution_count": 118,
   "id": "b5ac5504",
   "metadata": {},
   "outputs": [
    {
     "name": "stdout",
     "output_type": "stream",
     "text": [
      "<class 'tuple'> ('apple', 'banana', 'cherry')\n",
      "<class 'list'> ['apple', 'banana', 'cherry']\n"
     ]
    }
   ],
   "source": [
    "## Covert tuple to list\n",
    "thistuple1 = (\"apple\", \"banana\", \"cherry\")\n",
    "print(type(thistuple1),thistuple1) # its a Tuple \n",
    "\n",
    "mylist1 = list(thistuple1) # now lets convert it into a list \n",
    "print(type(mylist1),mylist1)"
   ]
  },
  {
   "cell_type": "markdown",
   "id": "976f326e",
   "metadata": {},
   "source": [
    "## Update Tuples\n",
    "\n",
    "Tuples are __unchangeable__, meaning that you __cannot change/update, add, or remove items once the tuple is created.__\n",
    "\n",
    "But there are some workarounds. Like Convert Tupple to List and do needful and then convert list to tuple back \n",
    "\n",
    "\n",
    "### Update Items\n",
    "\n",
    "Once a tuple is created, you cannot change its values. Tuples are unchangeable, or immutable as it also is called."
   ]
  },
  {
   "cell_type": "code",
   "execution_count": 119,
   "id": "cd99376d",
   "metadata": {},
   "outputs": [
    {
     "name": "stdout",
     "output_type": "stream",
     "text": [
      "('apple', 'banana', 'cherry')\n"
     ]
    },
    {
     "ename": "TypeError",
     "evalue": "'tuple' object does not support item assignment",
     "output_type": "error",
     "traceback": [
      "\u001b[1;31m---------------------------------------------------------------------------\u001b[0m",
      "\u001b[1;31mTypeError\u001b[0m                                 Traceback (most recent call last)",
      "\u001b[1;32m<ipython-input-119-d2d62891be19>\u001b[0m in \u001b[0;36m<module>\u001b[1;34m\u001b[0m\n\u001b[0;32m      2\u001b[0m \u001b[0mprint\u001b[0m\u001b[1;33m(\u001b[0m\u001b[0mthistuple\u001b[0m\u001b[1;33m)\u001b[0m  \u001b[1;31m# This will raise an error\u001b[0m\u001b[1;33m\u001b[0m\u001b[1;33m\u001b[0m\u001b[0m\n\u001b[0;32m      3\u001b[0m \u001b[1;33m\u001b[0m\u001b[0m\n\u001b[1;32m----> 4\u001b[1;33m \u001b[0mthistuple\u001b[0m\u001b[1;33m[\u001b[0m\u001b[1;36m1\u001b[0m\u001b[1;33m]\u001b[0m \u001b[1;33m=\u001b[0m \u001b[1;34m\"blackcurrant\"\u001b[0m\u001b[1;33m\u001b[0m\u001b[1;33m\u001b[0m\u001b[0m\n\u001b[0m",
      "\u001b[1;31mTypeError\u001b[0m: 'tuple' object does not support item assignment"
     ]
    }
   ],
   "source": [
    "thistuple = (\"apple\", \"banana\", \"cherry\")\n",
    "print(thistuple)  # This will raise an error\n",
    "\n",
    "thistuple[1] = \"blackcurrant\""
   ]
  },
  {
   "cell_type": "code",
   "execution_count": 120,
   "id": "c8d4412e",
   "metadata": {},
   "outputs": [
    {
     "name": "stdout",
     "output_type": "stream",
     "text": [
      "('apple', 'banana', 'cherry')\n"
     ]
    }
   ],
   "source": [
    "# The values will remain the same\n",
    "print(thistuple)"
   ]
  },
  {
   "cell_type": "markdown",
   "id": "65bfc597",
   "metadata": {},
   "source": [
    "## convert a Tuple to list"
   ]
  },
  {
   "cell_type": "code",
   "execution_count": 121,
   "id": "aa13ba73",
   "metadata": {},
   "outputs": [
    {
     "name": "stdout",
     "output_type": "stream",
     "text": [
      "<class 'tuple'> ('apple', 'banana', 'cherry')\n",
      "1882594706688\n",
      "\n",
      "<class 'list'> ['apple', 'banana', 'cherry']\n",
      "1882594298048\n"
     ]
    }
   ],
   "source": [
    "## convert a Tuple to list;\n",
    "atuple = (\"apple\", \"banana\", \"cherry\")\n",
    "print(type(atuple), atuple)\n",
    "print(id(atuple))\n",
    "print()\n",
    "alist = list(atuple)  # convert tuple to list\n",
    "print(type(alist),alist)\n",
    "print(id(alist))"
   ]
  },
  {
   "cell_type": "markdown",
   "id": "e81ebf94",
   "metadata": {},
   "source": [
    "But there is a workaround. You can convert the tuple into a list, change the list, and convert the list back into a tuple."
   ]
  },
  {
   "cell_type": "code",
   "execution_count": 122,
   "id": "dee68a6d",
   "metadata": {},
   "outputs": [
    {
     "name": "stdout",
     "output_type": "stream",
     "text": [
      "<class 'tuple'> ('apple', 'banana', 'cherry')\n",
      "0x1b6535698c0\n",
      "\n",
      "<class 'list'> ['apple', 'banana', 'cherry']\n",
      "0x1b653685400\n",
      "\n",
      "<class 'list'> ['apple', 'kiwi', 'cherry']\n",
      "0x1b653685400\n",
      "\n",
      "<class 'tuple'> ('apple', 'kiwi', 'cherry')\n",
      "0x1b65369b800\n"
     ]
    }
   ],
   "source": [
    "# Example  Convert the tuple into a list to be able to change it:\n",
    "\n",
    "x = (\"apple\", \"banana\", \"cherry\")\n",
    "print(type(x), x)\n",
    "print(hex(id(x)))\n",
    "print()\n",
    "y = list(x)  # convert tuple to list\n",
    "print(type(y), y)\n",
    "print(hex(id(y)))\n",
    "print()\n",
    "y[1] = \"kiwi\"  # update the list item as needed\n",
    "print(type(y), y)\n",
    "print(hex(id(y)))\n",
    "print()\n",
    "x = tuple(y)  # convert list back to tuple\n",
    "print(type(x), x)\n",
    "print(hex(id(x)))"
   ]
  },
  {
   "cell_type": "markdown",
   "id": "c527a24f",
   "metadata": {},
   "source": [
    "__NOTE__ \n",
    "  see here, as tuple are immutable object hence memory loation of tuple object x is different before and after adding new item \"kiwi\". which means though we have updated the tuple x but actually we have created new tuple object to which x is refering now \n",
    "  \n",
    "  __where as__ to do this workaround we used list object y, and as list are mutable hence you can see befre and after adding \"kiwi\" in list y the memory location of object y is same "
   ]
  },
  {
   "cell_type": "markdown",
   "id": "a889d49b",
   "metadata": {},
   "source": [
    "### Add Items\n",
    "\n",
    "Once a tuple is created, you cannot add items to it. Tuples are unchangeable."
   ]
  },
  {
   "cell_type": "code",
   "execution_count": 123,
   "id": "495d989c",
   "metadata": {},
   "outputs": [
    {
     "name": "stdout",
     "output_type": "stream",
     "text": [
      "('apple', 'banana', 'cherry')\n"
     ]
    },
    {
     "ename": "TypeError",
     "evalue": "'tuple' object does not support item assignment",
     "output_type": "error",
     "traceback": [
      "\u001b[1;31m---------------------------------------------------------------------------\u001b[0m",
      "\u001b[1;31mTypeError\u001b[0m                                 Traceback (most recent call last)",
      "\u001b[1;32m<ipython-input-123-bd72ab257607>\u001b[0m in \u001b[0;36m<module>\u001b[1;34m\u001b[0m\n\u001b[0;32m      2\u001b[0m \u001b[0mprint\u001b[0m\u001b[1;33m(\u001b[0m\u001b[0mthistuple\u001b[0m\u001b[1;33m)\u001b[0m\u001b[1;33m\u001b[0m\u001b[1;33m\u001b[0m\u001b[0m\n\u001b[0;32m      3\u001b[0m \u001b[1;33m\u001b[0m\u001b[0m\n\u001b[1;32m----> 4\u001b[1;33m \u001b[0mthistuple\u001b[0m\u001b[1;33m[\u001b[0m\u001b[1;36m3\u001b[0m\u001b[1;33m]\u001b[0m \u001b[1;33m=\u001b[0m \u001b[1;34m\"orange\"\u001b[0m  \u001b[1;31m# This will raise an error\u001b[0m\u001b[1;33m\u001b[0m\u001b[1;33m\u001b[0m\u001b[0m\n\u001b[0m",
      "\u001b[1;31mTypeError\u001b[0m: 'tuple' object does not support item assignment"
     ]
    }
   ],
   "source": [
    "thistuple = (\"apple\", \"banana\", \"cherry\")\n",
    "print(thistuple)\n",
    "\n",
    "thistuple[3] = \"orange\"  # This will raise an error"
   ]
  },
  {
   "cell_type": "code",
   "execution_count": 124,
   "id": "63c96f1f",
   "metadata": {},
   "outputs": [
    {
     "name": "stdout",
     "output_type": "stream",
     "text": [
      "('apple', 'banana', 'cherry')\n"
     ]
    }
   ],
   "source": [
    "# The values will remain the same\n",
    "print(thistuple)"
   ]
  },
  {
   "cell_type": "markdown",
   "id": "76708f78",
   "metadata": {},
   "source": [
    "\n",
    "\n",
    "Since tuples are immutable, they do not have a build-in append() method, but there are other ways to add items to a tuple.\n",
    "\n",
    "1. __Convert into a list__: Just like the workaround for changing a tuple, you can convert it into a list, add your item(s), and convert it back into a tuple."
   ]
  },
  {
   "cell_type": "code",
   "execution_count": 125,
   "id": "5a5d7c78",
   "metadata": {},
   "outputs": [
    {
     "name": "stdout",
     "output_type": "stream",
     "text": [
      "('apple', 'banana', 'cherry', 'orange')\n"
     ]
    }
   ],
   "source": [
    "# Example Convert the tuple into a list, add \"orange\", and convert it back into a tuple:\n",
    "\n",
    "thistuple = (\"apple\", \"banana\", \"cherry\")\n",
    "y = list(thistuple)\n",
    "y.append(\"orange\")\n",
    "thistuple = tuple(y)\n",
    "\n",
    "print(thistuple)"
   ]
  },
  {
   "cell_type": "markdown",
   "id": "4e1d2e25",
   "metadata": {},
   "source": [
    "\n",
    "2. \n",
    "__Add tuple to a tuple (Join tuple)__\n",
    "\n",
    "You are allowed to add tuples to tuples, so if you want to add one item, (or many), create a new tuple with the item(s), and add it to the existing tuple"
   ]
  },
  {
   "cell_type": "code",
   "execution_count": 126,
   "id": "aaf8a536",
   "metadata": {},
   "outputs": [
    {
     "name": "stdout",
     "output_type": "stream",
     "text": [
      "('apple', 'banana', 'cherry')\n",
      "('apple', 'banana', 'cherry', 'orange')\n"
     ]
    }
   ],
   "source": [
    "# Example Create a new tuple with the value \"orange\", and add that tuple:\n",
    "thistuple = (\"apple\", \"banana\", \"cherry\")\n",
    "print(thistuple)\n",
    "\n",
    "y = (\"orange\",)  # Remember to include a comma after the item, otherwise it will not be identified as a tuple.\n",
    "thistuple = thistuple + y\n",
    "print(thistuple)"
   ]
  },
  {
   "cell_type": "markdown",
   "id": "3fea3772",
   "metadata": {},
   "source": [
    "### Remove Items\n",
    "\n",
    "__Note: You cannot remove items in a tuple.__\n",
    "\n",
    "Tuples are unchangeable, so you cannot remove items from it, but you can use the same workaround as we used for changing and adding tuple items\n",
    "\n"
   ]
  },
  {
   "cell_type": "code",
   "execution_count": 127,
   "id": "63f4676b",
   "metadata": {},
   "outputs": [
    {
     "name": "stdout",
     "output_type": "stream",
     "text": [
      "('apple', 'banana', 'cherry')\n",
      "('banana', 'cherry')\n"
     ]
    }
   ],
   "source": [
    "# Example Convert the tuple into a list, remove \"apple\", and convert it back into a tuple:\n",
    "\n",
    "thistuple = (\"apple\", \"banana\", \"cherry\")\n",
    "print(thistuple)\n",
    "\n",
    "y = list(thistuple)\n",
    "y.remove(\"apple\")\n",
    "thistuple = tuple(y)\n",
    "print(thistuple)"
   ]
  },
  {
   "cell_type": "markdown",
   "id": "cb63e884",
   "metadata": {},
   "source": [
    "__Or you can delete the tuple completely:__\n"
   ]
  },
  {
   "cell_type": "code",
   "execution_count": 128,
   "id": "3c4578ff",
   "metadata": {},
   "outputs": [
    {
     "name": "stdout",
     "output_type": "stream",
     "text": [
      "('apple', 'banana', 'cherry')\n"
     ]
    },
    {
     "ename": "NameError",
     "evalue": "name 'thistuple' is not defined",
     "output_type": "error",
     "traceback": [
      "\u001b[1;31m---------------------------------------------------------------------------\u001b[0m",
      "\u001b[1;31mNameError\u001b[0m                                 Traceback (most recent call last)",
      "\u001b[1;32m<ipython-input-128-38ee12e8ce77>\u001b[0m in \u001b[0;36m<module>\u001b[1;34m\u001b[0m\n\u001b[0;32m      5\u001b[0m \u001b[1;33m\u001b[0m\u001b[0m\n\u001b[0;32m      6\u001b[0m \u001b[1;32mdel\u001b[0m \u001b[0mthistuple\u001b[0m\u001b[1;33m\u001b[0m\u001b[1;33m\u001b[0m\u001b[0m\n\u001b[1;32m----> 7\u001b[1;33m \u001b[0mprint\u001b[0m\u001b[1;33m(\u001b[0m\u001b[0mthistuple\u001b[0m\u001b[1;33m)\u001b[0m \u001b[1;31m#this will raise an error because the tuple no longer exists\u001b[0m\u001b[1;33m\u001b[0m\u001b[1;33m\u001b[0m\u001b[0m\n\u001b[0m",
      "\u001b[1;31mNameError\u001b[0m: name 'thistuple' is not defined"
     ]
    }
   ],
   "source": [
    "# Example The del keyword can delete the tuple completely:\n",
    "\n",
    "thistuple = (\"apple\", \"banana\", \"cherry\")\n",
    "print(thistuple)\n",
    "\n",
    "del thistuple\n",
    "print(thistuple) #this will raise an error because the tuple no longer exists"
   ]
  },
  {
   "cell_type": "markdown",
   "id": "2297edcd",
   "metadata": {},
   "source": [
    "## Unpack Tuples\n",
    "\n",
    "__Unpacking a Tuple__\n",
    "When we create a tuple, we normally assign values to it. This is called \"packing\" a tuple:"
   ]
  },
  {
   "cell_type": "code",
   "execution_count": 129,
   "id": "96e8b114",
   "metadata": {},
   "outputs": [
    {
     "name": "stdout",
     "output_type": "stream",
     "text": [
      "('apple', 'banana', 'cherry')\n"
     ]
    }
   ],
   "source": [
    "fruits = (\"apple\", \"banana\", \"cherry\")\n",
    "print(fruits)"
   ]
  },
  {
   "cell_type": "markdown",
   "id": "c4736c43",
   "metadata": {},
   "source": [
    "But, in Python, we are also allowed to extract the values back into variables. This is called \"unpacking\":\n",
    "\n",
    "__Note: The number of variables must match the number of values in the tuple, if not, you must use an asterisk to collect the remaining values as a list.__"
   ]
  },
  {
   "cell_type": "code",
   "execution_count": 130,
   "id": "d2dff78a",
   "metadata": {},
   "outputs": [
    {
     "name": "stdout",
     "output_type": "stream",
     "text": [
      "1\n",
      "('apple', 'banana', 'cherry')\n",
      "<class 'tuple'>\n",
      "2\n",
      "apple\n",
      "banana\n",
      "cherry\n"
     ]
    }
   ],
   "source": [
    "# Example Unpacking a tuple:\n",
    "\n",
    "fruits = (\"apple\", \"banana\", \"cherry\")\n",
    "print(\"1\")\n",
    "print(fruits)\n",
    "print(type(fruits))\n",
    "\n",
    "(green, yellow, red) = fruits # this is called unpaking . green,yellow,red are variables \n",
    "\n",
    "print(\"2\")\n",
    "print(green)\n",
    "print(yellow)\n",
    "print(red)"
   ]
  },
  {
   "cell_type": "markdown",
   "id": "276e5968",
   "metadata": {},
   "source": [
    "__Using Asterisk*__\n",
    "\n",
    "If the number of variables is less than the number of values, you can add an * to the variable name and the values will be assigned to the variable as a list:"
   ]
  },
  {
   "cell_type": "code",
   "execution_count": 131,
   "id": "1f3564ad",
   "metadata": {},
   "outputs": [
    {
     "name": "stdout",
     "output_type": "stream",
     "text": [
      "<class 'str'> apple\n",
      "<class 'str'> banana\n",
      "<class 'list'> ['cherry', 'strawberry', 'raspberry']\n"
     ]
    }
   ],
   "source": [
    "# Example Assign the rest of the values as a list called \"red\":\n",
    "\n",
    "fruits = (\"apple\", \"banana\", \"cherry\", \"strawberry\", \"raspberry\")\n",
    "\n",
    "(green, yellow, *red) = fruits\n",
    "\n",
    "print(type(green), green)\n",
    "print(type(yellow), yellow)\n",
    "print(type(red), red)"
   ]
  },
  {
   "cell_type": "markdown",
   "id": "b9ffc8ae",
   "metadata": {},
   "source": [
    "If the asterisk is added to another variable name than the last, Python will assign values to the variable until the number of values left matches the number of variables left."
   ]
  },
  {
   "cell_type": "code",
   "execution_count": 132,
   "id": "7f8c8d07",
   "metadata": {},
   "outputs": [
    {
     "name": "stdout",
     "output_type": "stream",
     "text": [
      "apple\n",
      "['mango', 'papaya', 'pineapple']\n",
      "cherry\n"
     ]
    }
   ],
   "source": [
    "# Example Add a list of values the \"tropic\" variable:\n",
    "\n",
    "fruits = (\"apple\", \"mango\", \"papaya\", \"pineapple\", \"cherry\")\n",
    "\n",
    "(green, *tropic, red) = fruits\n",
    "\n",
    "print(green)\n",
    "print(tropic)\n",
    "print(red)\n"
   ]
  },
  {
   "cell_type": "markdown",
   "id": "c03a3bf5",
   "metadata": {},
   "source": [
    "## Join Tuples\n",
    "\n",
    "Join Two Tuples\n",
    "\n",
    "To join two or more tuples you can use the + operator:\n"
   ]
  },
  {
   "cell_type": "code",
   "execution_count": 133,
   "id": "f3edeb32",
   "metadata": {},
   "outputs": [
    {
     "name": "stdout",
     "output_type": "stream",
     "text": [
      "('a', 'b', 'c', 1, 2, 3)\n"
     ]
    }
   ],
   "source": [
    "# Example Join two tuples:\n",
    "tuple1 = (\"a\", \"b\", \"c\")\n",
    "tuple2 = (1, 2, 3)\n",
    "\n",
    "tuple3 = tuple1 + tuple2\n",
    "print(tuple3)"
   ]
  },
  {
   "cell_type": "markdown",
   "id": "52ddcdb8",
   "metadata": {},
   "source": [
    "## Multiply Tuples\n",
    "\n",
    "If you want to multiply the content of a tuple a given number of times, you can use the * operator:\n",
    "\n",
    "__NOTE: This kind of multiplication doesn't multiply with values but its bascailly dupicate the entire tuple.__"
   ]
  },
  {
   "cell_type": "code",
   "execution_count": 134,
   "id": "106d5e9c",
   "metadata": {},
   "outputs": [
    {
     "name": "stdout",
     "output_type": "stream",
     "text": [
      "('apple', 'banana', 'cherry', 'apple', 'banana', 'cherry')\n"
     ]
    }
   ],
   "source": [
    "# Example Multiply the fruits tuple by 2:\n",
    "\n",
    "fruits = (\"apple\", \"banana\", \"cherry\")\n",
    "mytuple = fruits * 2 # this will repeat the tuple fruits two times\n",
    "\n",
    "print(mytuple)"
   ]
  },
  {
   "cell_type": "code",
   "execution_count": 135,
   "id": "85a46e8b",
   "metadata": {},
   "outputs": [
    {
     "name": "stdout",
     "output_type": "stream",
     "text": [
      "('apple', 'banana', 'cherry', 'apple', 'banana', 'cherry', 'apple', 'banana', 'cherry')\n"
     ]
    }
   ],
   "source": [
    "fruits = (\"apple\", \"banana\", \"cherry\")\n",
    "mytuple = fruits * 3 # this will repeat the tuple fruits Three times\n",
    "\n",
    "print(mytuple)"
   ]
  },
  {
   "cell_type": "markdown",
   "id": "9718210b",
   "metadata": {},
   "source": [
    "## Loop Tuples"
   ]
  },
  {
   "cell_type": "markdown",
   "id": "3a56b010",
   "metadata": {},
   "source": [
    "__Loop Through a Tuple(For Loop)__\n",
    "\n",
    "You can loop through the tuple items by using a for loop."
   ]
  },
  {
   "cell_type": "code",
   "execution_count": 136,
   "id": "e912f64f",
   "metadata": {},
   "outputs": [
    {
     "name": "stdout",
     "output_type": "stream",
     "text": [
      "('apple', 'banana', 'cherry')\n",
      "0 apple\n",
      "1 banana\n",
      "2 cherry\n"
     ]
    }
   ],
   "source": [
    "# Example Iterate through the items and print the values:\n",
    "thistuple = (\"apple\", \"banana\", \"cherry\")\n",
    "print(thistuple)\n",
    "\n",
    "for x in thistuple:\n",
    "    print(thistuple.index(x), x)"
   ]
  },
  {
   "cell_type": "markdown",
   "id": "b0c643e1",
   "metadata": {},
   "source": [
    "__Loop Through the Index Numbers__\n",
    "\n",
    "You can also loop through the tuple items by referring to their index number.\n",
    "\n",
    "Use the range() and len() functions to create a suitable iterable."
   ]
  },
  {
   "cell_type": "code",
   "execution_count": 137,
   "id": "f7ede77a",
   "metadata": {},
   "outputs": [
    {
     "name": "stdout",
     "output_type": "stream",
     "text": [
      "apple\n",
      "banana\n",
      "cherry\n"
     ]
    }
   ],
   "source": [
    "# Example Print all items by referring to their index number:\n",
    "thistuple = (\"apple\", \"banana\", \"cherry\")\n",
    "for i in range(len(thistuple)):\n",
    "    print(thistuple[i])"
   ]
  },
  {
   "cell_type": "markdown",
   "id": "66ab03e1",
   "metadata": {},
   "source": [
    "__Using a While Loop__\n",
    "\n",
    "You can loop through the list items by using a while loop.\n",
    "\n",
    "Use the len() function to determine the length of the tuple, then start at 0 and loop your way through the tuple items by refering to their indexes.\n",
    "\n",
    "Remember to increase the index by 1 after each iteration."
   ]
  },
  {
   "cell_type": "code",
   "execution_count": 138,
   "id": "f0435f56",
   "metadata": {},
   "outputs": [
    {
     "name": "stdout",
     "output_type": "stream",
     "text": [
      "0 apple\n",
      "1 banana\n",
      "2 cherry\n"
     ]
    }
   ],
   "source": [
    "# Example Print all items, using a while loop to go through all the index numbers\n",
    "thistuple = [\"apple\", \"banana\", \"cherry\"]\n",
    "i = 0\n",
    "while i < len(thistuple):\n",
    "    print(i, thistuple[i])\n",
    "    i = i + 1"
   ]
  },
  {
   "cell_type": "markdown",
   "id": "3b1aa623",
   "metadata": {},
   "source": [
    "## Python Tuple methods and other concepts "
   ]
  },
  {
   "cell_type": "markdown",
   "id": "3a7f972e",
   "metadata": {},
   "source": [
    "Python has two built-in methods that you can use on tuples.\n",
    "\n",
    "`Method\tDescription\n",
    "count()\tReturns the number of times a specified value occurs in a tuple\n",
    "index()\tSearches the tuple for a specified value and returns the position of where it was found`"
   ]
  },
  {
   "cell_type": "markdown",
   "id": "f16a557d",
   "metadata": {},
   "source": [
    "### Tuple count() method\n",
    "\n",
    "`Definition and Usage\n",
    "The count() method returns the number of times a specified value appears in the tuple.\n",
    "Syntax\n",
    "tuple.count(value)\n",
    "Parameter Values\n",
    "Parameter\tDescription\n",
    "value\tRequired. The item to search for`"
   ]
  },
  {
   "cell_type": "code",
   "execution_count": 139,
   "id": "c0acafe7",
   "metadata": {},
   "outputs": [
    {
     "name": "stdout",
     "output_type": "stream",
     "text": [
      "(1, 3, 7, 8, 7, 5, 4, 6, 8, 5)\n",
      "2\n",
      "<class 'int'>\n"
     ]
    }
   ],
   "source": [
    "# ExampleReturn the number of times the value 5 appears in the tuple:\n",
    "thistuple = (1, 3, 7, 8, 7, 5, 4, 6, 8, 5) #  5 is two times means Duplicate allowed in Tuples.\n",
    "print(thistuple)\n",
    "\n",
    "x = thistuple.count(5)\n",
    "print(x)\n",
    "print(type(x))"
   ]
  },
  {
   "cell_type": "markdown",
   "id": "d40a2f66",
   "metadata": {},
   "source": [
    "### Tuple index() method\n",
    "\n",
    "`Definition and Usage\n",
    "The index() method finds the first occurrence of the specified value and Return its index/position in Tuple.\n",
    "The index() method raises an exception if the value is not found.\n",
    "Syntax\n",
    "tuple.index(value)\n",
    "Parameter Values\n",
    "Parameter\tDescription\n",
    "value\tRequired. The item to search for`\n"
   ]
  },
  {
   "cell_type": "code",
   "execution_count": 140,
   "id": "092e2e8e",
   "metadata": {},
   "outputs": [
    {
     "name": "stdout",
     "output_type": "stream",
     "text": [
      "3\n",
      "<class 'int'>\n"
     ]
    }
   ],
   "source": [
    "# Example Search for the first occurrence of the value 8, and return its position:\n",
    "\n",
    "thistuple = (1, 3, 7, 8, 7, 5, 4, 6, 8, 5)\n",
    "\n",
    "x = thistuple.index(8)\n",
    "\n",
    "print(x)\n",
    "print(type(x))"
   ]
  },
  {
   "cell_type": "markdown",
   "id": "58a04ccf",
   "metadata": {},
   "source": [
    "The index() method raises an exception if the value is not found.\n"
   ]
  },
  {
   "cell_type": "code",
   "execution_count": 141,
   "id": "24f30e9d",
   "metadata": {},
   "outputs": [
    {
     "ename": "ValueError",
     "evalue": "tuple.index(x): x not in tuple",
     "output_type": "error",
     "traceback": [
      "\u001b[1;31m---------------------------------------------------------------------------\u001b[0m",
      "\u001b[1;31mValueError\u001b[0m                                Traceback (most recent call last)",
      "\u001b[1;32m<ipython-input-141-b2274a730671>\u001b[0m in \u001b[0;36m<module>\u001b[1;34m\u001b[0m\n\u001b[0;32m      3\u001b[0m \u001b[0mthistuple\u001b[0m \u001b[1;33m=\u001b[0m \u001b[1;33m(\u001b[0m\u001b[1;36m1\u001b[0m\u001b[1;33m,\u001b[0m \u001b[1;36m3\u001b[0m\u001b[1;33m,\u001b[0m \u001b[1;36m7\u001b[0m\u001b[1;33m,\u001b[0m \u001b[1;36m9\u001b[0m\u001b[1;33m,\u001b[0m \u001b[1;36m7\u001b[0m\u001b[1;33m,\u001b[0m \u001b[1;36m5\u001b[0m\u001b[1;33m,\u001b[0m \u001b[1;36m4\u001b[0m\u001b[1;33m,\u001b[0m \u001b[1;36m6\u001b[0m\u001b[1;33m,\u001b[0m \u001b[1;36m9\u001b[0m\u001b[1;33m,\u001b[0m \u001b[1;36m5\u001b[0m\u001b[1;33m)\u001b[0m\u001b[1;33m\u001b[0m\u001b[1;33m\u001b[0m\u001b[0m\n\u001b[0;32m      4\u001b[0m \u001b[1;33m\u001b[0m\u001b[0m\n\u001b[1;32m----> 5\u001b[1;33m \u001b[0mx\u001b[0m \u001b[1;33m=\u001b[0m \u001b[0mthistuple\u001b[0m\u001b[1;33m.\u001b[0m\u001b[0mindex\u001b[0m\u001b[1;33m(\u001b[0m\u001b[1;36m8\u001b[0m\u001b[1;33m)\u001b[0m\u001b[1;33m\u001b[0m\u001b[1;33m\u001b[0m\u001b[0m\n\u001b[0m\u001b[0;32m      6\u001b[0m \u001b[1;33m\u001b[0m\u001b[0m\n\u001b[0;32m      7\u001b[0m \u001b[0mprint\u001b[0m\u001b[1;33m(\u001b[0m\u001b[0mx\u001b[0m\u001b[1;33m)\u001b[0m\u001b[1;33m\u001b[0m\u001b[1;33m\u001b[0m\u001b[0m\n",
      "\u001b[1;31mValueError\u001b[0m: tuple.index(x): x not in tuple"
     ]
    }
   ],
   "source": [
    "# Example Search for the first occurrence of the value 8, and return its position:\n",
    "\n",
    "thistuple = (1, 3, 7, 9, 7, 5, 4, 6, 9, 5)\n",
    "\n",
    "x = thistuple.index(8)\n",
    "\n",
    "print(x)\n",
    "print(type(x))"
   ]
  },
  {
   "attachments": {
    "image-4.png": {
     "image/png": "[encoded data removed]"
    }
   },
   "cell_type": "markdown",
   "id": "8966b85b",
   "metadata": {},
   "source": [
    "# Python Dictionaries\n",
    "\n",
    "\n",
    "\n",
    "\n",
    "\n",
    "There are four collection data types in the Python programming language:\n",
    "\n",
    "* List\t\tis a collection which is ordered,indexed and changeable (mutable).    \t Y duplicates members.\n",
    "* Tuple\t\tis a collection which is ordered,indexed and unchangeable. (immutable) Y duplicate members.\n",
    "* Dictionary is a collection which is ordered,indexed and changeable (mutable).       N duplicate members.\n",
    "* Set\t\t is a collection which is unordered and unindexed.  (mutable).                 N duplicate members.\n",
    "\n",
    "\n",
    "![image-4.png](attachment:image-4.png)\n",
    "\n",
    "\n",
    "\n",
    "When choosing a collection type, it is useful to understand the properties of that type. Choosing the right type for a particular data set could mean retention of meaning, and, it could mean an increase in efficiency or security.\n",
    "\n",
    "\n",
    "__Dictionaries__\n",
    "\n",
    "__NOTE: As of Python version 3.7, dictionaries are ordered. In Python 3.6 and earlier, dictionaries are unordered.__\n",
    "\n",
    "* Dictionaries are used to store data values in key:value pairs. \n",
    "* A dictionary is a collection which is ordered*, changeable and do not allow duplicates.\n",
    "* Dictionaries are written with curly brackets, and have keys and values:\n",
    "\n",
    "\n",
    "* Ordered  : The order of elements in Dictionary will be Fix. If “apple” is first element in Dictionary, then whatever times to print the Dictionary “apple” will be first \n",
    "* Indexed : Dictionary elements can be accessed by index value like 0,1 etc.\n",
    "* Changeable(Mutable) : add, update and delete of elements are possible.\n",
    "* Full collection deletes : Entire Dictionary can be deleted.\n",
    "* Duplicate allowed : Elements can be __NOT__ repeated in Dictionary\n",
    "\n",
    "\n",
    "We've been learning about sequences in Python but now we're going to switch gears and learn about mappings in Python. If you're familiar with other languages you can think of these Dictionaries as hash tables.\n",
    "\n",
    "So what are mappings? Mappings are a collection of objects that are stored by a key, unlike a sequence that stored objects by their relative position. This is an important distinction, since mappings won't retain order since they have objects defined by a key.\n",
    "\n",
    "A Python dictionary consists of a key and then an associated value. That value can be almost any Python object.\n",
    "\n"
   ]
  },
  {
   "cell_type": "code",
   "execution_count": 142,
   "id": "34f20f33",
   "metadata": {},
   "outputs": [
    {
     "name": "stdout",
     "output_type": "stream",
     "text": [
      "{'brand': 'Ford', 'model': 'Mustang', 'year': 1964}\n"
     ]
    }
   ],
   "source": [
    "# Example Create and print a dictionary:\n",
    "thisdict = {\"brand\": \"Ford\", \"model\": \"Mustang\", \"year\": 1964} # here key os brand,model and year \n",
    "print(thisdict)"
   ]
  },
  {
   "cell_type": "markdown",
   "id": "68ef288e",
   "metadata": {},
   "source": [
    "Dictionary items are ordered, changeable, and does not allow duplicates.\n",
    "\n",
    "Dictionary items are presented in key:value pairs, and can be referred to by using the key name."
   ]
  },
  {
   "cell_type": "code",
   "execution_count": 143,
   "id": "4fdc3d2d",
   "metadata": {},
   "outputs": [
    {
     "name": "stdout",
     "output_type": "stream",
     "text": [
      "Ford\n"
     ]
    }
   ],
   "source": [
    "# Example Print the \"brand\" value of the dictionary:\n",
    "\n",
    "thisdict = {\n",
    "    \"brand\": \"Ford\",\n",
    "    \"model\": \"Mustang\",\n",
    "    \"year\": 1964\n",
    "}\n",
    "print(thisdict[\"brand\"]) # accessing element who's key is \"brand\". it will return the value of key passed."
   ]
  },
  {
   "cell_type": "markdown",
   "id": "36a6ef6f",
   "metadata": {},
   "source": [
    "## Dict Length\n",
    "\n",
    "\n",
    "To determine how many items a dictionary has, use the len() function:\n"
   ]
  },
  {
   "cell_type": "code",
   "execution_count": 144,
   "id": "963cb00d",
   "metadata": {},
   "outputs": [
    {
     "data": {
      "text/plain": [
       "3"
      ]
     },
     "execution_count": 144,
     "metadata": {},
     "output_type": "execute_result"
    }
   ],
   "source": [
    "# get the length of Dict\n",
    "thisdict = {\n",
    "    \"brand\": \"Ford\",\n",
    "    \"model\": \"Mustang\",\n",
    "    \"year\": 1964\n",
    "}\n",
    "\n",
    "len(thisdict)"
   ]
  },
  {
   "cell_type": "markdown",
   "id": "6cd1c371",
   "metadata": {},
   "source": [
    "## Ordered or Unordered?\n",
    "\n",
    "As of Python version 3.7, dictionaries are ordered. In Python 3.6 and earlier, dictionaries are unordered.\n",
    "\n",
    "When we say that dictionaries are ordered, __it means that the items have a defined order, and that order will not change.__\n",
    "\n",
    "Unordered means that the items does not have a defined order, you cannot refer to an item by using an index."
   ]
  },
  {
   "cell_type": "markdown",
   "id": "e835b18c",
   "metadata": {},
   "source": [
    "## Dictionaries are Mutable \n",
    "\n",
    "see in below example: the \"thisdict\" is a object of class dict. \n",
    "\n",
    "and when we created and added new item as `thisdict[\"fuel\"] = \"petrol\"` then object memory location is still same.\n",
    "which means __Dictionaries are Mutable__"
   ]
  },
  {
   "cell_type": "code",
   "execution_count": 145,
   "id": "23a80f22",
   "metadata": {},
   "outputs": [
    {
     "name": "stdout",
     "output_type": "stream",
     "text": [
      "1.\n",
      "{'brand': 'Ford', 'model': 'Mustang', 'year': 1964}\n",
      "<class 'dict'>\n",
      "1882595200256\n",
      "2.\n",
      "{'brand': 'Ford', 'model': 'Mustang', 'year': 1964, 'fuel': 'petrol'}\n",
      "<class 'dict'>\n",
      "1882595200256\n"
     ]
    }
   ],
   "source": [
    "thisdict = {\n",
    "    \"brand\": \"Ford\",\n",
    "    \"model\": \"Mustang\",\n",
    "    \"year\": 1964\n",
    "}\n",
    "\n",
    "print(\"1.\")\n",
    "print(thisdict)\n",
    "print(type(thisdict))\n",
    "print(id(thisdict))\n",
    "\n",
    "# Now lets try to add a element to \"thisdict\"\n",
    "print(\"2.\")\n",
    "thisdict[\"fuel\"] = \"petrol\"\n",
    "print(thisdict)\n",
    "print(type(thisdict))\n",
    "print(id(thisdict))"
   ]
  },
  {
   "cell_type": "markdown",
   "id": "cc56df95",
   "metadata": {},
   "source": [
    "## Changeable\n",
    "\n",
    "Dictionaries are changeable, meaning that we can change/update, add or remove items after the dictionary has been created."
   ]
  },
  {
   "cell_type": "markdown",
   "id": "b73b0500",
   "metadata": {},
   "source": [
    "## Duplicates Not Allowed\n",
    "\n",
    "Dictionaries cannot have two items with the same key:\n",
    "\n",
    "see you can have duplicate values, but Duplicate Keys are not allowed in Dict. If it is there it will consider one only"
   ]
  },
  {
   "cell_type": "code",
   "execution_count": 146,
   "id": "efe614cd",
   "metadata": {},
   "outputs": [
    {
     "name": "stdout",
     "output_type": "stream",
     "text": [
      "{'brand': 'Ford', 'model': 'Mustang', 'year': 2022}\n"
     ]
    }
   ],
   "source": [
    "# Example Duplicate values will overwrite existing values:\n",
    "\n",
    "thisdict = {\n",
    "    \"brand\": \"Ford\",\n",
    "    \"model\": \"Mustang\",\n",
    "    \"year\": 1964,\n",
    "    \"year\": 2022        # dict is having two values for year key, so last one will be considered.\n",
    "}\n",
    "print(thisdict)"
   ]
  },
  {
   "cell_type": "markdown",
   "id": "905279d5",
   "metadata": {},
   "source": [
    "But values can be duplicate like;"
   ]
  },
  {
   "cell_type": "code",
   "execution_count": 147,
   "id": "b383fd31",
   "metadata": {},
   "outputs": [
    {
     "name": "stdout",
     "output_type": "stream",
     "text": [
      "{'key1': 100, 'key2': 200, 'key3': 300}\n",
      "{'key1': 100, 'key2': 200, 'key3': 300, 'key4': 300}\n"
     ]
    }
   ],
   "source": [
    "d8 = {'key1': 100, 'key2': 200, 'key3': 300, 'key3': 300, 'key3': 300}\n",
    "print(d8)\n",
    "d8[\"key4\"] = 300 # added a new key \"key4\" with value 300. \"key3\" also have same value \n",
    "print(d8)"
   ]
  },
  {
   "cell_type": "code",
   "execution_count": null,
   "id": "4ed31249",
   "metadata": {},
   "outputs": [],
   "source": []
  },
  {
   "cell_type": "markdown",
   "id": "ad36ff86",
   "metadata": {},
   "source": [
    "## Dictionary Items - Data Types\n",
    "\n",
    "dictionaries are very flexible in the data types they can hold. \n",
    "\n",
    "The values in dictionary items can be of any data type:"
   ]
  },
  {
   "cell_type": "code",
   "execution_count": 148,
   "id": "6e6d21f5",
   "metadata": {},
   "outputs": [
    {
     "name": "stdout",
     "output_type": "stream",
     "text": [
      "{'brand': 'Ford', 'electric': False, 'year': 1964, 'colors': ['red', 'white', 'blue'], 'key5': {1, 2, 3, 'v1'}, 'key6': {'k1': 1, 'k2': 'v2'}}\n"
     ]
    }
   ],
   "source": [
    "# Example String, int, boolean, and list data types:\n",
    "thisdict = {\n",
    "    \"brand\": \"Ford\",\n",
    "    \"electric\": False,\n",
    "    \"year\": 1964,\n",
    "    \"colors\": [\"red\", \"white\", \"blue\"],\n",
    "    \"key5\": {1, 2, 3, \"v1\"},\n",
    "    \"key6\": {\"k1\": 1, \"k2\": \"v2\"}\n",
    "\n",
    "}\n",
    "\n",
    "print(thisdict)"
   ]
  },
  {
   "cell_type": "code",
   "execution_count": 149,
   "id": "ef810814",
   "metadata": {},
   "outputs": [
    {
     "name": "stdout",
     "output_type": "stream",
     "text": [
      "<class 'str'> Ford\n",
      "<class 'bool'> False\n",
      "<class 'int'> 1964\n",
      "<class 'list'> ['red', 'white', 'blue']\n",
      "<class 'set'> {1, 2, 3, 'v1'}\n",
      "<class 'dict'> {'k1': 1, 'k2': 'v2'}\n"
     ]
    }
   ],
   "source": [
    "print(type(thisdict[\"brand\"]), thisdict[\"brand\"])\n",
    "print(type(thisdict[\"electric\"]), thisdict[\"electric\"])\n",
    "print(type(thisdict[\"year\"]), thisdict[\"year\"])\n",
    "print(type(thisdict[\"colors\"]), thisdict[\"colors\"])\n",
    "print(type(thisdict[\"key5\"]), thisdict[\"key5\"])\n",
    "print(type(thisdict[\"key6\"]), thisdict[\"key6\"])"
   ]
  },
  {
   "cell_type": "markdown",
   "id": "161c5c8e",
   "metadata": {},
   "source": [
    "above you can see that, dict can have items of different data types.\n",
    "\n",
    "__NOTE: The keys will allways be a String type__ like \n",
    "`\"brand\", \"electric\",\"year\",\"colors\",\"key5\"` in above example "
   ]
  },
  {
   "cell_type": "markdown",
   "id": "0b3a1efd",
   "metadata": {},
   "source": [
    "__NOTE__\n",
    "\n",
    "Python has a built-in method of doing a self subtraction or addition (or multiplication or division).\n",
    "We could have also used += or -=  \n",
    "\n",
    "For example:\n"
   ]
  },
  {
   "cell_type": "code",
   "execution_count": 150,
   "id": "0149f3d4",
   "metadata": {},
   "outputs": [
    {
     "name": "stdout",
     "output_type": "stream",
     "text": [
      "###### 1.\n",
      "<class 'dict'> {'k1': 123, 'k2': [0, 1, 98], 'k3': {'insidekey': 100}, 'k4': ['john', 'david', 2, 31.45, 'A'], 'k5': 125}\n",
      "###### 2.\n",
      "123\n",
      "###### 3.\n",
      "<class 'dict'> {'k1': 23, 'k2': [0, 1, 98], 'k3': {'insidekey': 100}, 'k4': ['john', 'david', 2, 31.45, 'A'], 'k5': 125}\n",
      "###### 4.\n",
      "<class 'dict'> {'k1': 23, 'k2': [0, 1, 98], 'k3': {'insidekey': 100}, 'k4': ['john', 'david', 2, 31.45, 'A'], 'k5': 100}\n",
      "###### 5.\n",
      "<class 'list'> [0, 1, 98]\n",
      "98\n",
      "###### 6.\n",
      "<class 'dict'> {'insidekey': 100}\n",
      "100\n",
      "###### 7.\n",
      "<class 'list'> ['john', 'david', 2, 31.45, 'A']\n",
      "john\n",
      "JOHN\n",
      "DAVID\n",
      "DAVID\n"
     ]
    }
   ],
   "source": [
    "# more Examples \n",
    "# you can do addition and substraction with values of dict \n",
    "\n",
    "d1 = {'k1': 123,\n",
    "      'k2': [0, 1, 98],\n",
    "      'k3': {'insidekey': 100},\n",
    "      'k4': ['john', \"david\", 2, 31.45, 'A'],\n",
    "      'k5': 125\n",
    "      }\n",
    "\n",
    "print(\"###### 1.\")\n",
    "print(type(d1), d1)\n",
    "print(\"###### 2.\")\n",
    "print(d1[\"k1\"])\n",
    "print(\"###### 3.\")\n",
    "# Subtract 100 from the value and update\n",
    "d1['k1'] = d1['k1'] - 100  # 123-100\n",
    "print(type(d1), d1)\n",
    "print(\"###### 4.\")\n",
    "# Subtract 25 from the value and update\n",
    "d1[\"k5\"] -= 25\n",
    "print(type(d1), d1)\n",
    "\n",
    "print(\"###### 5.\")\n",
    "print(type(d1[\"k2\"]), d1[\"k2\"])\n",
    "print(d1[\"k2\"][2])\n",
    "\n",
    "print(\"###### 6.\")\n",
    "print(type(d1[\"k3\"]),d1[\"k3\"])\n",
    "print(d1[\"k3\"][\"insidekey\"])\n",
    "\n",
    "print(\"###### 7.\")\n",
    "print(type(d1[\"k4\"]),d1[\"k4\"])\n",
    "print(d1[\"k4\"][0])\n",
    "print(d1[\"k4\"][0].upper())\n",
    "\n",
    "x = d1[\"k4\"][1]\n",
    "print(x.upper())\n",
    "print(d1[\"k4\"][1].upper())"
   ]
  },
  {
   "cell_type": "markdown",
   "id": "2355ef9c",
   "metadata": {},
   "source": [
    "__type()__\n",
    "\n",
    "From Python's perspective, dictionaries are defined as objects with the data type 'dict':\n",
    "\n",
    "`<class 'dict'>`"
   ]
  },
  {
   "cell_type": "code",
   "execution_count": 151,
   "id": "199e851c",
   "metadata": {},
   "outputs": [
    {
     "name": "stdout",
     "output_type": "stream",
     "text": [
      "<class 'dict'>\n"
     ]
    }
   ],
   "source": [
    "# Example Print the data type of a dictionary:\n",
    "\n",
    "thisdict = {\n",
    "  \"brand\": \"Ford\",\n",
    "  \"model\": \"Mustang\",\n",
    "  \"year\": 1964\n",
    "}\n",
    "print(type(thisdict))"
   ]
  },
  {
   "cell_type": "markdown",
   "id": "0a8c53b8",
   "metadata": {},
   "source": [
    "## Access Dictionary Items\n",
    "\n",
    "__Accessing Items__\n",
    "\n",
    "1. You can access the items of a dictionary by referring to its key name, inside square brackets:"
   ]
  },
  {
   "cell_type": "code",
   "execution_count": 152,
   "id": "a3329aa9",
   "metadata": {},
   "outputs": [
    {
     "name": "stdout",
     "output_type": "stream",
     "text": [
      "Mustang\n"
     ]
    }
   ],
   "source": [
    "# Example Get the value of the \"model\" key:\n",
    "thisdict = {\n",
    "    \"brand\": \"Ford\",\n",
    "    \"model\": \"Mustang\",\n",
    "    \"year\": 1964\n",
    "}\n",
    "x = thisdict[\"model\"]\n",
    "print(x)"
   ]
  },
  {
   "cell_type": "markdown",
   "id": "6248d2ed",
   "metadata": {},
   "source": [
    "2. There is also a method called get() that will give you the same result:"
   ]
  },
  {
   "cell_type": "code",
   "execution_count": 153,
   "id": "35306ae3",
   "metadata": {},
   "outputs": [
    {
     "name": "stdout",
     "output_type": "stream",
     "text": [
      "Mustang\n"
     ]
    }
   ],
   "source": [
    "# Example Get the value of the \"model\" key:\n",
    "thisdict = {\n",
    "    \"brand\": \"Ford\",\n",
    "    \"model\": \"Mustang\",\n",
    "    \"year\": 1964\n",
    "}\n",
    "x = thisdict.get(\"model\")\n",
    "print(x)"
   ]
  },
  {
   "cell_type": "code",
   "execution_count": 154,
   "id": "c3a22d1d",
   "metadata": {},
   "outputs": [
    {
     "name": "stdout",
     "output_type": "stream",
     "text": [
      "{'brand': 'Ford', 'model': 'Mustang', 'year': 1964}\n"
     ]
    },
    {
     "ename": "KeyError",
     "evalue": "0",
     "output_type": "error",
     "traceback": [
      "\u001b[1;31m---------------------------------------------------------------------------\u001b[0m",
      "\u001b[1;31mKeyError\u001b[0m                                  Traceback (most recent call last)",
      "\u001b[1;32m<ipython-input-154-3bafa49a6039>\u001b[0m in \u001b[0;36m<module>\u001b[1;34m\u001b[0m\n\u001b[0;32m      4\u001b[0m     \"year\": 1964 } \n\u001b[0;32m      5\u001b[0m \u001b[0mprint\u001b[0m\u001b[1;33m(\u001b[0m\u001b[0mthisdict\u001b[0m\u001b[1;33m)\u001b[0m\u001b[1;33m\u001b[0m\u001b[1;33m\u001b[0m\u001b[0m\n\u001b[1;32m----> 6\u001b[1;33m \u001b[0mthisdict\u001b[0m\u001b[1;33m[\u001b[0m\u001b[1;36m0\u001b[0m\u001b[1;33m]\u001b[0m \u001b[1;31m# can  not be accssed by index\u001b[0m\u001b[1;33m\u001b[0m\u001b[1;33m\u001b[0m\u001b[0m\n\u001b[0m",
      "\u001b[1;31mKeyError\u001b[0m: 0"
     ]
    }
   ],
   "source": [
    "thisdict = {\n",
    "    \"brand\": \"Ford\",\n",
    "    \"model\": \"Mustang\",\n",
    "    \"year\": 1964 } \n",
    "print(thisdict)\n",
    "thisdict[0] # can  not be accssed by index "
   ]
  },
  {
   "cell_type": "markdown",
   "id": "ff4729d9",
   "metadata": {},
   "source": [
    "if key doesn’t exist then this gives error “KeyErro”"
   ]
  },
  {
   "cell_type": "code",
   "execution_count": 155,
   "id": "748908ca",
   "metadata": {},
   "outputs": [
    {
     "name": "stdout",
     "output_type": "stream",
     "text": [
      "{'brand': 'Ford', 'model': 'Mustang', 'year': 1964}\n"
     ]
    },
    {
     "ename": "KeyError",
     "evalue": "'colr'",
     "output_type": "error",
     "traceback": [
      "\u001b[1;31m---------------------------------------------------------------------------\u001b[0m",
      "\u001b[1;31mKeyError\u001b[0m                                  Traceback (most recent call last)",
      "\u001b[1;32m<ipython-input-155-02db6574f98a>\u001b[0m in \u001b[0;36m<module>\u001b[1;34m\u001b[0m\n\u001b[0;32m      1\u001b[0m \u001b[0mthisdict\u001b[0m \u001b[1;33m=\u001b[0m \u001b[1;33m{\u001b[0m\u001b[1;34m\"brand\"\u001b[0m\u001b[1;33m:\u001b[0m \u001b[1;34m\"Ford\"\u001b[0m\u001b[1;33m,\u001b[0m    \u001b[1;34m\"model\"\u001b[0m\u001b[1;33m:\u001b[0m \u001b[1;34m\"Mustang\"\u001b[0m\u001b[1;33m,\u001b[0m    \u001b[1;34m\"year\"\u001b[0m\u001b[1;33m:\u001b[0m \u001b[1;36m1964\u001b[0m\u001b[1;33m}\u001b[0m\u001b[1;33m\u001b[0m\u001b[1;33m\u001b[0m\u001b[0m\n\u001b[0;32m      2\u001b[0m \u001b[0mprint\u001b[0m\u001b[1;33m(\u001b[0m\u001b[0mthisdict\u001b[0m\u001b[1;33m)\u001b[0m\u001b[1;33m\u001b[0m\u001b[1;33m\u001b[0m\u001b[0m\n\u001b[1;32m----> 3\u001b[1;33m \u001b[0mx\u001b[0m \u001b[1;33m=\u001b[0m \u001b[0mthisdict\u001b[0m\u001b[1;33m[\u001b[0m\u001b[1;34m\"colr\"\u001b[0m\u001b[1;33m]\u001b[0m \u001b[1;31m# it will be error\u001b[0m\u001b[1;33m\u001b[0m\u001b[1;33m\u001b[0m\u001b[0m\n\u001b[0m\u001b[0;32m      4\u001b[0m \u001b[0mprint\u001b[0m\u001b[1;33m(\u001b[0m\u001b[0mx\u001b[0m\u001b[1;33m)\u001b[0m\u001b[1;33m\u001b[0m\u001b[1;33m\u001b[0m\u001b[0m\n",
      "\u001b[1;31mKeyError\u001b[0m: 'colr'"
     ]
    }
   ],
   "source": [
    "thisdict = {\"brand\": \"Ford\",    \"model\": \"Mustang\",    \"year\": 1964}\n",
    "print(thisdict)\n",
    "x = thisdict[\"colr\"] # it will be error \n",
    "print(x)"
   ]
  },
  {
   "cell_type": "markdown",
   "id": "511d0cc0",
   "metadata": {},
   "source": [
    "but get() method will not give any error;\n",
    "\n",
    "see here get doesn’t give any error. It just returns None That’s the benitft of Get method "
   ]
  },
  {
   "cell_type": "code",
   "execution_count": 156,
   "id": "8204ecf3",
   "metadata": {},
   "outputs": [
    {
     "name": "stdout",
     "output_type": "stream",
     "text": [
      "{'brand': 'Ford', 'model': 'Mustang', 'year': 1964}\n",
      "None\n"
     ]
    }
   ],
   "source": [
    "thisdict = {\"brand\": \"Ford\",    \"model\": \"Mustang\",    \"year\": 1964}\n",
    "print(thisdict)\n",
    "x =  thisdict.get(\"colr\") \n",
    "print(x)"
   ]
  },
  {
   "cell_type": "code",
   "execution_count": null,
   "id": "007cfceb",
   "metadata": {},
   "outputs": [],
   "source": []
  },
  {
   "cell_type": "markdown",
   "id": "44e9ff68",
   "metadata": {},
   "source": [
    "__Get Keys__\n",
    "\n",
    "The keys() method will return a list of all the keys in the dictionary.\n",
    "\n",
    "__Get Values__\n",
    "\n",
    "The values() method will return a list of all the values in the dictionary.\n",
    "\n",
    "__Get Items__\n",
    "\n",
    "The items() method will return each item in a dictionary, as tuples in a list."
   ]
  },
  {
   "cell_type": "markdown",
   "id": "8ddd91be",
   "metadata": {},
   "source": [
    "## Check if Key Exists\n",
    "\n",
    "To determine if a specified __key__\n",
    "is present in a dictionary use the `in` keyword:"
   ]
  },
  {
   "cell_type": "code",
   "execution_count": 157,
   "id": "2ff19383",
   "metadata": {},
   "outputs": [
    {
     "name": "stdout",
     "output_type": "stream",
     "text": [
      "Yes, 'model' is one of the keys in the thisdict dictionary\n"
     ]
    }
   ],
   "source": [
    "# Example Check if \"model\" is present in the dictionary:\n",
    "\n",
    "thisdict = {\n",
    "    \"brand\": \"Ford\",\n",
    "    \"model\": \"Mustang\",\n",
    "    \"year\": 1964\n",
    "}\n",
    "if \"model\" in thisdict:\n",
    "    print(\"Yes, 'model' is one of the keys in the thisdict dictionary\")"
   ]
  },
  {
   "cell_type": "markdown",
   "id": "6c600d24",
   "metadata": {},
   "source": [
    "##  Change/update  Dictionary Items\n",
    "\n",
    "__Change Values__\n",
    "\n",
    "You can change the value of a specific item by \n",
    "1. referring to its key name:\n"
   ]
  },
  {
   "cell_type": "code",
   "execution_count": 158,
   "id": "e2593b43",
   "metadata": {},
   "outputs": [
    {
     "name": "stdout",
     "output_type": "stream",
     "text": [
      "{'brand': 'Ford', 'model': 'Mustang', 'year': 2018}\n"
     ]
    }
   ],
   "source": [
    "# Example Change the \"year\" to 2018 from 1964\n",
    "\n",
    "thisdict = {\n",
    "    \"brand\": \"Ford\",\n",
    "    \"model\": \"Mustang\",\n",
    "    \"year\": 1964\n",
    "}\n",
    "\n",
    "thisdict[\"year\"] = 2018\n",
    "print(thisdict)"
   ]
  },
  {
   "cell_type": "markdown",
   "id": "4995df6c",
   "metadata": {},
   "source": [
    "2. The update() method will update the dictionary with the items from the given argument.\n",
    "\n",
    "The argument must be a dictionary, or an iterable object with key:value pairs."
   ]
  },
  {
   "cell_type": "code",
   "execution_count": 159,
   "id": "86e2c838",
   "metadata": {},
   "outputs": [
    {
     "name": "stdout",
     "output_type": "stream",
     "text": [
      "{'brand': 'Ford', 'model': 'Mustang', 'year': 2020}\n"
     ]
    }
   ],
   "source": [
    "# Example Update the \"year\" of the car by using the update() method:\n",
    "\n",
    "thisdict = {\n",
    "    \"brand\": \"Ford\",\n",
    "    \"model\": \"Mustang\",\n",
    "    \"year\": 1964\n",
    "}\n",
    "thisdict.update({\"year\": 2020})\n",
    "\n",
    "print(thisdict)"
   ]
  },
  {
   "cell_type": "markdown",
   "id": "2dcd7a74",
   "metadata": {},
   "source": [
    "##  Add Dictionary Items\n",
    "\n",
    "__Adding Items__\n",
    "\n",
    "Adding an item to the dictionary is done by using a new index key and assigning a value to it:"
   ]
  },
  {
   "cell_type": "code",
   "execution_count": 160,
   "id": "2f501a3c",
   "metadata": {},
   "outputs": [
    {
     "name": "stdout",
     "output_type": "stream",
     "text": [
      "{'brand': 'Ford', 'model': 'Mustang', 'year': 1964, 'color': 'red'}\n"
     ]
    }
   ],
   "source": [
    "thisdict = {\n",
    "  \"brand\": \"Ford\",\n",
    "  \"model\": \"Mustang\",\n",
    "  \"year\": 1964\n",
    "}\n",
    "thisdict[\"color\"] = \"red\"\n",
    "print(thisdict)"
   ]
  },
  {
   "cell_type": "markdown",
   "id": "f02b7aba",
   "metadata": {},
   "source": [
    "__Update Dictionary__ \n",
    "The update() method will update the dictionary with the items from a given argument. If the item does not exist, the item will be added.\n",
    "\n",
    "The argument must be a dictionary, or an iterable object with key:value pairs."
   ]
  },
  {
   "cell_type": "code",
   "execution_count": 161,
   "id": "02c0612a",
   "metadata": {},
   "outputs": [
    {
     "name": "stdout",
     "output_type": "stream",
     "text": [
      "{'brand': 'Ford', 'model': 'Mustang', 'year': 1964}\n",
      "{'brand': 'Ford', 'model': 'Mustang', 'year': 1964, 'color': 'red'}\n"
     ]
    }
   ],
   "source": [
    "# Example Add a color item to the dictionary by using the update() method:\n",
    "thisdict = {\n",
    "  \"brand\": \"Ford\",\n",
    "  \"model\": \"Mustang\",\n",
    "  \"year\": 1964\n",
    "}\n",
    "\n",
    "print(thisdict)\n",
    "\n",
    "thisdict.update({\"color\": \"red\"})\n",
    "print(thisdict)\n"
   ]
  },
  {
   "cell_type": "markdown",
   "id": "ef19949f",
   "metadata": {},
   "source": [
    "## Copy Dictionaries\n",
    "\n",
    "You cannot copy a dictionary simply by typing dict2 = dict1, \n",
    "\n",
    "Because: dict2 will only be a reference to dict1, and changes made in dict1 will automatically also be made in dict2.\n",
    "\n",
    "There are ways to make a copy, \n",
    "\n",
    "1. one way is to use the built-in Dictionary method copy()."
   ]
  },
  {
   "cell_type": "code",
   "execution_count": 162,
   "id": "8bbe69f8",
   "metadata": {},
   "outputs": [
    {
     "name": "stdout",
     "output_type": "stream",
     "text": [
      "{'brand': 'Ford', 'model': 'Mustang', 'year': 1964}\n",
      "1882595193408\n",
      "{'brand': 'Ford', 'model': 'Mustang', 'year': 1964}\n",
      "1882595193408\n"
     ]
    }
   ],
   "source": [
    "# Example : Copy without copy() method \n",
    "dict1 = {\n",
    "    \"brand\": \"Ford\",\n",
    "    \"model\": \"Mustang\",\n",
    "    \"year\": 1964\n",
    "}\n",
    "\n",
    "print(dict1)\n",
    "print(id(dict1))\n",
    "\n",
    "dict2 = dict1\n",
    "\n",
    "print(dict2)\n",
    "print(id(dict2))"
   ]
  },
  {
   "cell_type": "markdown",
   "id": "32059b46",
   "metadata": {},
   "source": [
    "See above both dict1 and dict2 both are refering to same object which is stored at loction __\"2605046561152\"__"
   ]
  },
  {
   "cell_type": "code",
   "execution_count": 163,
   "id": "68c8eaa1",
   "metadata": {},
   "outputs": [
    {
     "name": "stdout",
     "output_type": "stream",
     "text": [
      "{'brand': 'Ford', 'model': 'Mustang', 'year': 1964}\n",
      "1882595195456\n",
      "{'brand': 'Ford', 'model': 'Mustang', 'year': 1964}\n",
      "1882595193664\n"
     ]
    }
   ],
   "source": [
    "# Example Copy the dict1 dictionary:\n",
    "\n",
    "dict1 = {\n",
    "    \"brand\": \"Ford\",\n",
    "    \"model\": \"Mustang\",\n",
    "    \"year\": 1964\n",
    "}\n",
    "\n",
    "print(dict1)\n",
    "print(id(dict1))\n",
    "\n",
    "dict2 = dict1.copy()\n",
    "\n",
    "print(dict2)\n",
    "print(id(dict2))"
   ]
  },
  {
   "cell_type": "markdown",
   "id": "574de32b",
   "metadata": {},
   "source": [
    "see both dict1 and dict2 are two seperate dict object having seperate memory location. means two sepearte dict object \n",
    "\n",
    "2. Another way to make a copy is to use the __built-in function dict().__"
   ]
  },
  {
   "cell_type": "code",
   "execution_count": 164,
   "id": "1591ff7d",
   "metadata": {},
   "outputs": [
    {
     "name": "stdout",
     "output_type": "stream",
     "text": [
      "{'brand': 'Ford', 'model': 'Mustang', 'year': 1964}\n"
     ]
    }
   ],
   "source": [
    "# Example Make a copy of a dictionary with the dict() function:\n",
    "\n",
    "thisdict = {\n",
    "    \"brand\": \"Ford\",\n",
    "    \"model\": \"Mustang\",\n",
    "    \"year\": 1964\n",
    "}\n",
    "mydict = dict(thisdict)\n",
    "print(mydict)"
   ]
  },
  {
   "cell_type": "markdown",
   "id": "25d3e515",
   "metadata": {},
   "source": [
    "## Remove Dictionary Items\n",
    "\n",
    "There are several methods to remove items from a dictionary:\n",
    "\n",
    "1. pop() method \n"
   ]
  },
  {
   "cell_type": "code",
   "execution_count": 165,
   "id": "fa46bb4c",
   "metadata": {},
   "outputs": [
    {
     "name": "stdout",
     "output_type": "stream",
     "text": [
      "{'brand': 'Ford', 'year': 1964}\n"
     ]
    }
   ],
   "source": [
    "# Example The pop() method removes the item with the specified key name:\n",
    "\n",
    "thisdict = {\n",
    "    \"brand\": \"Ford\",\n",
    "    \"model\": \"Mustang\",\n",
    "    \"year\": 1964\n",
    "}\n",
    "thisdict.pop(\"model\")\n",
    "print(thisdict)"
   ]
  },
  {
   "cell_type": "markdown",
   "id": "9bb9815d",
   "metadata": {},
   "source": [
    "2. popitem() method "
   ]
  },
  {
   "cell_type": "code",
   "execution_count": 166,
   "id": "5c90a750",
   "metadata": {},
   "outputs": [
    {
     "name": "stdout",
     "output_type": "stream",
     "text": [
      "{'brand': 'Ford', 'model': 'Mustang', 'year': 1964}\n",
      "{'brand': 'Ford', 'model': 'Mustang'}\n"
     ]
    }
   ],
   "source": [
    "# Example The popitem() method removes the last inserted item\n",
    "# (in versions before 3.7, a random item is removed instead):\n",
    "thisdict = {\n",
    "    \"brand\": \"Ford\",\n",
    "    \"model\": \"Mustang\",\n",
    "    \"year\": 1964\n",
    "}\n",
    "print(thisdict)\n",
    "thisdict.popitem()\n",
    "print(thisdict)"
   ]
  },
  {
   "cell_type": "markdown",
   "id": "b1ffe004",
   "metadata": {},
   "source": [
    "3. __del__ keyword\n",
    "\n",
    "del keyword can be used to inplace delete the key that is present in the dictionary. \n",
    "\n",
    "One drawback that can be thought of using this is that is raises an exception if the key is not found and hence non-existence of key has to be handled."
   ]
  },
  {
   "cell_type": "code",
   "execution_count": 167,
   "id": "33899c13",
   "metadata": {},
   "outputs": [
    {
     "name": "stdout",
     "output_type": "stream",
     "text": [
      "{'brand': 'Ford', 'model': 'Mustang', 'year': 1964}\n",
      "{'brand': 'Ford', 'year': 1964}\n"
     ]
    }
   ],
   "source": [
    "# Example The del keyword removes the item with the specified key name:\n",
    "\n",
    "thisdict = {\n",
    "  \"brand\": \"Ford\",\n",
    "  \"model\": \"Mustang\",\n",
    "  \"year\": 1964\n",
    "}\n",
    "print(thisdict)\n",
    "del thisdict[\"model\"]\n",
    "print(thisdict)"
   ]
  },
  {
   "cell_type": "markdown",
   "id": "8b9cdebe",
   "metadata": {},
   "source": [
    "__if key is not present then `del` will throw a ERROR;__"
   ]
  },
  {
   "cell_type": "code",
   "execution_count": 168,
   "id": "bd3be64f",
   "metadata": {},
   "outputs": [
    {
     "name": "stdout",
     "output_type": "stream",
     "text": [
      "{'brand': 'Ford', 'model': 'Mustang', 'year': 1964}\n"
     ]
    },
    {
     "ename": "KeyError",
     "evalue": "'colr'",
     "output_type": "error",
     "traceback": [
      "\u001b[1;31m---------------------------------------------------------------------------\u001b[0m",
      "\u001b[1;31mKeyError\u001b[0m                                  Traceback (most recent call last)",
      "\u001b[1;32m<ipython-input-168-eba19cde135c>\u001b[0m in \u001b[0;36m<module>\u001b[1;34m\u001b[0m\n\u001b[0;32m      7\u001b[0m }\n\u001b[0;32m      8\u001b[0m \u001b[0mprint\u001b[0m\u001b[1;33m(\u001b[0m\u001b[0mthisdict\u001b[0m\u001b[1;33m)\u001b[0m\u001b[1;33m\u001b[0m\u001b[1;33m\u001b[0m\u001b[0m\n\u001b[1;32m----> 9\u001b[1;33m \u001b[1;32mdel\u001b[0m \u001b[0mthisdict\u001b[0m\u001b[1;33m[\u001b[0m\u001b[1;34m\"colr\"\u001b[0m\u001b[1;33m]\u001b[0m\u001b[1;33m\u001b[0m\u001b[1;33m\u001b[0m\u001b[0m\n\u001b[0m\u001b[0;32m     10\u001b[0m \u001b[0mprint\u001b[0m\u001b[1;33m(\u001b[0m\u001b[0mthisdict\u001b[0m\u001b[1;33m)\u001b[0m\u001b[1;33m\u001b[0m\u001b[1;33m\u001b[0m\u001b[0m\n",
      "\u001b[1;31mKeyError\u001b[0m: 'colr'"
     ]
    }
   ],
   "source": [
    "# Example The del keyword removes the item with the specified key name which is NOT present in Dict \n",
    "\n",
    "thisdict = {\n",
    "  \"brand\": \"Ford\",\n",
    "  \"model\": \"Mustang\",\n",
    "  \"year\": 1964\n",
    "}\n",
    "print(thisdict)\n",
    "del thisdict[\"colr\"]\n",
    "print(thisdict)"
   ]
  },
  {
   "cell_type": "code",
   "execution_count": 169,
   "id": "9e26b4c6",
   "metadata": {},
   "outputs": [
    {
     "name": "stdout",
     "output_type": "stream",
     "text": [
      "{'brand': 'Ford', 'model': 'Mustang', 'year': 1964}\n"
     ]
    },
    {
     "ename": "NameError",
     "evalue": "name 'thisdict' is not defined",
     "output_type": "error",
     "traceback": [
      "\u001b[1;31m---------------------------------------------------------------------------\u001b[0m",
      "\u001b[1;31mNameError\u001b[0m                                 Traceback (most recent call last)",
      "\u001b[1;32m<ipython-input-169-ff058dc03577>\u001b[0m in \u001b[0;36m<module>\u001b[1;34m\u001b[0m\n\u001b[0;32m      9\u001b[0m \u001b[1;32mdel\u001b[0m \u001b[0mthisdict\u001b[0m\u001b[1;33m\u001b[0m\u001b[1;33m\u001b[0m\u001b[0m\n\u001b[0;32m     10\u001b[0m \u001b[1;33m\u001b[0m\u001b[0m\n\u001b[1;32m---> 11\u001b[1;33m \u001b[0mprint\u001b[0m\u001b[1;33m(\u001b[0m\u001b[0mthisdict\u001b[0m\u001b[1;33m)\u001b[0m \u001b[1;31m# this will cause an error because \"thisdict\" no longer exists.\u001b[0m\u001b[1;33m\u001b[0m\u001b[1;33m\u001b[0m\u001b[0m\n\u001b[0m",
      "\u001b[1;31mNameError\u001b[0m: name 'thisdict' is not defined"
     ]
    }
   ],
   "source": [
    "# Example The del keyword can also delete the dictionary completely:\n",
    "\n",
    "thisdict = {\n",
    "    \"brand\": \"Ford\",\n",
    "    \"model\": \"Mustang\",\n",
    "    \"year\": 1964\n",
    "}\n",
    "print(thisdict)\n",
    "del thisdict\n",
    "\n",
    "print(thisdict) # this will cause an error because \"thisdict\" no longer exists."
   ]
  },
  {
   "cell_type": "markdown",
   "id": "b7498741",
   "metadata": {},
   "source": [
    "4.\n",
    "\n",
    "items() coupled with dict comprehension \n",
    "\n",
    "can also help us achieve task of key-value pair deletion but, it has drawback of not being an inplace dict. technique. Actually a new dict if created except for the key we don’t wish to include.\n",
    "Which Means … simple a new Dict will get created out of old dict. You just need to exclue the key which you want to delete. Using comprehension way.\n"
   ]
  },
  {
   "cell_type": "code",
   "execution_count": 170,
   "id": "abacba8d",
   "metadata": {},
   "outputs": [
    {
     "name": "stdout",
     "output_type": "stream",
     "text": [
      "The dictionary before performing remove is : {'Arushi': 22, 'Anuradha': 21, 'Mani': 21, 'Haritha': 21}\n",
      "The dictionary after remove is : {'Arushi': 22, 'Anuradha': 21, 'Haritha': 21}\n"
     ]
    }
   ],
   "source": [
    "# Code #3 : Demonstrating key-value pair deletion using items() + dict. comprehension\n",
    "# Python code to demonstrate\n",
    "# removal of dict. pair\n",
    "# using items() + dict comprehension\n",
    "\n",
    "\n",
    "# Initializing dictionary\n",
    "test_dict = {\"Arushi\": 22, \"Anuradha\": 21, \"Mani\": 21, \"Haritha\": 21}\n",
    "# Printing dictionary before removal\n",
    "print(\"The dictionary before performing remove is : \" + str(test_dict))\n",
    "\n",
    "# Using items() + dict comprehension to remove a dict. pair\n",
    "# removes Mani\n",
    "new_dict = {key: val for key, val in test_dict.items() if key != 'Mani'}\n",
    "# Printing dictionary after removal\n",
    "print(\"The dictionary after remove is : \" + str(new_dict))"
   ]
  },
  {
   "cell_type": "code",
   "execution_count": 171,
   "id": "03ff934a",
   "metadata": {},
   "outputs": [
    {
     "name": "stdout",
     "output_type": "stream",
     "text": [
      "{'brand': 'Ford', 'model': 'Mustang', 'year': 1964}\n",
      "{}\n"
     ]
    }
   ],
   "source": [
    "# Example The clear() method empties the dictionary:\n",
    "\n",
    "thisdict = {\n",
    "  \"brand\": \"Ford\",\n",
    "  \"model\": \"Mustang\",\n",
    "  \"year\": 1964\n",
    "}\n",
    "print(thisdict)\n",
    "thisdict.clear()\n",
    "print(thisdict)"
   ]
  },
  {
   "cell_type": "code",
   "execution_count": null,
   "id": "cad3fe32",
   "metadata": {},
   "outputs": [],
   "source": []
  },
  {
   "cell_type": "markdown",
   "id": "1f8004e5",
   "metadata": {},
   "source": [
    "## Loop Dictionaries\n",
    "__For loop__ \n",
    "\n",
    "You can loop through a dictionary by using a for loop.\n",
    "\n",
    "When looping through a dictionary, the return value are the keys of the dictionary, but there are methods to return the values as well.\n"
   ]
  },
  {
   "cell_type": "code",
   "execution_count": 172,
   "id": "e342178b",
   "metadata": {},
   "outputs": [
    {
     "name": "stdout",
     "output_type": "stream",
     "text": [
      "brand\n",
      "model\n",
      "year\n"
     ]
    }
   ],
   "source": [
    "# Example Print all key names in the dictionary, one by one:\n",
    "thisdict = {\"brand\": \"Ford\",  \"model\": \"Mustang\",  \"year\": 1964}\n",
    "for x in thisdict:\n",
    "    print(x)"
   ]
  },
  {
   "cell_type": "code",
   "execution_count": 173,
   "id": "f6ab1300",
   "metadata": {},
   "outputs": [
    {
     "name": "stdout",
     "output_type": "stream",
     "text": [
      "Ford\n",
      "Mustang\n",
      "1964\n"
     ]
    }
   ],
   "source": [
    "# Example Print all values in the dictionary, one by one:\n",
    "thisdict = {\"brand\": \"Ford\",  \"model\": \"Mustang\",  \"year\": 1964}\n",
    "for x in thisdict:\n",
    "    print(thisdict[x])"
   ]
  },
  {
   "cell_type": "code",
   "execution_count": 174,
   "id": "5be9e071",
   "metadata": {},
   "outputs": [
    {
     "name": "stdout",
     "output_type": "stream",
     "text": [
      "Ford\n",
      "Mustang\n",
      "1964\n"
     ]
    }
   ],
   "source": [
    "# Example You can also use the values() method to return values of a dictionary:\n",
    "thisdict = {\"brand\": \"Ford\",  \"model\": \"Mustang\",  \"year\": 1964}\n",
    "for x in thisdict.values():\n",
    "    print(x)"
   ]
  },
  {
   "cell_type": "code",
   "execution_count": 175,
   "id": "2c1a9451",
   "metadata": {},
   "outputs": [
    {
     "name": "stdout",
     "output_type": "stream",
     "text": [
      "brand\n",
      "model\n",
      "year\n"
     ]
    }
   ],
   "source": [
    "# Example You can use the keys() method to return the keys of a dictionary:\n",
    "thisdict = {\"brand\": \"Ford\",  \"model\": \"Mustang\",  \"year\": 1964}\n",
    "for x in thisdict.keys():\n",
    "    print(x)"
   ]
  },
  {
   "cell_type": "code",
   "execution_count": 176,
   "id": "75508dc4",
   "metadata": {},
   "outputs": [
    {
     "name": "stdout",
     "output_type": "stream",
     "text": [
      "brand#Ford\n",
      "model#Mustang\n",
      "year#1964\n"
     ]
    }
   ],
   "source": [
    "# Example Loop through both keys and values, by using the items() method:\n",
    "thisdict = {\"brand\": \"Ford\",  \"model\": \"Mustang\",  \"year\": 1964}\n",
    "for x, y in thisdict.items():\n",
    "    print(x, y, sep=\"#\")"
   ]
  },
  {
   "cell_type": "markdown",
   "id": "cdef7d04",
   "metadata": {},
   "source": [
    "## Nested Dictionaries\n",
    "\n",
    "A dictionary can contain dictionaries, this is called nested dictionaries."
   ]
  },
  {
   "cell_type": "code",
   "execution_count": 177,
   "id": "00bf31c3",
   "metadata": {},
   "outputs": [
    {
     "name": "stdout",
     "output_type": "stream",
     "text": [
      "{'child1': {'name': 'Emil', 'year': 2004}, 'child2': {'name': 'Tobias', 'year': 2007}, 'child3': {'name': 'Linus', 'year': 2011}}\n"
     ]
    }
   ],
   "source": [
    "# Example Create a dictionary that contain three dictionaries:\n",
    "myfamily = {\n",
    "    \"child1\": {\"name\": \"Emil\", \"year\": 2004},\n",
    "    \"child2\": {\"name\": \"Tobias\", \"year\": 2007},\n",
    "    \"child3\": {\"name\": \"Linus\", \"year\": 2011}\n",
    "}\n",
    "\n",
    "print(myfamily)"
   ]
  },
  {
   "cell_type": "markdown",
   "id": "d4e0e2c1",
   "metadata": {},
   "source": [
    "Or, if you want to add three dictionaries into a new dictionary:"
   ]
  },
  {
   "cell_type": "code",
   "execution_count": 178,
   "id": "b10fa0c7",
   "metadata": {},
   "outputs": [
    {
     "name": "stdout",
     "output_type": "stream",
     "text": [
      "{'child1': {'name': 'Emil', 'year': 2004}, 'child2': {'name': 'Tobias', 'year': 2007}, 'child3': {'name': 'Linus', 'year': 2011}}\n",
      "<class 'dict'> {'name': 'Emil', 'year': 2004}\n"
     ]
    }
   ],
   "source": [
    "# Example Create three dictionaries, then create one dictionary that will contain the other three dictionaries:\n",
    "\n",
    "child1 = {\"name\": \"Emil\", \"year\": 2004}\n",
    "child2 = {\"name\": \"Tobias\", \"year\": 2007}\n",
    "child3 = {\"name\": \"Linus\", \"year\": 2011}\n",
    "\n",
    "myfamily = {\"child1\": child1,    \"child2\": child2,    \"child3\": child3}\n",
    "\n",
    "print(myfamily)\n",
    "print(type(myfamily[\"child1\"]), myfamily[\"child1\"]) # value it self is a dict type "
   ]
  },
  {
   "cell_type": "markdown",
   "id": "21fac68a",
   "metadata": {},
   "source": [
    "* Dictionary nested inside a dictionary nested inside a dictionary"
   ]
  },
  {
   "cell_type": "code",
   "execution_count": 179,
   "id": "6b64677b",
   "metadata": {},
   "outputs": [
    {
     "name": "stdout",
     "output_type": "stream",
     "text": [
      "{'key1': {'nestkey': {'subnestkey': 'value'}}}\n",
      "value\n"
     ]
    }
   ],
   "source": [
    "d4 = {'key1': {'nestkey': {'subnestkey': 'value'}}}\n",
    "print(d4)\n",
    "# Wow! That's a quite the inception of dictionaries! Let's see how we can grab that value:\n",
    "# Keep calling the keys\n",
    "print(d4['key1']['nestkey']['subnestkey'])"
   ]
  },
  {
   "cell_type": "code",
   "execution_count": null,
   "id": "116c2954",
   "metadata": {},
   "outputs": [],
   "source": []
  },
  {
   "cell_type": "code",
   "execution_count": null,
   "id": "23c52129",
   "metadata": {},
   "outputs": [],
   "source": []
  },
  {
   "cell_type": "code",
   "execution_count": null,
   "id": "27f31f4a",
   "metadata": {},
   "outputs": [],
   "source": []
  },
  {
   "cell_type": "code",
   "execution_count": null,
   "id": "4480eb73",
   "metadata": {},
   "outputs": [],
   "source": []
  },
  {
   "cell_type": "code",
   "execution_count": null,
   "id": "dbb96d18",
   "metadata": {},
   "outputs": [],
   "source": []
  },
  {
   "cell_type": "code",
   "execution_count": null,
   "id": "44b857c2",
   "metadata": {},
   "outputs": [],
   "source": []
  },
  {
   "cell_type": "code",
   "execution_count": null,
   "id": "f3c86542",
   "metadata": {},
   "outputs": [],
   "source": []
  },
  {
   "cell_type": "markdown",
   "id": "c099ff53",
   "metadata": {},
   "source": [
    "## Python Dictionary methods and other concepts \n",
    "\n",
    "`Dictionary Methods\n",
    "Python has a set of built-in methods that you can use on dictionaries.\n",
    "Method\tDescription\n",
    "clear()\tRemoves all the elements from the dictionary\n",
    "copy()\tReturns a copy of the dictionary\n",
    "fromkeys()\tReturns a dictionary with the specified keys and value\n",
    "get()\tReturns the value of the specified key\n",
    "items()\tReturns a list containing a tuple for each key value pair\n",
    "keys()\tReturns a list containing the dictionary's keys\n",
    "pop()\tRemoves the element with the specified key\n",
    "popitem()\tRemoves the last inserted key-value pair\n",
    "setdefault()\tReturns the value of the specified key. If the key does not exist: insert the key, with the specified value\n",
    "update()\tUpdates the dictionary with the specified key-value pairs\n",
    "values()\tReturns a list of all the values in the dictionary`"
   ]
  },
  {
   "cell_type": "markdown",
   "id": "fa5cf6eb",
   "metadata": {},
   "source": [
    "### Dictionary get() Method\n",
    "\n",
    "`Definition and Usage\n",
    "The get() method returns the value of the item with the specified key.\n",
    "Syntax\n",
    "dictionary.get(keyname, value)\n",
    "Parameter Values\n",
    "Parameter\tDescription\n",
    "keyname\tRequired. The keyname of the item you want to return the value from\n",
    "value\tOptional. A value to return if the specified key does not exist.\n",
    "Default value None`"
   ]
  },
  {
   "cell_type": "code",
   "execution_count": 180,
   "id": "cb9f0805",
   "metadata": {},
   "outputs": [
    {
     "name": "stdout",
     "output_type": "stream",
     "text": [
      "Mustang\n"
     ]
    }
   ],
   "source": [
    "# Example Get the value of the \"model\" item:\n",
    "\n",
    "car = {\n",
    "    \"brand\": \"Ford\",\n",
    "    \"model\": \"Mustang\",\n",
    "    \"year\": 1964\n",
    "}\n",
    "\n",
    "x = car.get(\"model\")\n",
    "\n",
    "print(x)"
   ]
  },
  {
   "cell_type": "code",
   "execution_count": 181,
   "id": "98c7dd4d",
   "metadata": {},
   "outputs": [
    {
     "name": "stdout",
     "output_type": "stream",
     "text": [
      "15000\n"
     ]
    }
   ],
   "source": [
    "# Example Try to return the value of an item that do not exist:\n",
    "\n",
    "car = {\n",
    "    \"brand\": \"Ford\",\n",
    "    \"model\": \"Mustang\",\n",
    "    \"year\": 1964\n",
    "}\n",
    "\n",
    "x = car.get(\"price\", 15000) # if key \"price\" does'nt exist it will return 15000\n",
    "print(x)"
   ]
  },
  {
   "cell_type": "markdown",
   "id": "f839d10d",
   "metadata": {},
   "source": [
    "### Dictionary keys() Method\n",
    "\n",
    "`Definition and Usage\n",
    "The keys() method returns a view object. The view object contains the keys of the dictionary, as a list.\n",
    "The view object will reflect any changes done to the dictionary, see example below.\n",
    "Syntax\n",
    "dictionary.keys()\n",
    "Parameter Values\n",
    "No parameters`"
   ]
  },
  {
   "cell_type": "code",
   "execution_count": 182,
   "id": "9e1b94c6",
   "metadata": {},
   "outputs": [
    {
     "name": "stdout",
     "output_type": "stream",
     "text": [
      "dict_keys(['brand', 'model', 'year'])\n"
     ]
    }
   ],
   "source": [
    "# Example Return the keys:\n",
    "\n",
    "car = {\n",
    "    \"brand\": \"Ford\",\n",
    "    \"model\": \"Mustang\",\n",
    "    \"year\": 1964\n",
    "}\n",
    "\n",
    "x = car.keys()\n",
    "\n",
    "print(x)"
   ]
  },
  {
   "cell_type": "code",
   "execution_count": 183,
   "id": "389c55cf",
   "metadata": {},
   "outputs": [
    {
     "name": "stdout",
     "output_type": "stream",
     "text": [
      "dict_keys(['brand', 'model', 'year'])\n",
      "<class 'dict_keys'>\n",
      "<class 'str'> brand\n",
      "<class 'str'> model\n",
      "<class 'str'> year\n"
     ]
    }
   ],
   "source": [
    "# Example Get a list of the keys:\n",
    "thisdict = {\n",
    "    \"brand\": \"Ford\",\n",
    "    \"model\": \"Mustang\",\n",
    "    \"year\": 1964\n",
    "}\n",
    "x = thisdict.keys()\n",
    "print(x)\n",
    "print(type(x))  # its a list which you can iterate through\n",
    "for i in x:\n",
    "    print(type(i),i)"
   ]
  },
  {
   "cell_type": "markdown",
   "id": "b5477188",
   "metadata": {},
   "source": [
    " see from above  __NOTE: The keys will allways be a String type__ like \n",
    "`\"brand\", \"model\",\"year\" in above example all are string data type "
   ]
  },
  {
   "cell_type": "markdown",
   "id": "8d606677",
   "metadata": {},
   "source": [
    "The list of the keys is a view of the dictionary, meaning that any changes done to the dictionary will be reflected in the keys list.\n",
    "\n"
   ]
  },
  {
   "cell_type": "code",
   "execution_count": 184,
   "id": "97487b8f",
   "metadata": {},
   "outputs": [
    {
     "name": "stdout",
     "output_type": "stream",
     "text": [
      "1.\n",
      "dict_keys(['brand', 'model', 'year'])\n",
      "2.\n",
      "dict_keys(['brand', 'model', 'year', 'color'])\n",
      "3.\n",
      "<class 'dict_keys'>\n",
      "brand\n",
      "model\n",
      "year\n",
      "color\n"
     ]
    }
   ],
   "source": [
    "# Example Add a new item to the original dictionary, and see that the keys list gets updated as well:\n",
    "# When an item is added in the dictionary, the view object also gets updated:\n",
    "\n",
    "car = {\n",
    "    \"brand\": \"Ford\",\n",
    "    \"model\": \"Mustang\",\n",
    "    \"year\": 1964\n",
    "}\n",
    "\n",
    "x = car.keys()\n",
    "print(\"1.\")\n",
    "print(x)  # before the change\n",
    "\n",
    "car[\"color\"] = \"white\"\n",
    "print(\"2.\")\n",
    "print(x)  # after the change\n",
    "\n",
    "print(\"3.\")\n",
    "print(type(x))  # its a list which you can iterate through\n",
    "for i in x:\n",
    "    print(i)"
   ]
  },
  {
   "cell_type": "markdown",
   "id": "c75e5a8a",
   "metadata": {},
   "source": [
    "### Dictionary values() Method\n",
    "\n",
    "`Definition and Usage\n",
    "The values() method returns a view object. The view object contains the values of the dictionary, as a list.\n",
    "/\n",
    "The view object will reflect any changes done to the dictionary, see example below.\n",
    "/\n",
    "Syntax\n",
    "dictionary.values()\n",
    "Parameter Values\n",
    "No parameters`"
   ]
  },
  {
   "cell_type": "code",
   "execution_count": 185,
   "id": "42ae829b",
   "metadata": {},
   "outputs": [
    {
     "name": "stdout",
     "output_type": "stream",
     "text": [
      "dict_values(['Ford', 'Mustang', 1964])\n"
     ]
    }
   ],
   "source": [
    "# Example Return the values:\n",
    "\n",
    "car = {\n",
    "    \"brand\": \"Ford\",\n",
    "    \"model\": \"Mustang\",\n",
    "    \"year\": 1964\n",
    "}\n",
    "\n",
    "x = car.values()\n",
    "\n",
    "print(x)"
   ]
  },
  {
   "cell_type": "code",
   "execution_count": 186,
   "id": "77f94f51",
   "metadata": {},
   "outputs": [
    {
     "name": "stdout",
     "output_type": "stream",
     "text": [
      "dict_values(['Ford', 'Mustang', 1964])\n"
     ]
    }
   ],
   "source": [
    "# Example Return the values:\n",
    "\n",
    "car = {\n",
    "  \"brand\": \"Ford\",\n",
    "  \"model\": \"Mustang\",\n",
    "  \"year\": 1964\n",
    "}\n",
    "\n",
    "x = car.values()\n",
    "\n",
    "print(x)"
   ]
  },
  {
   "cell_type": "markdown",
   "id": "eb3946f7",
   "metadata": {},
   "source": [
    "The list of the values is a view of the dictionary, meaning that any changes done to the dictionary will be reflected in the values list."
   ]
  },
  {
   "cell_type": "code",
   "execution_count": 187,
   "id": "357291a2",
   "metadata": {},
   "outputs": [
    {
     "name": "stdout",
     "output_type": "stream",
     "text": [
      "1.\n",
      "{'brand': 'Ford', 'model': 'Mustang', 'year': 1964}\n",
      "2.\n",
      "dict_values(['Ford', 'Mustang', 1964])\n",
      "3.\n",
      "dict_values(['Ford', 'Mustang', 2020])\n",
      "4.\n",
      "dict_values(['Ford', 'Mustang', 2020, 'Petrol'])\n"
     ]
    }
   ],
   "source": [
    "# Example When a values is changed in the dictionary, the view object also gets updated Automatically\n",
    "# Make a change in the original dictionary, and see that the values list gets updated as well:\n",
    "\n",
    "car = {\n",
    "    \"brand\": \"Ford\",\n",
    "    \"model\": \"Mustang\",\n",
    "    \"year\": 1964\n",
    "}\n",
    "\n",
    "print(\"1.\")\n",
    "print(car)\n",
    "\n",
    "x = car.values() \n",
    "print(\"2.\")\n",
    "print(x)   # before the change get list of values  \n",
    "\n",
    "print(\"3.\")\n",
    "car[\"year\"] = 2020  # update the value of \"year\"\n",
    "print(x)  # After the change get list of values  \n",
    "\n",
    "print(\"4.\")\n",
    "car[\"fuel\"] = \"Petrol\"   # add new item in dict as key \"Fuel\"\n",
    "print(x)  # After addding new item the changeget list of values\n"
   ]
  },
  {
   "cell_type": "markdown",
   "id": "e6951c9b",
   "metadata": {},
   "source": [
    "### Dictionary items() Method\n",
    "\n",
    "`Definition and Usage\n",
    "The items() method returns a view object. The view object contains the key-value pairs of the dictionary, as tuples in a list.\n",
    "/\n",
    "The view object will reflect any changes done to the dictionary, see example below.\n",
    "/\n",
    "Syntax\n",
    "dictionary.items()\n",
    "Parameter Values\n",
    "No parameters`"
   ]
  },
  {
   "cell_type": "code",
   "execution_count": 188,
   "id": "6f6254ea",
   "metadata": {},
   "outputs": [
    {
     "name": "stdout",
     "output_type": "stream",
     "text": [
      "dict_items([('brand', 'Ford'), ('model', 'Mustang'), ('year', 1964)])\n"
     ]
    }
   ],
   "source": [
    "# Example Return the dictionary's key-value pairs:\n",
    "\n",
    "car = {\n",
    "  \"brand\": \"Ford\",\n",
    "  \"model\": \"Mustang\",\n",
    "  \"year\": 1964\n",
    "}\n",
    "\n",
    "x = car.items()\n",
    "\n",
    "print(x)"
   ]
  },
  {
   "cell_type": "markdown",
   "id": "3c6a8b56",
   "metadata": {},
   "source": [
    "The returned list is a __view of the items of the dictionary__, meaning that any changes done to the dictionary will be reflected in the items list."
   ]
  },
  {
   "cell_type": "code",
   "execution_count": 189,
   "id": "a3553053",
   "metadata": {},
   "outputs": [
    {
     "name": "stdout",
     "output_type": "stream",
     "text": [
      "<class 'dict_items'> dict_items([('brand', 'Ford'), ('model', 'Mustang'), ('year', 1964)])\n",
      "<class 'dict_items'> dict_items([('brand', 'Ford'), ('model', 'Mustang'), ('year', 2020)])\n"
     ]
    }
   ],
   "source": [
    "# Example When an item in the dictionary changes value, the view object also gets updated:\n",
    "# Make a change in the original dictionary, and see that the items list gets updated as well:\n",
    "\n",
    "car = {\n",
    "    \"brand\": \"Ford\",\n",
    "    \"model\": \"Mustang\",\n",
    "    \"year\": 1964\n",
    "}\n",
    "\n",
    "x = car.items()\n",
    "print(type(x), x)  # before the change\n",
    "\n",
    "car[\"year\"] = 2020\n",
    "print(type(x), x)  # after the change"
   ]
  },
  {
   "cell_type": "code",
   "execution_count": 190,
   "id": "3dcc890d",
   "metadata": {},
   "outputs": [
    {
     "name": "stdout",
     "output_type": "stream",
     "text": [
      "dict_items([('brand', 'Ford'), ('model', 'Mustang'), ('year', 1964)])\n",
      "dict_items([('brand', 'Ford'), ('model', 'Mustang'), ('year', 1964), ('color', 'red')])\n"
     ]
    }
   ],
   "source": [
    "# Example Add a new item to the original dictionary, and see that the items list gets updated as well:\n",
    "\n",
    "car = {\n",
    "    \"brand\": \"Ford\",\n",
    "    \"model\": \"Mustang\",\n",
    "    \"year\": 1964\n",
    "}\n",
    "\n",
    "x = car.items()\n",
    "\n",
    "print(x)  # before the change\n",
    "\n",
    "car[\"color\"] = \"red\"\n",
    "\n",
    "print(x)  # after the change"
   ]
  },
  {
   "cell_type": "markdown",
   "id": "7da770bb",
   "metadata": {},
   "source": [
    "### Dictionary update() Method\n",
    "\n",
    "`Definition and Usage\n",
    "The update() method inserts the specified items to the dictionary.\n",
    "The update() method will update the dictionary with the items from a given argument. If the item does not exist, the item will be added.\n",
    "/\n",
    "The argument must be a dictionary, or an iterable object with key:value pairs\n",
    "/\n",
    "The specified items can be a dictionary, or an iterable object with key value pairs.\n",
    "/\n",
    "Syntax\n",
    "dictionary.update(iterable)\n",
    "Parameter Values\n",
    "Parameter\tDescription\n",
    "iterable\tA dictionary or an iterable object with key value pairs, that will be inserted to the dictionary`\n",
    "\n"
   ]
  },
  {
   "cell_type": "code",
   "execution_count": 191,
   "id": "353d03f1",
   "metadata": {},
   "outputs": [
    {
     "name": "stdout",
     "output_type": "stream",
     "text": [
      "{'brand': 'Ford', 'model': 'Mustang', 'year': 1964}\n",
      "{'brand': 'Ford', 'model': 'Mustang', 'year': 2018}\n"
     ]
    }
   ],
   "source": [
    "# Example : Update  an item of the dictionary  Without update() method\n",
    "# Change the \"year\" to 2018 from 1964\n",
    "\n",
    "thisdict = {\n",
    "    \"brand\": \"Ford\",\n",
    "    \"model\": \"Mustang\",\n",
    "    \"year\": 1964\n",
    "}\n",
    "print(thisdict)\n",
    "thisdict[\"year\"] = 2018 # update the year\n",
    "print(thisdict)"
   ]
  },
  {
   "cell_type": "code",
   "execution_count": 192,
   "id": "cc9e5a6a",
   "metadata": {},
   "outputs": [
    {
     "name": "stdout",
     "output_type": "stream",
     "text": [
      "{'brand': 'Ford', 'model': 'Mustang', 'year': 1964}\n",
      "{'brand': 'Ford', 'model': 'Mustang', 'year': 2018}\n"
     ]
    }
   ],
   "source": [
    "# Example : Update  an item of the dictionary  WITH update() method\n",
    "# Change the \"year\" to 2018 from 1964\n",
    "\n",
    "\n",
    "thisdict = {\n",
    "    \"brand\": \"Ford\",\n",
    "    \"model\": \"Mustang\",\n",
    "    \"year\": 1964\n",
    "}\n",
    "print(thisdict)\n",
    "\n",
    "thisdict.update({\"year\": 2018})  # update the year\n",
    "print(thisdict)"
   ]
  },
  {
   "cell_type": "code",
   "execution_count": 193,
   "id": "ad1ae97d",
   "metadata": {},
   "outputs": [
    {
     "name": "stdout",
     "output_type": "stream",
     "text": [
      "{'brand': 'Ford', 'model': 'Mustang', 'year': 1964}\n",
      "{'brand': 'Ford', 'model': 'Mustang', 'year': 1964, 'color': 'White'}\n"
     ]
    }
   ],
   "source": [
    "# Example Insert/add  an item to the dictionary:\n",
    "thisdict = {\n",
    "  \"brand\": \"Ford\",\n",
    "  \"model\": \"Mustang\",\n",
    "  \"year\": 1964\n",
    "}\n",
    "print(thisdict)\n",
    "thisdict.update({\"color\": \"White\"}) # add \"color\" if not exist \n",
    "\n",
    "print(thisdict)"
   ]
  },
  {
   "cell_type": "markdown",
   "id": "ef660435",
   "metadata": {},
   "source": [
    "### Dictionary pop() Method\n",
    "\n",
    "`Definition and Usage\n",
    "The pop() method removes the specified item from the dictionary.\n",
    "/\n",
    "The value of the removed item is the return value of the pop() method, see example below.\n",
    "/\n",
    "Syntax\n",
    "dictionary.pop(keyname, defaultvalue)\n",
    "Parameter Values\n",
    "Parameter\tDescription\n",
    "keyname\tRequired. The keyname of the item you want to remove\n",
    "defaultvalue\tOptional. A value to return if the specified key do not exist.\n",
    "/\n",
    "If this parameter is not specified, and the no item with the specified key is found, an error is raised`\n",
    "\n",
    "pop() can be used to delete a key and its value inplace. Advantage over using del is that \n",
    "\n",
    "1. it provides the mechanism to print desired value if tried to remove a non-existing dict. pair. \n",
    "2. it also returns the value of key that is being removed in addition to performing a simple delete operation.\n",
    "\n"
   ]
  },
  {
   "cell_type": "code",
   "execution_count": 194,
   "id": "0c814eba",
   "metadata": {},
   "outputs": [
    {
     "name": "stdout",
     "output_type": "stream",
     "text": [
      "{'brand': 'Ford', 'model': 'Mustang', 'year': 1964}\n",
      "{'brand': 'Ford', 'year': 1964}\n"
     ]
    }
   ],
   "source": [
    "# Example Remove \"model\" from the dictionary:\n",
    "\n",
    "thisdict = {\n",
    "    \"brand\": \"Ford\",\n",
    "    \"model\": \"Mustang\",\n",
    "    \"year\": 1964\n",
    "}\n",
    "print(thisdict)\n",
    "\n",
    "thisdict.pop(\"model\")\n",
    "print(thisdict)"
   ]
  },
  {
   "cell_type": "markdown",
   "id": "a207b670",
   "metadata": {},
   "source": [
    "__NOTE:pop() will return the item which is been removed from dict__"
   ]
  },
  {
   "cell_type": "code",
   "execution_count": 195,
   "id": "f76dea1a",
   "metadata": {},
   "outputs": [
    {
     "name": "stdout",
     "output_type": "stream",
     "text": [
      "{'brand': 'Ford', 'model': 'Mustang', 'year': 1964}\n",
      "{'brand': 'Ford', 'year': 1964}\n",
      "Mustang\n",
      "<class 'str'>\n"
     ]
    }
   ],
   "source": [
    "# Example The value of the removed item is the return value of the pop() method:\n",
    "thisdict = {\"brand\": \"Ford\",\n",
    "            \"model\": \"Mustang\",\n",
    "            \"year\": 1964\n",
    "            }\n",
    "print(thisdict) # dict \n",
    "\n",
    "x = thisdict.pop(\"model\")  # removed item \"model\"\n",
    "print(thisdict)  # dict after removal \n",
    "print(x) # value of removed item key  and its data type. in this case its string  \n",
    "print(type(x))"
   ]
  },
  {
   "cell_type": "markdown",
   "id": "89a4ba52",
   "metadata": {},
   "source": [
    "if key not found then it will be ERROR "
   ]
  },
  {
   "cell_type": "code",
   "execution_count": 196,
   "id": "10a3edaa",
   "metadata": {},
   "outputs": [
    {
     "name": "stdout",
     "output_type": "stream",
     "text": [
      "{'brand': 'Ford', 'model': 'Mustang', 'year': 1964}\n"
     ]
    },
    {
     "ename": "KeyError",
     "evalue": "'colr'",
     "output_type": "error",
     "traceback": [
      "\u001b[1;31m---------------------------------------------------------------------------\u001b[0m",
      "\u001b[1;31mKeyError\u001b[0m                                  Traceback (most recent call last)",
      "\u001b[1;32m<ipython-input-196-b29b5570ddcb>\u001b[0m in \u001b[0;36m<module>\u001b[1;34m\u001b[0m\n\u001b[0;32m      7\u001b[0m \u001b[0mprint\u001b[0m\u001b[1;33m(\u001b[0m\u001b[0mthisdict\u001b[0m\u001b[1;33m)\u001b[0m \u001b[1;31m# dict\u001b[0m\u001b[1;33m\u001b[0m\u001b[1;33m\u001b[0m\u001b[0m\n\u001b[0;32m      8\u001b[0m \u001b[1;33m\u001b[0m\u001b[0m\n\u001b[1;32m----> 9\u001b[1;33m \u001b[0mx\u001b[0m \u001b[1;33m=\u001b[0m \u001b[0mthisdict\u001b[0m\u001b[1;33m.\u001b[0m\u001b[0mpop\u001b[0m\u001b[1;33m(\u001b[0m\u001b[1;34m\"colr\"\u001b[0m\u001b[1;33m)\u001b[0m \u001b[1;31m# removed item \"colr\" if not found then it will be ERROR\u001b[0m\u001b[1;33m\u001b[0m\u001b[1;33m\u001b[0m\u001b[0m\n\u001b[0m\u001b[0;32m     10\u001b[0m \u001b[0mprint\u001b[0m\u001b[1;33m(\u001b[0m\u001b[0mthisdict\u001b[0m\u001b[1;33m)\u001b[0m  \u001b[1;31m# dict after removal\u001b[0m\u001b[1;33m\u001b[0m\u001b[1;33m\u001b[0m\u001b[0m\n\u001b[0;32m     11\u001b[0m \u001b[0mprint\u001b[0m\u001b[1;33m(\u001b[0m\u001b[0mx\u001b[0m\u001b[1;33m)\u001b[0m \u001b[1;31m# value of removed item key  and its data type. in this case its string\u001b[0m\u001b[1;33m\u001b[0m\u001b[1;33m\u001b[0m\u001b[0m\n",
      "\u001b[1;31mKeyError\u001b[0m: 'colr'"
     ]
    }
   ],
   "source": [
    "# Using pop() to remove a dict. pair without use  of  defaultvalue\n",
    "\n",
    "thisdict = {\"brand\": \"Ford\",\n",
    "            \"model\": \"Mustang\",\n",
    "            \"year\": 1964\n",
    "            }\n",
    "print(thisdict) # dict \n",
    "\n",
    "x = thisdict.pop(\"colr\") # removed item \"colr\" if not found then it will be ERROR  \n",
    "print(thisdict)  # dict after removal \n",
    "print(x) # value of removed item key  and its data type. in this case its string  \n",
    "print(type(x))"
   ]
  },
  {
   "cell_type": "markdown",
   "id": "f7c36929",
   "metadata": {},
   "source": [
    "use \"defaultvalue\" to handle ERROR while pop()"
   ]
  },
  {
   "cell_type": "code",
   "execution_count": 197,
   "id": "4f72dbd2",
   "metadata": {},
   "outputs": [
    {
     "name": "stdout",
     "output_type": "stream",
     "text": [
      "{'brand': 'Ford', 'model': 'Mustang', 'year': 1964}\n",
      "{'brand': 'Ford', 'model': 'Mustang', 'year': 1964}\n",
      "NO KEY FOUND\n",
      "<class 'str'>\n"
     ]
    }
   ],
   "source": [
    "# Using pop() to remove a dict. pair\n",
    "# doesn't raise exception\n",
    "# assigns 'No Key found' to removed_value\n",
    "\n",
    "\n",
    "thisdict = {\"brand\": \"Ford\",\n",
    "            \"model\": \"Mustang\",\n",
    "            \"year\": 1964\n",
    "            }\n",
    "print(thisdict) # dict \n",
    "\n",
    "x = thisdict.pop(\"colr\", \"NO KEY FOUND\")  # removed item \"colr\" if not found then x will be \"NO KEY FOUND\"\n",
    "print(thisdict)  # dict after removal \n",
    "print(x) # value of removed item key  and its data type. in this case its string  \n",
    "print(type(x))"
   ]
  },
  {
   "cell_type": "markdown",
   "id": "c9adb327",
   "metadata": {},
   "source": [
    "### Dictionary popitem() Method\n",
    "\n",
    "`Definition and Usage\n",
    "The popitem() method removes the item that was last inserted into the dictionary. In versions before 3.7, the popitem() method removes a random item.\n",
    "/\n",
    "The removed item is the return value of the popitem() method, as a tuple, see example below.\n",
    "/\n",
    "Syntax\n",
    "dictionary.popitem()\n",
    "Parameter Values\n",
    "No parameters`"
   ]
  },
  {
   "cell_type": "code",
   "execution_count": 198,
   "id": "613b72ca",
   "metadata": {},
   "outputs": [
    {
     "name": "stdout",
     "output_type": "stream",
     "text": [
      "{'brand': 'Ford', 'model': 'Mustang', 'year': 1964}\n",
      "{'brand': 'Ford', 'model': 'Mustang'}\n"
     ]
    }
   ],
   "source": [
    "# Example Remove the last item from the dictionary:\n",
    "\n",
    "thisdict = {\n",
    "    \"brand\": \"Ford\",\n",
    "    \"model\": \"Mustang\",\n",
    "    \"year\": 1964\n",
    "}\n",
    "print(thisdict)\n",
    "thisdict.popitem()\n",
    "print(thisdict)"
   ]
  },
  {
   "cell_type": "code",
   "execution_count": 199,
   "id": "1b4af40a",
   "metadata": {},
   "outputs": [
    {
     "name": "stdout",
     "output_type": "stream",
     "text": [
      "{'brand': 'Ford', 'model': 'Mustang', 'year': 1964}\n",
      "{'brand': 'Ford', 'model': 'Mustang'}\n",
      "<class 'tuple'> ('year', 1964)\n"
     ]
    }
   ],
   "source": [
    "# Example The removed item is the return value of the popitem() method:\n",
    "\n",
    "thisdict = {\n",
    "    \"brand\": \"Ford\",\n",
    "    \"model\": \"Mustang\",\n",
    "    \"year\": 1964\n",
    "}\n",
    "\n",
    "print(thisdict)  # dict\n",
    "x = thisdict.popitem()  # removed item from dict\n",
    "print(thisdict)  # dict after removed the item\n",
    "\n",
    "\n",
    "print(type(x),x) # removed item as tuple"
   ]
  },
  {
   "cell_type": "markdown",
   "id": "6aa3c030",
   "metadata": {},
   "source": [
    "### Dictionary clear() Method\n",
    "\n",
    "`Definition and Usage\n",
    "The clear() method removes all the elements from a dictionary.\n",
    "/\n",
    "Syntax\n",
    "dictionary.clear()\n",
    "Parameter Values\n",
    "No parameters`\n",
    "\n",
    "\n",
    "\n",
    "\n"
   ]
  },
  {
   "cell_type": "code",
   "execution_count": 200,
   "id": "4ad83a38",
   "metadata": {},
   "outputs": [
    {
     "name": "stdout",
     "output_type": "stream",
     "text": [
      "{'brand': 'Ford', 'model': 'Mustang', 'year': 1964}\n",
      "{}\n"
     ]
    }
   ],
   "source": [
    "# Example Remove all elements from the car list:\n",
    "thisdict = {\n",
    "    \"brand\": \"Ford\",\n",
    "    \"model\": \"Mustang\",\n",
    "    \"year\": 1964\n",
    "}\n",
    "\n",
    "print(thisdict) # befoer clear \n",
    "thisdict.clear()\n",
    "\n",
    "print(thisdict) # after clear "
   ]
  },
  {
   "cell_type": "markdown",
   "id": "c4da8144",
   "metadata": {},
   "source": [
    "### Dictionary copy() Method\n",
    "\n",
    "`Definition and Usage\n",
    "The copy() method returns a copy of the specified dictionary.\n",
    "/\n",
    "Syntax\n",
    "dictionary.copy()\n",
    "Parameter Values\n",
    "No parameters`"
   ]
  },
  {
   "cell_type": "code",
   "execution_count": 201,
   "id": "534685af",
   "metadata": {},
   "outputs": [
    {
     "name": "stdout",
     "output_type": "stream",
     "text": [
      "{'brand': 'Ford', 'model': 'Mustang', 'year': 1964}\n",
      "1882594707136\n",
      "{'brand': 'Ford', 'model': 'Mustang', 'year': 1964}\n",
      "1882595195456\n"
     ]
    }
   ],
   "source": [
    "# Example Copy the car dictionary:\n",
    "\n",
    "dict1 = {\"brand\": \"Ford\",    \"model\": \"Mustang\",    \"year\": 1964}\n",
    "\n",
    "print(dict1)\n",
    "print(id(dict1))\n",
    "\n",
    "dict2 = dict1.copy()\n",
    "\n",
    "print(dict2)\n",
    "print(id(dict2))"
   ]
  },
  {
   "cell_type": "markdown",
   "id": "ea7eaa54",
   "metadata": {},
   "source": [
    "see both dict1 and dict2 are two seperate dict object having seperate memory location. means two sepearte dict object "
   ]
  },
  {
   "cell_type": "markdown",
   "id": "8f08fba3",
   "metadata": {},
   "source": [
    "### dict() method (remember to use only single round-brackets(). its different then dict construtor)\n",
    "\n",
    "Another way to make a copy is to use the built-in function dict()."
   ]
  },
  {
   "cell_type": "code",
   "execution_count": 202,
   "id": "81b07866",
   "metadata": {},
   "outputs": [
    {
     "name": "stdout",
     "output_type": "stream",
     "text": [
      "{'brand': 'Ford', 'model': 'Mustang', 'year': 1964}\n",
      "{'brand': 'Ford', 'model': 'Mustang', 'year': 1964}\n"
     ]
    }
   ],
   "source": [
    "thisdict = {\"brand\": \"Ford\",    \"model\": \"Mustang\",    \"year\": 1964}\n",
    "print(thisdict)\n",
    "\n",
    "mydict = dict(thisdict)\n",
    "print(mydict)"
   ]
  },
  {
   "cell_type": "code",
   "execution_count": 203,
   "id": "e0f0cf8f",
   "metadata": {},
   "outputs": [
    {
     "name": "stdout",
     "output_type": "stream",
     "text": [
      "{'brand': 'Ford', 'model': 'Mustang', 'year': 1964}\n"
     ]
    }
   ],
   "source": [
    "mydict = dict({\"brand\": \"Ford\",    \"model\": \"Mustang\",    \"year\": 1964})\n",
    "print(mydict)"
   ]
  },
  {
   "cell_type": "markdown",
   "id": "ebd00ee1",
   "metadata": {},
   "source": [
    "its different then list constructor where you have to give actual values create dict"
   ]
  },
  {
   "cell_type": "markdown",
   "id": "63fb3823",
   "metadata": {},
   "source": [
    "### The dict() constructor \n",
    "\n",
    "dict() constructor can be used to create dictionaries from keyword arguments, or from a single iterable of key-value pairs, or from a single dictionary and keyword arguments.\n",
    "\n",
    "https://riptutorial.com/python/example/790/the-dict---constructor"
   ]
  },
  {
   "cell_type": "markdown",
   "id": "7e849e18",
   "metadata": {},
   "source": [
    "__NOTE:__\n",
    "1. that keywords/keys  are not string literals\n",
    "2. the use of equals rather than colon for the assignment__"
   ]
  },
  {
   "cell_type": "code",
   "execution_count": 204,
   "id": "d3809a87",
   "metadata": {},
   "outputs": [
    {
     "name": "stdout",
     "output_type": "stream",
     "text": [
      "{'brand': 'Ford', 'model': 'Mustang', 'year': 1964}\n"
     ]
    }
   ],
   "source": [
    "thitsdict = dict(brand=\"Ford\", model=\"Mustang\", year=1964)\n",
    "print(thisdict)"
   ]
  },
  {
   "cell_type": "code",
   "execution_count": 205,
   "id": "cfa65c3a",
   "metadata": {},
   "outputs": [
    {
     "name": "stdout",
     "output_type": "stream",
     "text": [
      "<class 'dict'> {'a': 1, 'b': 2, 'c': 3}\n"
     ]
    }
   ],
   "source": [
    "mydict = dict(a=1, b=2, c=3)\n",
    "print(type(mydict), mydict)"
   ]
  },
  {
   "cell_type": "code",
   "execution_count": 206,
   "id": "d1b7d159",
   "metadata": {},
   "outputs": [
    {
     "name": "stdout",
     "output_type": "stream",
     "text": [
      "<class 'dict'> {'a': 1, 'b': 2, 'c': 3}\n"
     ]
    }
   ],
   "source": [
    "mydict = dict([('a', 1), ('b', 2), ('c', 3)])\n",
    "print(type(mydict), mydict)"
   ]
  },
  {
   "cell_type": "code",
   "execution_count": 207,
   "id": "247b4b32",
   "metadata": {},
   "outputs": [
    {
     "name": "stdout",
     "output_type": "stream",
     "text": [
      "<class 'dict'> {'a': 1, 'b': 2, 'c': 3}\n"
     ]
    }
   ],
   "source": [
    "mydict = dict([('a', 1)], b=2, c=3) \n",
    "print(type(mydict), mydict)"
   ]
  },
  {
   "cell_type": "code",
   "execution_count": 208,
   "id": "78786602",
   "metadata": {},
   "outputs": [
    {
     "name": "stdout",
     "output_type": "stream",
     "text": [
      "<class 'dict'> {'a': 1, 'b': 2, 'c': 3}\n"
     ]
    }
   ],
   "source": [
    "mydict = dict({'a': 1, 'b': 2}, c=3) \n",
    "print(type(mydict), mydict)"
   ]
  },
  {
   "cell_type": "markdown",
   "id": "6c9169d3",
   "metadata": {},
   "source": [
    "### Create Empty Dict \n",
    "\n",
    "We can also create keys by assignment. For instance, if we started off with an empty dictionary,\n",
    "we could continually add to it to  Create a new dictionary\n"
   ]
  },
  {
   "cell_type": "code",
   "execution_count": 209,
   "id": "9da4f04f",
   "metadata": {},
   "outputs": [
    {
     "name": "stdout",
     "output_type": "stream",
     "text": [
      "<class 'dict'> {}\n"
     ]
    }
   ],
   "source": [
    "# create a Empty Dict\n",
    "dict3 = dict()\n",
    "print(type(dict3),dict3)"
   ]
  },
  {
   "cell_type": "code",
   "execution_count": 210,
   "id": "7091a8aa",
   "metadata": {},
   "outputs": [
    {
     "name": "stdout",
     "output_type": "stream",
     "text": [
      "<class 'dict'> {}\n",
      "<class 'dict'> {'animal': 'Dog', 'answer': 42}\n"
     ]
    }
   ],
   "source": [
    "# # Create a new key through assignment\n",
    "dict3 = dict()\n",
    "print(type(dict3),dict3)\n",
    "\n",
    "dict3['animal'] = 'Dog'\n",
    "dict3['answer'] = 42\n",
    "print(type(dict3),dict3)"
   ]
  },
  {
   "cell_type": "code",
   "execution_count": null,
   "id": "15c12398",
   "metadata": {},
   "outputs": [],
   "source": []
  },
  {
   "cell_type": "code",
   "execution_count": null,
   "id": "9de62c5a",
   "metadata": {},
   "outputs": [],
   "source": []
  },
  {
   "cell_type": "markdown",
   "id": "a37b4cbb",
   "metadata": {},
   "source": [
    "### Dictionary setdefault() Method\n",
    "\n",
    "`Definition and Usage\n",
    "The setdefault() method returns the value of the item with the specified key. If the key does not exist, insert the key, with the specified value, see example below\n",
    "/\n",
    "Syntax\n",
    "dictionary.setdefault(keyname, value)\n",
    "/\n",
    "Parameter Values\n",
    "Parameter\tDescription\n",
    "keyname\tRequired. The keyname of the item you want to return the value from\n",
    "value\tOptional.\n",
    "If the key exist, this parameter has no effect.\n",
    "If the key does not exist, this value becomes the key's value\n",
    "Default value None`\n",
    "\n"
   ]
  },
  {
   "cell_type": "code",
   "execution_count": 211,
   "id": "df07f213",
   "metadata": {},
   "outputs": [
    {
     "name": "stdout",
     "output_type": "stream",
     "text": [
      "{'brand': 'Ford', 'model': 'Mustang', 'year': 1964}\n",
      "Mustang\n",
      "{'brand': 'Ford', 'model': 'Mustang', 'year': 1964}\n"
     ]
    }
   ],
   "source": [
    "# Example Get the value of the \"model\" item:\n",
    "\n",
    "car = {\n",
    "    \"brand\": \"Ford\",\n",
    "    \"model\": \"Mustang\",\n",
    "    \"year\": 1964\n",
    "}\n",
    "print(car)\n",
    "x = car.setdefault(\"model\", \"Bronco\")\n",
    "\n",
    "print(x)\n",
    "print(car)"
   ]
  },
  {
   "cell_type": "code",
   "execution_count": 212,
   "id": "41ecbb7d",
   "metadata": {},
   "outputs": [
    {
     "name": "stdout",
     "output_type": "stream",
     "text": [
      "{'brand': 'Ford', 'model': 'Mustang', 'year': 1964}\n",
      "White\n",
      "{'brand': 'Ford', 'model': 'Mustang', 'year': 1964, 'color': 'White'}\n"
     ]
    }
   ],
   "source": [
    "# Example Get the value of the \"color\" item, if the \"color\" item does not exist, insert \"color\" with the value \"white\":\n",
    "\n",
    "car = {\n",
    "    \"brand\": \"Ford\",\n",
    "    \"model\": \"Mustang\",\n",
    "    \"year\": 1964\n",
    "}\n",
    "print(car)\n",
    "x = car.setdefault(\"color\", \"White\")\n",
    "\n",
    "print(x)\n",
    "print(car)"
   ]
  },
  {
   "cell_type": "markdown",
   "id": "aa1f05f3",
   "metadata": {},
   "source": [
    "### Dictionary fromkeys() Method\n",
    "\n",
    "`Definition and Usage\n",
    "The fromkeys() method returns a dictionary with the specified keys and the specified value.\n",
    "/\n",
    "Syntax\n",
    "dict.fromkeys(keys, value)\n",
    "Parameter Values\n",
    "Parameter\tDescription\n",
    "keys\tRequired. An iterable specifying the keys of the new dictionary\n",
    "value\tOptional. The value for all keys. Default value is None`\n"
   ]
  },
  {
   "cell_type": "code",
   "execution_count": 213,
   "id": "85f1195c",
   "metadata": {},
   "outputs": [
    {
     "name": "stdout",
     "output_type": "stream",
     "text": [
      "('key1', 'key2', 'key3')\n",
      "{'key1': 0, 'key2': 0, 'key3': 0}\n"
     ]
    }
   ],
   "source": [
    "# Example Create a dictionary with 3 keys, all with the value 0:\n",
    "\n",
    "x = ('key1', 'key2', 'key3')\n",
    "y = 0\n",
    "\n",
    "print(x)\n",
    "thisdict = dict.fromkeys(x, y)\n",
    "\n",
    "print(thisdict)"
   ]
  },
  {
   "cell_type": "code",
   "execution_count": 214,
   "id": "d0fecb5e",
   "metadata": {},
   "outputs": [
    {
     "name": "stdout",
     "output_type": "stream",
     "text": [
      "('key1', 'key2', 'key3')\n",
      "{'key1': None, 'key2': None, 'key3': None}\n"
     ]
    }
   ],
   "source": [
    "# Default value is None\n",
    "# Example Same example as above, but without specifying the value:\n",
    "\n",
    "x = ('key1', 'key2', 'key3')\n",
    "print(x)\n",
    "thisdict = dict.fromkeys(x)\n",
    "\n",
    "print(thisdict)"
   ]
  },
  {
   "attachments": {
    "image-7.png": {
     "image/png": "[encoded data removed]"
    }
   },
   "cell_type": "markdown",
   "id": "da6a6809",
   "metadata": {},
   "source": [
    "# Python Set\n",
    "\n",
    "\n",
    "\n",
    "\n",
    "\n",
    "There are four collection data types in the Python programming language:\n",
    "\n",
    "* List\t\tis a collection which is ordered,indexed and changeable (mutable).    \t Y duplicates members.\n",
    "* Tuple\t\tis a collection which is ordered,indexed and unchangeable. (immutable) Y duplicate members.\n",
    "* Dictionary is a collection which is ordered,indexed and changeable (mutable).       N duplicate members.\n",
    "* Set\t\t is a collection which is unordered and unindexed.  (mutable).                 N duplicate members.\n",
    "\n",
    "\n",
    "![image-7.png](attachment:image-7.png)\n",
    "\n",
    "\n",
    "\n",
    "When choosing a collection type, it is useful to understand the properties of that type. Choosing the right type for a particular data set could mean retention of meaning, and, it could mean an increase in efficiency or security.\n",
    "\n",
    "\n",
    "__Sets__\n",
    "\n",
    "* Set items are unchangeable, but you can Add items, removed items.\n",
    "* Set is a collection which is unordered and unindexed.\n",
    "* Sets are used to store multiple items in a single variable.\n",
    "* Set is one of 4 built-in data types in Python used to store collections of data, the other 3 are List, Tuple, and Dictionary, all with different qualities and usage.\n",
    "* A set is a collection which is unordered, unchangeable*, and unindexed.\n",
    "* Sets are written with curly brackets.\n",
    "\n",
    "\n",
    "* Mutable : Set object's internal state can be changed.\n",
    "* Un-Changeable/Update - Existing items can be updated. new item can be added, Existing items can be deleted.\n",
    "* Full collection deletes : Entire Set can be deleted.\n",
    "* Un-Ordered  : The order of Items in Sets is NOT Fix. Sets are unordered, so you cannot be sure in which order the items will appear.i.e. muliple times you print it. items may appers in differrent sequence\n",
    "* Un-Indexed : Set items can __NOT__ be accessed by index value like 0,1 etc.\n",
    "* Duplicate NOT allowed : Items can __NOT__ be repeated in Set."
   ]
  },
  {
   "cell_type": "code",
   "execution_count": 215,
   "id": "b875dd19",
   "metadata": {},
   "outputs": [
    {
     "name": "stdout",
     "output_type": "stream",
     "text": [
      "<class 'set'> {'cherry', 'apple', 'banana'}\n"
     ]
    }
   ],
   "source": [
    "# Example Create a Set:\n",
    "\n",
    "thisset = {\"apple\", \"banana\", \"cherry\"}\n",
    "print(type(thisset),thisset)"
   ]
  },
  {
   "cell_type": "markdown",
   "id": "703f0d32",
   "metadata": {},
   "source": [
    "see set is having values as {\"apple\", \"banana\", \"cherry\"} BUT its getting printed as  {'banana', 'cherry', 'apple'}\n",
    "hence set is Un-ordered. and becasue its unorderd item's place in set is not fixed hence you an not access item by index number hence sets are Un-inexed as well."
   ]
  },
  {
   "cell_type": "code",
   "execution_count": 216,
   "id": "10accfeb",
   "metadata": {},
   "outputs": [
    {
     "ename": "TypeError",
     "evalue": "'set' object is not subscriptable",
     "output_type": "error",
     "traceback": [
      "\u001b[1;31m---------------------------------------------------------------------------\u001b[0m",
      "\u001b[1;31mTypeError\u001b[0m                                 Traceback (most recent call last)",
      "\u001b[1;32m<ipython-input-216-6bcb9d8661ef>\u001b[0m in \u001b[0;36m<module>\u001b[1;34m\u001b[0m\n\u001b[1;32m----> 1\u001b[1;33m \u001b[0mthisset\u001b[0m\u001b[1;33m[\u001b[0m\u001b[1;36m0\u001b[0m\u001b[1;33m]\u001b[0m \u001b[1;31m# you can not access by index number it will be error\u001b[0m\u001b[1;33m\u001b[0m\u001b[1;33m\u001b[0m\u001b[0m\n\u001b[0m\u001b[0;32m      2\u001b[0m \u001b[1;31m# TypeError: 'set' object is not subscriptable\u001b[0m\u001b[1;33m\u001b[0m\u001b[1;33m\u001b[0m\u001b[1;33m\u001b[0m\u001b[0m\n",
      "\u001b[1;31mTypeError\u001b[0m: 'set' object is not subscriptable"
     ]
    }
   ],
   "source": [
    "thisset[0] # you can not access by index number it will be error \n",
    "# TypeError: 'set' object is not subscriptable"
   ]
  },
  {
   "cell_type": "markdown",
   "id": "ba6c09be",
   "metadata": {},
   "source": [
    "## Set Items\n",
    "Set items are unordered, unchangeable, and do not allow duplicate values.\n",
    "\n"
   ]
  },
  {
   "cell_type": "markdown",
   "id": "f2b4f90b",
   "metadata": {},
   "source": [
    "## Unordered\n",
    "Unordered means that the items in a set do not have a defined order.\n",
    "\n",
    "Set items can appear in a different order every time you use them, and cannot be referred to by index or key."
   ]
  },
  {
   "cell_type": "markdown",
   "id": "7106bef9",
   "metadata": {},
   "source": [
    "## Unchangeable\n",
    "Set items are unchangeable, meaning that we cannot change the items after the set has been created.\n",
    "\n",
    "Once a set is created, you cannot change its items, but you can remove items and add new items."
   ]
  },
  {
   "cell_type": "markdown",
   "id": "ddc8e2f0",
   "metadata": {},
   "source": [
    "## Duplicates Not Allowed\n",
    "Sets cannot have two items with the same value."
   ]
  },
  {
   "cell_type": "code",
   "execution_count": 217,
   "id": "300ca332",
   "metadata": {},
   "outputs": [
    {
     "name": "stdout",
     "output_type": "stream",
     "text": [
      "{'cherry', 'apple', 'banana'}\n"
     ]
    }
   ],
   "source": [
    "# Example Duplicate values will be ignored:\n",
    "thisset = {\"apple\", \"banana\", \"cherry\", \"apple\"}\n",
    "\n",
    "print(thisset)"
   ]
  },
  {
   "cell_type": "markdown",
   "id": "c4cead1c",
   "metadata": {},
   "source": [
    "## Get the Length of a Set\n",
    "To determine how many items a set has, use the `len()` method."
   ]
  },
  {
   "cell_type": "code",
   "execution_count": 218,
   "id": "3f85dea3",
   "metadata": {},
   "outputs": [
    {
     "name": "stdout",
     "output_type": "stream",
     "text": [
      "3\n"
     ]
    }
   ],
   "source": [
    "# Example Get the number of items in a set:\n",
    "\n",
    "thisset = {\"apple\", \"banana\", \"cherry\"}\n",
    "print(len(thisset))"
   ]
  },
  {
   "cell_type": "markdown",
   "id": "d4897eec",
   "metadata": {},
   "source": [
    "## Set Items - Data Types \n",
    "Set items can be of any data type:\n"
   ]
  },
  {
   "cell_type": "code",
   "execution_count": 219,
   "id": "5d839d42",
   "metadata": {},
   "outputs": [
    {
     "name": "stdout",
     "output_type": "stream",
     "text": [
      "{'cherry', 'apple', 'banana'}\n",
      "{1, 3, 5, 7, 9}\n",
      "{False, True}\n",
      "<class 'str'> ['cherry', 'apple', 'banana']\n",
      "<class 'int'> [1, 3, 5, 7, 9]\n",
      "<class 'bool'> [False, True]\n"
     ]
    }
   ],
   "source": [
    "set1 = {\"apple\", \"banana\", \"cherry\"}\n",
    "set2 = {1, 5, 7, 9, 3}\n",
    "set3 = {True, False, False}\n",
    "\n",
    "print(set1)\n",
    "print(set2)\n",
    "print(set3)\n",
    "\n",
    "# to ptint the data type of item we have to convert set to list as we can not access set item by INDEX \n",
    "list1 = list(set1)\n",
    "list2 = list(set2)\n",
    "list3 = list(set3)\n",
    "\n",
    "print(type(list1[0]),list1)\n",
    "print(type(list2[0]),list2)\n",
    "print(type(list3[0]),list3)"
   ]
  },
  {
   "cell_type": "markdown",
   "id": "8b72c3dc",
   "metadata": {},
   "source": [
    "A set can contain different data types:"
   ]
  },
  {
   "cell_type": "code",
   "execution_count": 220,
   "id": "fb1e1fc4",
   "metadata": {},
   "outputs": [
    {
     "name": "stdout",
     "output_type": "stream",
     "text": [
      "{True, 34, 40, 'male', 'abc'}\n",
      "<class 'bool'> [True, 34, 40, 'male', 'abc']\n",
      "<class 'int'> [True, 34, 40, 'male', 'abc']\n",
      "<class 'int'> [True, 34, 40, 'male', 'abc']\n",
      "<class 'str'> [True, 34, 40, 'male', 'abc']\n",
      "<class 'str'> [True, 34, 40, 'male', 'abc']\n"
     ]
    }
   ],
   "source": [
    "# Example A set with strings, integers and boolean values:\n",
    "\n",
    "set1 = {\"abc\", 34, True, 40, \"male\"}\n",
    "\n",
    "print(set1)\n",
    "list1 = list(set1)\n",
    "\n",
    "# to ptint the data type of item we have to convert set to list as we can not access set item by INDEX \n",
    "print(type(list1[0]),list1)\n",
    "print(type(list1[1]),list1)\n",
    "print(type(list1[2]),list1)\n",
    "print(type(list1[3]),list1)\n",
    "print(type(list1[4]),list1)"
   ]
  },
  {
   "cell_type": "markdown",
   "id": "49032154",
   "metadata": {},
   "source": [
    "type()  From Python's perspective, sets are defined as objects with the data type 'set':\n",
    "`<class 'set'>`"
   ]
  },
  {
   "cell_type": "code",
   "execution_count": 221,
   "id": "b616b195",
   "metadata": {},
   "outputs": [
    {
     "name": "stdout",
     "output_type": "stream",
     "text": [
      "<class 'set'> {'cherry', 'apple', 'banana'}\n"
     ]
    }
   ],
   "source": [
    "# Example What is the data type of a set?\n",
    "\n",
    "myset = {\"apple\", \"banana\", \"cherry\"}\n",
    "print(type(myset),myset)"
   ]
  },
  {
   "cell_type": "markdown",
   "id": "ebdb5e48",
   "metadata": {},
   "source": [
    "## Convert set to list "
   ]
  },
  {
   "cell_type": "code",
   "execution_count": 222,
   "id": "2b5073bc",
   "metadata": {},
   "outputs": [
    {
     "name": "stdout",
     "output_type": "stream",
     "text": [
      "{'cherry', 'apple', 'banana'}\n",
      "{1, 3, 5, 7, 9}\n",
      "{False, True}\n",
      "<class 'str'> ['cherry', 'apple', 'banana']\n",
      "<class 'int'> [1, 3, 5, 7, 9]\n",
      "<class 'bool'> [False, True]\n"
     ]
    }
   ],
   "source": [
    "set1 = {\"apple\", \"banana\", \"cherry\"}\n",
    "set2 = {1, 5, 7, 9, 3}\n",
    "set3 = {True, False, False}\n",
    "\n",
    "print(set1)\n",
    "print(set2)\n",
    "print(set3)\n",
    "\n",
    "# to ptint the data type of item we have to convert set to list as we can not access set item by INDEX \n",
    "list1 = list(set1)\n",
    "list2 = list(set2)\n",
    "list3 = list(set3)\n",
    "\n",
    "print(type(list1[0]),list1)\n",
    "print(type(list2[0]),list2)\n",
    "print(type(list3[0]),list3)"
   ]
  },
  {
   "cell_type": "markdown",
   "id": "f3780c40",
   "metadata": {},
   "source": [
    "## The set() Constructor\n",
    "It is also possible to use the set() constructor to make a set.\n",
    "\n",
    "Example"
   ]
  },
  {
   "cell_type": "code",
   "execution_count": 223,
   "id": "6618c13e",
   "metadata": {},
   "outputs": [
    {
     "name": "stdout",
     "output_type": "stream",
     "text": [
      "{'cherry', 'apple', 'banana'}\n"
     ]
    }
   ],
   "source": [
    "# Example Using the set() constructor to make a set:\n",
    "\n",
    "thisset = set((\"apple\", \"banana\", \"cherry\"))  # note the double round-brackets\n",
    "\n",
    "print(thisset) # Note: the set list is unordered, so the result will display the items in a random order.\n"
   ]
  },
  {
   "cell_type": "markdown",
   "id": "d12731e7",
   "metadata": {},
   "source": [
    "## Access Items\n",
    "You cannot access items in a set by referring to an index or a key.\n",
    "\n",
    "__for loop__\n",
    "\n",
    "But you can loop through the set items using a for loop, or ask if a specified value is present in a set, by using the in keyword."
   ]
  },
  {
   "cell_type": "code",
   "execution_count": 224,
   "id": "3347cb3d",
   "metadata": {},
   "outputs": [
    {
     "name": "stdout",
     "output_type": "stream",
     "text": [
      "cherry\n",
      "apple\n",
      "banana\n"
     ]
    }
   ],
   "source": [
    "# Example Loop through the set, and print the values:\n",
    "thisset = {\"apple\", \"banana\", \"cherry\"}\n",
    "\n",
    "for x in thisset:\n",
    "    print(x)"
   ]
  },
  {
   "cell_type": "code",
   "execution_count": 225,
   "id": "9b9c3e07",
   "metadata": {},
   "outputs": [
    {
     "name": "stdout",
     "output_type": "stream",
     "text": [
      "True\n"
     ]
    }
   ],
   "source": [
    "# Example Check if \"banana\" is present in the set:\n",
    "\n",
    "thisset = {\"apple\", \"banana\", \"cherry\"}\n",
    "\n",
    "print(\"banana\" in thisset)\n"
   ]
  },
  {
   "cell_type": "markdown",
   "id": "220ae5b0",
   "metadata": {},
   "source": [
    "## Change Items\n",
    "Once a set is created, you cannot change its items, but you can add new items."
   ]
  },
  {
   "cell_type": "markdown",
   "id": "4812be12",
   "metadata": {},
   "source": [
    "## Add Items\n",
    "Once a set is created, you cannot change its items, but you can add new items.\n",
    "\n",
    "To add one item to a set use the;\n",
    "* add() method."
   ]
  },
  {
   "cell_type": "markdown",
   "id": "18755489",
   "metadata": {},
   "source": [
    "## Add Sets\n",
    "To add items from another set into the current set, use the;\n",
    "* update() method."
   ]
  },
  {
   "cell_type": "markdown",
   "id": "878cd9ff",
   "metadata": {},
   "source": [
    "## Add Any Iterable\n",
    "The object in the update() method does not have to be a set, it can be any iterable object (tuples, lists, dictionaries etc.).\n",
    "* update() method"
   ]
  },
  {
   "cell_type": "markdown",
   "id": "886d393f",
   "metadata": {},
   "source": [
    "## Remove Set Items\n",
    "\n",
    "To remove an item in a set, use the \n",
    "\n",
    "* remove() method \n",
    "* discard() method.\n",
    "* pop() method \n",
    "* clear() method \n",
    "* del keyword"
   ]
  },
  {
   "cell_type": "code",
   "execution_count": 226,
   "id": "47eb2427",
   "metadata": {},
   "outputs": [
    {
     "name": "stdout",
     "output_type": "stream",
     "text": [
      "{'cherry', 'apple', 'banana'}\n"
     ]
    },
    {
     "ename": "NameError",
     "evalue": "name 'thisset' is not defined",
     "output_type": "error",
     "traceback": [
      "\u001b[1;31m---------------------------------------------------------------------------\u001b[0m",
      "\u001b[1;31mNameError\u001b[0m                                 Traceback (most recent call last)",
      "\u001b[1;32m<ipython-input-226-6cb4bced5291>\u001b[0m in \u001b[0;36m<module>\u001b[1;34m\u001b[0m\n\u001b[0;32m      6\u001b[0m \u001b[1;33m\u001b[0m\u001b[0m\n\u001b[0;32m      7\u001b[0m \u001b[1;32mdel\u001b[0m \u001b[0mthisset\u001b[0m\u001b[1;33m\u001b[0m\u001b[1;33m\u001b[0m\u001b[0m\n\u001b[1;32m----> 8\u001b[1;33m \u001b[0mprint\u001b[0m\u001b[1;33m(\u001b[0m\u001b[0mthisset\u001b[0m\u001b[1;33m)\u001b[0m \u001b[1;31m#this will raise an error because the set no longer exists\u001b[0m\u001b[1;33m\u001b[0m\u001b[1;33m\u001b[0m\u001b[0m\n\u001b[0m",
      "\u001b[1;31mNameError\u001b[0m: name 'thisset' is not defined"
     ]
    }
   ],
   "source": [
    "## Example The del keyword will delete the set completely:\n",
    "\n",
    "thisset = {\"apple\", \"banana\", \"cherry\"}\n",
    "print(thisset)\n",
    "\n",
    "\n",
    "del thisset\n",
    "print(thisset) #this will raise an error because the set no longer exists"
   ]
  },
  {
   "cell_type": "markdown",
   "id": "83742ed7",
   "metadata": {},
   "source": [
    "## Join Sets\n",
    "\n",
    "__Join Two Sets__\n",
    "\n",
    "There are several ways to join two or more sets in Python.\n",
    "\n",
    "You can use the union() method that returns a new set containing all items from both sets, or the update() method that inserts all the items from one set into another:\n",
    "\n",
    "__Note: Both union() and update() will exclude any duplicate items.__"
   ]
  },
  {
   "cell_type": "code",
   "execution_count": 227,
   "id": "fac143cc",
   "metadata": {},
   "outputs": [
    {
     "name": "stdout",
     "output_type": "stream",
     "text": [
      "{'c', 'a', 'b'}\n",
      "{1, 2, 3}\n",
      "{1, 2, 3, 'b', 'a', 'c'}\n"
     ]
    }
   ],
   "source": [
    "# Example The union() method returns a new set with all items from both sets:\n",
    "\n",
    "set1 = {\"a\", \"b\" , \"c\"}\n",
    "set2 = {1, 2, 3}\n",
    "print(set1)\n",
    "print(set2)\n",
    "\n",
    "set3 = set1.union(set2)\n",
    "print(set3)"
   ]
  },
  {
   "cell_type": "code",
   "execution_count": 228,
   "id": "e5ea023b",
   "metadata": {},
   "outputs": [
    {
     "name": "stdout",
     "output_type": "stream",
     "text": [
      "{'c', 'a', 'b'}\n",
      "{1, 2, 3}\n",
      "{1, 2, 3, 'b', 'a', 'c'}\n"
     ]
    }
   ],
   "source": [
    "# Example The update() method inserts the items in set2 into set1:\n",
    "set1 = {\"a\", \"b\" , \"c\"}\n",
    "set2 = {1, 2, 3}\n",
    "print(set1)\n",
    "print(set2)\n",
    "\n",
    "set1.update(set2)\n",
    "print(set1)"
   ]
  },
  {
   "cell_type": "markdown",
   "id": "9c4a585c",
   "metadata": {},
   "source": [
    "### Keep ONLY the Duplicates\n",
    "\n",
    "The intersection_update() method will keep only the items that are present in both sets."
   ]
  },
  {
   "cell_type": "code",
   "execution_count": 229,
   "id": "e6f8853b",
   "metadata": {},
   "outputs": [
    {
     "name": "stdout",
     "output_type": "stream",
     "text": [
      "{'cherry', 'apple', 'banana'}\n",
      "{'microsoft', 'apple', 'google'}\n",
      "{'apple'}\n"
     ]
    }
   ],
   "source": [
    "# Example Keep the items that exist in both set x, and set y and updte the x with those items.\n",
    "\n",
    "x = {\"apple\", \"banana\", \"cherry\"}\n",
    "y = {\"google\", \"microsoft\", \"apple\"}\n",
    "\n",
    "print(x)\n",
    "print(y)\n",
    "x.intersection_update(y)\n",
    "\n",
    "print(x)"
   ]
  },
  {
   "cell_type": "markdown",
   "id": "33f005f2",
   "metadata": {},
   "source": [
    "The intersection() method will return a new set, that only contains the items that are present in both sets."
   ]
  },
  {
   "cell_type": "code",
   "execution_count": 230,
   "id": "86cb547a",
   "metadata": {},
   "outputs": [
    {
     "name": "stdout",
     "output_type": "stream",
     "text": [
      "{'cherry', 'apple', 'banana'}\n",
      "{'microsoft', 'apple', 'google'}\n",
      "{'apple'}\n"
     ]
    }
   ],
   "source": [
    "# Example Return a new set that contains the items that exist in both set x, and set y:\n",
    "x = {\"apple\", \"banana\", \"cherry\"}\n",
    "y = {\"google\", \"microsoft\", \"apple\"}\n",
    "print(x)\n",
    "print(y)\n",
    "\n",
    "z = x.intersection(y)\n",
    "print(z)"
   ]
  },
  {
   "cell_type": "markdown",
   "id": "75a2210a",
   "metadata": {},
   "source": [
    "### Keep All, But NOT the Duplicates\n",
    "\n",
    "The symmetric_difference_update() method will keep only the elements that are NOT present in both sets."
   ]
  },
  {
   "cell_type": "code",
   "execution_count": 231,
   "id": "988e7779",
   "metadata": {},
   "outputs": [
    {
     "name": "stdout",
     "output_type": "stream",
     "text": [
      "{'cherry', 'apple', 'banana'}\n",
      "{'microsoft', 'apple', 'google'}\n",
      "{'cherry', 'google', 'banana', 'microsoft'}\n"
     ]
    }
   ],
   "source": [
    "# Example Keep the items that are NOT present in both sets:\n",
    "\n",
    "x = {\"apple\", \"banana\", \"cherry\"}\n",
    "y = {\"google\", \"microsoft\", \"apple\"}\n",
    "print(x)\n",
    "print(y)\n",
    "\n",
    "x.symmetric_difference_update(y)\n",
    "print(x)"
   ]
  },
  {
   "cell_type": "markdown",
   "id": "232d80fb",
   "metadata": {},
   "source": [
    "The symmetric_difference() method will return a new set, that contains only the elements that are NOT present in both sets."
   ]
  },
  {
   "cell_type": "code",
   "execution_count": 232,
   "id": "9b198afa",
   "metadata": {},
   "outputs": [
    {
     "name": "stdout",
     "output_type": "stream",
     "text": [
      "{'cherry', 'apple', 'banana'}\n",
      "{'microsoft', 'apple', 'google'}\n",
      "{'microsoft', 'cherry', 'banana', 'google'}\n"
     ]
    }
   ],
   "source": [
    "# Example Return a new set that contains all items from both sets, except items that are present in both:\n",
    "\n",
    "x = {\"apple\", \"banana\", \"cherry\"}\n",
    "y = {\"google\", \"microsoft\", \"apple\"}\n",
    "print(x)\n",
    "print(y)\n",
    "\n",
    "z = x.symmetric_difference(y)\n",
    "print(z)"
   ]
  },
  {
   "cell_type": "code",
   "execution_count": null,
   "id": "bf2360cf",
   "metadata": {},
   "outputs": [],
   "source": []
  },
  {
   "cell_type": "code",
   "execution_count": null,
   "id": "8948446d",
   "metadata": {},
   "outputs": [],
   "source": []
  },
  {
   "cell_type": "code",
   "execution_count": null,
   "id": "e2f60ece",
   "metadata": {},
   "outputs": [],
   "source": []
  },
  {
   "cell_type": "code",
   "execution_count": null,
   "id": "e8214b5c",
   "metadata": {},
   "outputs": [],
   "source": []
  },
  {
   "cell_type": "code",
   "execution_count": null,
   "id": "98f4ae38",
   "metadata": {},
   "outputs": [],
   "source": []
  },
  {
   "cell_type": "code",
   "execution_count": null,
   "id": "f76944f6",
   "metadata": {},
   "outputs": [],
   "source": []
  },
  {
   "cell_type": "code",
   "execution_count": null,
   "id": "3aa87e7d",
   "metadata": {},
   "outputs": [],
   "source": []
  },
  {
   "cell_type": "markdown",
   "id": "74f61e7a",
   "metadata": {},
   "source": [
    "## Python Set methods and other concepts \n",
    "\n",
    "https://www.w3schools.com/python/python_sets_methods.asp\n",
    "\n",
    "`Set Methods\n",
    "Python has a set of built-in methods that you can use on sets.\n",
    "Method\tDescription\n",
    "add()\tAdds an element to the set\n",
    "clear()\tRemoves all the elements from the set\n",
    "copy()\tReturns a copy of the set\n",
    "difference()\tReturns a set containing the difference between two or more sets\n",
    "difference_update()\tRemoves the items in this set that are also included in another, specified set\n",
    "discard()\tRemove the specified item\n",
    "intersection()\tReturns a set, that is the intersection of two other sets\n",
    "intersection_update()\tRemoves the items in this set that are not present in other, specified set(s)\n",
    "isdisjoint()\tReturns whether two sets have a intersection or not\n",
    "issubset()\tReturns whether another set contains this set or not\n",
    "issuperset()\tReturns whether this set contains another set or not\n",
    "pop()\tRemoves an element from the set\n",
    "remove()\tRemoves the specified element\n",
    "symmetric_difference()\tReturns a set with the symmetric differences of two sets\n",
    "symmetric_difference_update()\tinserts the symmetric differences from this set and another\n",
    "union()\tReturn a set containing the union of sets\n",
    "update()\tUpdate the set with the union of this set and others`"
   ]
  },
  {
   "cell_type": "markdown",
   "id": "fda19b47",
   "metadata": {},
   "source": [
    "###  Set add() Method\n",
    "\n",
    "`Definition and Usage\n",
    "The add() method adds an element to the set.\n",
    "/\n",
    "If the element already exists, the add() method does not add the element.\n",
    "/\n",
    "Syntax\n",
    "set.add(elmnt)\n",
    "Parameter Values\n",
    "Parameter\tDescription\n",
    "elmnt\tRequired. The element to add to the set`"
   ]
  },
  {
   "cell_type": "code",
   "execution_count": 233,
   "id": "9e778ac7",
   "metadata": {},
   "outputs": [
    {
     "name": "stdout",
     "output_type": "stream",
     "text": [
      "{'cherry', 'apple', 'banana'}\n",
      "{'cherry', 'apple', 'banana', 'orange'}\n"
     ]
    }
   ],
   "source": [
    "# Example Add an element to the fruits set:\n",
    "\n",
    "fruits = {\"apple\", \"banana\", \"cherry\"}\n",
    "print(fruits)\n",
    "\n",
    "fruits.add(\"orange\")\n",
    "print(fruits)"
   ]
  },
  {
   "cell_type": "code",
   "execution_count": 234,
   "id": "a7e338f1",
   "metadata": {},
   "outputs": [
    {
     "name": "stdout",
     "output_type": "stream",
     "text": [
      "{'cherry', 'apple', 'banana'}\n",
      "{'cherry', 'apple', 'banana'}\n"
     ]
    }
   ],
   "source": [
    "# Example Try to add an element that already exists:\n",
    "\n",
    "thisset = {\"apple\", \"banana\", \"cherry\"}\n",
    "print(thisset)\n",
    "\n",
    "thisset.add(\"apple\") # \"apple\" is alreday there in thisset \n",
    "print(thisset)"
   ]
  },
  {
   "cell_type": "markdown",
   "id": "20d28110",
   "metadata": {},
   "source": [
    "### Set update() Method\n",
    "`Definition and Usage\n",
    "The update() method updates the current set, by adding items from another set (or any other iterable). join of two sets.\n",
    "/\n",
    "If an item is present in both sets, only one appearance of this item will be present in the updated set.\n",
    "/\n",
    "Syntax\n",
    "set.update(set)\n",
    "Parameter Values\n",
    "Parameter\tDescription\n",
    "set\tRequired. The iterable insert into the current set`"
   ]
  },
  {
   "cell_type": "code",
   "execution_count": 235,
   "id": "35f8e061",
   "metadata": {},
   "outputs": [
    {
     "name": "stdout",
     "output_type": "stream",
     "text": [
      "{'cherry', 'apple', 'banana'}\n",
      "{'microsoft', 'apple', 'google'}\n",
      "{'cherry', 'microsoft', 'apple', 'banana', 'google'}\n"
     ]
    }
   ],
   "source": [
    "# Example Insert the items from set y into set x:\n",
    "\n",
    "x = {\"apple\", \"banana\", \"cherry\"}\n",
    "y = {\"google\", \"microsoft\", \"apple\"}\n",
    "print(x)\n",
    "print(y)\n",
    "\n",
    "x.update(y) # add y to x (i.e. join of two sets)\n",
    "print(x)"
   ]
  },
  {
   "cell_type": "code",
   "execution_count": 236,
   "id": "bdbcaca7",
   "metadata": {},
   "outputs": [
    {
     "name": "stdout",
     "output_type": "stream",
     "text": [
      "{'cherry', 'apple', 'banana'}\n",
      "{'papaya', 'mango', 'pineapple'}\n",
      "{'cherry', 'papaya', 'mango', 'pineapple', 'apple', 'banana'}\n"
     ]
    }
   ],
   "source": [
    "# To add items from another set into the current set, use the update() method.\n",
    "# Example Add elements from tropical into thisset:\n",
    "\n",
    "thisset = {\"apple\", \"banana\", \"cherry\"}\n",
    "tropical = {\"pineapple\", \"mango\", \"papaya\"}\n",
    "print(thisset)\n",
    "print(tropical)\n",
    "\n",
    "thisset.update(tropical)\n",
    "print(thisset)"
   ]
  },
  {
   "cell_type": "markdown",
   "id": "a18b488d",
   "metadata": {},
   "source": [
    "__Add Any Iterable__\n",
    "\n",
    "The object in the update() method does not have to be a set, it can be any iterable object (tuples, lists, dictionaries etc.)."
   ]
  },
  {
   "cell_type": "code",
   "execution_count": 237,
   "id": "bb0f8f30",
   "metadata": {},
   "outputs": [
    {
     "name": "stdout",
     "output_type": "stream",
     "text": [
      "<class 'set'> {'cherry', 'apple', 'banana'}\n",
      "<class 'list'> ['kiwi', 'orange']\n",
      "<class 'set'> {'cherry', 'apple', 'banana', 'kiwi', 'orange'}\n"
     ]
    }
   ],
   "source": [
    "# Example Add elements of a list to at set:\n",
    "\n",
    "thisset = {\"apple\", \"banana\", \"cherry\"}\n",
    "mylist = [\"kiwi\", \"orange\"]\n",
    "\n",
    "print(type(thisset),thisset)\n",
    "print(type(mylist),mylist)\n",
    "\n",
    "thisset.update(mylist)\n",
    "\n",
    "print(type(thisset),thisset)"
   ]
  },
  {
   "cell_type": "markdown",
   "id": "f971bcd2",
   "metadata": {},
   "source": [
    "### Set remove() Method\n",
    "\n",
    "`Definition and Usage\n",
    "The remove() method removes the specified element from the set.\n",
    "/\n",
    "This method is different from the discard() method, because the remove() method will raise an error if the specified item does not exist, and the discard() method will not.\n",
    "/\n",
    "Syntax\n",
    "set.remove(item)\n",
    "Parameter Values\n",
    "Parameter\tDescription\n",
    "item\tRequired. The item to search for, and remove`"
   ]
  },
  {
   "cell_type": "markdown",
   "id": "e99d2f8c",
   "metadata": {},
   "source": [
    "__Remove Item__\n",
    "\n",
    "To remove an item in a set, use the remove(), or the discard() method.\n",
    "\n",
    "__Note: If the item to remove does not exist, remove() will raise an error.__"
   ]
  },
  {
   "cell_type": "code",
   "execution_count": 238,
   "id": "e92545c0",
   "metadata": {},
   "outputs": [
    {
     "name": "stdout",
     "output_type": "stream",
     "text": [
      "{'cherry', 'apple', 'banana'}\n",
      "{'cherry', 'apple'}\n"
     ]
    }
   ],
   "source": [
    "# Example Remove \"banana\" by using the remove() method:\n",
    "\n",
    "thisset = {\"apple\", \"banana\", \"cherry\"}\n",
    "print(thisset)\n",
    "\n",
    "thisset.remove(\"banana\")\n",
    "print(thisset)"
   ]
  },
  {
   "cell_type": "code",
   "execution_count": 239,
   "id": "7d453904",
   "metadata": {},
   "outputs": [
    {
     "name": "stdout",
     "output_type": "stream",
     "text": [
      "{'cherry', 'apple', 'banana'}\n"
     ]
    },
    {
     "ename": "KeyError",
     "evalue": "'orange'",
     "output_type": "error",
     "traceback": [
      "\u001b[1;31m---------------------------------------------------------------------------\u001b[0m",
      "\u001b[1;31mKeyError\u001b[0m                                  Traceback (most recent call last)",
      "\u001b[1;32m<ipython-input-239-f5d3a1bce16f>\u001b[0m in \u001b[0;36m<module>\u001b[1;34m\u001b[0m\n\u001b[0;32m      4\u001b[0m \u001b[0mprint\u001b[0m\u001b[1;33m(\u001b[0m\u001b[0mthisset\u001b[0m\u001b[1;33m)\u001b[0m\u001b[1;33m\u001b[0m\u001b[1;33m\u001b[0m\u001b[0m\n\u001b[0;32m      5\u001b[0m \u001b[1;33m\u001b[0m\u001b[0m\n\u001b[1;32m----> 6\u001b[1;33m \u001b[0mthisset\u001b[0m\u001b[1;33m.\u001b[0m\u001b[0mremove\u001b[0m\u001b[1;33m(\u001b[0m\u001b[1;34m\"orange\"\u001b[0m\u001b[1;33m)\u001b[0m \u001b[1;31m# it will be error as \"orange\" doesnt exist.\u001b[0m\u001b[1;33m\u001b[0m\u001b[1;33m\u001b[0m\u001b[0m\n\u001b[0m\u001b[0;32m      7\u001b[0m \u001b[0mprint\u001b[0m\u001b[1;33m(\u001b[0m\u001b[0mthisset\u001b[0m\u001b[1;33m)\u001b[0m\u001b[1;33m\u001b[0m\u001b[1;33m\u001b[0m\u001b[0m\n",
      "\u001b[1;31mKeyError\u001b[0m: 'orange'"
     ]
    }
   ],
   "source": [
    "# Example Remove \"orange\" by using the remove() method:\n",
    "\n",
    "thisset = {\"apple\", \"banana\", \"cherry\"}\n",
    "print(thisset)\n",
    "\n",
    "thisset.remove(\"orange\") # it will be error as \"orange\" doesnt exist.\n",
    "print(thisset)"
   ]
  },
  {
   "cell_type": "markdown",
   "id": "0f405a9d",
   "metadata": {},
   "source": [
    "### Set discard() Method\n",
    "\n",
    "`Definition and Usage\n",
    "The discard() method removes the specified item from the set.\n",
    "/\n",
    "This method is different from the remove() method, because the remove() method will raise an error if the specified item does not exist, and the discard() method will not.\n",
    "/\n",
    "Syntax\n",
    "set.discard(value)\n",
    "Parameter Values\n",
    "Parameter\tDescription\n",
    "value\tRequired. The item to search for, and remove`\n",
    "\n",
    "__Note: If the item to remove does not exist, discard() will NOT raise an error.__"
   ]
  },
  {
   "cell_type": "code",
   "execution_count": 240,
   "id": "813631f1",
   "metadata": {},
   "outputs": [
    {
     "name": "stdout",
     "output_type": "stream",
     "text": [
      "{'cherry', 'apple', 'banana'}\n",
      "{'cherry', 'apple'}\n"
     ]
    }
   ],
   "source": [
    "# Example Remove \"banana\" by using the discard() method:\n",
    "\n",
    "thisset = {\"apple\", \"banana\", \"cherry\"}\n",
    "print(thisset)\n",
    "\n",
    "thisset.discard(\"banana\")\n",
    "print(thisset)"
   ]
  },
  {
   "cell_type": "code",
   "execution_count": 241,
   "id": "0325da50",
   "metadata": {},
   "outputs": [
    {
     "name": "stdout",
     "output_type": "stream",
     "text": [
      "{'cherry', 'apple', 'banana'}\n",
      "{'cherry', 'apple', 'banana'}\n"
     ]
    }
   ],
   "source": [
    "# Example Remove \"orange\" which is not exist  by using the discard() method \n",
    "\n",
    "thisset = {\"apple\", \"banana\", \"cherry\"}\n",
    "print(thisset)\n",
    "\n",
    "thisset.discard(\"orange\")\n",
    "print(thisset)"
   ]
  },
  {
   "cell_type": "markdown",
   "id": "c7c251d4",
   "metadata": {},
   "source": [
    "### Set pop() Method\n",
    "\n",
    "`Definition and Usage\n",
    "The pop() method removes a random item from the set.\n",
    "/\n",
    "This method returns the removed item.\n",
    "/\n",
    "Syntax\n",
    "set.pop()\n",
    "Parameter Values\n",
    "No parameter values.`"
   ]
  },
  {
   "cell_type": "markdown",
   "id": "d91128ff",
   "metadata": {},
   "source": [
    "You can also use the pop() method to remove an item, but this method will remove the last item. Remember that sets are unordered, so you will not know what item that gets removed.\n",
    "\n",
    "The return value of the pop() method is the removed item.\n",
    "\n",
    "__Note: Sets are unordered, so when using the pop() method, you do not know which item that gets removed.__"
   ]
  },
  {
   "cell_type": "code",
   "execution_count": 242,
   "id": "ee7fc7cf",
   "metadata": {},
   "outputs": [
    {
     "name": "stdout",
     "output_type": "stream",
     "text": [
      "{'cherry', 'apple', 'banana'}\n",
      "{'apple', 'banana'}\n"
     ]
    }
   ],
   "source": [
    "# Example Remove a random item from the set:\n",
    "\n",
    "fruits = {\"apple\", \"banana\", \"cherry\"}\n",
    "print(fruits)\n",
    "\n",
    "fruits.pop()\n",
    "print(fruits)"
   ]
  },
  {
   "cell_type": "markdown",
   "id": "8a65c491",
   "metadata": {},
   "source": [
    "__Note: The pop() method returns removed value.__"
   ]
  },
  {
   "cell_type": "code",
   "execution_count": 243,
   "id": "43974834",
   "metadata": {},
   "outputs": [
    {
     "name": "stdout",
     "output_type": "stream",
     "text": [
      "{'cherry', 'apple', 'banana'}\n",
      "cherry\n",
      "{'apple', 'banana'}\n"
     ]
    }
   ],
   "source": [
    "# Example Return the removed element:thisset = {\"apple\", \"banana\", \"cherry\"}\n",
    "\n",
    "fruits = {\"apple\", \"banana\", \"cherry\"}\n",
    "print(fruits) #the set Before removal\n",
    "\n",
    "x = fruits.pop()\n",
    "\n",
    "print(x) #removed item\n",
    "print(fruits) #the set after removal"
   ]
  },
  {
   "cell_type": "markdown",
   "id": "ec67bcea",
   "metadata": {},
   "source": [
    "### Set clear() Method\n",
    "\n",
    "`Definition and Usage\n",
    "The clear() method removes all elements in a set.\n",
    "/\n",
    "Syntax\n",
    "set.clear()\n",
    "Parameter Values\n",
    "No parameters`"
   ]
  },
  {
   "cell_type": "code",
   "execution_count": 244,
   "id": "c93f1eda",
   "metadata": {},
   "outputs": [
    {
     "name": "stdout",
     "output_type": "stream",
     "text": [
      "{'cherry', 'apple', 'banana'}\n",
      "set()\n"
     ]
    }
   ],
   "source": [
    "# Example Remove all elements from the fruits set:\n",
    "\n",
    "fruits = {\"apple\", \"banana\", \"cherry\"}\n",
    "print(fruits)\n",
    "\n",
    "fruits.clear()\n",
    "print(fruits)"
   ]
  },
  {
   "cell_type": "markdown",
   "id": "e708bd08",
   "metadata": {},
   "source": [
    "__NOTE: see here, clear() method in list and Dict gives only [] and {} when its Empty. but set gives `set()`__"
   ]
  },
  {
   "cell_type": "markdown",
   "id": "a057cd19",
   "metadata": {},
   "source": [
    "### Set copy() Method\n",
    "\n",
    "`Definition and Usage\n",
    "The copy() method copies the set.\n",
    "/\n",
    "Syntax\n",
    "set.copy()\n",
    "Parameter Values\n",
    "No parameters`"
   ]
  },
  {
   "cell_type": "code",
   "execution_count": 245,
   "id": "f5286741",
   "metadata": {},
   "outputs": [
    {
     "name": "stdout",
     "output_type": "stream",
     "text": [
      "{'cherry', 'apple', 'banana'} 1882595531008\n",
      "{'cherry', 'apple', 'banana'} 1882595528768\n"
     ]
    }
   ],
   "source": [
    "# Example Copy the fruits set:\n",
    "set1 = {\"apple\", \"banana\", \"cherry\"}\n",
    "print(set1,id(set1))\n",
    "\n",
    "set2 = set1.copy()\n",
    "print(set2,id(set2))"
   ]
  },
  {
   "cell_type": "code",
   "execution_count": null,
   "id": "886e1055",
   "metadata": {},
   "outputs": [],
   "source": []
  },
  {
   "cell_type": "markdown",
   "id": "9491e5d5",
   "metadata": {},
   "source": [
    "# Python Arrays"
   ]
  },
  {
   "cell_type": "markdown",
   "id": "e32110d9",
   "metadata": {},
   "source": [
    "# Python Booleans"
   ]
  },
  {
   "cell_type": "markdown",
   "id": "41422447",
   "metadata": {},
   "source": [
    "  "
   ]
  },
  {
   "cell_type": "code",
   "execution_count": null,
   "id": "19f2a72d",
   "metadata": {},
   "outputs": [],
   "source": []
  },
  {
   "cell_type": "markdown",
   "id": "260fe6f5",
   "metadata": {},
   "source": [
    "# List in short\n",
    "\n",
    "https://github.com/JohnRattz/udemy_django_bootcamp/blob/master/TravlersDayOneandTwo/Python_Level_One/Part3_Lists.py"
   ]
  },
  {
   "cell_type": "code",
   "execution_count": 246,
   "id": "e2ca3b6b",
   "metadata": {},
   "outputs": [
    {
     "name": "stdout",
     "output_type": "stream",
     "text": [
      "[1, 2, 3]\n"
     ]
    }
   ],
   "source": [
    "# # Lists\n",
    "#\n",
    "# Earlier when discussing strings we introduced the concept of a \"sequence\" in\n",
    "# Python. Lists can be thought of the most general version of a \"sequence\" in\n",
    "# Python. Unlike strings, they are mutable, meaning the elements inside a list can be changed!\n",
    "#\n",
    "# In this section we will learn about:\n",
    "#\n",
    "#     1.) Creating lists\n",
    "#     2.) Indexing and Slicing Lists\n",
    "#     3.) Basic List Methods\n",
    "#     4.) Nesting Lists\n",
    "#     5.) Introduction to List Comprehensions\n",
    "#\n",
    "# Lists are constructed with brackets [] and commas separating every element in the list.\n",
    "#\n",
    "# Let's go ahead and see how we can construct lists!\n",
    "\n",
    "# Assign a list to an variable named my_list\n",
    "my_list = [1, 2, 3]\n",
    "print(my_list)"
   ]
  },
  {
   "cell_type": "code",
   "execution_count": 247,
   "id": "7df99a19",
   "metadata": {},
   "outputs": [
    {
     "name": "stdout",
     "output_type": "stream",
     "text": [
      "['A string', 23, 100.232, 'o']\n",
      "4\n"
     ]
    }
   ],
   "source": [
    "# We just created a list of integers, but lists can actually\n",
    "# hold different object types. For example:\n",
    "\n",
    "my_list = ['A string', 23, 100.232, 'o']\n",
    "\n",
    "print(my_list)\n",
    "\n",
    "# Just like strings, the len() function will tell you how\n",
    "# many items are in the sequence of the list.\n",
    "print(len(my_list))"
   ]
  },
  {
   "cell_type": "code",
   "execution_count": 248,
   "id": "7ae85014",
   "metadata": {},
   "outputs": [
    {
     "name": "stdout",
     "output_type": "stream",
     "text": [
      "['one', 'two', 'three', 4, 5]\n"
     ]
    }
   ],
   "source": [
    "##############################\n",
    "#### Indexing and Slicing ####\n",
    "##############################\n",
    "\n",
    "# Indexing and slicing works just like in strings. Let's make a new list to\n",
    "# remind ourselves of how this works:\n",
    "my_list = ['one','two','three',4,5]\n",
    "print(my_list)"
   ]
  },
  {
   "cell_type": "code",
   "execution_count": 249,
   "id": "2186b426",
   "metadata": {},
   "outputs": [
    {
     "data": {
      "text/plain": [
       "'one'"
      ]
     },
     "execution_count": 249,
     "metadata": {},
     "output_type": "execute_result"
    }
   ],
   "source": [
    "# Grab element at index 0\n",
    "my_list[0]"
   ]
  },
  {
   "cell_type": "code",
   "execution_count": 250,
   "id": "d702af85",
   "metadata": {},
   "outputs": [
    {
     "data": {
      "text/plain": [
       "['two', 'three', 4, 5]"
      ]
     },
     "execution_count": 250,
     "metadata": {},
     "output_type": "execute_result"
    }
   ],
   "source": [
    "# Grab index 1 and everything past it\n",
    "my_list[1:]"
   ]
  },
  {
   "cell_type": "code",
   "execution_count": 251,
   "id": "100bc040",
   "metadata": {},
   "outputs": [
    {
     "data": {
      "text/plain": [
       "['one', 'two', 'three']"
      ]
     },
     "execution_count": 251,
     "metadata": {},
     "output_type": "execute_result"
    }
   ],
   "source": [
    "# Grab everything UP TO index 3\n",
    "my_list[:3]"
   ]
  },
  {
   "cell_type": "code",
   "execution_count": 252,
   "id": "7dc863b3",
   "metadata": {},
   "outputs": [
    {
     "data": {
      "text/plain": [
       "['one', 'two', 'three', 4, 5, 'new item']"
      ]
     },
     "execution_count": 252,
     "metadata": {},
     "output_type": "execute_result"
    }
   ],
   "source": [
    "# We can also use + to concatenate lists, just like we did for strings.\n",
    "\n",
    "my_list + ['new item']"
   ]
  },
  {
   "cell_type": "code",
   "execution_count": 253,
   "id": "1b28dbdf",
   "metadata": {},
   "outputs": [
    {
     "data": {
      "text/plain": [
       "['one', 'two', 'three', 4, 5]"
      ]
     },
     "execution_count": 253,
     "metadata": {},
     "output_type": "execute_result"
    }
   ],
   "source": [
    "# Note: This doesn't actually change the original list!\n",
    "\n",
    "my_list\n"
   ]
  },
  {
   "cell_type": "code",
   "execution_count": 254,
   "id": "2345af59",
   "metadata": {},
   "outputs": [
    {
     "data": {
      "text/plain": [
       "['one', 'two', 'three', 4, 5, 'add new item permanently']"
      ]
     },
     "execution_count": 254,
     "metadata": {},
     "output_type": "execute_result"
    }
   ],
   "source": [
    "# You would have to reassign the list to make the change permanent.\n",
    "# Reassign\n",
    "my_list = my_list + ['add new item permanently']\n",
    "\n",
    "my_list"
   ]
  },
  {
   "cell_type": "code",
   "execution_count": 255,
   "id": "24e3a49e",
   "metadata": {},
   "outputs": [
    {
     "data": {
      "text/plain": [
       "['one',\n",
       " 'two',\n",
       " 'three',\n",
       " 4,\n",
       " 5,\n",
       " 'add new item permanently',\n",
       " 'one',\n",
       " 'two',\n",
       " 'three',\n",
       " 4,\n",
       " 5,\n",
       " 'add new item permanently']"
      ]
     },
     "execution_count": 255,
     "metadata": {},
     "output_type": "execute_result"
    }
   ],
   "source": [
    "# We can also use the * for a duplication method similar to strings:\n",
    "# Make the list double\n",
    "my_list * 2"
   ]
  },
  {
   "cell_type": "code",
   "execution_count": 256,
   "id": "ac6c75d0",
   "metadata": {},
   "outputs": [
    {
     "data": {
      "text/plain": [
       "['one', 'two', 'three', 4, 5, 'add new item permanently']"
      ]
     },
     "execution_count": 256,
     "metadata": {},
     "output_type": "execute_result"
    }
   ],
   "source": [
    "# Again doubling not permanent\n",
    "my_list"
   ]
  },
  {
   "cell_type": "code",
   "execution_count": 257,
   "id": "c170ece5",
   "metadata": {},
   "outputs": [
    {
     "data": {
      "text/plain": [
       "[1, 2, 3, 4, 5, 1, 2, 3, 4, 5]"
      ]
     },
     "execution_count": 257,
     "metadata": {},
     "output_type": "execute_result"
    }
   ],
   "source": [
    "alist = [1,2,3,4,5]\n",
    "alist * 2 "
   ]
  },
  {
   "cell_type": "code",
   "execution_count": 258,
   "id": "5819acaf",
   "metadata": {},
   "outputs": [
    {
     "data": {
      "text/plain": [
       "[1, 2, 3]"
      ]
     },
     "execution_count": 258,
     "metadata": {},
     "output_type": "execute_result"
    }
   ],
   "source": [
    "#############################\n",
    "#### Basic List Methods #####\n",
    "#############################\n",
    "#\n",
    "# If you are familiar with another programming language, you might start to draw\n",
    "# parallels between arrays in another language and lists in Python. Lists in\n",
    "# Python however, tend to be more flexible than arrays in other languages for a\n",
    "# two good reasons: they have no fixed size (meaning we don't have to specify\n",
    "# how big a list will be), and they have no fixed type constraint (like we've seen above).\n",
    "#\n",
    "# Let's go ahead and explore some more special methods for lists:\n",
    "\n",
    "# Create a new list\n",
    "l = [1, 2, 3]\n",
    "l"
   ]
  },
  {
   "cell_type": "code",
   "execution_count": 259,
   "id": "a46f3b2c",
   "metadata": {},
   "outputs": [
    {
     "data": {
      "text/plain": [
       "[1, 2, 3, 'append me!']"
      ]
     },
     "execution_count": 259,
     "metadata": {},
     "output_type": "execute_result"
    }
   ],
   "source": [
    "# Use the .append() method to permanently add an item to the end of a list:\n",
    "\n",
    "# Append\n",
    "l.append('append me!')\n",
    "l"
   ]
  },
  {
   "cell_type": "code",
   "execution_count": 260,
   "id": "0a621906",
   "metadata": {},
   "outputs": [
    {
     "data": {
      "text/plain": [
       "1"
      ]
     },
     "execution_count": 260,
     "metadata": {},
     "output_type": "execute_result"
    }
   ],
   "source": [
    "# Use \"pop\" to \"pop off\" an item from the list. By default pop takes off the last\n",
    "# index, but you can also specify which index to pop off. Let's see an example:\n",
    "\n",
    "# Pop off the 0 indexed item\n",
    "l.pop(0)\n"
   ]
  },
  {
   "cell_type": "code",
   "execution_count": 261,
   "id": "abeb3b16",
   "metadata": {},
   "outputs": [
    {
     "data": {
      "text/plain": [
       "[2, 3, 'append me!']"
      ]
     },
     "execution_count": 261,
     "metadata": {},
     "output_type": "execute_result"
    }
   ],
   "source": [
    "l"
   ]
  },
  {
   "cell_type": "code",
   "execution_count": 262,
   "id": "d3399b5b",
   "metadata": {},
   "outputs": [
    {
     "name": "stdout",
     "output_type": "stream",
     "text": [
      "<built-in method pop of list object at 0x000001B6536E4080>\n"
     ]
    }
   ],
   "source": [
    "# if you forget the () after pop it will just say that this is a function. \n",
    "# if you want to call this function (i.e. pop) then use () after pop\n",
    "# There is Difference BW Method and Function\n",
    "print(l.pop)"
   ]
  },
  {
   "cell_type": "code",
   "execution_count": 263,
   "id": "cb76ba97",
   "metadata": {},
   "outputs": [
    {
     "name": "stdout",
     "output_type": "stream",
     "text": [
      "append me!\n",
      "[2, 3]\n"
     ]
    }
   ],
   "source": [
    "# Assign the popped element, remember default popped index is -1\n",
    "popped_item = l.pop()\n",
    "print(popped_item)\n",
    "print(l)\n"
   ]
  },
  {
   "cell_type": "code",
   "execution_count": 264,
   "id": "7eab00ce",
   "metadata": {},
   "outputs": [
    {
     "ename": "IndexError",
     "evalue": "list index out of range",
     "output_type": "error",
     "traceback": [
      "\u001b[1;31m---------------------------------------------------------------------------\u001b[0m",
      "\u001b[1;31mIndexError\u001b[0m                                Traceback (most recent call last)",
      "\u001b[1;32m<ipython-input-264-bb37e5078923>\u001b[0m in \u001b[0;36m<module>\u001b[1;34m\u001b[0m\n\u001b[0;32m      1\u001b[0m \u001b[1;31m# It should also be noted that lists indexing will return an error if there is\u001b[0m\u001b[1;33m\u001b[0m\u001b[1;33m\u001b[0m\u001b[1;33m\u001b[0m\u001b[0m\n\u001b[0;32m      2\u001b[0m \u001b[1;31m# no element at that index. For example:\u001b[0m\u001b[1;33m\u001b[0m\u001b[1;33m\u001b[0m\u001b[1;33m\u001b[0m\u001b[0m\n\u001b[1;32m----> 3\u001b[1;33m \u001b[0ml\u001b[0m\u001b[1;33m[\u001b[0m\u001b[1;36m100\u001b[0m\u001b[1;33m]\u001b[0m\u001b[1;33m\u001b[0m\u001b[1;33m\u001b[0m\u001b[0m\n\u001b[0m",
      "\u001b[1;31mIndexError\u001b[0m: list index out of range"
     ]
    }
   ],
   "source": [
    "# It should also be noted that lists indexing will return an error if there is\n",
    "# no element at that index. For example:\n",
    "l[100]"
   ]
  },
  {
   "cell_type": "code",
   "execution_count": 265,
   "id": "805851ca",
   "metadata": {},
   "outputs": [
    {
     "data": {
      "text/plain": [
       "['a', 'e', 'x', 'b', 'c']"
      ]
     },
     "execution_count": 265,
     "metadata": {},
     "output_type": "execute_result"
    }
   ],
   "source": [
    "# We can use the **sort** method and the **reverse** methods\n",
    "# to also effect your lists:\n",
    "\n",
    "new_list = ['a', 'e', 'x', 'b', 'c']\n",
    "\n",
    "# Show\n",
    "new_list"
   ]
  },
  {
   "cell_type": "code",
   "execution_count": 266,
   "id": "de8b26a3",
   "metadata": {},
   "outputs": [
    {
     "data": {
      "text/plain": [
       "['c', 'b', 'x', 'e', 'a']"
      ]
     },
     "execution_count": 266,
     "metadata": {},
     "output_type": "execute_result"
    }
   ],
   "source": [
    "\n",
    "# Use reverse to reverse order (this is permanent!)\n",
    "new_list.reverse()\n",
    "\n",
    "new_list"
   ]
  },
  {
   "cell_type": "code",
   "execution_count": 267,
   "id": "32da483f",
   "metadata": {},
   "outputs": [
    {
     "data": {
      "text/plain": [
       "['a', 'b', 'c', 'e', 'x']"
      ]
     },
     "execution_count": 267,
     "metadata": {},
     "output_type": "execute_result"
    }
   ],
   "source": [
    "# Use sort to sort the list (in this case alphabetical order,\n",
    "# but for numbers it will go ascending)\n",
    "new_list.sort()\n",
    "\n",
    "new_list"
   ]
  },
  {
   "cell_type": "code",
   "execution_count": 268,
   "id": "31e9ed2f",
   "metadata": {},
   "outputs": [
    {
     "name": "stdout",
     "output_type": "stream",
     "text": [
      "None\n",
      "<class 'NoneType'>\n"
     ]
    }
   ],
   "source": [
    "# if you reassign the sort() result to other variables then it will be nothing;\n",
    "my_sorted_list = new_list.sort()\n",
    "print(my_sorted_list)\n",
    "print(type(my_sorted_list)) # <class 'NoneType'> this is the type of a None object"
   ]
  },
  {
   "cell_type": "code",
   "execution_count": null,
   "id": "723baae7",
   "metadata": {},
   "outputs": [],
   "source": []
  },
  {
   "cell_type": "code",
   "execution_count": 269,
   "id": "c8fba6d8",
   "metadata": {},
   "outputs": [
    {
     "data": {
      "text/plain": [
       "[[1, 2, 3], [4, 5, 6], [7, 8, 9]]"
      ]
     },
     "execution_count": 269,
     "metadata": {},
     "output_type": "execute_result"
    }
   ],
   "source": [
    "#######################\n",
    "#### Nesting Lists ####\n",
    "#######################\n",
    "# A great feature of of Python data structures is that they support nesting.\n",
    "# This means we can have data structures within data structures.\n",
    "# For example: A list inside a list.\n",
    "#\n",
    "# Let's see how this works!\n",
    "\n",
    "# Let's make three lists\n",
    "lst_1 = [1, 2, 3]\n",
    "lst_2 = [4, 5, 6]\n",
    "lst_3 = [7, 8, 9]\n",
    "\n",
    "# Make a list of lists to form a matrix\n",
    "matrix = [lst_1, lst_2, lst_3]\n",
    "\n",
    "# Show\n",
    "matrix"
   ]
  },
  {
   "cell_type": "code",
   "execution_count": 270,
   "id": "8fb7273a",
   "metadata": {},
   "outputs": [
    {
     "data": {
      "text/plain": [
       "[1, 2, 3]"
      ]
     },
     "execution_count": 270,
     "metadata": {},
     "output_type": "execute_result"
    }
   ],
   "source": [
    "# Now we can again use indexing to grab elements, but now there are two levels\n",
    "# for the index. The items in the matrix object, and then the items inside that list!\n",
    "\n",
    "# Grab first item in matrix object\n",
    "matrix[0]\n"
   ]
  },
  {
   "cell_type": "code",
   "execution_count": 271,
   "id": "8bc2e22d",
   "metadata": {},
   "outputs": [
    {
     "data": {
      "text/plain": [
       "1"
      ]
     },
     "execution_count": 271,
     "metadata": {},
     "output_type": "execute_result"
    }
   ],
   "source": [
    "# Grab first item of the first item in the matrix object\n",
    "matrix[0][0]"
   ]
  },
  {
   "cell_type": "code",
   "execution_count": 272,
   "id": "4c9c60c9",
   "metadata": {},
   "outputs": [
    {
     "data": {
      "text/plain": [
       "[1, 4, 7]"
      ]
     },
     "execution_count": 272,
     "metadata": {},
     "output_type": "execute_result"
    }
   ],
   "source": [
    "###########################\n",
    "### List Comprehensions ###\n",
    "###########################\n",
    "\n",
    "# Python has an advanced feature called list comprehensions. They allow for\n",
    "# quick construction of lists. To fully understand list comprehensions we need\n",
    "# to understand for loops. So don't worry if you don't completely understand\n",
    "# this section, and feel free to just skip it since we will return to this topic later.\n",
    "#\n",
    "# But in case you want to know now, here are a few examples!\n",
    "\n",
    "# Build a list comprehension by deconstructing a for loop within a []\n",
    "first_col = [row[0] for row in matrix]\n",
    "\n",
    "first_col\n",
    "\n",
    "# We used list comprehension here to grab the first element of every row in the\n",
    "# matrix object. We will cover this in much more detail later on!"
   ]
  },
  {
   "cell_type": "code",
   "execution_count": null,
   "id": "27d3900d",
   "metadata": {},
   "outputs": [],
   "source": []
  },
  {
   "cell_type": "code",
   "execution_count": null,
   "id": "4d21bb57",
   "metadata": {},
   "outputs": [],
   "source": []
  }
 ],
 "metadata": {
  "kernelspec": {
   "display_name": "Python 3",
   "language": "python",
   "name": "python3"
  },
  "language_info": {
   "codemirror_mode": {
    "name": "ipython",
    "version": 3
   },
   "file_extension": ".py",
   "mimetype": "text/x-python",
   "name": "python",
   "nbconvert_exporter": "python",
   "pygments_lexer": "ipython3",
   "version": "3.8.8"
  },
  "toc": {
   "base_numbering": 1,
   "nav_menu": {},
   "number_sections": true,
   "sideBar": true,
   "skip_h1_title": false,
   "title_cell": "Table of Contents",
   "title_sidebar": "Contents",
   "toc_cell": true,
   "toc_position": {
    "height": "457.273px",
    "left": "23.9915px",
    "top": "111.051px",
    "width": "252.966px"
   },
   "toc_section_display": true,
   "toc_window_display": true
  }
 },
 "nbformat": 4,
 "nbformat_minor": 5
}
