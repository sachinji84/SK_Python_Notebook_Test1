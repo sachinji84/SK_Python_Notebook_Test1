{
 "cells": [
  {
   "cell_type": "markdown",
   "id": "a005fa1a",
   "metadata": {
    "toc": true
   },
   "source": [
    "<h1>Table of Contents<span class=\"tocSkip\"></span></h1>\n",
    "<div class=\"toc\"><ul class=\"toc-item\"><li><span><a href=\"#Python-Class-and-objects\" data-toc-modified-id=\"Python-Class-and-objects-1\"><span class=\"toc-item-num\">1&nbsp;&nbsp;</span>Python Class and objects</a></span><ul class=\"toc-item\"><li><span><a href=\"#Example-1\" data-toc-modified-id=\"Example-1-1.1\"><span class=\"toc-item-num\">1.1&nbsp;&nbsp;</span>Example 1</a></span></li><li><span><a href=\"#Example-2-(Parameterized-Constructor)\" data-toc-modified-id=\"Example-2-(Parameterized-Constructor)-1.2\"><span class=\"toc-item-num\">1.2&nbsp;&nbsp;</span>Example 2 (Parameterized Constructor)</a></span></li><li><span><a href=\"#Example-3-(Non-Parameterized-Constructor)\" data-toc-modified-id=\"Example-3-(Non-Parameterized-Constructor)-1.3\"><span class=\"toc-item-num\">1.3&nbsp;&nbsp;</span>Example 3 (Non-Parameterized Constructor)</a></span></li><li><span><a href=\"#Example-4-(-Default-Constructor)\" data-toc-modified-id=\"Example-4-(-Default-Constructor)-1.4\"><span class=\"toc-item-num\">1.4&nbsp;&nbsp;</span>Example 4 ( Default Constructor)</a></span></li><li><span><a href=\"#Example-5\" data-toc-modified-id=\"Example-5-1.5\"><span class=\"toc-item-num\">1.5&nbsp;&nbsp;</span>Example 5</a></span></li><li><span><a href=\"#Example-6\" data-toc-modified-id=\"Example-6-1.6\"><span class=\"toc-item-num\">1.6&nbsp;&nbsp;</span>Example 6</a></span></li><li><span><a href=\"#Example-7\" data-toc-modified-id=\"Example-7-1.7\"><span class=\"toc-item-num\">1.7&nbsp;&nbsp;</span>Example 7</a></span></li><li><span><a href=\"#Example-8-(when-value-is-same-then-variables-share-the-memory)\" data-toc-modified-id=\"Example-8-(when-value-is-same-then-variables-share-the-memory)-1.8\"><span class=\"toc-item-num\">1.8&nbsp;&nbsp;</span>Example 8 (when value is same then variables share the memory)</a></span></li><li><span><a href=\"#Example-9-(&quot;init&quot;-method-and-self-parameter)\" data-toc-modified-id=\"Example-9-(&quot;init&quot;-method-and-self-parameter)-1.9\"><span class=\"toc-item-num\">1.9&nbsp;&nbsp;</span>Example 9 (\"init\" method and self parameter)</a></span></li><li><span><a href=\"#Self\" data-toc-modified-id=\"Self-1.10\"><span class=\"toc-item-num\">1.10&nbsp;&nbsp;</span>Self</a></span><ul class=\"toc-item\"><li><span><a href=\"#self-in-Python-class\" data-toc-modified-id=\"self-in-Python-class-1.10.1\"><span class=\"toc-item-num\">1.10.1&nbsp;&nbsp;</span>self in Python class</a></span></li><li><span><a href=\"#init-method-(initialize-the-object’s-state)\" data-toc-modified-id=\"init-method-(initialize-the-object’s-state)-1.10.2\"><span class=\"toc-item-num\">1.10.2&nbsp;&nbsp;</span>init method (initialize the object’s state)</a></span></li></ul></li><li><span><a href=\"#Python-Classes/Objects\" data-toc-modified-id=\"Python-Classes/Objects-1.11\"><span class=\"toc-item-num\">1.11&nbsp;&nbsp;</span>Python Classes/Objects</a></span><ul class=\"toc-item\"><li><span><a href=\"#The-init()-Function\" data-toc-modified-id=\"The-init()-Function-1.11.1\"><span class=\"toc-item-num\">1.11.1&nbsp;&nbsp;</span>The <strong>init</strong>() Function</a></span></li></ul></li></ul></li><li><span><a href=\"#Other-concepts-in-class-and-objects\" data-toc-modified-id=\"Other-concepts-in-class-and-objects-2\"><span class=\"toc-item-num\">2&nbsp;&nbsp;</span>Other concepts in class and objects</a></span><ul class=\"toc-item\"><li><span><a href=\"#Python-Mutable-and-Immutable\" data-toc-modified-id=\"Python-Mutable-and-Immutable-2.1\"><span class=\"toc-item-num\">2.1&nbsp;&nbsp;</span>Python Mutable and Immutable</a></span></li><li><span><a href=\"#Python-Immutable-example:\" data-toc-modified-id=\"Python-Immutable-example:-2.2\"><span class=\"toc-item-num\">2.2&nbsp;&nbsp;</span>Python Immutable example:</a></span><ul class=\"toc-item\"><li><span><a href=\"#Numbers\" data-toc-modified-id=\"Numbers-2.2.1\"><span class=\"toc-item-num\">2.2.1&nbsp;&nbsp;</span>Numbers</a></span></li><li><span><a href=\"#List\" data-toc-modified-id=\"List-2.2.2\"><span class=\"toc-item-num\">2.2.2&nbsp;&nbsp;</span>List</a></span></li><li><span><a href=\"#Tuple\" data-toc-modified-id=\"Tuple-2.2.3\"><span class=\"toc-item-num\">2.2.3&nbsp;&nbsp;</span>Tuple</a></span></li></ul></li></ul></li></ul></div>"
   ]
  },
  {
   "cell_type": "markdown",
   "id": "e4dedcf6",
   "metadata": {},
   "source": [
    "# Python Class and objects"
   ]
  },
  {
   "cell_type": "markdown",
   "id": "92fd0649",
   "metadata": {},
   "source": [
    "## Example 1 "
   ]
  },
  {
   "cell_type": "code",
   "execution_count": 1,
   "id": "a06d820f",
   "metadata": {},
   "outputs": [],
   "source": [
    "# https://www.javatpoint.com/python-objects-classes\n",
    "\n",
    "class Employee:\n",
    "    id = 10\n",
    "    name = \"Devansh\"\n",
    "\n",
    "    def display(self):\n",
    "        print(self.id, self.name)\n",
    "\n",
    "# if you run this nothing is going to happen as it's just a class definition like a \"blueprint\"\n",
    "# we have to create an object/instance of Employee Class to use its attributes (id,name) and methods (display)"
   ]
  },
  {
   "cell_type": "code",
   "execution_count": 2,
   "id": "927de5bd",
   "metadata": {},
   "outputs": [
    {
     "name": "stdout",
     "output_type": "stream",
     "text": [
      "Toyota 2016\n"
     ]
    }
   ],
   "source": [
    "# https://www.javatpoint.com/python-objects-classes\n",
    "\n",
    "class car:\n",
    "    def __init__(self, modelname, year):\n",
    "        self.modelname = modelname\n",
    "        self.year = year\n",
    "\n",
    "    def display(self):\n",
    "        print(self.modelname, self.year)\n",
    "\n",
    "\n",
    "c1 = car(\"Toyota\", 2016)\n",
    "c1.display()"
   ]
  },
  {
   "cell_type": "code",
   "execution_count": 3,
   "id": "deefb869",
   "metadata": {},
   "outputs": [
    {
     "name": "stdout",
     "output_type": "stream",
     "text": [
      "ID: 10 \n",
      "Name: John\n"
     ]
    }
   ],
   "source": [
    "# https://www.javatpoint.com/python-objects-classes\n",
    "# Python_class_objects_03.py\n",
    "\n",
    "class Employee:\n",
    "    id = 10\n",
    "    name = \"John\"\n",
    "\n",
    "    def display(self):\n",
    "        print(\"ID: %d \\nName: %s\" % (self.id, self.name))\n",
    "\n",
    "\n",
    "# Creating a emp instance of Employee class\n",
    "emp = Employee()\n",
    "emp.display()"
   ]
  },
  {
   "cell_type": "code",
   "execution_count": 4,
   "id": "851d074b",
   "metadata": {},
   "outputs": [
    {
     "name": "stdout",
     "output_type": "stream",
     "text": [
      "Employee class start\n",
      "Employee class End\n"
     ]
    }
   ],
   "source": [
    "# https://www.javatpoint.com/python-objects-classes\n",
    "# Python_class_objects_04.py\n",
    "\n",
    "class Employee:\n",
    "    \"\"\"This is the Statement  will be displayed when you do\n",
    "print(Employee.__doc__). like to print the doc String for a class in python\"\"\"\n",
    "    print(\"Employee class start\")  # this will be displayed while defining the class\n",
    "    id = 10\n",
    "    name = \"John\"\n",
    "\n",
    "    def display(self):\n",
    "        print(\"ID: %d \\nName: %s\" % (self.id, self.name))\n",
    "\n",
    "    print(\"Employee class End\")  # this will be displayed while defining the class"
   ]
  },
  {
   "cell_type": "code",
   "execution_count": 5,
   "id": "a7c2bf60",
   "metadata": {},
   "outputs": [
    {
     "ename": "TypeError",
     "evalue": "display() missing 1 required positional argument: 'self'",
     "output_type": "error",
     "traceback": [
      "\u001b[1;31m---------------------------------------------------------------------------\u001b[0m",
      "\u001b[1;31mTypeError\u001b[0m                                 Traceback (most recent call last)",
      "\u001b[1;32m<ipython-input-5-539ddf63e7cf>\u001b[0m in \u001b[0;36m<module>\u001b[1;34m\u001b[0m\n\u001b[0;32m      2\u001b[0m \u001b[1;31m# This will be an error because we can not directly call any method of a class.\u001b[0m\u001b[1;33m\u001b[0m\u001b[1;33m\u001b[0m\u001b[1;33m\u001b[0m\u001b[0m\n\u001b[0;32m      3\u001b[0m \u001b[1;31m# we have to create a object and then using that object we can call l̥that method\u001b[0m\u001b[1;33m\u001b[0m\u001b[1;33m\u001b[0m\u001b[1;33m\u001b[0m\u001b[0m\n\u001b[1;32m----> 4\u001b[1;33m \u001b[0mEmployee\u001b[0m\u001b[1;33m.\u001b[0m\u001b[0mdisplay\u001b[0m\u001b[1;33m(\u001b[0m\u001b[1;33m)\u001b[0m\u001b[1;33m\u001b[0m\u001b[1;33m\u001b[0m\u001b[0m\n\u001b[0m",
      "\u001b[1;31mTypeError\u001b[0m: display() missing 1 required positional argument: 'self'"
     ]
    }
   ],
   "source": [
    "# 1.\n",
    "# This will be an error because we can not directly call any method of a class. \n",
    "# we have to create a object and then using that object we can call l̥that method\n",
    "Employee.display()"
   ]
  },
  {
   "cell_type": "markdown",
   "id": "a5bfc425",
   "metadata": {},
   "source": [
    "## Example 2 (Parameterized Constructor)"
   ]
  },
  {
   "cell_type": "code",
   "execution_count": 6,
   "id": "f0b2344d",
   "metadata": {},
   "outputs": [
    {
     "name": "stdout",
     "output_type": "stream",
     "text": [
      "Employee class start\n",
      "Employee class End\n"
     ]
    }
   ],
   "source": [
    "# https://www.javatpoint.com/python-objects-classes\n",
    "# Python_class_objects_05.py\n",
    "\n",
    "# This is the Example of Parameterized Constructor\n",
    "# The parameterized constructor has multiple parameters along with the self. Consider the following example.\n",
    "# (means __init__ method with self and some more attributes )\n",
    "\n",
    "class Employee:\n",
    "    \"\"\"This is the Statement which will be displayed when you do\n",
    "print(Employee.__doc__) or print(emp1.__doc__). this prints the doc String for a class in python\"\"\"\n",
    "    print(\"Employee class start\")  # this will be displayed while defining the class\n",
    "    COUNT = 0  # count is a Class variable. it will be common for all object of this class\n",
    "\n",
    "    # constructor to initialize the current Object..this will get called everytime Automatically\n",
    "    def __init__(self, name, id):\n",
    "        self.EmployeeId = id  # self.EmployeeId is instance variable,will be separate for every diff object\n",
    "        self.EmployeeName = name  # self.EmployeeName is instance variable,will be separate for every diff object\n",
    "        Employee.COUNT = Employee.COUNT + 1\n",
    "\n",
    "    def display(self):\n",
    "        # print(\"ID: %d \\nName: %s\" % (self.id, self.name)) # self.id, self.name will be error\n",
    "        # because now instance variable name is self.EmployeeId and  self.EmployeeName\n",
    "        print(\"ID: %d \\nName: %s\" % (self.EmployeeId, self.EmployeeName))\n",
    "        print(f\"value of Class variable COUNT is {Employee.COUNT}\")\n",
    "\n",
    "    print(\"Employee class End\")  # this will be displayed while defining the class"
   ]
  },
  {
   "cell_type": "code",
   "execution_count": 7,
   "id": "b4bd7a6a",
   "metadata": {},
   "outputs": [
    {
     "data": {
      "text/plain": [
       "mappingproxy({'__module__': '__main__',\n",
       "              '__doc__': 'This is the Statement which will be displayed when you do\\nprint(Employee.__doc__) or print(emp1.__doc__). this prints the doc String for a class in python',\n",
       "              'COUNT': 0,\n",
       "              '__init__': <function __main__.Employee.__init__(self, name, id)>,\n",
       "              'display': <function __main__.Employee.display(self)>,\n",
       "              '__dict__': <attribute '__dict__' of 'Employee' objects>,\n",
       "              '__weakref__': <attribute '__weakref__' of 'Employee' objects>})"
      ]
     },
     "execution_count": 7,
     "metadata": {},
     "output_type": "execute_result"
    }
   ],
   "source": [
    "# It provides the dictionary containing the information about the class namespace.\n",
    "Employee.__dict__"
   ]
  },
  {
   "cell_type": "code",
   "execution_count": 8,
   "id": "9bbee205",
   "metadata": {},
   "outputs": [
    {
     "data": {
      "text/plain": [
       "'This is the Statement which will be displayed when you do\\nprint(Employee.__doc__) or print(emp1.__doc__). this prints the doc String for a class in python'"
      ]
     },
     "execution_count": 8,
     "metadata": {},
     "output_type": "execute_result"
    }
   ],
   "source": [
    "# It contains a string which has the class documentation\n",
    "Employee.__doc__"
   ]
  },
  {
   "cell_type": "code",
   "execution_count": 9,
   "id": "562905f6",
   "metadata": {},
   "outputs": [
    {
     "data": {
      "text/plain": [
       "'__main__'"
      ]
     },
     "execution_count": 9,
     "metadata": {},
     "output_type": "execute_result"
    }
   ],
   "source": [
    "# It is used to access the module in which, this class is defined.\n",
    "Employee.__module__"
   ]
  },
  {
   "cell_type": "code",
   "execution_count": 10,
   "id": "b18f63d9",
   "metadata": {},
   "outputs": [
    {
     "data": {
      "text/plain": [
       "'Employee'"
      ]
     },
     "execution_count": 10,
     "metadata": {},
     "output_type": "execute_result"
    }
   ],
   "source": [
    "# It is used to access the class name.\n",
    "Employee.__name__"
   ]
  },
  {
   "cell_type": "code",
   "execution_count": 11,
   "id": "bffe6fd3",
   "metadata": {},
   "outputs": [
    {
     "data": {
      "text/plain": [
       "(object,)"
      ]
     },
     "execution_count": 11,
     "metadata": {},
     "output_type": "execute_result"
    }
   ],
   "source": [
    "# It contains a tuple including all base classes.\n",
    "Employee.__bases__"
   ]
  },
  {
   "cell_type": "code",
   "execution_count": 12,
   "id": "1c1f4427",
   "metadata": {},
   "outputs": [
    {
     "data": {
      "text/plain": [
       "<function __main__.Employee.__init__(self, name, id)>"
      ]
     },
     "execution_count": 12,
     "metadata": {},
     "output_type": "execute_result"
    }
   ],
   "source": [
    "Employee.__init__"
   ]
  },
  {
   "cell_type": "code",
   "execution_count": 13,
   "id": "e164f6e4",
   "metadata": {},
   "outputs": [
    {
     "data": {
      "text/plain": [
       "<function __main__.Employee.display(self)>"
      ]
     },
     "execution_count": 13,
     "metadata": {},
     "output_type": "execute_result"
    }
   ],
   "source": [
    "Employee.display"
   ]
  },
  {
   "cell_type": "code",
   "execution_count": 15,
   "id": "f727ee90",
   "metadata": {},
   "outputs": [
    {
     "name": "stdout",
     "output_type": "stream",
     "text": [
      "\n",
      "######### Employee.__doc__\n",
      "This is the Statement which will be displayed when you do\n",
      "print(Employee.__doc__) or print(emp1.__doc__). this prints the doc String for a class in python\n",
      "\n",
      "######### Employee.__dict__\n",
      "{'__module__': '__main__', '__doc__': 'This is the Statement which will be displayed when you do\\nprint(Employee.__doc__) or print(emp1.__doc__). this prints the doc String for a class in python', 'COUNT': 0, '__init__': <function Employee.__init__ at 0x000001B8A6A66670>, 'display': <function Employee.display at 0x000001B8A6A66A60>, '__dict__': <attribute '__dict__' of 'Employee' objects>, '__weakref__': <attribute '__weakref__' of 'Employee' objects>}\n",
      "\n",
      "######### Employee.__module__\n",
      "__main__\n"
     ]
    }
   ],
   "source": [
    "print()\n",
    "print(\"######### Employee.__doc__\")\n",
    "print(Employee.__doc__)\n",
    "print()\n",
    "print(\"######### Employee.__dict__\")\n",
    "print(Employee.__dict__)\n",
    "print()\n",
    "print(\"######### Employee.__module__\")\n",
    "print(Employee.__module__)"
   ]
  },
  {
   "cell_type": "code",
   "execution_count": 16,
   "id": "d5b8ea5b",
   "metadata": {},
   "outputs": [
    {
     "name": "stdout",
     "output_type": "stream",
     "text": [
      "\n",
      "# emp1.__dict__ :The number instance variable and their values= {'EmployeeId': 101, 'EmployeeName': 'John'}\n",
      "# emp1.__doc__ :Some info about class = This is the Statement which will be displayed when you do\n",
      "print(Employee.__doc__) or print(emp1.__doc__). this prints the doc String for a class in python\n",
      "# emp1.__module__:Whether module is Sub module or main= __main__\n",
      "# emp1.display():\n",
      "ID: 101 \n",
      "Name: John\n",
      "value of Class variable COUNT is 1\n"
     ]
    }
   ],
   "source": [
    "print()\n",
    "emp1 = Employee(\"John\", 101)  # creating object emp1\n",
    "# print the number instance variable and their values\n",
    "print(\"# emp1.__dict__ :The number instance variable and their values=\", emp1.__dict__)\n",
    "print(\"# emp1.__doc__ :Some info about class =\", emp1.__doc__)\n",
    "print(\"# emp1.__module__:Whether module is Sub module or main=\", emp1.__module__)\n",
    "# accessing display() method to print employee 1 information\n",
    "print(\"# emp1.display():\")\n",
    "emp1.display()"
   ]
  },
  {
   "cell_type": "code",
   "execution_count": 17,
   "id": "41af692d",
   "metadata": {},
   "outputs": [
    {
     "name": "stdout",
     "output_type": "stream",
     "text": [
      "\n",
      "# emp2.__dict__ :The number instance variable and their values= {'EmployeeId': 102, 'EmployeeName': 'David'}\n",
      "# emp2.__doc__ :Some info about class = This is the Statement which will be displayed when you do\n",
      "print(Employee.__doc__) or print(emp1.__doc__). this prints the doc String for a class in python\n",
      "# emp2.__module__:Whether module is Sub module or main= __main__\n",
      "# emp2.display():\n",
      "ID: 102 \n",
      "Name: David\n",
      "value of Class variable COUNT is 2\n"
     ]
    }
   ],
   "source": [
    "print()\n",
    "emp2 = Employee(\"David\", 102)  # creating object emp2\n",
    "# print the number instance variable and their values\n",
    "print(\"# emp2.__dict__ :The number instance variable and their values=\", emp2.__dict__)\n",
    "print(\"# emp2.__doc__ :Some info about class =\", emp2.__doc__)\n",
    "print(\"# emp2.__module__:Whether module is Sub module or main=\", emp2.__module__)\n",
    "# accessing display() method to print employee 1 information\n",
    "print(\"# emp2.display():\")\n",
    "emp2.display()"
   ]
  },
  {
   "cell_type": "markdown",
   "id": "c231c583",
   "metadata": {},
   "source": [
    "## Example 3 (Non-Parameterized Constructor)"
   ]
  },
  {
   "cell_type": "code",
   "execution_count": 18,
   "id": "4f6b56ec",
   "metadata": {},
   "outputs": [
    {
     "name": "stdout",
     "output_type": "stream",
     "text": [
      "Employee class start\n",
      "Employee class End\n"
     ]
    }
   ],
   "source": [
    "# https://www.javatpoint.com/python-objects-classes\n",
    "# Python_class_objects_06.py\n",
    "\n",
    "# This is the Example of NON-Parameterized Constructor\n",
    "# The non-parameterized constructor uses when we do not want to manipulate the value or\n",
    "# the constructor that has only self as an argument. (means __init__ method with self only)\n",
    "\n",
    "class Employee:\n",
    "    \"\"\"This is the Statement  will be displayed when you do\n",
    "print(Employee.__doc__). like to print the doc String for a class in python\"\"\"\n",
    "    print(\"Employee class start\")  # this will be displayed while defining the class\n",
    "    COUNT = 0  # count is a Class variable. it will be common for all object of this class\n",
    "\n",
    "    # constructor to initialize the current Object..this will get called everytime\n",
    "    def __init__(self):\n",
    "        #  self.EmployeeId = id  # self.EmployeeId is instance variable,will be separate for every diff object\n",
    "        #  self.EmployeeName = name  # self.EmployeeName is instance variable,will be separate for every diff object\n",
    "        print(\"This is non parametrized constructor hence not expecting anything from Object\")\n",
    "        Employee.COUNT = Employee.COUNT + 1\n",
    "\n",
    "    def display(self):\n",
    "        # print(\"ID: %d \\nName: %s\" % (self.id, self.name)) # self.id, self.name will be error\n",
    "        # because now instance variable name is self.EmployeeId and  self.EmployeeName\n",
    "        # print(\"ID: %d \\nName: %s\" % (self.EmployeeId, self.EmployeeName))\n",
    "        print(\"No instance variables \")\n",
    "        print(f\"value of Class variable COUNT is {Employee.COUNT}\")\n",
    "\n",
    "    print(\"Employee class End\")  # this will be displayed while defining the class"
   ]
  },
  {
   "cell_type": "code",
   "execution_count": 19,
   "id": "70ede4aa",
   "metadata": {},
   "outputs": [
    {
     "data": {
      "text/plain": [
       "mappingproxy({'__module__': '__main__',\n",
       "              '__doc__': 'This is the Statement  will be displayed when you do\\nprint(Employee.__doc__). like to print the doc String for a class in python',\n",
       "              'COUNT': 0,\n",
       "              '__init__': <function __main__.Employee.__init__(self)>,\n",
       "              'display': <function __main__.Employee.display(self)>,\n",
       "              '__dict__': <attribute '__dict__' of 'Employee' objects>,\n",
       "              '__weakref__': <attribute '__weakref__' of 'Employee' objects>})"
      ]
     },
     "execution_count": 19,
     "metadata": {},
     "output_type": "execute_result"
    }
   ],
   "source": [
    "# It provides the dictionary containing the information about the class namespace.\n",
    "Employee.__dict__"
   ]
  },
  {
   "cell_type": "code",
   "execution_count": 20,
   "id": "2acf2236",
   "metadata": {},
   "outputs": [
    {
     "data": {
      "text/plain": [
       "'This is the Statement  will be displayed when you do\\nprint(Employee.__doc__). like to print the doc String for a class in python'"
      ]
     },
     "execution_count": 20,
     "metadata": {},
     "output_type": "execute_result"
    }
   ],
   "source": [
    "# It contains a string which has the class documentation\n",
    "Employee.__doc__"
   ]
  },
  {
   "cell_type": "code",
   "execution_count": 21,
   "id": "67794888",
   "metadata": {},
   "outputs": [
    {
     "data": {
      "text/plain": [
       "'__main__'"
      ]
     },
     "execution_count": 21,
     "metadata": {},
     "output_type": "execute_result"
    }
   ],
   "source": [
    "# It is used to access the module in which, this class is defined.\n",
    "Employee.__module__"
   ]
  },
  {
   "cell_type": "code",
   "execution_count": 22,
   "id": "efa5b300",
   "metadata": {},
   "outputs": [
    {
     "data": {
      "text/plain": [
       "'Employee'"
      ]
     },
     "execution_count": 22,
     "metadata": {},
     "output_type": "execute_result"
    }
   ],
   "source": [
    "# It is used to access the class name.\n",
    "Employee.__name__"
   ]
  },
  {
   "cell_type": "code",
   "execution_count": 23,
   "id": "aed0e560",
   "metadata": {},
   "outputs": [
    {
     "data": {
      "text/plain": [
       "(object,)"
      ]
     },
     "execution_count": 23,
     "metadata": {},
     "output_type": "execute_result"
    }
   ],
   "source": [
    "# It contains a tuple including all base classes.\n",
    "Employee.__bases__"
   ]
  },
  {
   "cell_type": "code",
   "execution_count": 24,
   "id": "525cc1bc",
   "metadata": {},
   "outputs": [
    {
     "data": {
      "text/plain": [
       "<function __main__.Employee.__init__(self)>"
      ]
     },
     "execution_count": 24,
     "metadata": {},
     "output_type": "execute_result"
    }
   ],
   "source": [
    "Employee.__init__"
   ]
  },
  {
   "cell_type": "code",
   "execution_count": 25,
   "id": "ee741dcd",
   "metadata": {},
   "outputs": [
    {
     "data": {
      "text/plain": [
       "<function __main__.Employee.display(self)>"
      ]
     },
     "execution_count": 25,
     "metadata": {},
     "output_type": "execute_result"
    }
   ],
   "source": [
    "Employee.display"
   ]
  },
  {
   "cell_type": "code",
   "execution_count": 26,
   "id": "1ab024ec",
   "metadata": {},
   "outputs": [
    {
     "name": "stdout",
     "output_type": "stream",
     "text": [
      "\n",
      "######### Employee.__doc__\n",
      "This is the Statement  will be displayed when you do\n",
      "print(Employee.__doc__). like to print the doc String for a class in python\n",
      "\n",
      "######### Employee.__dict__\n",
      "{'__module__': '__main__', '__doc__': 'This is the Statement  will be displayed when you do\\nprint(Employee.__doc__). like to print the doc String for a class in python', 'COUNT': 0, '__init__': <function Employee.__init__ at 0x000001B8A6A66550>, 'display': <function Employee.display at 0x000001B8A6A663A0>, '__dict__': <attribute '__dict__' of 'Employee' objects>, '__weakref__': <attribute '__weakref__' of 'Employee' objects>}\n",
      "\n",
      "######### Employee.__module__\n",
      "__main__\n"
     ]
    }
   ],
   "source": [
    "print()\n",
    "print(\"######### Employee.__doc__\")\n",
    "print(Employee.__doc__)\n",
    "print()\n",
    "print(\"######### Employee.__dict__\")\n",
    "print(Employee.__dict__)\n",
    "print()\n",
    "print(\"######### Employee.__module__\")\n",
    "print(Employee.__module__)"
   ]
  },
  {
   "cell_type": "code",
   "execution_count": 27,
   "id": "d4fb97e4",
   "metadata": {},
   "outputs": [
    {
     "name": "stdout",
     "output_type": "stream",
     "text": [
      "\n",
      "This is non parametrized constructor hence not expecting anything from Object\n",
      "the number instance variable and their values {}\n",
      "No instance variables \n",
      "value of Class variable COUNT is 1\n",
      "\n",
      "This is non parametrized constructor hence not expecting anything from Object\n",
      "the number instance variable and their values {}\n",
      "No instance variables \n",
      "value of Class variable COUNT is 2\n"
     ]
    }
   ],
   "source": [
    "print()\n",
    "emp1 = Employee()  # creating object emp1\n",
    "# accessing display() method to print employee 1 information\n",
    "print(\"the number instance variable and their values\", emp1.__dict__)  # print the number instance variable and their values\n",
    "emp1.display()\n",
    "print()\n",
    "emp2 = Employee()  # creating object emp2\n",
    "# accessing display() method to print employee 2 information\n",
    "print(\"the number instance variable and their values\", emp2.__dict__)  # print the number instance variable and their values\n",
    "emp2.display()"
   ]
  },
  {
   "cell_type": "markdown",
   "id": "d4063443",
   "metadata": {},
   "source": [
    "## Example 4 ( Default Constructor)"
   ]
  },
  {
   "cell_type": "code",
   "execution_count": 28,
   "id": "fce7f48b",
   "metadata": {},
   "outputs": [
    {
     "name": "stdout",
     "output_type": "stream",
     "text": [
      "Employee class start\n",
      "Employee class End\n"
     ]
    }
   ],
   "source": [
    "# https://www.javatpoint.com/python-objects-classes\n",
    "# Python_class_objects_07.py\n",
    "\n",
    "# This is the Example of  Python Default Constructor\n",
    "#\n",
    "# When we do not include the constructor in the class or forget to declare it,\n",
    "# then that becomes the default constructor. It does not perform any task but initializes the objects.\n",
    "# the constructor that will not have __init__ method\n",
    "#  Consider the following example.\n",
    "\n",
    "class Employee:\n",
    "    \"\"\"This is the Statement  will be displayed when you do\n",
    "print(Employee.__doc__). like to print the doc String for a class in python\"\"\"\n",
    "    print(\"Employee class start\")  # this will be displayed while defining the class\n",
    "    id = 10\n",
    "    name = \"John\"\n",
    "    COUNT = 0  # count is a Class variable. it will be common for all object of this class\n",
    "\n",
    "    def display(self):\n",
    "        print(\"This is the Example of  Python Default Constructor\")\n",
    "        print(\"ID: %d \\nName: %s\" % (self.id, self.name))\n",
    "        print(\"No instance variables \")\n",
    "        Employee.COUNT = Employee.COUNT + 1 # you need to always prefix class name before use Class variable. lIke COUNT here is Class variable\n",
    "        print(f\"value of Class variable COUNT is {Employee.COUNT}\")\n",
    "\n",
    "    print(\"Employee class End\")  # this will be displayed while defining the class"
   ]
  },
  {
   "cell_type": "code",
   "execution_count": 29,
   "id": "b926c3e0",
   "metadata": {},
   "outputs": [
    {
     "data": {
      "text/plain": [
       "mappingproxy({'__module__': '__main__',\n",
       "              '__doc__': 'This is the Statement  will be displayed when you do\\nprint(Employee.__doc__). like to print the doc String for a class in python',\n",
       "              'id': 10,\n",
       "              'name': 'John',\n",
       "              'COUNT': 0,\n",
       "              'display': <function __main__.Employee.display(self)>,\n",
       "              '__dict__': <attribute '__dict__' of 'Employee' objects>,\n",
       "              '__weakref__': <attribute '__weakref__' of 'Employee' objects>})"
      ]
     },
     "execution_count": 29,
     "metadata": {},
     "output_type": "execute_result"
    }
   ],
   "source": [
    "# It provides the dictionary containing the information about the class namespace.\n",
    "Employee.__dict__\n"
   ]
  },
  {
   "cell_type": "code",
   "execution_count": 30,
   "id": "0bee34b2",
   "metadata": {},
   "outputs": [
    {
     "data": {
      "text/plain": [
       "'This is the Statement  will be displayed when you do\\nprint(Employee.__doc__). like to print the doc String for a class in python'"
      ]
     },
     "execution_count": 30,
     "metadata": {},
     "output_type": "execute_result"
    }
   ],
   "source": [
    "# It contains a string which has the class documentation\n",
    "Employee.__doc__"
   ]
  },
  {
   "cell_type": "code",
   "execution_count": 31,
   "id": "8dd8afa4",
   "metadata": {},
   "outputs": [
    {
     "data": {
      "text/plain": [
       "'__main__'"
      ]
     },
     "execution_count": 31,
     "metadata": {},
     "output_type": "execute_result"
    }
   ],
   "source": [
    "# It is used to access the module in which, this class is defined.\n",
    "Employee.__module__"
   ]
  },
  {
   "cell_type": "code",
   "execution_count": 32,
   "id": "6f54658c",
   "metadata": {},
   "outputs": [
    {
     "data": {
      "text/plain": [
       "'Employee'"
      ]
     },
     "execution_count": 32,
     "metadata": {},
     "output_type": "execute_result"
    }
   ],
   "source": [
    "# It is used to access the class name.\n",
    "Employee.__name__"
   ]
  },
  {
   "cell_type": "code",
   "execution_count": 33,
   "id": "ad010a70",
   "metadata": {},
   "outputs": [
    {
     "data": {
      "text/plain": [
       "(object,)"
      ]
     },
     "execution_count": 33,
     "metadata": {},
     "output_type": "execute_result"
    }
   ],
   "source": [
    "# It contains a tuple including all base classes.\n",
    "Employee.__bases__"
   ]
  },
  {
   "cell_type": "code",
   "execution_count": 34,
   "id": "9d5cb58d",
   "metadata": {},
   "outputs": [
    {
     "data": {
      "text/plain": [
       "<slot wrapper '__init__' of 'object' objects>"
      ]
     },
     "execution_count": 34,
     "metadata": {},
     "output_type": "execute_result"
    }
   ],
   "source": [
    "Employee.__init__"
   ]
  },
  {
   "cell_type": "code",
   "execution_count": 35,
   "id": "928c6dc1",
   "metadata": {},
   "outputs": [
    {
     "data": {
      "text/plain": [
       "<function __main__.Employee.display(self)>"
      ]
     },
     "execution_count": 35,
     "metadata": {},
     "output_type": "execute_result"
    }
   ],
   "source": [
    "Employee.display"
   ]
  },
  {
   "cell_type": "code",
   "execution_count": 36,
   "id": "d133b850",
   "metadata": {},
   "outputs": [
    {
     "name": "stdout",
     "output_type": "stream",
     "text": [
      "\n",
      "######### Employee.__doc__\n",
      "This is the Statement  will be displayed when you do\n",
      "print(Employee.__doc__). like to print the doc String for a class in python\n",
      "\n",
      "######### Employee.__dict__\n",
      "{'__module__': '__main__', '__doc__': 'This is the Statement  will be displayed when you do\\nprint(Employee.__doc__). like to print the doc String for a class in python', 'id': 10, 'name': 'John', 'COUNT': 0, 'display': <function Employee.display at 0x000001B8A6A8CB80>, '__dict__': <attribute '__dict__' of 'Employee' objects>, '__weakref__': <attribute '__weakref__' of 'Employee' objects>}\n",
      "\n",
      "######### Employee.__module__\n",
      "__main__\n"
     ]
    }
   ],
   "source": [
    "print()\n",
    "print(\"######### Employee.__doc__\")\n",
    "print(Employee.__doc__)\n",
    "print()\n",
    "print(\"######### Employee.__dict__\")\n",
    "print(Employee.__dict__)\n",
    "print()\n",
    "print(\"######### Employee.__module__\")\n",
    "print(Employee.__module__)"
   ]
  },
  {
   "cell_type": "code",
   "execution_count": 37,
   "id": "12143137",
   "metadata": {},
   "outputs": [
    {
     "name": "stdout",
     "output_type": "stream",
     "text": [
      "\n",
      "This is the Statement  will be displayed when you do\n",
      "print(Employee.__doc__). like to print the doc String for a class in python\n",
      "\n",
      "the number instance variable and their values {}\n",
      "This is the Example of  Python Default Constructor\n",
      "ID: 10 \n",
      "Name: John\n",
      "No instance variables \n",
      "value of Class variable COUNT is 1\n",
      "\n",
      "the number instance variable and their values {}\n",
      "This is the Example of  Python Default Constructor\n",
      "ID: 10 \n",
      "Name: John\n",
      "No instance variables \n",
      "value of Class variable COUNT is 2\n",
      "********The TOTAL NUMBER  OF Object OF Employee CLASS is :#2\n"
     ]
    }
   ],
   "source": [
    "print()\n",
    "print(Employee.__doc__)\n",
    "print()\n",
    "emp1 = Employee()  # creating object emp1\n",
    "# accessing display() method to print employee 1 information\n",
    "print(\"the number instance variable and their values\", emp1.__dict__)  # print the number instance variable and their values\n",
    "emp1.display()\n",
    "print()\n",
    "emp2 = Employee()  # creating object emp2\n",
    "# accessing display() method to print employee 2 information\n",
    "print(\"the number instance variable and their values\", emp2.__dict__)  # print the number instance variable and their values\n",
    "emp2.display()\n",
    "print(f\"********The TOTAL NUMBER  OF Object OF Employee CLASS is :#{Employee.COUNT}\")"
   ]
  },
  {
   "cell_type": "code",
   "execution_count": 38,
   "id": "dd368915",
   "metadata": {},
   "outputs": [
    {
     "name": "stdout",
     "output_type": "stream",
     "text": [
      "********The TOTAL NUMBER  OF Object OF Employee CLASS is :#2\n"
     ]
    }
   ],
   "source": [
    "print(f\"********The TOTAL NUMBER  OF Object OF Employee CLASS is :#{Employee.COUNT}\")"
   ]
  },
  {
   "cell_type": "markdown",
   "id": "701f1a9e",
   "metadata": {},
   "source": [
    "## Example 5"
   ]
  },
  {
   "cell_type": "code",
   "execution_count": 39,
   "id": "d4644e84",
   "metadata": {},
   "outputs": [],
   "source": [
    "# https://www.javatpoint.com/python-objects-classes\n",
    "# Python_class_objects_09.py\n",
    "\n",
    "# Python built-in class functions\n",
    "\n",
    "class Student:\n",
    "    def __init__(self, name, id, age):\n",
    "        self.StName = name\n",
    "        self.StId = id\n",
    "        self.StAge = age"
   ]
  },
  {
   "cell_type": "code",
   "execution_count": 40,
   "id": "4b83f304",
   "metadata": {},
   "outputs": [],
   "source": [
    "# creates the object of the class Student\n",
    "stobj1 = Student(\"John\", 101, 22)"
   ]
  },
  {
   "cell_type": "code",
   "execution_count": 41,
   "id": "ffb3100e",
   "metadata": {},
   "outputs": [
    {
     "data": {
      "text/plain": [
       "<__main__.Student at 0x1b8a6a6ecd0>"
      ]
     },
     "execution_count": 41,
     "metadata": {},
     "output_type": "execute_result"
    }
   ],
   "source": [
    "stobj1"
   ]
  },
  {
   "cell_type": "code",
   "execution_count": 42,
   "id": "8145774b",
   "metadata": {},
   "outputs": [
    {
     "data": {
      "text/plain": [
       "__main__.Student"
      ]
     },
     "execution_count": 42,
     "metadata": {},
     "output_type": "execute_result"
    }
   ],
   "source": [
    "type(stobj1)"
   ]
  },
  {
   "cell_type": "code",
   "execution_count": 43,
   "id": "35c7eb17",
   "metadata": {},
   "outputs": [
    {
     "data": {
      "text/plain": [
       "{'StName': 'John', 'StId': 101, 'StAge': 22}"
      ]
     },
     "execution_count": 43,
     "metadata": {},
     "output_type": "execute_result"
    }
   ],
   "source": [
    "stobj1.__dict__"
   ]
  },
  {
   "cell_type": "code",
   "execution_count": 44,
   "id": "414be0a7",
   "metadata": {},
   "outputs": [
    {
     "name": "stdout",
     "output_type": "stream",
     "text": [
      "John\n",
      "John\n"
     ]
    }
   ],
   "source": [
    "# prints the attribute StName of the object stobj1\n",
    "print(getattr(stobj1, 'StName'))\n",
    "# another way to get attribute StName of the object stobj1 is\n",
    "print(stobj1.StName)"
   ]
  },
  {
   "cell_type": "code",
   "execution_count": 45,
   "id": "6901afb3",
   "metadata": {},
   "outputs": [
    {
     "name": "stdout",
     "output_type": "stream",
     "text": [
      "23\n",
      "25\n"
     ]
    }
   ],
   "source": [
    "setattr(stobj1, \"StAge\", 23) # reset the value of attribute StAg e to 23\n",
    "print(getattr(stobj1, 'StAge')) # prints the modified value of StAge\n",
    "\n",
    "# Another way to reset the value of attribute StAge to 25\n",
    "stobj1.StAge = 25\n",
    "print(getattr(stobj1, 'StAge'))"
   ]
  },
  {
   "cell_type": "code",
   "execution_count": 46,
   "id": "2514aca3",
   "metadata": {},
   "outputs": [
    {
     "data": {
      "text/plain": [
       "{'StName': 'John', 'StId': 101, 'StAge': 25}"
      ]
     },
     "execution_count": 46,
     "metadata": {},
     "output_type": "execute_result"
    }
   ],
   "source": [
    "stobj1.__dict__"
   ]
  },
  {
   "cell_type": "code",
   "execution_count": 47,
   "id": "486a239c",
   "metadata": {},
   "outputs": [
    {
     "name": "stdout",
     "output_type": "stream",
     "text": [
      "True\n"
     ]
    }
   ],
   "source": [
    "# prints true if the student contains the attribute with name StId\n",
    "print(hasattr(stobj1, 'StId'))"
   ]
  },
  {
   "cell_type": "code",
   "execution_count": 48,
   "id": "d762342b",
   "metadata": {},
   "outputs": [
    {
     "ename": "AttributeError",
     "evalue": "'Student' object has no attribute 'StAge'",
     "output_type": "error",
     "traceback": [
      "\u001b[1;31m---------------------------------------------------------------------------\u001b[0m",
      "\u001b[1;31mAttributeError\u001b[0m                            Traceback (most recent call last)",
      "\u001b[1;32m<ipython-input-48-4052add73b6e>\u001b[0m in \u001b[0;36m<module>\u001b[1;34m\u001b[0m\n\u001b[0;32m      1\u001b[0m \u001b[1;31m# deletes the attribute StAge\u001b[0m\u001b[1;33m\u001b[0m\u001b[1;33m\u001b[0m\u001b[1;33m\u001b[0m\u001b[0m\n\u001b[0;32m      2\u001b[0m \u001b[0mdelattr\u001b[0m\u001b[1;33m(\u001b[0m\u001b[0mstobj1\u001b[0m\u001b[1;33m,\u001b[0m \u001b[1;34m'StAge'\u001b[0m\u001b[1;33m)\u001b[0m\u001b[1;33m\u001b[0m\u001b[1;33m\u001b[0m\u001b[0m\n\u001b[1;32m----> 3\u001b[1;33m \u001b[0mprint\u001b[0m\u001b[1;33m(\u001b[0m\u001b[0mstobj1\u001b[0m\u001b[1;33m.\u001b[0m\u001b[0mStAge\u001b[0m\u001b[1;33m)\u001b[0m  \u001b[1;31m# this will give an error since the attribute age has been deleted\u001b[0m\u001b[1;33m\u001b[0m\u001b[1;33m\u001b[0m\u001b[0m\n\u001b[0m",
      "\u001b[1;31mAttributeError\u001b[0m: 'Student' object has no attribute 'StAge'"
     ]
    }
   ],
   "source": [
    "# deletes the attribute StAge\n",
    "delattr(stobj1, 'StAge')\n",
    "print(stobj1.StAge)  # this will give an error since the attribute age has been deleted"
   ]
  },
  {
   "cell_type": "code",
   "execution_count": 49,
   "id": "50646d6d",
   "metadata": {},
   "outputs": [
    {
     "data": {
      "text/plain": [
       "{'StName': 'John', 'StId': 101}"
      ]
     },
     "execution_count": 49,
     "metadata": {},
     "output_type": "execute_result"
    }
   ],
   "source": [
    "stobj1.__dict__"
   ]
  },
  {
   "cell_type": "markdown",
   "id": "07e74621",
   "metadata": {},
   "source": [
    "## Example 6\n",
    "\n",
    "https://www.youtube.com/watch?v=l2YmwyayVVk&list=PLu0W_9lII9agICnT8t4iYVSZ3eykIAOME&index=54&ab_channel=CodeWithHarry CodeWithHarry"
   ]
  },
  {
   "cell_type": "code",
   "execution_count": 50,
   "id": "6a302ac1",
   "metadata": {},
   "outputs": [],
   "source": [
    "# https://www.youtube.com/watch?v=l2YmwyayVVk&list=PLu0W_9lII9agICnT8t4iYVSZ3eykIAOME&index=54&ab_channel=CodeWithHarry\n",
    "# CodeWithHarry\n",
    "\n",
    "class Student:\n",
    "    pass  # class can not be Empty so we just used pass. otherwise it will be Error\n",
    "\n",
    "\n",
    "st1 = Student()\n",
    "st2 = Student()"
   ]
  },
  {
   "cell_type": "code",
   "execution_count": 52,
   "id": "06e9550d",
   "metadata": {},
   "outputs": [
    {
     "name": "stdout",
     "output_type": "stream",
     "text": [
      "<__main__.Student object at 0x000001B8A6A6E700>\n",
      "<__main__.Student object at 0x000001B8A6A6EF70>\n",
      "1892581566208\n",
      "1892581568368\n"
     ]
    }
   ],
   "source": [
    "print(st1)\n",
    "print(st2)\n",
    "print(id(st1))\n",
    "print(id(st2))"
   ]
  },
  {
   "cell_type": "markdown",
   "id": "7f62a56a",
   "metadata": {},
   "source": [
    "see here Both Object st1 amd st2 both are pointing to different memory location so both are differen Object."
   ]
  },
  {
   "cell_type": "code",
   "execution_count": 53,
   "id": "c79825ac",
   "metadata": {},
   "outputs": [
    {
     "name": "stdout",
     "output_type": "stream",
     "text": [
      "{'name': 'harry', 'std': 12, 'section': 1}\n",
      "{'std': 9, 'subject': ['hindi', 'Physics']}\n",
      "harry 9\n"
     ]
    }
   ],
   "source": [
    "# we dont have any variable in class. so we can create instance variale as below \n",
    "# and assign valuesto object st1 and st2 \n",
    "st1.name = \"harry\" \n",
    "st1.std = 12\n",
    "st1.section = 1\n",
    "\n",
    "st2.std = 9\n",
    "st2.subject = [\"hindi\", \"Physics\"]\n",
    "\n",
    "print(st1.__dict__)\n",
    "print(st2.__dict__)\n",
    "\n",
    "print(st1.name, st2.std)"
   ]
  },
  {
   "cell_type": "code",
   "execution_count": 54,
   "id": "06c6402f",
   "metadata": {},
   "outputs": [
    {
     "ename": "AttributeError",
     "evalue": "'Student' object has no attribute 'name'",
     "output_type": "error",
     "traceback": [
      "\u001b[1;31m---------------------------------------------------------------------------\u001b[0m",
      "\u001b[1;31mAttributeError\u001b[0m                            Traceback (most recent call last)",
      "\u001b[1;32m<ipython-input-54-27707fbd83ad>\u001b[0m in \u001b[0;36m<module>\u001b[1;34m\u001b[0m\n\u001b[0;32m      2\u001b[0m \u001b[1;31m# AttributeError: 'Student' object has no attribute 'name'\u001b[0m\u001b[1;33m\u001b[0m\u001b[1;33m\u001b[0m\u001b[1;33m\u001b[0m\u001b[0m\n\u001b[0;32m      3\u001b[0m \u001b[1;33m\u001b[0m\u001b[0m\n\u001b[1;32m----> 4\u001b[1;33m \u001b[0mprint\u001b[0m\u001b[1;33m(\u001b[0m\u001b[0mst1\u001b[0m\u001b[1;33m.\u001b[0m\u001b[0mname\u001b[0m\u001b[1;33m,\u001b[0m \u001b[0mst2\u001b[0m\u001b[1;33m.\u001b[0m\u001b[0mname\u001b[0m\u001b[1;33m)\u001b[0m\u001b[1;33m\u001b[0m\u001b[1;33m\u001b[0m\u001b[0m\n\u001b[0m",
      "\u001b[1;31mAttributeError\u001b[0m: 'Student' object has no attribute 'name'"
     ]
    }
   ],
   "source": [
    "# just try to get st2.name which dosnt exist then it will be an ERROR \n",
    "# AttributeError: 'Student' object has no attribute 'name'\n",
    "\n",
    "print(st1.name, st2.name)"
   ]
  },
  {
   "cell_type": "markdown",
   "id": "d6d2155c",
   "metadata": {},
   "source": [
    "we Should create a class as template which is used to create every object"
   ]
  },
  {
   "cell_type": "markdown",
   "id": "04ae0e66",
   "metadata": {},
   "source": [
    "## Example 7"
   ]
  },
  {
   "cell_type": "code",
   "execution_count": 55,
   "id": "a532409f",
   "metadata": {},
   "outputs": [],
   "source": [
    "# https://www.youtube.com/watch?v=l2YmwyayVVk&list=PLu0W_9lII9agICnT8t4iYVSZ3eykIAOME&index=54&ab_channel=CodeWithHarry\n",
    "# CodeWithHarry\n",
    "\n",
    "class Student:\n",
    "    no_of_leaves = 8\n",
    "    pass  # class can not be Empty so we just used pass. otherwise it will be Error\n",
    "\n",
    "\n",
    "st1 = Student()\n",
    "st2 = Student()"
   ]
  },
  {
   "cell_type": "code",
   "execution_count": 56,
   "id": "beeb603b",
   "metadata": {},
   "outputs": [
    {
     "name": "stdout",
     "output_type": "stream",
     "text": [
      "<__main__.Student object at 0x000001B8A6A6E370>\n",
      "<__main__.Student object at 0x000001B8A6A6E9D0>\n",
      "1892581565296\n",
      "1892581566928\n",
      "##########################\n",
      "{'name': 'harry', 'std': 12, 'section': 1}\n",
      "{'name': 'larry', 'std': 9, 'section': 2}\n",
      "harry 9\n",
      "##########################\n"
     ]
    }
   ],
   "source": [
    "print(st1)\n",
    "print(st2)\n",
    "print(id(st1))\n",
    "print(id(st2))\n",
    "print(\"##########################\")\n",
    "# we dont have any instance variable in class. so we can create instance variale as below \n",
    "# and assign valuesto object st1 and st2 \n",
    "st1.name = \"harry\" \n",
    "st1.std = 12\n",
    "st1.section = 1\n",
    "\n",
    "st2.name = \"larry\" \n",
    "st2.std = 9\n",
    "st2.section = 2\n",
    "\n",
    "print(st1.__dict__)\n",
    "print(st2.__dict__)\n",
    "print(st1.name, st2.std)\n",
    "print(\"##########################\")      "
   ]
  },
  {
   "cell_type": "code",
   "execution_count": 57,
   "id": "b831d813",
   "metadata": {},
   "outputs": [
    {
     "name": "stdout",
     "output_type": "stream",
     "text": [
      "8\n",
      "8\n",
      "8\n"
     ]
    }
   ],
   "source": [
    "# Access Class variable no_of_leaves by objects(st1 or st2)\n",
    "print(st1.no_of_leaves) \n",
    "print(st2.no_of_leaves)\n",
    "# Access Class variable no_of_leaves by Class itself\n",
    "print(Student.no_of_leaves)"
   ]
  },
  {
   "cell_type": "code",
   "execution_count": 58,
   "id": "b224a82c",
   "metadata": {},
   "outputs": [],
   "source": [
    "# lets try to change the no_of_leaves (class varibale to 9) by using object st2\n",
    "st2.no_of_leaves = 9 "
   ]
  },
  {
   "cell_type": "code",
   "execution_count": 59,
   "id": "9176814c",
   "metadata": {},
   "outputs": [
    {
     "name": "stdout",
     "output_type": "stream",
     "text": [
      "8\n",
      "9\n",
      "8\n"
     ]
    }
   ],
   "source": [
    "# Access Class variable no_of_leaves by objects(st1 or st2)\n",
    "print(st1.no_of_leaves) \n",
    "print(st2.no_of_leaves)\n",
    "# Access Class variable no_of_leaves by Class itself\n",
    "print(Student.no_of_leaves) "
   ]
  },
  {
   "cell_type": "markdown",
   "id": "5fc24724",
   "metadata": {},
   "source": [
    "see Student.no_of_leaves did NOT changed to 9. it is still 8. so what happened is.. a new instance variable is added in object st2 with name no_of_leaves\n",
    "\n",
    "see the __dict__ of both object. it will show what are all instance variabls object is having"
   ]
  },
  {
   "cell_type": "code",
   "execution_count": 60,
   "id": "eaf9905b",
   "metadata": {},
   "outputs": [
    {
     "name": "stdout",
     "output_type": "stream",
     "text": [
      "{'name': 'harry', 'std': 12, 'section': 1}\n",
      "{'name': 'larry', 'std': 9, 'section': 2, 'no_of_leaves': 9}\n"
     ]
    }
   ],
   "source": [
    "print(st1.__dict__)\n",
    "print(st2.__dict__)"
   ]
  },
  {
   "cell_type": "code",
   "execution_count": 61,
   "id": "0cb0bb2a",
   "metadata": {},
   "outputs": [
    {
     "data": {
      "text/plain": [
       "mappingproxy({'__module__': '__main__',\n",
       "              'no_of_leaves': 8,\n",
       "              '__dict__': <attribute '__dict__' of 'Student' objects>,\n",
       "              '__weakref__': <attribute '__weakref__' of 'Student' objects>,\n",
       "              '__doc__': None})"
      ]
     },
     "execution_count": 61,
     "metadata": {},
     "output_type": "execute_result"
    }
   ],
   "source": [
    "Student.__dict__"
   ]
  },
  {
   "cell_type": "code",
   "execution_count": 62,
   "id": "791d9e9e",
   "metadata": {},
   "outputs": [],
   "source": [
    "# lets try to change the no_of_leaves (class varibale to 9) by using Class itself \n",
    "Student.no_of_leaves = 9 "
   ]
  },
  {
   "cell_type": "code",
   "execution_count": 63,
   "id": "2fea981b",
   "metadata": {},
   "outputs": [
    {
     "name": "stdout",
     "output_type": "stream",
     "text": [
      "{'name': 'harry', 'std': 12, 'section': 1}\n",
      "{'name': 'larry', 'std': 9, 'section': 2, 'no_of_leaves': 9}\n"
     ]
    }
   ],
   "source": [
    "print(st1.__dict__)\n",
    "print(st2.__dict__)"
   ]
  },
  {
   "cell_type": "code",
   "execution_count": 64,
   "id": "335afe0a",
   "metadata": {},
   "outputs": [
    {
     "data": {
      "text/plain": [
       "mappingproxy({'__module__': '__main__',\n",
       "              'no_of_leaves': 9,\n",
       "              '__dict__': <attribute '__dict__' of 'Student' objects>,\n",
       "              '__weakref__': <attribute '__weakref__' of 'Student' objects>,\n",
       "              '__doc__': None})"
      ]
     },
     "execution_count": 64,
     "metadata": {},
     "output_type": "execute_result"
    }
   ],
   "source": [
    "# chck the dict now \n",
    "Student.__dict__"
   ]
  },
  {
   "cell_type": "markdown",
   "id": "5fdcfaaf",
   "metadata": {},
   "source": [
    "from above you can see no_of_leaves was = 8, which is updated to 9. and All object will share this variable hence all object will have same value for no_of_leaves\n",
    "\n",
    "it means, No_of_leaves is a class variable NOT The Instance variable"
   ]
  },
  {
   "cell_type": "markdown",
   "id": "cd3b2631",
   "metadata": {},
   "source": [
    "## Example 8 (when value is same then variables share the memory)"
   ]
  },
  {
   "cell_type": "code",
   "execution_count": 65,
   "id": "2c223c5f",
   "metadata": {},
   "outputs": [
    {
     "name": "stdout",
     "output_type": "stream",
     "text": [
      "<__main__.Employee2 object at 0x000001B8A6A6E7F0>\n",
      "<__main__.Employee2 object at 0x000001B8A6A6EFA0>\n",
      "1892581566448\n",
      "1892581568416\n",
      "\n",
      "john 1892580871984\n",
      "100 140727688377232\n",
      "David 1892580908144\n",
      "100 140727688377232\n"
     ]
    }
   ],
   "source": [
    "class Employee2:\n",
    "    def __init__(self, name, sal):\n",
    "        self.EmpName = name\n",
    "        self.EmpSal = sal\n",
    "\n",
    "\n",
    "emp1 = Employee2(\"john\", 100)\n",
    "emp2 = Employee2(\"David\", 100)\n",
    "\n",
    "print(emp1)\n",
    "print(emp2)\n",
    "print(id(emp1))\n",
    "print(id(emp2))\n",
    "print()\n",
    "print(emp1.EmpName, id(emp1.EmpName))\n",
    "print(emp1.EmpSal,  id(emp1.EmpSal))\n",
    "print(emp2.EmpName, id(emp2.EmpName))\n",
    "print(emp2.EmpSal,  id(emp2.EmpSal))"
   ]
  },
  {
   "cell_type": "markdown",
   "id": "a487941c",
   "metadata": {},
   "source": [
    "* Form Above you can clearly see that when attributes of object having same value then they share the menory location and point to same memroy. you can see that Salary of john and david is 100 hence both are pointing to same memort location.\n",
    "\n",
    "__lets see if both are having different memory location then what will be result__"
   ]
  },
  {
   "cell_type": "code",
   "execution_count": 66,
   "id": "d68edfbb",
   "metadata": {},
   "outputs": [
    {
     "name": "stdout",
     "output_type": "stream",
     "text": [
      "<__main__.Employee2 object at 0x000001B8A6AA26A0>\n",
      "<__main__.Employee2 object at 0x000001B8A6AA2A30>\n",
      "1892581779104\n",
      "1892581780016\n",
      "\n",
      "john 1892580871984\n",
      "100 140727688377232\n",
      "David 1892580908144\n",
      "200 140727688380432\n"
     ]
    }
   ],
   "source": [
    "class Employee2:\n",
    "    def __init__(self, name, sal):\n",
    "        self.EmpName = name\n",
    "        self.EmpSal = sal\n",
    "\n",
    "\n",
    "emp1 = Employee2(\"john\", 100)\n",
    "emp2 = Employee2(\"David\", 200)\n",
    "\n",
    "print(emp1)\n",
    "print(emp2)\n",
    "print(id(emp1))\n",
    "print(id(emp2))\n",
    "print()\n",
    "print(emp1.EmpName, id(emp1.EmpName))\n",
    "print(emp1.EmpSal,  id(emp1.EmpSal))\n",
    "print(emp2.EmpName, id(emp2.EmpName))\n",
    "print(emp2.EmpSal,  id(emp2.EmpSal))"
   ]
  },
  {
   "cell_type": "markdown",
   "id": "35b7ed9b",
   "metadata": {},
   "source": [
    "see john and david salary are different now. hence both are pointing to seperate memory locaiton"
   ]
  },
  {
   "cell_type": "markdown",
   "id": "63284fc0",
   "metadata": {},
   "source": [
    "## Example 9 (\"init\" method and self parameter)\n",
    "* https://www.geeksforgeeks.org/self-in-python-class/\n",
    "* https://www.w3schools.com/python/gloss_python_self.asp"
   ]
  },
  {
   "cell_type": "code",
   "execution_count": 68,
   "id": "67cb01ab",
   "metadata": {},
   "outputs": [
    {
     "name": "stdout",
     "output_type": "stream",
     "text": [
      "Employee class start\n",
      "Employee class End\n"
     ]
    }
   ],
   "source": [
    "# https://www.javatpoint.com/python-objects-classes\n",
    "# Python_class_objects_05.py\n",
    "\n",
    "# This is the Example of Parameterized Constructor\n",
    "# The parameterized constructor has multiple parameters along with the self. Consider the following example.\n",
    "# (means __init__ method with self and some more attributes )\n",
    "\n",
    "class Employee:\n",
    "    \"\"\"This is the Statement which will be displayed when you do\n",
    "print(Employee.__doc__) or print(emp1.__doc__). this prints the doc String for a class in python\"\"\"\n",
    "    print(\"Employee class start\")  # this will be displayed while defining the class\n",
    "    COUNT = 0  # count is a Class variable. it will be common for all object of this class\n",
    "\n",
    "    # constructor to initialize the current Object..this will get called everytime Automatically\n",
    "    def __init__(self, name, id):\n",
    "        # self.EmployeeId is instance variable,will be separate for every diff object\n",
    "        self.EmployeeId = id\n",
    "        # self.EmployeeName is instance variable,will be separate for every diff object\n",
    "        self.EmployeeName = name\n",
    "        Employee.COUNT = Employee.COUNT + 1\n",
    "\n",
    "    def display():\n",
    "        # print(\"ID: %d \\nName: %s\" % (self.id, self.name)) # self.id, self.name will be error\n",
    "        # because now instance variable name is self.EmployeeId and  self.EmployeeName\n",
    "        print(\"ID: %d \\nName: %s\" % (self.EmployeeId, self.EmployeeName))\n",
    "        print(f\"value of Class variable COUNT is {Employee.COUNT}\")\n",
    "\n",
    "    # this will be displayed while defining the class\n",
    "    print(\"Employee class End\")"
   ]
  },
  {
   "cell_type": "code",
   "execution_count": 69,
   "id": "70047c62",
   "metadata": {},
   "outputs": [
    {
     "name": "stdout",
     "output_type": "stream",
     "text": [
      "\n",
      "# emp1.__dict__ :The number instance variable and their values= {'EmployeeId': 101, 'EmployeeName': 'John'}\n",
      "# emp1.__doc__ :Some info about class = This is the Statement which will be displayed when you do\n",
      "print(Employee.__doc__) or print(emp1.__doc__). this prints the doc String for a class in python\n",
      "# emp1.__module__:Whether module is Sub module or main= __main__\n",
      "# emp1.display():\n"
     ]
    },
    {
     "ename": "TypeError",
     "evalue": "display() takes 0 positional arguments but 1 was given",
     "output_type": "error",
     "traceback": [
      "\u001b[1;31m---------------------------------------------------------------------------\u001b[0m",
      "\u001b[1;31mTypeError\u001b[0m                                 Traceback (most recent call last)",
      "\u001b[1;32m<ipython-input-69-fb58be7c4114>\u001b[0m in \u001b[0;36m<module>\u001b[1;34m\u001b[0m\n\u001b[0;32m      7\u001b[0m \u001b[1;31m# accessing display() method to print employee 1 information\u001b[0m\u001b[1;33m\u001b[0m\u001b[1;33m\u001b[0m\u001b[1;33m\u001b[0m\u001b[0m\n\u001b[0;32m      8\u001b[0m \u001b[0mprint\u001b[0m\u001b[1;33m(\u001b[0m\u001b[1;34m\"# emp1.display():\"\u001b[0m\u001b[1;33m)\u001b[0m\u001b[1;33m\u001b[0m\u001b[1;33m\u001b[0m\u001b[0m\n\u001b[1;32m----> 9\u001b[1;33m \u001b[0memp1\u001b[0m\u001b[1;33m.\u001b[0m\u001b[0mdisplay\u001b[0m\u001b[1;33m(\u001b[0m\u001b[1;33m)\u001b[0m\u001b[1;33m\u001b[0m\u001b[1;33m\u001b[0m\u001b[0m\n\u001b[0m",
      "\u001b[1;31mTypeError\u001b[0m: display() takes 0 positional arguments but 1 was given"
     ]
    }
   ],
   "source": [
    "print()\n",
    "emp1 = Employee(\"John\", 101)  # creating object emp1\n",
    "# print the number instance variable and their values\n",
    "print(\"# emp1.__dict__ :The number instance variable and their values=\", emp1.__dict__)\n",
    "print(\"# emp1.__doc__ :Some info about class =\", emp1.__doc__)\n",
    "print(\"# emp1.__module__:Whether module is Sub module or main=\", emp1.__module__)\n",
    "# accessing display() method to print employee 1 information\n",
    "print(\"# emp1.display():\")\n",
    "emp1.display()"
   ]
  },
  {
   "cell_type": "markdown",
   "id": "e31713f7",
   "metadata": {},
   "source": [
    "The Error TypeError: display() takes 0 positional arguments but 1 was given\n",
    "\n",
    "means we have not passed anything in emp1.display() but automaticaly emp1 has been passed that's why its saying in error `but 1 was given` to handle this we need to have 'self' or anyother word while defineing the methods `def display(self):\n",
    "\n",
    "    # print(\"ID: %d \\nName: %s\" % (self.id, self.name)) # self.id, self.name will be error\n",
    "    # because now instance variable name is self.EmployeeId and  self.EmployeeName\n",
    "    print(\"ID: %d \\nName: %s\" % (self.EmployeeId, self.EmployeeName))\n",
    "    print(f\"value of Class variable COUNT is {Employee.COUNT}\")`"
   ]
  },
  {
   "cell_type": "markdown",
   "id": "b34009bc",
   "metadata": {},
   "source": [
    "## Self"
   ]
  },
  {
   "cell_type": "markdown",
   "id": "56680533",
   "metadata": {},
   "source": [
    "### self in Python class\n",
    "\n",
    "self represents the instance of the class. By using the “self” keyword we can access the attributes and methods of the class in python. It binds the attributes with the given arguments. The reason you need to use self. is because Python does not use the @ syntax to refer to instance attributes. Python decided to do methods in a way that makes the instance to which the method belongs be passed automatically, but not received automatically: the first parameter of methods is the instance the method is called on.\n",
    "\n",
    "In more clear way you can say that SELF has following Characteristic-\n",
    "\n",
    "__Self is always pointing to Current Object.__"
   ]
  },
  {
   "cell_type": "code",
   "execution_count": 70,
   "id": "495c28a9",
   "metadata": {},
   "outputs": [
    {
     "name": "stdout",
     "output_type": "stream",
     "text": [
      "Address of self =  1892581565440\n",
      "Address of class object =  1892581565440\n"
     ]
    }
   ],
   "source": [
    "# it is clearly seen that self and obj is referring to the same object\n",
    "\n",
    "class check:\n",
    "    def __init__(self):\n",
    "        print(\"Address of self = \", id(self))\n",
    "\n",
    "\n",
    "obj = check()\n",
    "print(\"Address of class object = \", id(obj))\n",
    "\n",
    "# this code is Contributed by Samyak Jain"
   ]
  },
  {
   "cell_type": "markdown",
   "id": "d562c0e4",
   "metadata": {},
   "source": [
    "__Another Example of Using SELF:__"
   ]
  },
  {
   "cell_type": "code",
   "execution_count": 71,
   "id": "15d96e59",
   "metadata": {},
   "outputs": [
    {
     "name": "stdout",
     "output_type": "stream",
     "text": [
      "Model is audi a4\n",
      "color is blue\n",
      "Model is ferrari 488\n",
      "color is green\n"
     ]
    }
   ],
   "source": [
    "# Write Python3 code here\n",
    "\n",
    "class car():\n",
    "\n",
    "    # init method or constructor\n",
    "    def __init__(self, model, color):\n",
    "        self.model = model\n",
    "        self.color = color\n",
    "\n",
    "    def show(self):\n",
    "        print(\"Model is\", self.model)\n",
    "        print(\"color is\", self.color)\n",
    "\n",
    "\n",
    "# both objects have different self which contain their attributes\n",
    "audi = car(\"audi a4\", \"blue\")\n",
    "ferrari = car(\"ferrari 488\", \"green\")\n",
    "\n",
    "audi.show()\t # same output as car.show(audi)\n",
    "ferrari.show()  # same output as car.show(ferrari)\n",
    "\n",
    "# Behind the scene, in every instance method  call, python sends \n",
    "# the instances also with that method call like car.show(audi)"
   ]
  },
  {
   "cell_type": "code",
   "execution_count": 72,
   "id": "a50d8fe5",
   "metadata": {},
   "outputs": [
    {
     "name": "stdout",
     "output_type": "stream",
     "text": [
      "Model is audi a4\n",
      "color is blue\n"
     ]
    }
   ],
   "source": [
    "car.show(audi)"
   ]
  },
  {
   "cell_type": "markdown",
   "id": "1c8f4f7b",
   "metadata": {},
   "source": [
    "__Self is the first argument to be passed in Constructor and Instance Method.__\n",
    "\n",
    "Self must be provided as a First parameter to the Instance method and constructor. If you don’t provide it, it will cause an error."
   ]
  },
  {
   "cell_type": "code",
   "execution_count": 73,
   "id": "ef381243",
   "metadata": {},
   "outputs": [
    {
     "ename": "TypeError",
     "evalue": "__init__() takes 0 positional arguments but 1 was given",
     "output_type": "error",
     "traceback": [
      "\u001b[1;31m---------------------------------------------------------------------------\u001b[0m",
      "\u001b[1;31mTypeError\u001b[0m                                 Traceback (most recent call last)",
      "\u001b[1;32m<ipython-input-73-b72a14ebd842>\u001b[0m in \u001b[0;36m<module>\u001b[1;34m\u001b[0m\n\u001b[0;32m      5\u001b[0m \u001b[1;33m\u001b[0m\u001b[0m\n\u001b[0;32m      6\u001b[0m \u001b[1;33m\u001b[0m\u001b[0m\n\u001b[1;32m----> 7\u001b[1;33m \u001b[0mobject\u001b[0m \u001b[1;33m=\u001b[0m \u001b[0mcheck\u001b[0m\u001b[1;33m(\u001b[0m\u001b[1;33m)\u001b[0m\u001b[1;33m\u001b[0m\u001b[1;33m\u001b[0m\u001b[0m\n\u001b[0m\u001b[0;32m      8\u001b[0m \u001b[0mprint\u001b[0m\u001b[1;33m(\u001b[0m\u001b[1;34m\"Worked fine\"\u001b[0m\u001b[1;33m)\u001b[0m\u001b[1;33m\u001b[0m\u001b[1;33m\u001b[0m\u001b[0m\n",
      "\u001b[1;31mTypeError\u001b[0m: __init__() takes 0 positional arguments but 1 was given"
     ]
    }
   ],
   "source": [
    "# Self is always required as the first argument\n",
    "class check:\n",
    "    def __init__():\n",
    "        print(\"This is Constructor\")\n",
    "\n",
    "\n",
    "object = check()\n",
    "print(\"Worked fine\")"
   ]
  },
  {
   "cell_type": "markdown",
   "id": "100a76f5",
   "metadata": {},
   "source": [
    "To resolve this Error just Put thr self as first parameter in `__init__`method. like below;"
   ]
  },
  {
   "cell_type": "code",
   "execution_count": 74,
   "id": "35fba60a",
   "metadata": {},
   "outputs": [
    {
     "name": "stdout",
     "output_type": "stream",
     "text": [
      "This is Constructor\n",
      "Worked fine\n"
     ]
    }
   ],
   "source": [
    "# Self is always required as the first argument\n",
    "class check:\n",
    "    def __init__(self):\n",
    "        print(\"This is Constructor\")\n",
    "\n",
    "\n",
    "object = check()\n",
    "print(\"Worked fine\")"
   ]
  },
  {
   "cell_type": "markdown",
   "id": "07273385",
   "metadata": {},
   "source": [
    "__Self is a convention and not a Python keyword__\n",
    "\n",
    "self is parameter in Instance Method and user can use another parameter name in place of it.\n",
    "\n",
    "But it is advisable to use self because it increases the readability of code, and it is also a good programming practice."
   ]
  },
  {
   "cell_type": "code",
   "execution_count": 75,
   "id": "39bbd5c3",
   "metadata": {},
   "outputs": [
    {
     "name": "stdout",
     "output_type": "stream",
     "text": [
      "we have used another parameter name in place of self\n"
     ]
    }
   ],
   "source": [
    "# Self is a convention and not a Python keyword\n",
    "class this_is_class:\n",
    "    def __init__(in_place_of_self):\n",
    "        print(\"we have used another parameter name in place of self\")\n",
    "\n",
    "\n",
    "object = this_is_class()"
   ]
  },
  {
   "cell_type": "markdown",
   "id": "d8c0452e",
   "metadata": {},
   "source": [
    "### init method (initialize the object’s state)\n",
    "\n",
    "https://www.geeksforgeeks.org/__init__-in-python/\n",
    "\n",
    "\n",
    "\n",
    "`__init__`\n",
    "\n",
    "Whenever object oriented programming is done in Python, we mostly come across init method which we usually don’t fully understand. This article explains the main concept of init but before understanding the init some prerequisites are required.\n",
    "\n",
    "The `__init__` method is similar to constructors in C++ and Java. Constructors are used to initialize the object’s state. The task of constructors is to initialize(assign values) to the data members of the class when an object of class is created. Like methods, a constructor also contains collection of statements(i.e. instructions) that are executed at time of Object creation. It is run as soon as an object of a class is instantiated. The method is useful to do any initialization you want to do with your object."
   ]
  },
  {
   "cell_type": "code",
   "execution_count": 76,
   "id": "0d4cdebb",
   "metadata": {},
   "outputs": [
    {
     "name": "stdout",
     "output_type": "stream",
     "text": [
      "Hello, my name is Nikhil\n"
     ]
    }
   ],
   "source": [
    "# A Sample class with init method\n",
    "class Person:\n",
    "\n",
    "    # init method or constructor\n",
    "    def __init__(self, name):\n",
    "        self.name1 = name\n",
    "\n",
    "    # Sample Method\n",
    "    def say_hi(self):\n",
    "        print('Hello, my name is', self.name1)\n",
    "\n",
    "\n",
    "p = Person('Nikhil')\n",
    "p.say_hi()"
   ]
  },
  {
   "cell_type": "markdown",
   "id": "72789f03",
   "metadata": {},
   "source": [
    "Understanding the code\n",
    "\n",
    "In the above example, a person name Nikhil is created. While creating a person, “Nikhil” is passed as an argument, this argument will be passed to the init method to initialize the object. The keyword self represents the instance of a class and binds the attributes with the given arguments. Similarly, many objects of Person class can be created by passing different names as arguments."
   ]
  },
  {
   "cell_type": "code",
   "execution_count": 77,
   "id": "7db9d02c",
   "metadata": {},
   "outputs": [
    {
     "name": "stdout",
     "output_type": "stream",
     "text": [
      "Hello, my name is Nikhil\n",
      "Hello, my name is Abhinav\n",
      "Hello, my name is Anshul\n"
     ]
    }
   ],
   "source": [
    "# A Sample class with init method\n",
    "class Person:\n",
    "\n",
    "    # init method or constructor\n",
    "    def __init__(self, name):\n",
    "        self.name1 = name\n",
    "\n",
    "    # Sample Method\n",
    "    def say_hi(self):\n",
    "        print('Hello, my name is', self.name1)\n",
    "\n",
    "\n",
    "# Creating different objects\n",
    "p1 = Person('Nikhil')\n",
    "p2 = Person('Abhinav')\n",
    "p3 = Person('Anshul')\n",
    "\n",
    "p1.say_hi()\n",
    "p2.say_hi()\n",
    "p3.say_hi()"
   ]
  },
  {
   "cell_type": "markdown",
   "id": "ec81a493",
   "metadata": {},
   "source": [
    "`__init__ with inheritance`\n",
    "\n",
    "Inheritance is the capability of one class to derive or inherit the properties from some other class.\n",
    "\n",
    "Let’s consider the below example to see how init works in inheritance. (check python_OOPS/inheritance.py in Pycharm)\n",
    "\n",
    "__Note: To know more about inheritance click here__ \n",
    "\n",
    "* https://www.geeksforgeeks.org/inheritance-in-python/\n",
    "\n",
    "* https://www.w3schools.com/python/python_classes.asp\n",
    "\n",
    "Python program to demonstrate init with inheritance \n",
    "\n",
    "`# Python program to demonstrate init with inheritance\n",
    "class A(object):\n",
    "    def __init__(self, something):\n",
    "        print(\"A init called\")\n",
    "        self.something = something\n",
    "class B(A):\n",
    "    def __init__(self, something):\n",
    "        # Calling init of parent class\n",
    "        A.__init__(self, something)\n",
    "        print(\"B init called\")\n",
    "        self.something = something\n",
    "obj = B(\"Something\")`\n",
    "\n",
    "`Output:\n",
    "A init called\n",
    "B init called`"
   ]
  },
  {
   "cell_type": "markdown",
   "id": "34439da5",
   "metadata": {},
   "source": [
    "## Python Classes/Objects\n",
    "\n",
    "Python is an object oriented programming language.\n",
    "\n",
    "Almost everything in Python is an object, with its properties and methods.\n",
    "\n",
    "A Class is like an object constructor, or a \"blueprint\" for creating objects.\n",
    "\n",
    "_Create a Class_ :  To create a class, use the keyword class:"
   ]
  },
  {
   "cell_type": "code",
   "execution_count": 78,
   "id": "a5ec48d5",
   "metadata": {},
   "outputs": [
    {
     "name": "stdout",
     "output_type": "stream",
     "text": [
      "<class '__main__.MyClass'>\n"
     ]
    }
   ],
   "source": [
    "# Example Create a class named MyClass, with a property named x:\n",
    "\n",
    "class MyClass:\n",
    "    x = 5\n",
    "\n",
    "print(MyClass)"
   ]
  },
  {
   "cell_type": "markdown",
   "id": "9503f828",
   "metadata": {},
   "source": [
    "_Create Object_ :   Now we can use the class named MyClass to create objects:"
   ]
  },
  {
   "cell_type": "code",
   "execution_count": 79,
   "id": "df7f2e6e",
   "metadata": {},
   "outputs": [
    {
     "name": "stdout",
     "output_type": "stream",
     "text": [
      "5\n"
     ]
    }
   ],
   "source": [
    "# Example Create an object named p1, and print the value of x:\n",
    "class MyClass:\n",
    "    x = 5\n",
    "\n",
    "p1 = MyClass()\n",
    "\n",
    "print(p1.x)"
   ]
  },
  {
   "cell_type": "markdown",
   "id": "26ad5e39",
   "metadata": {},
   "source": [
    "### The __init__() Function \n",
    "\n",
    "The examples above are classes and objects in their simplest form, and are not really useful in real life applications.\n",
    "\n",
    "To understand the meaning of classes we have to understand the built-in `__init__()` function.\n",
    "\n",
    "All classes have a function called `__init_()` which is always executed when the class is being initiated.__\n",
    "\n",
    "Use the `__init_()` function to assign values to object properties, or other operations that are necessary to do when the object is being created:\n",
    "\n",
    "The `__init_()`  function is called automatically every time the class is being used to create a new object"
   ]
  },
  {
   "cell_type": "code",
   "execution_count": 80,
   "id": "945fa066",
   "metadata": {},
   "outputs": [
    {
     "name": "stdout",
     "output_type": "stream",
     "text": [
      "John\n",
      "36\n"
     ]
    }
   ],
   "source": [
    "# Example Create a class named Person, use the __init__() function to assign values for name and age:\n",
    "\n",
    "class Person:\n",
    "    def __init__(self, name, age):\n",
    "        self.name1 = name\n",
    "        self.age1 = age\n",
    "\n",
    "\n",
    "p1 = Person(\"John\", 36)\n",
    "\n",
    "print(p1.name1)\n",
    "print(p1.age1)"
   ]
  },
  {
   "cell_type": "markdown",
   "id": "3888fb0d",
   "metadata": {},
   "source": [
    "_Object Methods_ :   Objects can also contain methods. Methods in objects are functions that belong to the object.\n",
    "\n",
    "Let us create a method in the Person class:"
   ]
  },
  {
   "cell_type": "code",
   "execution_count": 81,
   "id": "1292db52",
   "metadata": {},
   "outputs": [
    {
     "name": "stdout",
     "output_type": "stream",
     "text": [
      "Hello my name is John\n"
     ]
    }
   ],
   "source": [
    "# Example Insert a function that prints a greeting, and execute it on the p1 object:\n",
    "class Person:\n",
    "    def __init__(self, name, age):\n",
    "        self.name = name\n",
    "        self.age = age\n",
    "\n",
    "    def myfunc(self):\n",
    "        print(\"Hello my name is \" + self.name)\n",
    "\n",
    "\n",
    "p1 = Person(\"John\", 36)\n",
    "p1.myfunc()"
   ]
  },
  {
   "cell_type": "markdown",
   "id": "db6ca659",
   "metadata": {},
   "source": [
    "The self parameter is a reference to the current instance of the class, and is used to access variables that belongs to the class.\n",
    "\n",
    "It does not have to be named self , you can call it whatever you like, but it has to be the first parameter of any function in the class:"
   ]
  },
  {
   "cell_type": "code",
   "execution_count": 82,
   "id": "bb9f19a1",
   "metadata": {},
   "outputs": [
    {
     "name": "stdout",
     "output_type": "stream",
     "text": [
      "Hello my name is John\n"
     ]
    }
   ],
   "source": [
    "# Example Use the words mysillyobject and abc instead of self:\n",
    "class Person:\n",
    "    def __init__(mysillyobject, name, age):  # so here mysillyobject is refering to object p1\n",
    "        mysillyobject.name1 = name  # and here name1 is a variable of object p1\n",
    "        mysillyobject.age1 = age     # same way age1 is a variable of object p1\n",
    "\n",
    "    def myfunc(abc):  # now again here abc is referring to the current object which is p1\n",
    "        print(\n",
    "            \"Hello my name is \" + abc.name1)  # so we have name1 variable in p1 object as see in __init__ method above\n",
    "\n",
    "\n",
    "p1 = Person(\"John\", 36)\n",
    "# here its passing object p1 to method myfunc and receving it as abc rather then in self.\n",
    "p1.myfunc()"
   ]
  },
  {
   "cell_type": "markdown",
   "id": "1f200a15",
   "metadata": {},
   "source": [
    "_Modify Object Properties_ :  You can modify properties on objects like this:"
   ]
  },
  {
   "cell_type": "code",
   "execution_count": 83,
   "id": "ea45b502",
   "metadata": {},
   "outputs": [
    {
     "name": "stdout",
     "output_type": "stream",
     "text": [
      "40\n"
     ]
    }
   ],
   "source": [
    "# Example et the age of p1 to 40:\n",
    "class Person:\n",
    "    def __init__(self, name, age):\n",
    "        self.name = name\n",
    "        self.age = age\n",
    "\n",
    "    def myfunc(self):\n",
    "        print(\"Hello my name is \" + self.name)\n",
    "\n",
    "\n",
    "p1 = Person(\"John\", 36)\n",
    "\n",
    "p1.age = 40\n",
    "\n",
    "print(p1.age)"
   ]
  },
  {
   "cell_type": "code",
   "execution_count": 84,
   "id": "9e8f8882",
   "metadata": {},
   "outputs": [
    {
     "data": {
      "text/plain": [
       "{'name': 'John', 'age': 40}"
      ]
     },
     "execution_count": 84,
     "metadata": {},
     "output_type": "execute_result"
    }
   ],
   "source": [
    "p1.__dict__"
   ]
  },
  {
   "cell_type": "markdown",
   "id": "0f464773",
   "metadata": {},
   "source": [
    "_Delete Object Properties_: You can delete properties on objects by using the del keyword"
   ]
  },
  {
   "cell_type": "code",
   "execution_count": 85,
   "id": "e6b8a46a",
   "metadata": {},
   "outputs": [
    {
     "ename": "AttributeError",
     "evalue": "'Person' object has no attribute 'age'",
     "output_type": "error",
     "traceback": [
      "\u001b[1;31m---------------------------------------------------------------------------\u001b[0m",
      "\u001b[1;31mAttributeError\u001b[0m                            Traceback (most recent call last)",
      "\u001b[1;32m<ipython-input-85-b8548dba0d0f>\u001b[0m in \u001b[0;36m<module>\u001b[1;34m\u001b[0m\n\u001b[0;32m     12\u001b[0m \u001b[1;32mdel\u001b[0m \u001b[0mp1\u001b[0m\u001b[1;33m.\u001b[0m\u001b[0mage\u001b[0m\u001b[1;33m\u001b[0m\u001b[1;33m\u001b[0m\u001b[0m\n\u001b[0;32m     13\u001b[0m \u001b[1;33m\u001b[0m\u001b[0m\n\u001b[1;32m---> 14\u001b[1;33m \u001b[0mprint\u001b[0m\u001b[1;33m(\u001b[0m\u001b[0mp1\u001b[0m\u001b[1;33m.\u001b[0m\u001b[0mage\u001b[0m\u001b[1;33m)\u001b[0m\u001b[1;33m\u001b[0m\u001b[1;33m\u001b[0m\u001b[0m\n\u001b[0m",
      "\u001b[1;31mAttributeError\u001b[0m: 'Person' object has no attribute 'age'"
     ]
    }
   ],
   "source": [
    "class Person:\n",
    "    def __init__(self, name, age):\n",
    "        self.name = name\n",
    "        self.age = age\n",
    "\n",
    "    def myfunc(self):\n",
    "        print(\"Hello my name is \" + self.name)\n",
    "\n",
    "\n",
    "p1 = Person(\"John\", 36)\n",
    "\n",
    "del p1.age\n",
    "\n",
    "print(p1.age)"
   ]
  },
  {
   "cell_type": "markdown",
   "id": "da2f6120",
   "metadata": {},
   "source": [
    "__Delete Objects__\n",
    "\n",
    "You can delete objects by using the del keyword:"
   ]
  },
  {
   "cell_type": "code",
   "execution_count": 86,
   "id": "c61f4518",
   "metadata": {},
   "outputs": [
    {
     "ename": "NameError",
     "evalue": "name 'p1' is not defined",
     "output_type": "error",
     "traceback": [
      "\u001b[1;31m---------------------------------------------------------------------------\u001b[0m",
      "\u001b[1;31mNameError\u001b[0m                                 Traceback (most recent call last)",
      "\u001b[1;32m<ipython-input-86-1b4e27d1d18d>\u001b[0m in \u001b[0;36m<module>\u001b[1;34m\u001b[0m\n\u001b[0;32m     12\u001b[0m \u001b[1;32mdel\u001b[0m \u001b[0mp1\u001b[0m\u001b[1;33m\u001b[0m\u001b[1;33m\u001b[0m\u001b[0m\n\u001b[0;32m     13\u001b[0m \u001b[1;33m\u001b[0m\u001b[0m\n\u001b[1;32m---> 14\u001b[1;33m \u001b[0mprint\u001b[0m\u001b[1;33m(\u001b[0m\u001b[0mp1\u001b[0m\u001b[1;33m)\u001b[0m\u001b[1;33m\u001b[0m\u001b[1;33m\u001b[0m\u001b[0m\n\u001b[0m",
      "\u001b[1;31mNameError\u001b[0m: name 'p1' is not defined"
     ]
    }
   ],
   "source": [
    "class Person:\n",
    "    def __init__(self, name, age):\n",
    "        self.name = name\n",
    "        self.age = age\n",
    "\n",
    "    def myfunc(self):\n",
    "        print(\"Hello my name is \" + self.name)\n",
    "\n",
    "\n",
    "p1 = Person(\"John\", 36)\n",
    "\n",
    "del p1\n",
    "\n",
    "print(p1)\n"
   ]
  },
  {
   "cell_type": "markdown",
   "id": "644b0ff9",
   "metadata": {},
   "source": [
    "__The pass Statement__\n",
    "\n",
    "\n",
    "class definitions cannot be empty, but if you for some reason have a class definition with no content, put in the pass statement to avoid getting an error."
   ]
  },
  {
   "cell_type": "code",
   "execution_count": 87,
   "id": "2c4437af",
   "metadata": {},
   "outputs": [
    {
     "ename": "SyntaxError",
     "evalue": "unexpected EOF while parsing (<ipython-input-87-03f7e590f487>, line 3)",
     "output_type": "error",
     "traceback": [
      "\u001b[1;36m  File \u001b[1;32m\"<ipython-input-87-03f7e590f487>\"\u001b[1;36m, line \u001b[1;32m3\u001b[0m\n\u001b[1;33m    # having an empty class definition like this, would raise an error without the pass statement\u001b[0m\n\u001b[1;37m                                                                                                 ^\u001b[0m\n\u001b[1;31mSyntaxError\u001b[0m\u001b[1;31m:\u001b[0m unexpected EOF while parsing\n"
     ]
    }
   ],
   "source": [
    "class Person:\n",
    "    \n",
    " # having an empty class definition like this, would raise an error without the pass statement"
   ]
  },
  {
   "cell_type": "code",
   "execution_count": 89,
   "id": "62eb7ad4",
   "metadata": {},
   "outputs": [],
   "source": [
    "class Person:\n",
    "    pass"
   ]
  },
  {
   "cell_type": "markdown",
   "id": "6df6c092",
   "metadata": {},
   "source": [
    "# Other concepts in class and objects\n",
    "\n",
    "## Python Mutable and Immutable\n",
    "\n",
    "check it for Python Mutable and Immutable : https://www.pythontutorial.net/advanced-python/python-mutable-and-immutable/"
   ]
  },
  {
   "cell_type": "code",
   "execution_count": 90,
   "id": "10d72e15",
   "metadata": {},
   "outputs": [],
   "source": [
    "class Employee:\n",
    "    def __init__(self, name, id):\n",
    "        # self.EmployeeId is instance variable,will be separate for every diff object\n",
    "        self.EmployeeId = id\n",
    "        # self.EmployeeName is instance variable,will be separate for every diff object\n",
    "        self.EmployeeName = name\n",
    "\n",
    "    def display(self):\n",
    "        # print(\"ID: %d \\nName: %s\" % (self.id, self.name)) # self.id, self.name will be error\n",
    "        # because now instance variable name is self.EmployeeId and  self.EmployeeName\n",
    "        print(\"ID: %d AND  Name: %s\" % (self.EmployeeId, self.EmployeeName))"
   ]
  },
  {
   "cell_type": "code",
   "execution_count": 91,
   "id": "3ecdca20",
   "metadata": {},
   "outputs": [
    {
     "name": "stdout",
     "output_type": "stream",
     "text": [
      "ID: 11 AND  Name: sachin\n",
      "1892581901696\n",
      "0x1b8a6ac0580\n"
     ]
    }
   ],
   "source": [
    "# Creating a emp1 instance of Employee class\n",
    "emp1 = Employee(\"sachin\",11)\n",
    "emp1.display()\n",
    "print(id(emp1))\n",
    "print(hex(id(emp1)))"
   ]
  },
  {
   "cell_type": "markdown",
   "id": "aee23060",
   "metadata": {},
   "source": [
    "see here ; object been created at some memory location and Referd by reference variable emp1\n",
    "\n",
    "Now If you create another object with someo ther value by keeping references variable name same as emp1\n",
    "\n",
    "Then see what location it shows"
   ]
  },
  {
   "cell_type": "code",
   "execution_count": 92,
   "id": "199d4c5d",
   "metadata": {},
   "outputs": [
    {
     "name": "stdout",
     "output_type": "stream",
     "text": [
      "ID: 11 AND  Name: rajesh\n",
      "1892581902608\n",
      "0x1b8a6ac0910\n"
     ]
    }
   ],
   "source": [
    "emp1 = Employee(\"rajesh\",11)\n",
    "emp1.display()\n",
    "print(id(emp1))\n",
    "print(hex(id(emp1)))"
   ]
  },
  {
   "cell_type": "markdown",
   "id": "11a79fee",
   "metadata": {},
   "source": [
    "see here it shows some other memory location. which means now emp1 is pointing to this object (11,rajesh) rather then (11,sachin)\n",
    "\n",
    "so any object of class Employee: would be immutable.as we can not change its internal state.\n",
    "\n",
    "in same way, there are more mutable and immuable in Python\n",
    "\n",
    "In Python, everything is an object. An object has its own internal state. Some objects allow you to change their internal state and others don’t.\n",
    "\n",
    "An object whose internal state can be changed is called a mutable object, while an object whose internal state cannot be changed is called an immutable object.\n",
    "\n",
    "The following are examples of immutable objects:\n",
    "\n",
    "* Numbers (int, float, bool,…)\n",
    "* Strings\n",
    "* Tuples\n",
    "* Frozen sets\n",
    "\n",
    "And the following are examples of mutable objects:\n",
    "\n",
    "* Lists\n",
    "* Sets \n",
    "* Dictionaries\n",
    "User-defined classes can be mutable or immutable, depending on whether their internal state can be changed or not.\n",
    "\n",
    "## Python Immutable example:\n",
    "\n",
    "### Numbers"
   ]
  },
  {
   "cell_type": "code",
   "execution_count": 93,
   "id": "6fab7d61",
   "metadata": {},
   "outputs": [
    {
     "name": "stdout",
     "output_type": "stream",
     "text": [
      "140727688377232\n",
      "0x7ffdb7e03390\n"
     ]
    }
   ],
   "source": [
    "counter = 100\n",
    "print(id(counter))\n",
    "print(hex(id(counter)))"
   ]
  },
  {
   "cell_type": "markdown",
   "id": "35756d88",
   "metadata": {},
   "source": [
    "The following changes the counter to 200 and displays its value to the screen:"
   ]
  },
  {
   "cell_type": "code",
   "execution_count": 94,
   "id": "9aeb4fd7",
   "metadata": {},
   "outputs": [
    {
     "name": "stdout",
     "output_type": "stream",
     "text": [
      "140727688380432\n",
      "0x7ffdb7e04010\n"
     ]
    }
   ],
   "source": [
    "counter = 200\n",
    "print(id(counter))\n",
    "print(hex(id(counter)))"
   ]
  },
  {
   "attachments": {
    "image.png": {
     "image/png": "[encoded data removed]"
    }
   },
   "cell_type": "markdown",
   "id": "e6568fb0",
   "metadata": {},
   "source": [
    "It seems that the value of the object referenced by the counter variable changes, but it doesn’t.\n",
    "\n",
    "In fact, Python creates a new integer object with the value 200 and reassigns the counter variable so that it references the new object like this:\n",
    "\n",
    "![image.png](attachment:image.png)\n",
    "\n",
    "\n",
    "The reassignment doesn’t change the value of the first integer object. It just reassigns the reference.\n",
    "\n",
    "Python mutable example \n",
    "\n",
    "### List\n",
    "\n",
    "The following defines a list of numbers and displays the memory address of the list:"
   ]
  },
  {
   "cell_type": "code",
   "execution_count": 95,
   "id": "60d34552",
   "metadata": {},
   "outputs": [
    {
     "name": "stdout",
     "output_type": "stream",
     "text": [
      "0x1b8a6a90580\n"
     ]
    }
   ],
   "source": [
    "ratings = [1, 2, 3]\n",
    "print(hex(id(ratings)))"
   ]
  },
  {
   "attachments": {
    "image.png": {
     "image/png": "[encoded data removed]"
    }
   },
   "cell_type": "markdown",
   "id": "e6a6adb5",
   "metadata": {},
   "source": [
    "Behind the scene, Python creates a new list object and sets the ratings variable to reference the list:\n",
    "\n",
    "![image.png](attachment:image.png)"
   ]
  },
  {
   "cell_type": "code",
   "execution_count": 96,
   "id": "d69ccf46",
   "metadata": {},
   "outputs": [],
   "source": [
    "# When you add a number to the list like this:\n",
    "\n",
    "ratings.append(4)"
   ]
  },
  {
   "attachments": {
    "image.png": {
     "image/png": "[encoded data removed]"
    }
   },
   "cell_type": "markdown",
   "id": "0c452740",
   "metadata": {},
   "source": [
    "![image.png](attachment:image.png)\n",
    "\n",
    "Python directly changes the value of the list object:\n",
    "And Python doesn’t create a new object like the previous immutable example.\n",
    "\n",
    "The following code shows the value and memory address of the list referenced by the ratings variable:\n",
    "\n"
   ]
  },
  {
   "cell_type": "code",
   "execution_count": 98,
   "id": "ab66e71a",
   "metadata": {},
   "outputs": [
    {
     "name": "stdout",
     "output_type": "stream",
     "text": [
      "[1, 2, 3, 4]\n",
      "0x1b8a6a90580\n"
     ]
    }
   ],
   "source": [
    "print(ratings)  # [1, 2, 3, 4]\n",
    "print(hex(id(ratings))) "
   ]
  },
  {
   "cell_type": "markdown",
   "id": "04668bb9",
   "metadata": {},
   "source": [
    "As you can see clearly from the output, the memory address of the list ratings is the same. Hence List in Python is a mutable object"
   ]
  },
  {
   "cell_type": "markdown",
   "id": "6e434335",
   "metadata": {},
   "source": [
    "### Tuple"
   ]
  },
  {
   "cell_type": "code",
   "execution_count": 99,
   "id": "e9c87bd9",
   "metadata": {},
   "outputs": [
    {
     "name": "stdout",
     "output_type": "stream",
     "text": [
      "(1, 2, 3)\n",
      "0x1b8a6a9bb80\n"
     ]
    }
   ],
   "source": [
    "atuple = (1, 2, 3)\n",
    "print(atuple)\n",
    "print(hex(id(atuple)))\n",
    "    "
   ]
  },
  {
   "cell_type": "code",
   "execution_count": 100,
   "id": "e9d874a2",
   "metadata": {},
   "outputs": [
    {
     "name": "stdout",
     "output_type": "stream",
     "text": [
      "(1, 2, 3, 4)\n",
      "0x1b8a6ad2770\n"
     ]
    }
   ],
   "source": [
    "atuple = (1, 2, 3,4)\n",
    "print(atuple)\n",
    "print(hex(id(atuple)))"
   ]
  },
  {
   "cell_type": "code",
   "execution_count": 101,
   "id": "8be9dcd3",
   "metadata": {},
   "outputs": [
    {
     "name": "stdout",
     "output_type": "stream",
     "text": [
      "[1, 2, 3]\n",
      "0x1b8a6ad1480\n"
     ]
    }
   ],
   "source": [
    "alist = [1, 2, 3]\n",
    "print(alist)\n",
    "print(hex(id(alist)))\n"
   ]
  },
  {
   "cell_type": "code",
   "execution_count": 102,
   "id": "e687ad88",
   "metadata": {},
   "outputs": [
    {
     "name": "stdout",
     "output_type": "stream",
     "text": [
      "[1, 2, 3, 4]\n",
      "0x1b8a6ad6180\n"
     ]
    }
   ],
   "source": [
    "alist = [1, 2, 3, 4]\n",
    "print(alist)\n",
    "print(hex(id(alist)))"
   ]
  }
 ],
 "metadata": {
  "kernelspec": {
   "display_name": "Python 3",
   "language": "python",
   "name": "python3"
  },
  "language_info": {
   "codemirror_mode": {
    "name": "ipython",
    "version": 3
   },
   "file_extension": ".py",
   "mimetype": "text/x-python",
   "name": "python",
   "nbconvert_exporter": "python",
   "pygments_lexer": "ipython3",
   "version": "3.8.8"
  },
  "toc": {
   "base_numbering": 1,
   "nav_menu": {},
   "number_sections": true,
   "sideBar": true,
   "skip_h1_title": false,
   "title_cell": "Table of Contents",
   "title_sidebar": "Contents",
   "toc_cell": true,
   "toc_position": {
    "height": "calc(100% - 180px)",
    "left": "10px",
    "top": "150px",
    "width": "279.398px"
   },
   "toc_section_display": true,
   "toc_window_display": true
  }
 },
 "nbformat": 4,
 "nbformat_minor": 5
}
