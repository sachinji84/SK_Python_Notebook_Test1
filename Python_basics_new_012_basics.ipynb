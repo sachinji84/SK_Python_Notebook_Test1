{
 "cells": [
  {
   "cell_type": "markdown",
   "id": "33ef389b",
   "metadata": {
    "toc": true
   },
   "source": [
    "<h1>Table of Contents<span class=\"tocSkip\"></span></h1>\n",
    "<div class=\"toc\"><ul class=\"toc-item\"><li><span><a href=\"#Built-in-Data-Types-and-casting\" data-toc-modified-id=\"Built-in-Data-Types-and-casting-1\"><span class=\"toc-item-num\">1&nbsp;&nbsp;</span>Built-in Data Types and casting</a></span><ul class=\"toc-item\"><li><span><a href=\"#Sequence-Type\" data-toc-modified-id=\"Sequence-Type-1.1\"><span class=\"toc-item-num\">1.1&nbsp;&nbsp;</span>Sequence Type</a></span></li><li><span><a href=\"#Getting-the-Data-Type\" data-toc-modified-id=\"Getting-the-Data-Type-1.2\"><span class=\"toc-item-num\">1.2&nbsp;&nbsp;</span>Getting the Data Type</a></span></li><li><span><a href=\"#Setting-the-Data-Type\" data-toc-modified-id=\"Setting-the-Data-Type-1.3\"><span class=\"toc-item-num\">1.3&nbsp;&nbsp;</span>Setting the Data Type</a></span></li><li><span><a href=\"#Setting-the-Specific-Data-Type\" data-toc-modified-id=\"Setting-the-Specific-Data-Type-1.4\"><span class=\"toc-item-num\">1.4&nbsp;&nbsp;</span>Setting the Specific Data Type</a></span></li></ul></li><li><span><a href=\"#Python-Numbers\" data-toc-modified-id=\"Python-Numbers-2\"><span class=\"toc-item-num\">2&nbsp;&nbsp;</span>Python Numbers</a></span><ul class=\"toc-item\"><li><ul class=\"toc-item\"><li><span><a href=\"#int\" data-toc-modified-id=\"int-2.0.1\"><span class=\"toc-item-num\">2.0.1&nbsp;&nbsp;</span>int</a></span></li><li><span><a href=\"#Float\" data-toc-modified-id=\"Float-2.0.2\"><span class=\"toc-item-num\">2.0.2&nbsp;&nbsp;</span>Float</a></span></li><li><span><a href=\"#Complex\" data-toc-modified-id=\"Complex-2.0.3\"><span class=\"toc-item-num\">2.0.3&nbsp;&nbsp;</span>Complex</a></span></li><li><span><a href=\"#Type-Conversion-within-Numeric-Type\" data-toc-modified-id=\"Type-Conversion-within-Numeric-Type-2.0.4\"><span class=\"toc-item-num\">2.0.4&nbsp;&nbsp;</span>Type Conversion within Numeric Type</a></span></li><li><span><a href=\"#Random-Number\" data-toc-modified-id=\"Random-Number-2.0.5\"><span class=\"toc-item-num\">2.0.5&nbsp;&nbsp;</span>Random Number</a></span></li><li><span><a href=\"#Python-Casting\" data-toc-modified-id=\"Python-Casting-2.0.6\"><span class=\"toc-item-num\">2.0.6&nbsp;&nbsp;</span>Python Casting</a></span></li></ul></li></ul></li><li><span><a href=\"#Python-Strings\" data-toc-modified-id=\"Python-Strings-3\"><span class=\"toc-item-num\">3&nbsp;&nbsp;</span>Python Strings</a></span><ul class=\"toc-item\"><li><ul class=\"toc-item\"><li><span><a href=\"#Assign-String-to-a-Variable\" data-toc-modified-id=\"Assign-String-to-a-Variable-3.0.1\"><span class=\"toc-item-num\">3.0.1&nbsp;&nbsp;</span>Assign String to a Variable</a></span></li><li><span><a href=\"#Multiline-Strings\" data-toc-modified-id=\"Multiline-Strings-3.0.2\"><span class=\"toc-item-num\">3.0.2&nbsp;&nbsp;</span>Multiline Strings</a></span></li><li><span><a href=\"#Strings-are-Arrays\" data-toc-modified-id=\"Strings-are-Arrays-3.0.3\"><span class=\"toc-item-num\">3.0.3&nbsp;&nbsp;</span>Strings are Arrays</a></span></li><li><span><a href=\"#Looping-Through-a-String\" data-toc-modified-id=\"Looping-Through-a-String-3.0.4\"><span class=\"toc-item-num\">3.0.4&nbsp;&nbsp;</span>Looping Through a String</a></span></li><li><span><a href=\"#len()\" data-toc-modified-id=\"len()-3.0.5\"><span class=\"toc-item-num\">3.0.5&nbsp;&nbsp;</span>len()</a></span></li><li><span><a href=\"#Check-String-(in)\" data-toc-modified-id=\"Check-String-(in)-3.0.6\"><span class=\"toc-item-num\">3.0.6&nbsp;&nbsp;</span>Check String (in)</a></span></li><li><span><a href=\"#Check-if-NOT-(not-in)\" data-toc-modified-id=\"Check-if-NOT-(not-in)-3.0.7\"><span class=\"toc-item-num\">3.0.7&nbsp;&nbsp;</span>Check if NOT (not in)</a></span></li><li><span><a href=\"#Slicing-Strings(SubString/indexing-)\" data-toc-modified-id=\"Slicing-Strings(SubString/indexing-)-3.0.8\"><span class=\"toc-item-num\">3.0.8&nbsp;&nbsp;</span>Slicing Strings(SubString/indexing )</a></span></li><li><span><a href=\"#Setp-size-in-slicing\" data-toc-modified-id=\"Setp-size-in-slicing-3.0.9\"><span class=\"toc-item-num\">3.0.9&nbsp;&nbsp;</span>Setp size in slicing</a></span></li><li><span><a href=\"#String---Upper()\" data-toc-modified-id=\"String---Upper()-3.0.10\"><span class=\"toc-item-num\">3.0.10&nbsp;&nbsp;</span>String - Upper()</a></span></li><li><span><a href=\"#String---lower-()\" data-toc-modified-id=\"String---lower-()-3.0.11\"><span class=\"toc-item-num\">3.0.11&nbsp;&nbsp;</span>String - lower ()</a></span></li><li><span><a href=\"#String-replace()\" data-toc-modified-id=\"String-replace()-3.0.12\"><span class=\"toc-item-num\">3.0.12&nbsp;&nbsp;</span>String replace()</a></span></li><li><span><a href=\"#String-split()\" data-toc-modified-id=\"String-split()-3.0.13\"><span class=\"toc-item-num\">3.0.13&nbsp;&nbsp;</span>String split()</a></span></li><li><span><a href=\"#String-strip()\" data-toc-modified-id=\"String-strip()-3.0.14\"><span class=\"toc-item-num\">3.0.14&nbsp;&nbsp;</span>String strip()</a></span></li><li><span><a href=\"#String-Concatenation\" data-toc-modified-id=\"String-Concatenation-3.0.15\"><span class=\"toc-item-num\">3.0.15&nbsp;&nbsp;</span>String Concatenation</a></span></li></ul></li></ul></li><li><span><a href=\"#Format---Strings-(format())\" data-toc-modified-id=\"Format---Strings-(format())-4\"><span class=\"toc-item-num\">4&nbsp;&nbsp;</span>Format - Strings (format())</a></span><ul class=\"toc-item\"><li><ul class=\"toc-item\"><li><span><a href=\"#String-Formatting\" data-toc-modified-id=\"String-Formatting-4.0.1\"><span class=\"toc-item-num\">4.0.1&nbsp;&nbsp;</span>String Formatting</a></span></li></ul></li><li><span><a href=\"#Formatting-with-placeholders-(%)-(%s,-%r)\" data-toc-modified-id=\"Formatting-with-placeholders-(%)-(%s,-%r)-4.1\"><span class=\"toc-item-num\">4.1&nbsp;&nbsp;</span>Formatting with placeholders (%) (%s, %r)</a></span><ul class=\"toc-item\"><li><span><a href=\"#Format-conversion-methods.\" data-toc-modified-id=\"Format-conversion-methods.-4.1.1\"><span class=\"toc-item-num\">4.1.1&nbsp;&nbsp;</span>Format conversion methods.</a></span></li><li><span><a href=\"#repr()\" data-toc-modified-id=\"repr()-4.1.2\"><span class=\"toc-item-num\">4.1.2&nbsp;&nbsp;</span>repr()</a></span></li><li><span><a href=\"#str()\" data-toc-modified-id=\"str()-4.1.3\"><span class=\"toc-item-num\">4.1.3&nbsp;&nbsp;</span>str()</a></span></li><li><span><a href=\"#Padding-and-Precision-of-Floating-Point-Numbers\" data-toc-modified-id=\"Padding-and-Precision-of-Floating-Point-Numbers-4.1.4\"><span class=\"toc-item-num\">4.1.4&nbsp;&nbsp;</span>Padding and Precision of Floating Point Numbers</a></span></li><li><span><a href=\"#Multiple-Formatting-with-placeholders-(%)\" data-toc-modified-id=\"Multiple-Formatting-with-placeholders-(%)-4.1.5\"><span class=\"toc-item-num\">4.1.5&nbsp;&nbsp;</span>Multiple Formatting with placeholders (%)</a></span></li></ul></li><li><span><a href=\"#Formatting-with-the-.format()-method\" data-toc-modified-id=\"Formatting-with-the-.format()-method-4.2\"><span class=\"toc-item-num\">4.2&nbsp;&nbsp;</span>Formatting with the <code>.format()</code> method</a></span><ul class=\"toc-item\"><li><span><a href=\"#String-Formatting-using--format()\" data-toc-modified-id=\"String-Formatting-using--format()-4.2.1\"><span class=\"toc-item-num\">4.2.1&nbsp;&nbsp;</span>String Formatting using  format()</a></span></li><li><span><a href=\"#The-.format()-method-has-several-advantages-over-the-%s-placeholder-method:\" data-toc-modified-id=\"The-.format()-method-has-several-advantages-over-the-%s-placeholder-method:-4.2.2\"><span class=\"toc-item-num\">4.2.2&nbsp;&nbsp;</span>The .format() method has several advantages over the %s placeholder method:</a></span><ul class=\"toc-item\"><li><span><a href=\"#1.-Inserted-objects-can-be-called-by-index-position:\" data-toc-modified-id=\"1.-Inserted-objects-can-be-called-by-index-position:-4.2.2.1\"><span class=\"toc-item-num\">4.2.2.1&nbsp;&nbsp;</span>1. Inserted objects can be called by index position:</a></span></li><li><span><a href=\"#2.-Inserted-objects-can-be-assigned-keywords:\" data-toc-modified-id=\"2.-Inserted-objects-can-be-assigned-keywords:-4.2.2.2\"><span class=\"toc-item-num\">4.2.2.2&nbsp;&nbsp;</span>2. Inserted objects can be assigned keywords:</a></span></li><li><span><a href=\"#3.-Inserted-objects-can-be-reused,-avoiding-duplication:\" data-toc-modified-id=\"3.-Inserted-objects-can-be-reused,-avoiding-duplication:-4.2.2.3\"><span class=\"toc-item-num\">4.2.2.3&nbsp;&nbsp;</span>3. Inserted objects can be reused, avoiding duplication:</a></span></li></ul></li><li><span><a href=\"#Alignment,-padding-and-precision-with-.format()\" data-toc-modified-id=\"Alignment,-padding-and-precision-with-.format()-4.2.3\"><span class=\"toc-item-num\">4.2.3&nbsp;&nbsp;</span>Alignment, padding and precision with <code>.format()</code></a></span></li></ul></li><li><span><a href=\"#Formatted-String-Literals-(f-strings)\" data-toc-modified-id=\"Formatted-String-Literals-(f-strings)-4.3\"><span class=\"toc-item-num\">4.3&nbsp;&nbsp;</span>Formatted String Literals (f-strings)</a></span><ul class=\"toc-item\"><li><ul class=\"toc-item\"><li><span><a href=\"#Float-formatting-follows-&quot;result:-{value:{width}.{precision}}&quot;\" data-toc-modified-id=\"Float-formatting-follows-&quot;result:-{value:{width}.{precision}}&quot;-4.3.0.1\"><span class=\"toc-item-num\">4.3.0.1&nbsp;&nbsp;</span>Float formatting follows <code>\"result: {value:{width}.{precision}}\"</code></a></span></li></ul></li></ul></li><li><span><a href=\"#Python---Escape-Characters\" data-toc-modified-id=\"Python---Escape-Characters-4.4\"><span class=\"toc-item-num\">4.4&nbsp;&nbsp;</span>Python - Escape Characters</a></span></li></ul></li><li><span><a href=\"#Python---String-Methods\" data-toc-modified-id=\"Python---String-Methods-5\"><span class=\"toc-item-num\">5&nbsp;&nbsp;</span>Python - String Methods</a></span><ul class=\"toc-item\"><li><span><a href=\"#capitalize()\" data-toc-modified-id=\"capitalize()-5.1\"><span class=\"toc-item-num\">5.1&nbsp;&nbsp;</span>capitalize()</a></span></li><li><span><a href=\"#casefold()\" data-toc-modified-id=\"casefold()-5.2\"><span class=\"toc-item-num\">5.2&nbsp;&nbsp;</span>casefold()</a></span></li><li><span><a href=\"#center()\" data-toc-modified-id=\"center()-5.3\"><span class=\"toc-item-num\">5.3&nbsp;&nbsp;</span>center()</a></span></li><li><span><a href=\"#count()\" data-toc-modified-id=\"count()-5.4\"><span class=\"toc-item-num\">5.4&nbsp;&nbsp;</span>count()</a></span></li><li><span><a href=\"#lower()\" data-toc-modified-id=\"lower()-5.5\"><span class=\"toc-item-num\">5.5&nbsp;&nbsp;</span>lower()</a></span></li><li><span><a href=\"#upper()\" data-toc-modified-id=\"upper()-5.6\"><span class=\"toc-item-num\">5.6&nbsp;&nbsp;</span>upper()</a></span></li></ul></li></ul></div>"
   ]
  },
  {
   "cell_type": "markdown",
   "id": "d5c36e58",
   "metadata": {},
   "source": [
    "# Built-in Data Types and casting\n",
    "\n",
    "https://www.geeksforgeeks.org/python-data-types/\n",
    "\n",
    "https://www.w3schools.com/python/python_datatypes.asp\n",
    "\n",
    "In programming, data type is an important concept.\n",
    "\n",
    "Variables can store data of different types, and different types can do different things.\n",
    "\n",
    "Python has the following data types built-in by default, in these categories:\n",
    "\n",
    "`Text Type:\tstr\n",
    "Numeric Types:\tint, float, complex\n",
    "Sequence Types:\tlist, tuple, range\n",
    "Mapping Type:\tdict\n",
    "Set Types:\tset, frozenset\n",
    "Boolean Type:\tbool\n",
    "Binary Types:\tbytes, bytearray, memoryview`\n",
    "\n",
    "__Python Data Types__\n",
    "\n",
    "https://www.tutorialsteacher.com/python/python-data-types\n",
    "\n",
    "Data types are the classification or categorization of data items. Python supports the following built-in data types.\n",
    "\n",
    "* Scalar Types\n",
    "* Sequence Type\n",
    "* Mapping Type\n",
    "* Set Types\n"
   ]
  },
  {
   "cell_type": "markdown",
   "id": "a2c53434",
   "metadata": {},
   "source": [
    "## Sequence Type\n",
    "\n",
    "https://www.tutorialsteacher.com/python/python-data-types\n",
    "\n",
    "__In Python, sequence is the ordered collection of similar or different data types. Sequences allows to store multiple values in an organized and efficient fashion. There are several sequence types in Python__\n",
    "\n",
    "Python has the following built-in sequence data types:\n",
    "\n",
    "__String__: A string value is a collection of one or more characters put in single, double or triple quotes.\n",
    "\n",
    "__List__: A list object is an ordered collection of one or more data items, not necessarily of the same type, put in square brackets.\n",
    "\n",
    "__Tuple__ :  A Tuple object is an ordered collection of one or more data items, not necessarily of the same type, put in parentheses.\n",
    "\n",
    "__range__ :  range() is a Python __Data type__  and a Function as well.\n",
    "\n",
    "\n",
    "\n",
    "__What is a sequence data type in Python?__\n",
    "https://www.tutorialspoint.com/What-is-a-sequence-data-type-in-Python\n",
    "\n",
    "_Sequences allow you to store multiple values in an organized and efficient fashion._ There are several sequence types: strings, Unicode strings, lists, tuples, bytearrays, and range objects. Dictionaries and sets are containers for non-sequential data.\n",
    "\n",
    "From the official Python Docs −\n",
    "\n",
    "Strings are immutable sequences of Unicode code points.\n",
    "\n",
    "Lists are mutable sequences, typically used to store collections of homogeneous items.\n",
    "\n",
    "Tuples are immutable sequences, typically used to store collections of heterogeneous data (such as the 2-tuples produced by the enumerate() built-in).\n",
    "\n",
    "Bytearray objects are mutable, they support the mutable sequence operations in addition to the common bytes and bytearray operations\n",
    "\n",
    "The range type represents an immutable sequence of numbers and is commonly used for looping a specific number of times in for loops."
   ]
  },
  {
   "cell_type": "code",
   "execution_count": null,
   "id": "b2380fc8",
   "metadata": {},
   "outputs": [],
   "source": []
  },
  {
   "cell_type": "markdown",
   "id": "0c576633",
   "metadata": {},
   "source": [
    "## Getting the Data Type\n",
    "You can get the data type of any object by using the type() function:"
   ]
  },
  {
   "cell_type": "code",
   "execution_count": 1,
   "id": "1e23967d",
   "metadata": {},
   "outputs": [
    {
     "name": "stdout",
     "output_type": "stream",
     "text": [
      "<class 'int'>\n"
     ]
    }
   ],
   "source": [
    "# Print the data type of the variable x:\n",
    "x = 5\n",
    "print(type(x))"
   ]
  },
  {
   "cell_type": "markdown",
   "id": "7693a207",
   "metadata": {},
   "source": [
    "## Setting the Data Type\n",
    "\n",
    "In Python, the data type is set when you assign a value to a variable:"
   ]
  },
  {
   "cell_type": "code",
   "execution_count": 2,
   "id": "58520e67",
   "metadata": {},
   "outputs": [
    {
     "name": "stdout",
     "output_type": "stream",
     "text": [
      "Hello World <class 'str'>\n",
      "20.5 <class 'float'>\n",
      "1j <class 'complex'>\n",
      "['apple', 'banana', 'cherry'] <class 'list'>\n",
      "('apple', 'banana', 'cherry') <class 'tuple'>\n",
      "range(0, 6) <class 'range'>\n",
      "{'name': 'John', 'age': 36} <class 'dict'>\n",
      "{'cherry', 'apple', 'banana'} <class 'set'>\n",
      "frozenset({'cherry', 'apple', 'banana'}) <class 'frozenset'>\n",
      "True <class 'bool'>\n",
      "b'Hello' <class 'bytes'>\n",
      "bytearray(b'\\x00\\x00\\x00\\x00\\x00') <class 'bytearray'>\n",
      "<memory at 0x000001F06F279280> <class 'memoryview'>\n"
     ]
    }
   ],
   "source": [
    "x = \"Hello World\"\n",
    "print(x, type(x))\n",
    "x = 20.5\n",
    "print(x, type(x))\n",
    "x = 1j\n",
    "print(x, type(x))\n",
    "x = [\"apple\", \"banana\", \"cherry\"]\n",
    "print(x, type(x))\n",
    "x = (\"apple\", \"banana\", \"cherry\")\n",
    "print(x, type(x))\n",
    "x = range(6)\n",
    "print(x, type(x))\n",
    "x = {\"name\": \"John\", \"age\": 36}\n",
    "print(x, type(x))\n",
    "x = {\"apple\", \"banana\", \"cherry\"}\n",
    "print(x, type(x))\n",
    "x = frozenset({\"apple\", \"banana\", \"cherry\"})\n",
    "print(x, type(x))\n",
    "x = True\n",
    "print(x, type(x))\n",
    "x = b\"Hello\"\n",
    "print(x, type(x))\n",
    "x = bytearray(5)\n",
    "print(x, type(x))\n",
    "x = memoryview(bytes(5))\n",
    "print(x, type(x))"
   ]
  },
  {
   "cell_type": "markdown",
   "id": "5d2bc257",
   "metadata": {},
   "source": [
    "## Setting the Specific Data Type\n",
    "\n",
    "If you want to specify the data type, you can use the following constructor functions:"
   ]
  },
  {
   "cell_type": "code",
   "execution_count": 3,
   "id": "d9fe2f4b",
   "metadata": {},
   "outputs": [
    {
     "name": "stdout",
     "output_type": "stream",
     "text": [
      "Hello World <class 'str'>\n",
      "20 <class 'int'>\n",
      "20.5 <class 'float'>\n",
      "1j <class 'complex'>\n",
      "['apple', 'banana', 'cherry'] <class 'list'>\n",
      "('apple', 'banana', 'cherry') <class 'tuple'>\n",
      "range(0, 6) <class 'range'>\n",
      "{'name': 'John', 'age': 36} <class 'dict'>\n",
      "{'cherry', 'apple', 'banana'} <class 'set'>\n",
      "frozenset({'cherry', 'apple', 'banana'}) <class 'frozenset'>\n",
      "True <class 'bool'>\n",
      "b'\\x00\\x00\\x00\\x00\\x00' <class 'bytes'>\n",
      "bytearray(b'\\x00\\x00\\x00\\x00\\x00') <class 'bytearray'>\n",
      "<memory at 0x000001F06F279280> <class 'memoryview'>\n"
     ]
    }
   ],
   "source": [
    "x = str(\"Hello World\")\n",
    "print(x, type(x))\n",
    "\n",
    "x = int(20)\n",
    "print(x, type(x))\n",
    "\n",
    "x = float(20.5)\n",
    "print(x, type(x))\n",
    "\n",
    "x = complex(1j)\n",
    "print(x, type(x))\n",
    "\n",
    "x = list((\"apple\", \"banana\", \"cherry\"))\n",
    "print(x, type(x))\n",
    "\n",
    "x = tuple((\"apple\", \"banana\", \"cherry\"))\n",
    "print(x, type(x))\n",
    "\n",
    "x = range(6)\n",
    "print(x, type(x))\n",
    "\n",
    "x = dict(name=\"John\", age=36)\n",
    "print(x, type(x))\n",
    "\n",
    "x = set((\"apple\", \"banana\", \"cherry\"))\n",
    "print(x, type(x))\n",
    "\n",
    "x = frozenset((\"apple\", \"banana\", \"cherry\"))\n",
    "print(x, type(x))\n",
    "\n",
    "x = bool(5)\n",
    "print(x, type(x))\n",
    "\n",
    "x = bytes(5)\n",
    "print(x, type(x))\n",
    "\n",
    "x = bytearray(5)\n",
    "print(x, type(x))\n",
    "\n",
    "x = memoryview(bytes(5))\n",
    "print(x, type(x))\n"
   ]
  },
  {
   "cell_type": "markdown",
   "id": "16b07c60",
   "metadata": {},
   "source": [
    "# Python Numbers\n",
    "\n",
    "There are three numeric types in Python:\n",
    "\n",
    "int\n",
    "\n",
    "float\n",
    "\n",
    "complex\n",
    "\n",
    "Variables of numeric types are created when you assign a value to them:"
   ]
  },
  {
   "cell_type": "code",
   "execution_count": 4,
   "id": "50b1b013",
   "metadata": {},
   "outputs": [
    {
     "name": "stdout",
     "output_type": "stream",
     "text": [
      "1 <class 'int'>\n",
      "2.8 <class 'float'>\n",
      "1j <class 'complex'>\n"
     ]
    }
   ],
   "source": [
    "# To verify the type of any object in Python, use the type() function:\n",
    "    \n",
    "x = 1    # int\n",
    "print(x, type(x))\n",
    "\n",
    "y = 2.8  # float\n",
    "print(y, type(y))\n",
    "\n",
    "z = 1j   # complex\n",
    "print(z, type(z))"
   ]
  },
  {
   "cell_type": "markdown",
   "id": "919fe29b",
   "metadata": {},
   "source": [
    "### int \n",
    "\n",
    "* Int, or integer, is a whole number, positive or negative, without decimals, of unlimited length."
   ]
  },
  {
   "cell_type": "code",
   "execution_count": 5,
   "id": "3e4598f8",
   "metadata": {},
   "outputs": [
    {
     "name": "stdout",
     "output_type": "stream",
     "text": [
      "1 <class 'int'>\n",
      "35656222554887711 <class 'int'>\n",
      "-3255522 <class 'int'>\n"
     ]
    }
   ],
   "source": [
    "x = 1\n",
    "y = 35656222554887711\n",
    "z = -3255522\n",
    "\n",
    "print(x, type(x))\n",
    "print(y, type(y))\n",
    "print(z, type(z))"
   ]
  },
  {
   "cell_type": "code",
   "execution_count": 6,
   "id": "a010be2e",
   "metadata": {},
   "outputs": [
    {
     "name": "stdout",
     "output_type": "stream",
     "text": [
      "1.1 <class 'float'>\n",
      "1.0 <class 'float'>\n",
      "-35.59 <class 'float'>\n"
     ]
    }
   ],
   "source": [
    "x = 1.10\n",
    "y = 1.0\n",
    "z = -35.59\n",
    "print(x, type(x))\n",
    "print(y, type(y))\n",
    "print(z, type(z))"
   ]
  },
  {
   "cell_type": "markdown",
   "id": "1ce7d480",
   "metadata": {},
   "source": [
    "### Float\n",
    "* Float, or \"floating point number\" is a number, positive or negative, containing one or more decimals."
   ]
  },
  {
   "cell_type": "code",
   "execution_count": 7,
   "id": "fcd50c09",
   "metadata": {},
   "outputs": [
    {
     "name": "stdout",
     "output_type": "stream",
     "text": [
      "1.1 <class 'float'>\n",
      "1.0 <class 'float'>\n",
      "-35.59 <class 'float'>\n"
     ]
    }
   ],
   "source": [
    "x = 1.10\n",
    "y = 1.0\n",
    "z = -35.59\n",
    "\n",
    "print(x, type(x))\n",
    "print(y, type(y))\n",
    "print(z, type(z))"
   ]
  },
  {
   "cell_type": "markdown",
   "id": "43b5998c",
   "metadata": {},
   "source": [
    "__Imp point for float Data Type__\n",
    "* Float can also be scientific numbers with an \"e\" to indicate the power of 10.0\n",
    "* Remember by default in Python \"E\" or \"e\" means 10.0. \n",
    "* Captial \"E\" and small \"e\" both provides same results\n",
    "* To use Euler's number (\"e\" which value is 2.718281828459045) you need to use Either Numpy or Math Library"
   ]
  },
  {
   "cell_type": "code",
   "execution_count": 8,
   "id": "60206249",
   "metadata": {},
   "outputs": [
    {
     "data": {
      "text/plain": [
       "10.0"
      ]
     },
     "execution_count": 8,
     "metadata": {},
     "output_type": "execute_result"
    }
   ],
   "source": [
    "1e+1"
   ]
  },
  {
   "cell_type": "code",
   "execution_count": 9,
   "id": "4a992e01",
   "metadata": {},
   "outputs": [
    {
     "data": {
      "text/plain": [
       "10.0"
      ]
     },
     "execution_count": 9,
     "metadata": {},
     "output_type": "execute_result"
    }
   ],
   "source": [
    "1E1"
   ]
  },
  {
   "cell_type": "code",
   "execution_count": 10,
   "id": "bfd27632",
   "metadata": {},
   "outputs": [
    {
     "data": {
      "text/plain": [
       "350.0"
      ]
     },
     "execution_count": 10,
     "metadata": {},
     "output_type": "execute_result"
    }
   ],
   "source": [
    "y1 = 35e1 # (35 * 10.0 ^1 )\n",
    "y1"
   ]
  },
  {
   "cell_type": "code",
   "execution_count": 11,
   "id": "310bde9c",
   "metadata": {},
   "outputs": [
    {
     "name": "stdout",
     "output_type": "stream",
     "text": [
      "35000.0 <class 'float'>\n",
      "120000.0 <class 'float'>\n",
      "-8.77e+101 <class 'float'>\n"
     ]
    }
   ],
   "source": [
    "x = 35e3\n",
    "y = 12E4\n",
    "z = -87.7e100\n",
    "\n",
    "print(x, type(x))\n",
    "print(y, type(y))\n",
    "print(z, type(z))"
   ]
  },
  {
   "cell_type": "code",
   "execution_count": 12,
   "id": "fe5fac3f",
   "metadata": {},
   "outputs": [
    {
     "name": "stdout",
     "output_type": "stream",
     "text": [
      "1e1: 10.0\n",
      "10.0\n",
      "100.0\n",
      "1000.0\n",
      "0.1\n",
      "0.01\n",
      "0.001\n",
      "17000000000.0\n",
      "0.00017\n",
      "34000000000.0\n"
     ]
    }
   ],
   "source": [
    "print(\"1e1:\",1e1)\n",
    "print(1e+1)\n",
    "print(1e+2)\n",
    "print(1e+3)\n",
    "print(1e-1)\n",
    "print(1e-2)\n",
    "print(1e-3)\n",
    "print(1.7e+10)\n",
    "print(1.7e-4)\n",
    "print(3.4e+10)"
   ]
  },
  {
   "cell_type": "code",
   "execution_count": 13,
   "id": "28ee7d5a",
   "metadata": {},
   "outputs": [
    {
     "data": {
      "text/plain": [
       "-877000000000.0"
      ]
     },
     "execution_count": 13,
     "metadata": {},
     "output_type": "execute_result"
    }
   ],
   "source": [
    "q = -87.7e10\n",
    "q"
   ]
  },
  {
   "cell_type": "code",
   "execution_count": 14,
   "id": "f41caa30",
   "metadata": {},
   "outputs": [
    {
     "name": "stdout",
     "output_type": "stream",
     "text": [
      "-8.77e+101 <class 'float'>\n"
     ]
    }
   ],
   "source": [
    "x = -87.7e100\n",
    "print(x, type(x))"
   ]
  },
  {
   "cell_type": "markdown",
   "id": "6f231544",
   "metadata": {},
   "source": [
    "result is (8.77 * 10.0 power 101)"
   ]
  },
  {
   "cell_type": "markdown",
   "id": "65751948",
   "metadata": {},
   "source": [
    "### Complex\n",
    "* Complex numbers are written with a \"j\" as the imaginary part:"
   ]
  },
  {
   "cell_type": "code",
   "execution_count": 15,
   "id": "43965595",
   "metadata": {},
   "outputs": [
    {
     "name": "stdout",
     "output_type": "stream",
     "text": [
      "(3+5j) <class 'complex'>\n",
      "5j <class 'complex'>\n",
      "(-0-5j) <class 'complex'>\n"
     ]
    }
   ],
   "source": [
    "x = 3+5j\n",
    "y = 5j\n",
    "z = -5j\n",
    "print(x, type(x))\n",
    "print(y, type(y))\n",
    "print(z, type(z))"
   ]
  },
  {
   "cell_type": "markdown",
   "id": "fd3f529b",
   "metadata": {},
   "source": [
    "### Type Conversion within Numeric Type\n",
    "You can convert from one type to another with the int(), float(), and complex() methods:\n",
    "\n",
    "`Note: You cannot convert complex numbers into another number type.`"
   ]
  },
  {
   "cell_type": "code",
   "execution_count": 16,
   "id": "9d7ccf18",
   "metadata": {},
   "outputs": [
    {
     "name": "stdout",
     "output_type": "stream",
     "text": [
      "1 <class 'int'>\n",
      "2.8 <class 'float'>\n",
      "1j <class 'complex'>\n",
      "\n",
      " *******converted data\n",
      "1.0 <class 'float'>\n",
      "2 <class 'int'>\n",
      "(1+0j) <class 'complex'>\n"
     ]
    }
   ],
   "source": [
    "x = 1    # int\n",
    "y = 2.8  # float\n",
    "z = 1j   # complex\n",
    "\n",
    "print(x, type(x))\n",
    "print(y, type(y))\n",
    "print(z, type(z))\n",
    "\n",
    "print(\"\\n *******converted data\")\n",
    "# convert from int to float:\n",
    "a = float(x)\n",
    "# convert from float to int:\n",
    "b = int(y)\n",
    "# convert from int to complex:\n",
    "c = complex(x)\n",
    "\n",
    "print(a, type(a))\n",
    "print(b, type(b))\n",
    "print(c, type(c))"
   ]
  },
  {
   "cell_type": "markdown",
   "id": "45798c13",
   "metadata": {},
   "source": [
    "### Random Number\n",
    "Python does not have a random() function to make a random number, but Python has a built-in module called `random`\n",
    "that can be used to make random numbers\n",
    "\n",
    "* In Random Module Reference(https://www.w3schools.com/python/module_random.asp) you will learn more about the Random module."
   ]
  },
  {
   "cell_type": "code",
   "execution_count": 17,
   "id": "bbf71ff2",
   "metadata": {},
   "outputs": [
    {
     "name": "stdout",
     "output_type": "stream",
     "text": [
      "8\n"
     ]
    }
   ],
   "source": [
    "# Import the random module, and display a random number between 1 and 9:\n",
    "\n",
    "# Signature: random.randrange(start, stop=None, step=1, _int=<class 'int'>)\n",
    "# Docstring:\n",
    "# Choose a random item from range(start, stop[, step]).\n",
    "# \n",
    "# This fixes the problem with randint() which includes the\n",
    "# endpoint; in Python this is usually not what you want.\n",
    "# File:      c:\\users\\sachin\\anaconda3\\lib\\random.py\n",
    "# Type:      method\n",
    "\n",
    "import random\n",
    "\n",
    "print(random.randrange(1, 10)) #returns a number between 1 (included) and 10 (not included)"
   ]
  },
  {
   "cell_type": "markdown",
   "id": "b3bd3821",
   "metadata": {},
   "source": [
    "### Python Casting\n",
    "\n",
    "__Specify a Variable Type__\n",
    "\n",
    "There may be times when you want to specify a type on to a variable. This can be done with casting. Python is an object-orientated language, and as such it uses classes to define data types, including its primitive types.\n",
    "\n",
    "Casting in python is therefore done using constructor functions:\n",
    "\n",
    "`int()  `\n",
    "constructs an integer number from an integer literal, a float literal (by removing all decimals), or a string literal (providing the string represents a whole number)\n",
    "\n",
    "`float()`\n",
    " constructs a float number from an integer literal, a float literal or a string literal (providing the string represents a float or an integer)\n",
    "\n",
    "`str()` - constructs a string from a wide variety of data types, including strings, integer literals and float literals\n"
   ]
  },
  {
   "cell_type": "code",
   "execution_count": 18,
   "id": "53ed6b6f",
   "metadata": {},
   "outputs": [
    {
     "name": "stdout",
     "output_type": "stream",
     "text": [
      "1 <class 'int'> 1 <class 'int'>\n",
      "2.8 <class 'float'> 2 <class 'int'>\n",
      "3 <class 'str'> 3 <class 'int'>\n"
     ]
    }
   ],
   "source": [
    "x = int(1)\n",
    "y = int(2.8)\n",
    "z = int(\"3\")\n",
    "\n",
    "print(1,    type(1), x, type(x))\n",
    "print(2.8,  type(2.8), y, type(y))\n",
    "print(\"3\",  type(\"3\"), z, type(z))"
   ]
  },
  {
   "cell_type": "code",
   "execution_count": 19,
   "id": "8d2d76ab",
   "metadata": {},
   "outputs": [
    {
     "name": "stdout",
     "output_type": "stream",
     "text": [
      "1 <class 'int'> 1.0 <class 'float'>\n",
      "2.8 <class 'float'> 2.8 <class 'float'>\n",
      "3 <class 'str'> 3.0 <class 'float'>\n",
      "4.2 <class 'str'> 4.2 <class 'float'>\n"
     ]
    }
   ],
   "source": [
    "x = float(1)     # x will be 1.0\n",
    "y = float(2.8)   # y will be 2.8\n",
    "z = float(\"3\")   # z will be 3.0\n",
    "w = float(\"4.2\")  # w will be 4.2\n",
    "print(1,    type(1), x, type(x))\n",
    "print(2.8,  type(2.8), y, type(y))\n",
    "print(\"3\",  type(\"3\"), z, type(z))\n",
    "print(\"4.2\", type(\"4.2\"), w, type(w))"
   ]
  },
  {
   "cell_type": "code",
   "execution_count": 20,
   "id": "90c87e7e",
   "metadata": {},
   "outputs": [
    {
     "name": "stdout",
     "output_type": "stream",
     "text": [
      "1 <class 'int'> s1 <class 'str'>\n",
      "2.8 <class 'float'> 2 <class 'str'>\n",
      "3 <class 'str'> 3.0 <class 'str'>\n"
     ]
    }
   ],
   "source": [
    "x = str(\"s1\") # x will be 's1'\n",
    "y = str(2)    # y will be '2'\n",
    "z = str(3.0)  # z will be '3.0'\n",
    "\n",
    "print(1,    type(1), x, type(x))\n",
    "print(2.8,  type(2.8), y, type(y))\n",
    "print(\"3\",  type(\"3\"), z, type(z))"
   ]
  },
  {
   "cell_type": "markdown",
   "id": "adad6faf",
   "metadata": {},
   "source": [
    "# Python Strings\n",
    "\n",
    "Learn more about If statements in  Python If...Else chapter (https://www.w3schools.com/python/python_conditions.asp)\n",
    "\n",
    "Learn more about For Loops in Python For Loops(https://www.w3schools.com/python/python_for_loops.asp) \n",
    "\n",
    "Learn more about String Methods with (https://www.w3schools.com/python/python_ref_string.asp)\n",
    "\n",
    "Learn more about Lists in (https://www.w3schools.com/python/python_lists.asp)\n",
    "\n",
    "\n",
    "\n",
    "__Strings__\n",
    "\n",
    "* Strings literals in python are surrounded by either single quotation marks, or double quotation marks. \n",
    "* 'hello' is the same as \"hello\".\n",
    "* You can display a string literal with the print() function:For example: print(\"hello\")."
   ]
  },
  {
   "cell_type": "code",
   "execution_count": 21,
   "id": "8e53d77b",
   "metadata": {},
   "outputs": [
    {
     "data": {
      "text/plain": [
       "'Hello'"
      ]
     },
     "execution_count": 21,
     "metadata": {},
     "output_type": "execute_result"
    }
   ],
   "source": [
    "'Hello' # with single quote"
   ]
  },
  {
   "cell_type": "code",
   "execution_count": 22,
   "id": "e9168549",
   "metadata": {},
   "outputs": [
    {
     "data": {
      "text/plain": [
       "'Hello'"
      ]
     },
     "execution_count": 22,
     "metadata": {},
     "output_type": "execute_result"
    }
   ],
   "source": [
    "\"Hello\" # with Double  quote"
   ]
  },
  {
   "cell_type": "code",
   "execution_count": 23,
   "id": "b27547b9",
   "metadata": {},
   "outputs": [
    {
     "name": "stdout",
     "output_type": "stream",
     "text": [
      "Hello\n",
      "Hello\n"
     ]
    }
   ],
   "source": [
    "# Print doesn’t PRINT quotes it just print actual Value without single/Double quotes\n",
    "print(\"Hello\")\n",
    "print('Hello')"
   ]
  },
  {
   "cell_type": "code",
   "execution_count": null,
   "id": "c3fbcde9",
   "metadata": {},
   "outputs": [],
   "source": []
  },
  {
   "cell_type": "markdown",
   "id": "8a04275f",
   "metadata": {},
   "source": [
    "### Assign String to a Variable\n",
    "\n",
    "Assigning a string to a variable is done with the variable name followed by an equal sign and the string:"
   ]
  },
  {
   "cell_type": "code",
   "execution_count": 24,
   "id": "ce5b04db",
   "metadata": {},
   "outputs": [
    {
     "data": {
      "text/plain": [
       "'Hello'"
      ]
     },
     "execution_count": 24,
     "metadata": {},
     "output_type": "execute_result"
    }
   ],
   "source": [
    "a = \"Hello\"\n",
    "a"
   ]
  },
  {
   "cell_type": "code",
   "execution_count": 25,
   "id": "709eb448",
   "metadata": {},
   "outputs": [
    {
     "name": "stdout",
     "output_type": "stream",
     "text": [
      "Hello\n"
     ]
    }
   ],
   "source": [
    "print(a)"
   ]
  },
  {
   "cell_type": "markdown",
   "id": "c7cc241c",
   "metadata": {},
   "source": [
    "### Multiline Strings\n",
    "\n",
    "You can assign a multiline string to a variable by using three quotes:\n",
    "\n",
    "You can use three double quotes:"
   ]
  },
  {
   "cell_type": "code",
   "execution_count": 26,
   "id": "38ae5a34",
   "metadata": {},
   "outputs": [
    {
     "name": "stdout",
     "output_type": "stream",
     "text": [
      "Lorem ipsum dolor sit amet,\n",
      "consectetur adipiscing elit,\n",
      "sed do eiusmod tempor incididunt\n",
      "ut labore et dolore magna aliqua.\n"
     ]
    }
   ],
   "source": [
    "a = \"\"\"Lorem ipsum dolor sit amet,\n",
    "consectetur adipiscing elit,\n",
    "sed do eiusmod tempor incididunt\n",
    "ut labore et dolore magna aliqua.\"\"\"\n",
    "print(a)"
   ]
  },
  {
   "cell_type": "markdown",
   "id": "0dcd9756",
   "metadata": {},
   "source": [
    "> Or three single quotes"
   ]
  },
  {
   "cell_type": "code",
   "execution_count": 27,
   "id": "81ebf5ae",
   "metadata": {},
   "outputs": [
    {
     "name": "stdout",
     "output_type": "stream",
     "text": [
      "Lorem ipsum dolor sit amet,\n",
      "consectetur adipiscing elit,\n",
      "sed do eiusmod tempor incididunt\n",
      "ut labore et dolore magna aliqua.\n"
     ]
    }
   ],
   "source": [
    "a = '''Lorem ipsum dolor sit amet,\n",
    "consectetur adipiscing elit,\n",
    "sed do eiusmod tempor incididunt\n",
    "ut labore et dolore magna aliqua.'''\n",
    "print(a)"
   ]
  },
  {
   "cell_type": "markdown",
   "id": "e060d32a",
   "metadata": {},
   "source": [
    "`Note: in the result, the line breaks are inserted at the same position as in the code.`  --> ???"
   ]
  },
  {
   "cell_type": "markdown",
   "id": "9c926a66",
   "metadata": {},
   "source": [
    "### Strings are Arrays\n",
    "Like many other popular programming languages, strings in Python are arrays of bytes representing unicode characters.\n",
    "\n",
    "However, Python does not have a character data type, a single character is simply a string with a length of 1.\n",
    "\n",
    "__Square brackets can be used to access elements of the string.__\n",
    "\n",
    "Get the character at position 1 (`remember that the first character has the index 0`):"
   ]
  },
  {
   "cell_type": "code",
   "execution_count": 28,
   "id": "69b3dfba",
   "metadata": {},
   "outputs": [],
   "source": [
    "a = \"Hello, World!\""
   ]
  },
  {
   "cell_type": "code",
   "execution_count": 29,
   "id": "7bdbdd70",
   "metadata": {},
   "outputs": [
    {
     "name": "stdout",
     "output_type": "stream",
     "text": [
      "H\n"
     ]
    }
   ],
   "source": [
    "print(a[0])"
   ]
  },
  {
   "cell_type": "code",
   "execution_count": 30,
   "id": "30cfd311",
   "metadata": {},
   "outputs": [
    {
     "name": "stdout",
     "output_type": "stream",
     "text": [
      "e\n"
     ]
    }
   ],
   "source": [
    "print(a[1])"
   ]
  },
  {
   "cell_type": "code",
   "execution_count": 31,
   "id": "99730e21",
   "metadata": {},
   "outputs": [
    {
     "name": "stdout",
     "output_type": "stream",
     "text": [
      "!\n"
     ]
    }
   ],
   "source": [
    "print(a[12])"
   ]
  },
  {
   "cell_type": "code",
   "execution_count": 32,
   "id": "f883fee9",
   "metadata": {},
   "outputs": [
    {
     "ename": "IndexError",
     "evalue": "string index out of range",
     "output_type": "error",
     "traceback": [
      "\u001b[1;31m---------------------------------------------------------------------------\u001b[0m",
      "\u001b[1;31mIndexError\u001b[0m                                Traceback (most recent call last)",
      "\u001b[1;32m<ipython-input-32-87a9022fd1e1>\u001b[0m in \u001b[0;36m<module>\u001b[1;34m\u001b[0m\n\u001b[1;32m----> 1\u001b[1;33m \u001b[0mprint\u001b[0m\u001b[1;33m(\u001b[0m\u001b[0ma\u001b[0m\u001b[1;33m[\u001b[0m\u001b[1;36m13\u001b[0m\u001b[1;33m]\u001b[0m\u001b[1;33m)\u001b[0m\u001b[1;33m\u001b[0m\u001b[1;33m\u001b[0m\u001b[0m\n\u001b[0m",
      "\u001b[1;31mIndexError\u001b[0m: string index out of range"
     ]
    }
   ],
   "source": [
    "print(a[13])"
   ]
  },
  {
   "cell_type": "code",
   "execution_count": 33,
   "id": "4c96451a",
   "metadata": {},
   "outputs": [
    {
     "data": {
      "text/plain": [
       "13"
      ]
     },
     "execution_count": 33,
     "metadata": {},
     "output_type": "execute_result"
    }
   ],
   "source": [
    "len(a) # length is 13 char starting from 0(H) to 12(!)"
   ]
  },
  {
   "cell_type": "markdown",
   "id": "d9516081",
   "metadata": {},
   "source": [
    "### Looping Through a String\n",
    "\n",
    "Since strings are arrays, we can loop through the characters in a string, with a for loop.\n",
    "\n"
   ]
  },
  {
   "cell_type": "code",
   "execution_count": 34,
   "id": "42719f7d",
   "metadata": {},
   "outputs": [
    {
     "name": "stdout",
     "output_type": "stream",
     "text": [
      "b\n",
      "a\n",
      "n\n",
      "a\n",
      "n\n",
      "a\n"
     ]
    }
   ],
   "source": [
    "# Loop through the letters in the word \"banana\"\n",
    "for x in \"banana\":\n",
    "  print(x)"
   ]
  },
  {
   "cell_type": "markdown",
   "id": "8d3ca30e",
   "metadata": {},
   "source": [
    "### len() \n",
    "\n",
    "To get the length of a string, use the len() function.\n",
    "\n",
    "The `len()` function returns the length of a string/object :\n"
   ]
  },
  {
   "cell_type": "code",
   "execution_count": 35,
   "id": "c6f08c6a",
   "metadata": {},
   "outputs": [
    {
     "name": "stdout",
     "output_type": "stream",
     "text": [
      "13\n"
     ]
    }
   ],
   "source": [
    "a = \"Hello, World!\"\n",
    "print(len(a))"
   ]
  },
  {
   "cell_type": "markdown",
   "id": "4e5f576d",
   "metadata": {},
   "source": [
    "### Check String (in)\n",
    "\n",
    "To check if a certain phrase or character is present in a string, we can use the keyword `in`.\n",
    "\n",
    "Check if \"free\" is present in the following text:"
   ]
  },
  {
   "cell_type": "code",
   "execution_count": 36,
   "id": "25b7b670",
   "metadata": {},
   "outputs": [
    {
     "name": "stdout",
     "output_type": "stream",
     "text": [
      "True\n"
     ]
    }
   ],
   "source": [
    "txt = \"The best things in life are free!\"\n",
    "print(\"free\" in txt)"
   ]
  },
  {
   "cell_type": "markdown",
   "id": "9ed0308f",
   "metadata": {},
   "source": [
    "* Use it in an if statement\n",
    "\n",
    "Print only if \"free\" is present:"
   ]
  },
  {
   "cell_type": "code",
   "execution_count": 37,
   "id": "3140513e",
   "metadata": {},
   "outputs": [
    {
     "name": "stdout",
     "output_type": "stream",
     "text": [
      "Yes, 'free' is present.\n"
     ]
    }
   ],
   "source": [
    "txt = \"The best things in life are free!\"\n",
    "if \"free\" in txt:\n",
    "    print(\"Yes, 'free' is present.\")"
   ]
  },
  {
   "cell_type": "markdown",
   "id": "645b8410",
   "metadata": {},
   "source": [
    "### Check if NOT (not in)\n",
    "\n",
    "To check if a certain phrase or character is NOT present in a string, we can use the keyword `not in`"
   ]
  },
  {
   "cell_type": "code",
   "execution_count": 38,
   "id": "317f0988",
   "metadata": {},
   "outputs": [
    {
     "name": "stdout",
     "output_type": "stream",
     "text": [
      "True\n",
      "No, 'expensive' is NOT present.\n"
     ]
    }
   ],
   "source": [
    "# Check if \"expensive\" is NOT present in the following text:\n",
    "txt = \"The best things in life are free!\"\n",
    "print(\"expensive\" not in txt)\n",
    "\n",
    "# Use it in an if statement:\n",
    "# print only if \"expensive\" is NOT present:\n",
    "txt = \"The best things in life are free!\"\n",
    "if \"expensive\" not in txt:\n",
    "    print(\"No, 'expensive' is NOT present.\")"
   ]
  },
  {
   "cell_type": "markdown",
   "id": "5c35b964",
   "metadata": {},
   "source": [
    "### Slicing Strings(SubString/indexing )"
   ]
  },
  {
   "cell_type": "markdown",
   "id": "c67ca8d6",
   "metadata": {},
   "source": [
    "__Slicing__\n",
    "\n",
    "You can return a range of characters by using the slice syntax.\n",
    "\n",
    "Specify the start index and the end index, separated by a colon, to return a part of the string.\n",
    "\n",
    "`Note: The first character has index 0.`\n",
    "\n",
    "* String [START:END:STEP SIZE ]  \n",
    "here \n",
    "* START : Start from START index and include START index  and\n",
    "* END : end at END index -1 index means excluding END index \n",
    "* STEP size is : how you want to take steps. Its could be “-“ or “+” number \n"
   ]
  },
  {
   "cell_type": "code",
   "execution_count": 39,
   "id": "02cc3761",
   "metadata": {},
   "outputs": [
    {
     "data": {
      "text/plain": [
       "'Hello, World!'"
      ]
     },
     "execution_count": 39,
     "metadata": {},
     "output_type": "execute_result"
    }
   ],
   "source": [
    "b = \"Hello, World!\"\n",
    "b"
   ]
  },
  {
   "cell_type": "code",
   "execution_count": 40,
   "id": "8ce48105",
   "metadata": {},
   "outputs": [
    {
     "name": "stdout",
     "output_type": "stream",
     "text": [
      "H\n",
      "e\n",
      "l\n",
      "l\n",
      "o\n",
      ",\n",
      " \n",
      "W\n"
     ]
    }
   ],
   "source": [
    "b = \"Hello, World!\"\n",
    "print(b[0])\n",
    "print(b[1])\n",
    "print(b[2])\n",
    "print(b[3])\n",
    "print(b[4])\n",
    "print(b[5])\n",
    "print(b[6])\n",
    "print(b[7])"
   ]
  },
  {
   "cell_type": "code",
   "execution_count": 41,
   "id": "5d2c3685",
   "metadata": {},
   "outputs": [
    {
     "data": {
      "text/plain": [
       "''"
      ]
     },
     "execution_count": 41,
     "metadata": {},
     "output_type": "execute_result"
    }
   ],
   "source": [
    "x = \"Hello, World!\"\n",
    "x[13:]"
   ]
  },
  {
   "cell_type": "markdown",
   "id": "30786e6f",
   "metadata": {},
   "source": [
    "here '' is not a value its means nothing is there  if you see len and type of (x[13:]) then it will be string of length zero \n"
   ]
  },
  {
   "cell_type": "code",
   "execution_count": 42,
   "id": "8755e807",
   "metadata": {},
   "outputs": [
    {
     "name": "stdout",
     "output_type": "stream",
     "text": [
      "<class 'str'>\n",
      "0\n"
     ]
    }
   ],
   "source": [
    "print(type(x[13:]))\n",
    "print(len(x[13:]))"
   ]
  },
  {
   "cell_type": "code",
   "execution_count": 43,
   "id": "679edaa2",
   "metadata": {},
   "outputs": [
    {
     "data": {
      "text/plain": [
       "' '"
      ]
     },
     "execution_count": 43,
     "metadata": {},
     "output_type": "execute_result"
    }
   ],
   "source": [
    "y = \" \"\n",
    "y"
   ]
  },
  {
   "cell_type": "code",
   "execution_count": 44,
   "id": "80f2e4a4",
   "metadata": {},
   "outputs": [
    {
     "name": "stdout",
     "output_type": "stream",
     "text": [
      "<class 'str'>\n",
      "0\n"
     ]
    }
   ],
   "source": [
    "print(type(y[13:]))\n",
    "print(len(y[13:]))"
   ]
  },
  {
   "cell_type": "code",
   "execution_count": 45,
   "id": "84e921ee",
   "metadata": {},
   "outputs": [
    {
     "data": {
      "text/plain": [
       "'Hello'"
      ]
     },
     "execution_count": 45,
     "metadata": {},
     "output_type": "execute_result"
    }
   ],
   "source": [
    "b = \"Hello, World!\"\n",
    "b[:5]"
   ]
  },
  {
   "cell_type": "code",
   "execution_count": 46,
   "id": "771b676b",
   "metadata": {},
   "outputs": [
    {
     "data": {
      "text/plain": [
       "'el,W'"
      ]
     },
     "execution_count": 46,
     "metadata": {},
     "output_type": "execute_result"
    }
   ],
   "source": [
    "b = \"Hello, World!\"\n",
    "b[1:9:2]  # start from 1 till index (9-1) 8 and STEp by 2\n",
    "# 1\n",
    "# 1+2 = 3\n",
    "# 3+2 = 5\n",
    "# 5+2 = 7"
   ]
  },
  {
   "cell_type": "code",
   "execution_count": 47,
   "id": "b3a5295b",
   "metadata": {},
   "outputs": [
    {
     "data": {
      "text/plain": [
       "'1357'"
      ]
     },
     "execution_count": 47,
     "metadata": {},
     "output_type": "execute_result"
    }
   ],
   "source": [
    "b = \"0123456789\"\n",
    "b[1:9:2]"
   ]
  },
  {
   "cell_type": "code",
   "execution_count": 48,
   "id": "4ec38e96",
   "metadata": {},
   "outputs": [
    {
     "data": {
      "text/plain": [
       "'Hello'"
      ]
     },
     "execution_count": 48,
     "metadata": {},
     "output_type": "execute_result"
    }
   ],
   "source": [
    "b = \"Hello, World!\"\n",
    "b[0:5]"
   ]
  },
  {
   "cell_type": "code",
   "execution_count": 49,
   "id": "73bb8c64",
   "metadata": {},
   "outputs": [
    {
     "data": {
      "text/plain": [
       "'llo'"
      ]
     },
     "execution_count": 49,
     "metadata": {},
     "output_type": "execute_result"
    }
   ],
   "source": [
    "b = \"Hello, World!\"\n",
    "b[2:5]"
   ]
  },
  {
   "cell_type": "code",
   "execution_count": null,
   "id": "bffef0c8",
   "metadata": {},
   "outputs": [],
   "source": []
  },
  {
   "cell_type": "code",
   "execution_count": 50,
   "id": "fe57426c",
   "metadata": {
    "scrolled": true
   },
   "outputs": [
    {
     "data": {
      "text/plain": [
       "','"
      ]
     },
     "execution_count": 50,
     "metadata": {},
     "output_type": "execute_result"
    }
   ],
   "source": [
    "b = \"Hello, World!\"\n",
    "b[5]"
   ]
  },
  {
   "cell_type": "code",
   "execution_count": 51,
   "id": "93cf6f72",
   "metadata": {},
   "outputs": [
    {
     "data": {
      "text/plain": [
       "'d'"
      ]
     },
     "execution_count": 51,
     "metadata": {},
     "output_type": "execute_result"
    }
   ],
   "source": [
    "b = \"Hello, World!\"\n",
    "b[11:12]  # here we are saying get data from index 11 till (12-1) 11 index means straing from 11 to 11 only \n",
    "# which is 'd'"
   ]
  },
  {
   "cell_type": "code",
   "execution_count": 52,
   "id": "eb081eb1",
   "metadata": {},
   "outputs": [
    {
     "data": {
      "text/plain": [
       "'Worl'"
      ]
     },
     "execution_count": 52,
     "metadata": {},
     "output_type": "execute_result"
    }
   ],
   "source": [
    "b = \"Hello, World!\"\n",
    "c = b[7:10+1]\n",
    "c"
   ]
  },
  {
   "cell_type": "code",
   "execution_count": 53,
   "id": "cfe3ee91",
   "metadata": {},
   "outputs": [
    {
     "data": {
      "text/plain": [
       "4"
      ]
     },
     "execution_count": 53,
     "metadata": {},
     "output_type": "execute_result"
    }
   ],
   "source": [
    "len(c)"
   ]
  },
  {
   "cell_type": "markdown",
   "id": "f9237cd7",
   "metadata": {},
   "source": [
    "__Slice From the Start__\n",
    "By leaving out the start index, the range will start at the first character:"
   ]
  },
  {
   "cell_type": "code",
   "execution_count": 54,
   "id": "06fe32c4",
   "metadata": {},
   "outputs": [
    {
     "name": "stdout",
     "output_type": "stream",
     "text": [
      "Hello\n"
     ]
    }
   ],
   "source": [
    "# Get the characters from the start to position 5 (not included):\n",
    "b = \"Hello, World!\"\n",
    "print(b[:5])"
   ]
  },
  {
   "cell_type": "markdown",
   "id": "61aef6d1",
   "metadata": {},
   "source": [
    "Note the above slicing. Here we're telling Python to grab everything from index 0 up to 5. It doesn't include the 5th index. You'll notice this a lot in Python, where statements and are usually in the context of __\"up to, but not including\".__"
   ]
  },
  {
   "cell_type": "markdown",
   "id": "86d843ea",
   "metadata": {},
   "source": [
    "__Slice To the End__\n",
    "\n",
    "By leaving out the end index, the range will go to the end:"
   ]
  },
  {
   "cell_type": "code",
   "execution_count": 55,
   "id": "ca04a879",
   "metadata": {},
   "outputs": [
    {
     "name": "stdout",
     "output_type": "stream",
     "text": [
      "llo, World!\n"
     ]
    }
   ],
   "source": [
    "# Get the characters from position 2, and all the way to the end:\n",
    "b = \"Hello, World!\"\n",
    "print(b[2:])"
   ]
  },
  {
   "cell_type": "code",
   "execution_count": 56,
   "id": "517956ad",
   "metadata": {},
   "outputs": [
    {
     "name": "stdout",
     "output_type": "stream",
     "text": [
      "Hello, World!\n"
     ]
    }
   ],
   "source": [
    "#Everything. Nothing mentioned hence start from 0 index and end on the last index \n",
    "b = \"Hello, World!\"\n",
    "print(b[:])"
   ]
  },
  {
   "cell_type": "markdown",
   "id": "aa71d97b",
   "metadata": {},
   "source": [
    "__Negative Indexing__\n",
    "\n",
    "Use negative indexes to start the slice from the end of the string:\n"
   ]
  },
  {
   "cell_type": "code",
   "execution_count": 57,
   "id": "927bba24",
   "metadata": {},
   "outputs": [
    {
     "name": "stdout",
     "output_type": "stream",
     "text": [
      "orl\n"
     ]
    }
   ],
   "source": [
    "# Get the characters:\n",
    "# From: \"o\" in \"World!\" (position -5)\n",
    "# To, but not included: \"d\" in \"World!\" (position -2):\n",
    "# eans start = -5 and end = -2-1 = -3 \n",
    "\n",
    "b = \"Hello, World!\"\n",
    "print(b[-5:-2])"
   ]
  },
  {
   "cell_type": "code",
   "execution_count": 58,
   "id": "a12a5716",
   "metadata": {},
   "outputs": [
    {
     "data": {
      "text/plain": [
       "'d'"
      ]
     },
     "execution_count": 58,
     "metadata": {},
     "output_type": "execute_result"
    }
   ],
   "source": [
    "b = \"Hello, World\"\n",
    "b[-1]  "
   ]
  },
  {
   "cell_type": "code",
   "execution_count": 59,
   "id": "cfca939d",
   "metadata": {},
   "outputs": [
    {
     "data": {
      "text/plain": [
       "'Hello, Worl'"
      ]
     },
     "execution_count": 59,
     "metadata": {},
     "output_type": "execute_result"
    }
   ],
   "source": [
    "# here start index is nothing means from beginning and end index is -1 hence -1-1 = -2 it will end at -2 \n",
    "b = \"Hello, World\"\n",
    "b[:-1] "
   ]
  },
  {
   "cell_type": "code",
   "execution_count": 60,
   "id": "7d039f1c",
   "metadata": {},
   "outputs": [
    {
     "name": "stdout",
     "output_type": "stream",
     "text": [
      "d\n",
      "Hello, Worl\n",
      "World\n",
      "or\n"
     ]
    }
   ],
   "source": [
    "b = \"Hello, World\"\n",
    "print(b[-1:])\n",
    "print(b[:-1])\n",
    "print(b[-5:])\n",
    "print(b[-4:-2])\n"
   ]
  },
  {
   "cell_type": "code",
   "execution_count": 61,
   "id": "6a562c69",
   "metadata": {},
   "outputs": [
    {
     "data": {
      "text/plain": [
       "'d'"
      ]
     },
     "execution_count": 61,
     "metadata": {},
     "output_type": "execute_result"
    }
   ],
   "source": [
    "b = \"Hello, World\"\n",
    "b[11:20]  # here 11 is alreday last index where 'd' is present. and if we give END value anything bigger then\n",
    "# start then it will not be error"
   ]
  },
  {
   "cell_type": "markdown",
   "id": "a48b6310",
   "metadata": {},
   "source": [
    "`Tip :  Always consider as [LB:UB] --LB index will be included and UB = UB-1 `\n",
    "so \n",
    "\n",
    "starting point/index/bound = LB \n",
    "\n",
    "and ending point/inedx/bound   = UB-1\n",
    "\n"
   ]
  },
  {
   "cell_type": "markdown",
   "id": "92a817a5",
   "metadata": {},
   "source": [
    "### Setp size in slicing"
   ]
  },
  {
   "cell_type": "markdown",
   "id": "0f3d3f8c",
   "metadata": {},
   "source": [
    "#We can also use index and slice notation to grab elements of a sequence by a specified step size (the default is 1). \n",
    "For instance we can use two colons in a row and then a number specifying the frequency to grab elements. For example:\n"
   ]
  },
  {
   "cell_type": "markdown",
   "id": "251fae1a",
   "metadata": {},
   "source": [
    "### String - Upper()\n",
    "\n",
    "Python has a set of built-in methods that you can use on strings.\n",
    "\n",
    "The upper() method returns a string where all characters are in upper case. Symbols and Numbers are ignored.\n",
    "\n",
    "> Syntax\n",
    "string.upper()\n",
    "\n",
    "> Parameter Values\n",
    "No parameters"
   ]
  },
  {
   "cell_type": "code",
   "execution_count": 62,
   "id": "73c3bcf4",
   "metadata": {},
   "outputs": [
    {
     "name": "stdout",
     "output_type": "stream",
     "text": [
      "HELLO @ MY 1234 FRIENDS\n"
     ]
    }
   ],
   "source": [
    "txt = \"Hello @ my 1234 friends\"\n",
    "x = txt.upper()\n",
    "print(x)"
   ]
  },
  {
   "cell_type": "markdown",
   "id": "337366de",
   "metadata": {},
   "source": [
    "### String - lower ()\n",
    "\n",
    "The lower() method returns the string in lower case:\n",
    "\n",
    "The lower() method returns a string where all characters are lower case.\n",
    "\n",
    " Symbols and Numbers are ignored."
   ]
  },
  {
   "cell_type": "code",
   "execution_count": 63,
   "id": "44ebe978",
   "metadata": {},
   "outputs": [
    {
     "name": "stdout",
     "output_type": "stream",
     "text": [
      "hello @ my 1234 friends\n"
     ]
    }
   ],
   "source": [
    "txt = \"Hello @ my 1234 friends\"\n",
    "x = txt.lower()\n",
    "print(x)"
   ]
  },
  {
   "cell_type": "markdown",
   "id": "6dfe8957",
   "metadata": {},
   "source": [
    "### String replace()\n",
    "\n",
    "The replace() method replaces a specified phrase with another specified phrase.\n",
    "\n",
    "`Note: All occurrences of the specified phrase will be replaced, if nothing else is specified.`\n",
    "\n",
    "Syntax\n",
    "\n",
    "string.replace(oldvalue, newvalue, count)\n",
    "\n",
    "Parameter Values\n",
    "\n",
    "Parameter\tDescription\n",
    "\n",
    "oldvalue\tRequired. The string to search for\n",
    "\n",
    "newvalue\tRequired. The string to replace the old value with\n",
    "\n",
    "count\tOptional. A number specifying how many occurrences of the old value you want to replace. Default is all occurrences"
   ]
  },
  {
   "cell_type": "code",
   "execution_count": 64,
   "id": "6113d37c",
   "metadata": {},
   "outputs": [
    {
     "name": "stdout",
     "output_type": "stream",
     "text": [
      "I like apples1 and more apples2 and apples3\n",
      "I like apples1 and more apples2 and bananas3\n"
     ]
    }
   ],
   "source": [
    "# Signature: txt.replace(old, new, count=-1, /)\n",
    "# Docstring:\n",
    "# Return a copy with all occurrences of substring old replaced by new.\n",
    "#\n",
    "#   count\n",
    "#     Maximum number of occurrences to replace. -1 (the default value) means replace all occurrences.\n",
    "#\n",
    "# If the optional argument count is given, only the first count occurrences are # replaced.\n",
    "# Type:      builtin_function_or_method\n",
    "\n",
    "txt = \"I like bananas1 and more bananas2 and bananas3\"\n",
    "\n",
    "x1 = txt.replace(\"bananas\", \"apples\")\n",
    "x2 = txt.replace(\"bananas\", \"apples\", 2)\n",
    "\n",
    "print(x1)\n",
    "print(x2)"
   ]
  },
  {
   "cell_type": "code",
   "execution_count": 65,
   "id": "7606efc8",
   "metadata": {},
   "outputs": [
    {
     "name": "stdout",
     "output_type": "stream",
     "text": [
      "three three was a race horse, two two was three too.\n"
     ]
    }
   ],
   "source": [
    "# Replace all occurrence of the word \"one\"\n",
    "\n",
    "txt = \"one one was a race horse, two two was one too.\"\n",
    "\n",
    "x = txt.replace(\"one\", \"three\")\n",
    "\n",
    "print(x)"
   ]
  },
  {
   "cell_type": "code",
   "execution_count": 66,
   "id": "ac7cba29",
   "metadata": {},
   "outputs": [
    {
     "name": "stdout",
     "output_type": "stream",
     "text": [
      "three three was a race horse, two two was one too.\n"
     ]
    }
   ],
   "source": [
    "# Replace the  first two occurrence of the word \"one\":\n",
    "\n",
    "txt = \"one one was a race horse, two two was one too.\"\n",
    "\n",
    "x = txt.replace(\"one\", \"three\", 2)\n",
    "print(x)"
   ]
  },
  {
   "cell_type": "code",
   "execution_count": 67,
   "id": "384d9fbd",
   "metadata": {},
   "outputs": [
    {
     "name": "stdout",
     "output_type": "stream",
     "text": [
      "HeJJo, WorJd!\n"
     ]
    }
   ],
   "source": [
    "a = \"Hello, World!\"\n",
    "print(a.replace(\"l\", \"J\"))"
   ]
  },
  {
   "cell_type": "markdown",
   "id": "47eb2b61",
   "metadata": {},
   "source": [
    "### String split() \n",
    "\n",
    "`Definition and Usage\n",
    "The split() method splits a string into a list.\n",
    "You can specify the separator, default separator is any whitespace.\n",
    "Note: When maxsplit is specified, the list will contain the specified number of elements plus one.\n",
    "Syntax_\n",
    "string.split(separator, maxsplit)_\n",
    "Parameter Values\n",
    "Parameter\tDescription\n",
    "separator\tOptional. Specifies the separator to use when splitting the string. By default any whitespace is a separator\n",
    "maxsplit\tOptional. Specifies how many splits to do. Default value is -1, which is \"all occurrences`\n",
    "\n"
   ]
  },
  {
   "cell_type": "code",
   "execution_count": 68,
   "id": "e8465c3d",
   "metadata": {},
   "outputs": [
    {
     "name": "stdout",
     "output_type": "stream",
     "text": [
      "['hello', 'my name is Peter', 'I am 26 years old']\n"
     ]
    }
   ],
   "source": [
    "# Split the string, using comma, followed by a space, as a separator:\n",
    "\n",
    "txt = \"hello, my name is Peter, I am 26 years old\"\n",
    "\n",
    "x = txt.split(\", \") # here seprator is ,and one space \n",
    "\n",
    "print(x)"
   ]
  },
  {
   "cell_type": "code",
   "execution_count": 69,
   "id": "55b81be3",
   "metadata": {},
   "outputs": [
    {
     "name": "stdout",
     "output_type": "stream",
     "text": [
      "['Hello', ' World!']\n"
     ]
    }
   ],
   "source": [
    "# The split() method splits the string into substrings if it finds instances of the separator\n",
    "\n",
    "a = \"Hello, World!\"\n",
    "print(a.split(\",\")) # returns ['Hello', ' World!']"
   ]
  },
  {
   "cell_type": "code",
   "execution_count": 70,
   "id": "fa5b1d6b",
   "metadata": {},
   "outputs": [
    {
     "data": {
      "text/plain": [
       "['hello', 'my name is Peter', 'I am 26 years old']"
      ]
     },
     "execution_count": 70,
     "metadata": {},
     "output_type": "execute_result"
    }
   ],
   "source": [
    "x"
   ]
  },
  {
   "cell_type": "code",
   "execution_count": 71,
   "id": "32fa9263",
   "metadata": {},
   "outputs": [
    {
     "name": "stdout",
     "output_type": "stream",
     "text": [
      "['apple', 'banana', 'cherry', 'orange']\n"
     ]
    }
   ],
   "source": [
    "# Use a hash character as a separator:\n",
    "\n",
    "txt = \"apple#banana#cherry#orange\"\n",
    "\n",
    "x = txt.split(\"#\")\n",
    "\n",
    "print(x)"
   ]
  },
  {
   "cell_type": "code",
   "execution_count": 72,
   "id": "faf67668",
   "metadata": {},
   "outputs": [
    {
     "name": "stdout",
     "output_type": "stream",
     "text": [
      "['apple#banana#cherry#orange']\n"
     ]
    }
   ],
   "source": [
    "# Use a separator which is not found in string\n",
    "\n",
    "txt = \"apple#banana#cherry#orange\"\n",
    "\n",
    "x = txt.split(\"##\")\n",
    "\n",
    "print(x)"
   ]
  },
  {
   "cell_type": "code",
   "execution_count": 73,
   "id": "c23049c9",
   "metadata": {},
   "outputs": [
    {
     "name": "stdout",
     "output_type": "stream",
     "text": [
      "['apple', 'banana#cherry#orange']\n"
     ]
    }
   ],
   "source": [
    "# dont give any separator\n",
    "\n",
    "txt = \"apple banana#cherry#orange\"\n",
    "\n",
    "x = txt.split() # default separator \"one space\" is applied \n",
    "\n",
    "print(x)"
   ]
  },
  {
   "cell_type": "code",
   "execution_count": 74,
   "id": "bbb63a6f",
   "metadata": {},
   "outputs": [
    {
     "ename": "ValueError",
     "evalue": "empty separator",
     "output_type": "error",
     "traceback": [
      "\u001b[1;31m---------------------------------------------------------------------------\u001b[0m",
      "\u001b[1;31mValueError\u001b[0m                                Traceback (most recent call last)",
      "\u001b[1;32m<ipython-input-74-613da77f6f44>\u001b[0m in \u001b[0;36m<module>\u001b[1;34m\u001b[0m\n\u001b[0;32m      1\u001b[0m \u001b[1;31m# separator can not be empty. it will be ValueError: empty separator\u001b[0m\u001b[1;33m\u001b[0m\u001b[1;33m\u001b[0m\u001b[1;33m\u001b[0m\u001b[0m\n\u001b[0;32m      2\u001b[0m \u001b[0mtxt\u001b[0m \u001b[1;33m=\u001b[0m \u001b[1;34m\"apple  banana#cherry#orange\"\u001b[0m\u001b[1;33m\u001b[0m\u001b[1;33m\u001b[0m\u001b[0m\n\u001b[1;32m----> 3\u001b[1;33m \u001b[0mx\u001b[0m \u001b[1;33m=\u001b[0m \u001b[0mtxt\u001b[0m\u001b[1;33m.\u001b[0m\u001b[0msplit\u001b[0m\u001b[1;33m(\u001b[0m\u001b[1;34m\"\"\u001b[0m\u001b[1;33m)\u001b[0m\u001b[1;33m\u001b[0m\u001b[1;33m\u001b[0m\u001b[0m\n\u001b[0m",
      "\u001b[1;31mValueError\u001b[0m: empty separator"
     ]
    }
   ],
   "source": [
    "# separator can not be empty. it will be ValueError: empty separator\n",
    "txt = \"apple  banana#cherry#orange\"\n",
    "x = txt.split(\"\")"
   ]
  },
  {
   "cell_type": "code",
   "execution_count": 75,
   "id": "760d3187",
   "metadata": {},
   "outputs": [
    {
     "name": "stdout",
     "output_type": "stream",
     "text": [
      "3\n",
      "\n",
      "['apple', '', 'banana#cherry#orange']\n",
      "\n",
      "1 apple 5 <class 'str'>\n",
      "2  0 <class 'str'>\n",
      "3 banana#cherry#orange 20 <class 'str'>\n"
     ]
    }
   ],
   "source": [
    "txt = \"apple  banana#cherry#orange\"\n",
    "x = txt.split(\" \")\n",
    "print(len(x))\n",
    "\n",
    "print()\n",
    "\n",
    "print(x)\n",
    "print()\n",
    "\n",
    "count = 0 \n",
    "for i in x:\n",
    "    count+=1\n",
    "    print(count, i, len(i), type(i))"
   ]
  },
  {
   "cell_type": "code",
   "execution_count": 76,
   "id": "fcd26898",
   "metadata": {},
   "outputs": [
    {
     "name": "stdout",
     "output_type": "stream",
     "text": [
      "['apple', 'banana#cherry#orange']\n"
     ]
    }
   ],
   "source": [
    "# Split the string into a list with max 2 items:\n",
    "\n",
    "txt = \"apple#banana#cherry#orange\"\n",
    "\n",
    "# setting the maxsplit parameter to 1, will return a list with 2 elements!\n",
    "x = txt.split(\"#\", 1)\n",
    "\n",
    "print(x)"
   ]
  },
  {
   "cell_type": "markdown",
   "id": "df214f5a",
   "metadata": {},
   "source": [
    "### String strip()\n",
    "\n",
    "The strip() method removes any whitespace from the beginning or the end.\n",
    "\n",
    "Whitespace is the space before and/or after the actual text, and very often you want to remove this space.\n",
    "\n",
    "__Definition and Usage <br>__\n",
    "The strip() method removes any leading (spaces at the beginning) and trailing (spaces at the end) characters (space is the default leading character to remove, __you can specifiy your own character as well__)\n",
    "\n",
    "_Syntax_\n",
    "string.strip(characters)\n",
    "\n",
    "Parameter Values\n",
    "\n",
    "Parameter\tDescription\n",
    "\n",
    "characters\tOptional. A set of characters to remove as leading/trailing characters"
   ]
  },
  {
   "cell_type": "code",
   "execution_count": 77,
   "id": "0751a9b5",
   "metadata": {},
   "outputs": [
    {
     "name": "stdout",
     "output_type": "stream",
     "text": [
      "Hello, World!\n"
     ]
    }
   ],
   "source": [
    " # Signature: txt.strip(chars=None, /)\n",
    "# Docstring:\n",
    "# Return a copy of the string with leading and trailing whitespace removed.\n",
    "# \n",
    "# If chars is given and not None, remove characters in chars instead.\n",
    "# Type:      builtin_function_or_method\n",
    "\n",
    "a = \"        Hello, World!        \"\n",
    "print(a.strip())  # returns \"Hello, World!\""
   ]
  },
  {
   "cell_type": "code",
   "execution_count": 78,
   "id": "8a694a65",
   "metadata": {},
   "outputs": [
    {
     "name": "stdout",
     "output_type": "stream",
     "text": [
      "of all fruits banana is my favorite\n"
     ]
    }
   ],
   "source": [
    "txt = \"     banana     \"\n",
    "\n",
    "x = txt.strip()\n",
    "\n",
    "print(\"of all fruits\", x, \"is my favorite\")"
   ]
  },
  {
   "cell_type": "markdown",
   "id": "7ef5c0a0",
   "metadata": {},
   "source": [
    "* __Not only whitespace you can remove any character spacied in .strip()__\n",
    "\n",
    "Example :"
   ]
  },
  {
   "cell_type": "code",
   "execution_count": 79,
   "id": "39be8090",
   "metadata": {},
   "outputs": [
    {
     "name": "stdout",
     "output_type": "stream",
     "text": [
      "banana\n"
     ]
    }
   ],
   "source": [
    "# Remove the leading and trailing characters:\n",
    "txt = \",,,,,rrttgg.....banana....rrr\"\n",
    "x = txt.strip(\",.grt\")\n",
    "print(x)"
   ]
  },
  {
   "cell_type": "markdown",
   "id": "69cb6245",
   "metadata": {},
   "source": [
    "### String Concatenation\n",
    "\n",
    "To concatenate, or combine, two strings you can use the + operator.\n",
    "\n",
    "Merge variable a with variable b into variable c:\n",
    "\n",
    "\n"
   ]
  },
  {
   "cell_type": "code",
   "execution_count": 80,
   "id": "34fe797d",
   "metadata": {},
   "outputs": [
    {
     "name": "stdout",
     "output_type": "stream",
     "text": [
      "HelloWorld\n"
     ]
    }
   ],
   "source": [
    "a = \"Hello\"\n",
    "b = \"World\"\n",
    "c = a + b\n",
    "print(c)"
   ]
  },
  {
   "cell_type": "code",
   "execution_count": 81,
   "id": "60351713",
   "metadata": {},
   "outputs": [
    {
     "name": "stdout",
     "output_type": "stream",
     "text": [
      "Hello World$\n"
     ]
    }
   ],
   "source": [
    "a = \"Hello \"\n",
    "b = \"World$\"\n",
    "c = a + b\n",
    "print(c)"
   ]
  },
  {
   "cell_type": "code",
   "execution_count": 82,
   "id": "0b5ebac2",
   "metadata": {},
   "outputs": [
    {
     "name": "stdout",
     "output_type": "stream",
     "text": [
      "Hello World\n"
     ]
    }
   ],
   "source": [
    "# To add a space between them, add a \" \":\n",
    "a = \"Hello\"\n",
    "b = \"World\"\n",
    "c = a + \" \" + b\n",
    "print(c)"
   ]
  },
  {
   "cell_type": "code",
   "execution_count": 83,
   "id": "8c6e6334",
   "metadata": {},
   "outputs": [
    {
     "name": "stdout",
     "output_type": "stream",
     "text": [
      "11 <class 'int'>\n"
     ]
    }
   ],
   "source": [
    "# => INT+ int is possible \n",
    "a = 8\n",
    "b = 3\n",
    "print((a+b),type(a+b))"
   ]
  },
  {
   "cell_type": "code",
   "execution_count": 84,
   "id": "62364aa1",
   "metadata": {},
   "outputs": [
    {
     "name": "stdout",
     "output_type": "stream",
     "text": [
      "6.5 <class 'float'>\n"
     ]
    }
   ],
   "source": [
    "# => INT+ FLOAT is possible \n",
    "a = 5 \n",
    "b = 1.5\n",
    "print((a+b),type(a+b))"
   ]
  },
  {
   "cell_type": "code",
   "execution_count": 85,
   "id": "bb46d1d8",
   "metadata": {},
   "outputs": [
    {
     "name": "stdout",
     "output_type": "stream",
     "text": [
      "(5+6j) <class 'complex'>\n"
     ]
    }
   ],
   "source": [
    "# int+complex also possbile \n",
    "a = 5\n",
    "b = 6j\n",
    "print((a+b),type(a+b))\n"
   ]
  },
  {
   "cell_type": "code",
   "execution_count": 86,
   "id": "d019be8b",
   "metadata": {},
   "outputs": [
    {
     "ename": "TypeError",
     "evalue": "unsupported operand type(s) for +: 'int' and 'str'",
     "output_type": "error",
     "traceback": [
      "\u001b[1;31m---------------------------------------------------------------------------\u001b[0m",
      "\u001b[1;31mTypeError\u001b[0m                                 Traceback (most recent call last)",
      "\u001b[1;32m<ipython-input-86-84a6b00df2a5>\u001b[0m in \u001b[0;36m<module>\u001b[1;34m\u001b[0m\n\u001b[0;32m      2\u001b[0m \u001b[0ma\u001b[0m \u001b[1;33m=\u001b[0m \u001b[1;36m5\u001b[0m\u001b[1;33m\u001b[0m\u001b[1;33m\u001b[0m\u001b[0m\n\u001b[0;32m      3\u001b[0m \u001b[0mb\u001b[0m \u001b[1;33m=\u001b[0m \u001b[1;34m\"John\"\u001b[0m\u001b[1;33m\u001b[0m\u001b[1;33m\u001b[0m\u001b[0m\n\u001b[1;32m----> 4\u001b[1;33m \u001b[0mprint\u001b[0m\u001b[1;33m(\u001b[0m\u001b[0ma\u001b[0m \u001b[1;33m+\u001b[0m \u001b[0mb\u001b[0m\u001b[1;33m)\u001b[0m\u001b[1;33m\u001b[0m\u001b[1;33m\u001b[0m\u001b[0m\n\u001b[0m",
      "\u001b[1;31mTypeError\u001b[0m: unsupported operand type(s) for +: 'int' and 'str'"
     ]
    }
   ],
   "source": [
    "# int + String is ERROR \n",
    "a = 5\n",
    "b = \"John\"\n",
    "print(a + b)"
   ]
  },
  {
   "cell_type": "code",
   "execution_count": 87,
   "id": "48388e41",
   "metadata": {},
   "outputs": [
    {
     "ename": "TypeError",
     "evalue": "can only concatenate str (not \"int\") to str",
     "output_type": "error",
     "traceback": [
      "\u001b[1;31m---------------------------------------------------------------------------\u001b[0m",
      "\u001b[1;31mTypeError\u001b[0m                                 Traceback (most recent call last)",
      "\u001b[1;32m<ipython-input-87-25ea80fbfe95>\u001b[0m in \u001b[0;36m<module>\u001b[1;34m\u001b[0m\n\u001b[0;32m      1\u001b[0m \u001b[0mage\u001b[0m \u001b[1;33m=\u001b[0m \u001b[1;36m36\u001b[0m\u001b[1;33m\u001b[0m\u001b[1;33m\u001b[0m\u001b[0m\n\u001b[1;32m----> 2\u001b[1;33m \u001b[0mprint\u001b[0m\u001b[1;33m(\u001b[0m\u001b[1;34m\"My name is John, I am \"\u001b[0m \u001b[1;33m+\u001b[0m \u001b[0mage\u001b[0m\u001b[1;33m)\u001b[0m \u001b[1;31m# => int+String will give erro\u001b[0m\u001b[1;33m\u001b[0m\u001b[1;33m\u001b[0m\u001b[0m\n\u001b[0m",
      "\u001b[1;31mTypeError\u001b[0m: can only concatenate str (not \"int\") to str"
     ]
    }
   ],
   "source": [
    "age = 36\n",
    "print(\"My name is John, I am \" + age) # => int+String will give erro"
   ]
  },
  {
   "cell_type": "markdown",
   "id": "c7d43083",
   "metadata": {},
   "source": [
    "# Format - Strings (format())\n",
    "\n",
    "\n",
    "Learn more about String Formatting in String Formatting(https://www.w3schools.com/python/python_string_formatting.asp)\n",
    "\n",
    "\n",
    "As we learned in the Python Variables chapter, we cannot combine strings and numbers like this:\n",
    "\n",
    "`TypeError: can only concatenate str (not \"int\") to str`"
   ]
  },
  {
   "cell_type": "code",
   "execution_count": 88,
   "id": "52ee10d3",
   "metadata": {},
   "outputs": [
    {
     "ename": "TypeError",
     "evalue": "can only concatenate str (not \"int\") to str",
     "output_type": "error",
     "traceback": [
      "\u001b[1;31m---------------------------------------------------------------------------\u001b[0m",
      "\u001b[1;31mTypeError\u001b[0m                                 Traceback (most recent call last)",
      "\u001b[1;32m<ipython-input-88-4d1b227cff41>\u001b[0m in \u001b[0;36m<module>\u001b[1;34m\u001b[0m\n\u001b[0;32m      1\u001b[0m \u001b[0mage\u001b[0m \u001b[1;33m=\u001b[0m \u001b[1;36m36\u001b[0m\u001b[1;33m\u001b[0m\u001b[1;33m\u001b[0m\u001b[0m\n\u001b[1;32m----> 2\u001b[1;33m \u001b[0mtxt\u001b[0m \u001b[1;33m=\u001b[0m \u001b[1;34m\"My name is John, I am \"\u001b[0m \u001b[1;33m+\u001b[0m \u001b[0mage\u001b[0m\u001b[1;33m\u001b[0m\u001b[1;33m\u001b[0m\u001b[0m\n\u001b[0m\u001b[0;32m      3\u001b[0m \u001b[0mprint\u001b[0m\u001b[1;33m(\u001b[0m\u001b[0mtxt\u001b[0m\u001b[1;33m)\u001b[0m\u001b[1;33m\u001b[0m\u001b[1;33m\u001b[0m\u001b[0m\n",
      "\u001b[1;31mTypeError\u001b[0m: can only concatenate str (not \"int\") to str"
     ]
    }
   ],
   "source": [
    "age = 36\n",
    "txt = \"My name is John, I am \" + age\n",
    "print(txt)"
   ]
  },
  {
   "cell_type": "markdown",
   "id": "9882a4fd",
   "metadata": {},
   "source": [
    "But we can combine strings and numbers by using the `format()` method!\n",
    "\n",
    "The format() method takes the passed arguments, formats them, and places them in the string where the placeholders {} are:"
   ]
  },
  {
   "cell_type": "code",
   "execution_count": 89,
   "id": "ebb2de6a",
   "metadata": {},
   "outputs": [
    {
     "name": "stdout",
     "output_type": "stream",
     "text": [
      "My name is John, and I am 36\n"
     ]
    }
   ],
   "source": [
    "# Use the format() method to insert numbers into strings:\n",
    "\n",
    "age = 36\n",
    "txt = \"My name is John, and I am {}\"\n",
    "print(txt.format(age))"
   ]
  },
  {
   "cell_type": "markdown",
   "id": "ae7623ae",
   "metadata": {},
   "source": [
    "The format() method takes unlimited number of arguments, and are placed into the respective placeholders:"
   ]
  },
  {
   "cell_type": "code",
   "execution_count": 90,
   "id": "54aebd84",
   "metadata": {},
   "outputs": [
    {
     "name": "stdout",
     "output_type": "stream",
     "text": [
      "I want 3 pieces of item 567 for 49.95 dollars.\n"
     ]
    }
   ],
   "source": [
    "quantity = 3\n",
    "itemno = 567\n",
    "price = 49.95\n",
    "myorder = \"I want {} pieces of item {} for {} dollars.\"\n",
    "print(myorder.format(quantity, itemno, price))"
   ]
  },
  {
   "cell_type": "markdown",
   "id": "a26bc6fd",
   "metadata": {},
   "source": [
    "__You can use index numbers {0} to be sure the arguments are placed in the correct placeholders__"
   ]
  },
  {
   "cell_type": "code",
   "execution_count": 91,
   "id": "b217c81d",
   "metadata": {},
   "outputs": [
    {
     "name": "stdout",
     "output_type": "stream",
     "text": [
      "I want 3 pieces of item 567 for 49.95 dollars.\n"
     ]
    }
   ],
   "source": [
    "quantity = 3\n",
    "itemno = 567\n",
    "price = 49.95\n",
    "myorder = \"I want {2} pieces of item {0} for {1} dollars.\"\n",
    "print(myorder.format(itemno, price, quantity))"
   ]
  },
  {
   "cell_type": "markdown",
   "id": "fd067c9c",
   "metadata": {},
   "source": [
    "### String Formatting\n",
    "\n",
    "String formatting lets you inject items into a string rather than trying to chain items together using commas or string concatenation. As a quick comparison, consider:\n",
    "\n",
    "    player = 'Thomas'\n",
    "    points = 33\n",
    "    \n",
    "    'Last night, '+player+' scored '+str(points)+' points.'  # concatenation\n",
    "    \n",
    "    f'Last night, {player} scored {points} points.'          # string formatting\n",
    "\n",
    "\n",
    "There are three ways to perform string formatting.\n",
    "* The oldest method involves placeholders using the modulo `%` character.\n",
    "* An improved technique uses the `.format()` string method.\n",
    "* The newest method, introduced with Python 3.6, uses formatted string literals, called *f-strings*.\n",
    "\n",
    "Since you will likely encounter all three versions in someone else's code, we describe each of them here."
   ]
  },
  {
   "cell_type": "code",
   "execution_count": 92,
   "id": "3a2dffa7",
   "metadata": {},
   "outputs": [],
   "source": [
    "player = 'Thomas'\n",
    "points = 33"
   ]
  },
  {
   "cell_type": "code",
   "execution_count": 93,
   "id": "d9831ba2",
   "metadata": {},
   "outputs": [
    {
     "name": "stdout",
     "output_type": "stream",
     "text": [
      "Last night, Thomas scored 33 points.\n",
      "Last night, Thomas scored 33 points.\n"
     ]
    }
   ],
   "source": [
    "print('Last night, ' + player + ' scored ' + str(points) + ' points.')  # concatenation\n",
    "print(f'Last night, {player} scored {points} points.')  # string formatting"
   ]
  },
  {
   "cell_type": "markdown",
   "id": "8ad2e312",
   "metadata": {},
   "source": [
    "## Formatting with placeholders (%) (%s, %r)\n",
    "You can use <code>%s</code> to inject strings into your print statements. The modulo `%` is referred to as a \"string formatting operator\".\n"
   ]
  },
  {
   "cell_type": "code",
   "execution_count": 94,
   "id": "27ee08ab",
   "metadata": {},
   "outputs": [
    {
     "name": "stdout",
     "output_type": "stream",
     "text": [
      "I'm going to inject something here.\n"
     ]
    }
   ],
   "source": [
    "print(\"I'm going to inject %s here.\" % 'something')"
   ]
  },
  {
   "cell_type": "code",
   "execution_count": 95,
   "id": "c14545e2",
   "metadata": {},
   "outputs": [
    {
     "name": "stdout",
     "output_type": "stream",
     "text": [
      "I'm going to inject something here.\n"
     ]
    }
   ],
   "source": [
    "print(\"I'm going to inject %s here.\" % ('something'))"
   ]
  },
  {
   "cell_type": "markdown",
   "id": "98aca6d4",
   "metadata": {},
   "source": [
    "You can pass multiple items by placing them inside a tuple after the `%` operator."
   ]
  },
  {
   "cell_type": "code",
   "execution_count": 96,
   "id": "a7eb2e6b",
   "metadata": {},
   "outputs": [
    {
     "name": "stdout",
     "output_type": "stream",
     "text": [
      "I'm going to inject some text here, and more text here.\n"
     ]
    }
   ],
   "source": [
    "print(\"I'm going to inject %s text here, and %s text here.\" %('some','more'))"
   ]
  },
  {
   "cell_type": "markdown",
   "id": "b0e04e42",
   "metadata": {},
   "source": [
    "You can also pass variable names:"
   ]
  },
  {
   "cell_type": "code",
   "execution_count": 97,
   "id": "0dcc762c",
   "metadata": {},
   "outputs": [
    {
     "name": "stdout",
     "output_type": "stream",
     "text": [
      "I'm going to inject some text here, and more text here.\n"
     ]
    }
   ],
   "source": [
    "x, y = 'some', 'more'\n",
    "print(\"I'm going to inject %s text here, and %s text here.\"%(x,y))"
   ]
  },
  {
   "cell_type": "markdown",
   "id": "070dc816",
   "metadata": {},
   "source": [
    "### Format conversion methods.\n",
    "It should be noted that two methods <code>%s</code> and <code>%r</code> convert any python object to a string using two separate methods: `str()` and `repr()`. We will learn more about these functions later on in the course, but you should note that `%r` and `repr()` deliver the *string representation* of the object, including quotation marks and any escape characters."
   ]
  },
  {
   "cell_type": "code",
   "execution_count": 98,
   "id": "66ba9214",
   "metadata": {},
   "outputs": [
    {
     "name": "stdout",
     "output_type": "stream",
     "text": [
      "He said his name was Fred.\n",
      "He said his name was 'Fred'.\n"
     ]
    }
   ],
   "source": [
    "print('He said his name was %s.' %'Fred')\n",
    "print('He said his name was %r.' %'Fred')"
   ]
  },
  {
   "cell_type": "markdown",
   "id": "ce1f4624",
   "metadata": {},
   "source": [
    "As another example, `\\t` inserts a tab into a string."
   ]
  },
  {
   "cell_type": "code",
   "execution_count": 99,
   "id": "05f9117c",
   "metadata": {},
   "outputs": [
    {
     "name": "stdout",
     "output_type": "stream",
     "text": [
      "I once caught a fish this \tbig.\n",
      "I once caught a fish 'this \\tbig'.\n"
     ]
    }
   ],
   "source": [
    "print('I once caught a fish %s.' %'this \\tbig')\n",
    "print('I once caught a fish %r.' %'this \\tbig')"
   ]
  },
  {
   "cell_type": "markdown",
   "id": "00677465",
   "metadata": {},
   "source": [
    "HERE;\n",
    "\n",
    "`%r` take eveyting as string hence it displayed  %'this \\tbig' as  'this \\tbig'\n",
    "\n",
    "where as \n",
    "`%s` take  'this \\tbig' and  apply the escape char also.\n",
    "\n"
   ]
  },
  {
   "cell_type": "markdown",
   "id": "46cfd677",
   "metadata": {},
   "source": [
    "The `%s` operator converts whatever it sees into a string, including integers and floats. \n",
    "\n",
    "The `%d` operator converts numbers to integers first, without rounding. \n",
    "\n",
    "Note the difference below:"
   ]
  },
  {
   "cell_type": "code",
   "execution_count": 100,
   "id": "a44859ff",
   "metadata": {},
   "outputs": [
    {
     "name": "stdout",
     "output_type": "stream",
     "text": [
      "I wrote 3.75 programs today.\n",
      "I wrote 3 programs today.\n"
     ]
    }
   ],
   "source": [
    "print('I wrote %s programs today.' %3.75)\n",
    "print('I wrote %d programs today.' %3.75)   "
   ]
  },
  {
   "cell_type": "markdown",
   "id": "33f19b85",
   "metadata": {},
   "source": [
    "### repr()\n",
    "\n",
    "https://www.programiz.com/python-programming/methods/built-in/repr\n",
    "\n",
    "lets Learn about the Python repr() function with the help of examples.\n",
    "\n",
    "The repr() function returns a printable representation of the given object.\n",
    "\n",
    "means it will return a string and  whatever you pased in repr() will be considered as String type (i.e. str)\n",
    "\n",
    " syntax of repr() is: \n",
    " \n",
    "repr(obj)\n",
    "\n",
    "Parameters\n",
    "\n",
    "The repr() function takes a single parameter:\n",
    "\n",
    "obj - the object whose printable representation has to be returned\n",
    "\n",
    "repr() Return Value <br>\n",
    "The repr() function returns a printable representational string of the given object.\n"
   ]
  },
  {
   "cell_type": "code",
   "execution_count": 101,
   "id": "44a3ae2b",
   "metadata": {},
   "outputs": [
    {
     "name": "stdout",
     "output_type": "stream",
     "text": [
      "[1, 2, 3, 4, 5]\n",
      "<class 'str'>\n"
     ]
    }
   ],
   "source": [
    "numbers = [1, 2, 3, 4, 5]\n",
    "\n",
    "# create a printable representation of the list. \n",
    "printable_numbers = repr(numbers)\n",
    "print(printable_numbers)\n",
    "print(type(printable_numbers))"
   ]
  },
  {
   "cell_type": "code",
   "execution_count": 102,
   "id": "9e435eb8",
   "metadata": {},
   "outputs": [
    {
     "data": {
      "text/plain": [
       "[1, 2, 3, 4, 5]"
      ]
     },
     "execution_count": 102,
     "metadata": {},
     "output_type": "execute_result"
    }
   ],
   "source": [
    "numbers = [1, 2, 3, 4, 5]\n",
    "numbers"
   ]
  },
  {
   "cell_type": "code",
   "execution_count": 103,
   "id": "2d85426b",
   "metadata": {},
   "outputs": [
    {
     "data": {
      "text/plain": [
       "list"
      ]
     },
     "execution_count": 103,
     "metadata": {},
     "output_type": "execute_result"
    }
   ],
   "source": [
    "type(numbers)"
   ]
  },
  {
   "cell_type": "code",
   "execution_count": 104,
   "id": "0894a998",
   "metadata": {},
   "outputs": [
    {
     "data": {
      "text/plain": [
       "'[1, 2, 3, 4, 5]'"
      ]
     },
     "execution_count": 104,
     "metadata": {},
     "output_type": "execute_result"
    }
   ],
   "source": [
    "printable_numbers"
   ]
  },
  {
   "cell_type": "code",
   "execution_count": 105,
   "id": "0c9264a1",
   "metadata": {},
   "outputs": [
    {
     "data": {
      "text/plain": [
       "str"
      ]
     },
     "execution_count": 105,
     "metadata": {},
     "output_type": "execute_result"
    }
   ],
   "source": [
    "type(printable_numbers)"
   ]
  },
  {
   "cell_type": "markdown",
   "id": "234717bb",
   "metadata": {},
   "source": [
    "__How repr() works in Python?__"
   ]
  },
  {
   "cell_type": "code",
   "execution_count": 106,
   "id": "082492f4",
   "metadata": {},
   "outputs": [
    {
     "data": {
      "text/plain": [
       "\"'foo'\""
      ]
     },
     "execution_count": 106,
     "metadata": {},
     "output_type": "execute_result"
    }
   ],
   "source": [
    "var = 'foo'\n",
    "repr(var)"
   ]
  },
  {
   "cell_type": "markdown",
   "id": "2d448d2c",
   "metadata": {},
   "source": [
    "Here, we assign a value 'foo' to var. Then, the repr() function returns \"'foo'\" which is 'foo' inside double-quotes. \n",
    "\n",
    "point to understand here is actaul value is not only `foo` but `'foo'`  --> that's the repr() does"
   ]
  },
  {
   "cell_type": "markdown",
   "id": "8a8adf97",
   "metadata": {},
   "source": [
    "### str() \n",
    "\n",
    "Convert the number 3.5 into an string\n",
    "\n",
    "Definition and Usage\n",
    "\n",
    "The str() function converts the specified value into a string.\n",
    "\n",
    "Syntax\n",
    "\n",
    "str(object, encoding=encoding, errors=errors)\n",
    "\n",
    "str(object, encoding='utf-8', errors='strict')\n",
    "\n",
    "Parameter Values\n",
    "\n",
    "Parameter\tDescription\n",
    "\n",
    "object - The object whose string representation is to be returned. If not provided, returns the empty string\n",
    "        Any object. Specifies the object to convert into a string\n",
    "\n",
    "encoding - Encoding of the given object. Defaults of UTF-8 when not provided.\n",
    "\n",
    "errors - Specifies what to do if the decoding fails,\n",
    "          Response when decoding fails. Defaults to 'strict'.\n",
    "\n",
    "\n",
    "There are six types of errors:\n",
    "\n",
    "* strict - default response which raises a UnicodeDecodeError exception on failure\n",
    "* ignore - ignores the unencodable Unicode from the result\n",
    "* replace - replaces the unencodable Unicode to a question mark\n",
    "* xmlcharrefreplace - inserts XML character reference instead of unencodable Unicode\n",
    "* backslashreplace - inserts a \\uNNNN espace sequence instead of unencodable Unicode\n",
    "* namereplace - inserts a \\N{...} escape sequence instead of unencodable Unicode\n",
    "\n",
    "\n",
    "_Return value from str()_\n",
    "\n",
    "The str() method returns a string, which is considered an informal or nicely printable representation of the given object.\n",
    " \n",
    "  \n",
    "   "
   ]
  },
  {
   "cell_type": "code",
   "execution_count": 107,
   "id": "4fc44c6f",
   "metadata": {},
   "outputs": [
    {
     "data": {
      "text/plain": [
       "12"
      ]
     },
     "execution_count": 107,
     "metadata": {},
     "output_type": "execute_result"
    }
   ],
   "source": [
    "# Convert a string into an integer\n",
    "x = int(\"12\")\n",
    "x"
   ]
  },
  {
   "cell_type": "code",
   "execution_count": 108,
   "id": "3d650d24",
   "metadata": {},
   "outputs": [
    {
     "data": {
      "text/plain": [
       "'12'"
      ]
     },
     "execution_count": 108,
     "metadata": {},
     "output_type": "execute_result"
    }
   ],
   "source": [
    "# Convert an integer into string\n",
    "x = str(12)\n",
    "x"
   ]
  },
  {
   "cell_type": "markdown",
   "id": "801661a5",
   "metadata": {},
   "source": [
    "__Convert to String__\n",
    "\n",
    "If encoding and errors parameter isn't provided, str() internally calls the `__str__()` method of an object.\n",
    "\n",
    "If it cannot find the `__str__()` method, it instead calls `repr(obj)`"
   ]
  },
  {
   "cell_type": "code",
   "execution_count": 109,
   "id": "e17f0d2a",
   "metadata": {},
   "outputs": [
    {
     "data": {
      "text/plain": [
       "'10'"
      ]
     },
     "execution_count": 109,
     "metadata": {},
     "output_type": "execute_result"
    }
   ],
   "source": [
    "result = str(10)\n",
    "result"
   ]
  },
  {
   "cell_type": "markdown",
   "id": "c576dd53",
   "metadata": {},
   "source": [
    "Try these commands on the Python console."
   ]
  },
  {
   "cell_type": "code",
   "execution_count": 110,
   "id": "b3378080",
   "metadata": {},
   "outputs": [
    {
     "data": {
      "text/plain": [
       "'Adam'"
      ]
     },
     "execution_count": 110,
     "metadata": {},
     "output_type": "execute_result"
    }
   ],
   "source": [
    "str('Adam')"
   ]
  },
  {
   "cell_type": "code",
   "execution_count": 111,
   "id": "edfd2fac",
   "metadata": {},
   "outputs": [
    {
     "data": {
      "text/plain": [
       "\"b'Python!'\""
      ]
     },
     "execution_count": 111,
     "metadata": {},
     "output_type": "execute_result"
    }
   ],
   "source": [
    "str(b'Python!')"
   ]
  },
  {
   "cell_type": "markdown",
   "id": "280c9ff7",
   "metadata": {},
   "source": [
    "### Padding and Precision of Floating Point Numbers\n",
    "Floating point numbers use the format <code>%5.2f</code>. Here, <code>5</code> would be the minimum number of characters the string should contain; these may be padded with whitespace if the entire number does not have this many digits. Next to this, <code>.2f</code> stands for how many numbers to show past the decimal point. Let's see some examples:\n",
    "\n",
    "Floating-point numbers use the format %a.bf. Here, a would be the minimum number of digits to be present in the string; these might be padded with white space if the whole number doesn’t have this many digits. Close to this, bf represents how many digits are to be displayed after the decimal point. \n",
    "\n",
    "\n",
    "‘%s’ is used to inject strings similarly \n",
    "\n",
    "‘%d’ for integers, \n",
    "\n",
    "‘%f’ for floating-point values, \n",
    "\n",
    "‘%b’ for binary format. \n",
    "\n",
    "For all formats, conversion methods visit the official documentation."
   ]
  },
  {
   "cell_type": "markdown",
   "id": "daf8b1c5",
   "metadata": {},
   "source": [
    "`NOTE : here in %5.2f 5 is minimum length of result inclusing \".\" not the maximum\n",
    "        here in %10.2f 10 is minimum length of result inclusing \".\"not the maximum `"
   ]
  },
  {
   "cell_type": "code",
   "execution_count": 112,
   "id": "46d1d2ad",
   "metadata": {},
   "outputs": [
    {
     "name": "stdout",
     "output_type": "stream",
     "text": [
      "Integer numbers with placeholder:#3\n"
     ]
    }
   ],
   "source": [
    "print('Integer numbers with placeholder:#%d' %3.75) "
   ]
  },
  {
   "cell_type": "code",
   "execution_count": 113,
   "id": "86c689b2",
   "metadata": {},
   "outputs": [
    {
     "name": "stdout",
     "output_type": "stream",
     "text": [
      "Floating point numbers with placeholder:#13.14\n"
     ]
    }
   ],
   "source": [
    "print('Floating point numbers with placeholder:#%5.2f' %(13.144))\n",
    "# %5.2f  ==> entire string will be minimum 5 char including \".\"\n",
    "# (i.e. maximum could be anyting as per number given )\n",
    "# and after deciaml point 2 number will be shows from input \n",
    "# here like . is at . and mone\n",
    "# after \".\" 14 as .2f mentioned ..so its .14 (3 char) out of 5 2 char are remaing so \n",
    "# 13.14 "
   ]
  },
  {
   "cell_type": "code",
   "execution_count": 114,
   "id": "924b499c",
   "metadata": {},
   "outputs": [
    {
     "name": "stdout",
     "output_type": "stream",
     "text": [
      "Floating point numbers with placeholder:#     13.14\n"
     ]
    }
   ],
   "source": [
    "print('Floating point numbers with placeholder:#%10.2f' %(13.144))\n",
    "# %10.2f  ==> entire string will be minimum 10 char (i.e. maximum could be anyting as per number given )\n",
    "# and after deciaml point 2 number will be shows from input \n",
    "# here like \".\" is alined with \",\"  and \n",
    "# after \".\" 14 as .2f mentioned ..so its .14 (3 char) out of 10-3 = 7 char are remaing so 7 spaces will be padded \n",
    "# SSSSSSS13.14  (here S = space)"
   ]
  },
  {
   "cell_type": "code",
   "execution_count": 115,
   "id": "c580cea2",
   "metadata": {},
   "outputs": [
    {
     "name": "stdout",
     "output_type": "stream",
     "text": [
      "Floating point numbers with placeholder:#13\n"
     ]
    }
   ],
   "source": [
    "print('Floating point numbers with placeholder:#%1.0f' %(13.144))"
   ]
  },
  {
   "cell_type": "code",
   "execution_count": 116,
   "id": "0a1468bd",
   "metadata": {},
   "outputs": [
    {
     "name": "stdout",
     "output_type": "stream",
     "text": [
      "Floating point numbers with placeholder:#13.144000\n"
     ]
    }
   ],
   "source": [
    "print('Floating point numbers with placeholder:#%f' %(13.144))"
   ]
  },
  {
   "cell_type": "code",
   "execution_count": 117,
   "id": "3b5ccc49",
   "metadata": {},
   "outputs": [
    {
     "name": "stdout",
     "output_type": "stream",
     "text": [
      "Floating point numbers with placeholder:# 13.14400\n"
     ]
    }
   ],
   "source": [
    "print('Floating point numbers with placeholder:#%9.5f' %(13.144))"
   ]
  },
  {
   "cell_type": "code",
   "execution_count": 118,
   "id": "ee3413ea",
   "metadata": {},
   "outputs": [
    {
     "name": "stdout",
     "output_type": "stream",
     "text": [
      "Floating point numbers with placeholder:#13.14400\n"
     ]
    }
   ],
   "source": [
    "print('Floating point numbers with placeholder:#%1.5F' % (13.144))"
   ]
  },
  {
   "cell_type": "code",
   "execution_count": 119,
   "id": "957fe77b",
   "metadata": {},
   "outputs": [
    {
     "name": "stdout",
     "output_type": "stream",
     "text": [
      "Floating point numbers with placeholder:#                    13.14\n"
     ]
    }
   ],
   "source": [
    "print('Floating point numbers with placeholder:#%25.2f' %(13.144))"
   ]
  },
  {
   "cell_type": "code",
   "execution_count": 120,
   "id": "7f881fad",
   "metadata": {},
   "outputs": [
    {
     "name": "stdout",
     "output_type": "stream",
     "text": [
      "Floating point numbers with placeholder:1#13\n",
      "Floating point numbers with placeholder:2#13.15\n",
      "Floating point numbers with placeholder:3#13.14400\n",
      "Floating point numbers with placeholder:4#     13.14\n",
      "Floating point numbers with placeholder:5#     13.15\n",
      "Floating point numbers with placeholder:6#     13.58\n",
      "Floating point numbers with placeholder:7#13.58\n",
      "20 white space Padded before#with placeholder#Floating point number:8#                    13.14\n"
     ]
    }
   ],
   "source": [
    "# minimum char will be 1 and after . zero digit hence only 13 will be result \n",
    "print(\"Floating point numbers with placeholder:1#%1.0f\" % 13.144)\n",
    "\n",
    "print(\"Floating point numbers with placeholder:2#%5.2f\" % 13.149) # here its does rouding of 14 to 15 self \n",
    "\n",
    "print(\"Floating point numbers with placeholder:3#%1.5f\" % 13.144)\n",
    "# 13.14 and 5 spaces will be there \n",
    "print(\"Floating point numbers with placeholder:4#%10.2f\" % 13.144) \n",
    "\n",
    "# 13.15 and 5 spaces will be there \n",
    "print(\"Floating point numbers with placeholder:5#%10.2f\" % 13.149) \n",
    "\n",
    "# 13.57 and 5 spaces will be there \n",
    "print(\"Floating point numbers with placeholder:6#%10.2f\" % 13.579) \n",
    "\n",
    "# No minium char so it take all. but after \".\" only 2 digit will be there \n",
    "# and in this case its getting round off so .57 will be .58 \n",
    "print(\"Floating point numbers with placeholder:7#%.2f\" % 13.579) \n",
    "\n",
    "print(\"20 white space Padded before\", \"with placeholder\", \"Floating point number:8#%25.2f\" %13.144, sep=\"#\")\n"
   ]
  },
  {
   "cell_type": "code",
   "execution_count": 121,
   "id": "93bd4c25",
   "metadata": {},
   "outputs": [
    {
     "name": "stdout",
     "output_type": "stream",
     "text": [
      "Variable as integer = 12 \n",
      "Variable as float = 12.000000\n"
     ]
    }
   ],
   "source": [
    "variable = 12\n",
    "\n",
    "string = \"Variable as integer = %d \\n\\\n",
    "Variable as float = %f\" %(variable, variable)\n",
    "\n",
    "print (string)\n"
   ]
  },
  {
   "cell_type": "code",
   "execution_count": 122,
   "id": "d84e0603",
   "metadata": {},
   "outputs": [
    {
     "ename": "ValueError",
     "evalue": "unsupported format character 'b' (0x62) at index 16",
     "output_type": "error",
     "traceback": [
      "\u001b[1;31m---------------------------------------------------------------------------\u001b[0m",
      "\u001b[1;31mValueError\u001b[0m                                Traceback (most recent call last)",
      "\u001b[1;32m<ipython-input-122-6e28b3d74764>\u001b[0m in \u001b[0;36m<module>\u001b[1;34m\u001b[0m\n\u001b[1;32m----> 1\u001b[1;33m \u001b[0mprint\u001b[0m\u001b[1;33m(\u001b[0m\u001b[1;34m\"binary of 5 is %b\"\u001b[0m \u001b[1;33m%\u001b[0m \u001b[1;36m5\u001b[0m\u001b[1;33m)\u001b[0m\u001b[1;33m\u001b[0m\u001b[1;33m\u001b[0m\u001b[0m\n\u001b[0m",
      "\u001b[1;31mValueError\u001b[0m: unsupported format character 'b' (0x62) at index 16"
     ]
    }
   ],
   "source": [
    "print(\"binary of 5 is %b\" % 5)"
   ]
  },
  {
   "cell_type": "markdown",
   "id": "bef1e671",
   "metadata": {},
   "source": [
    "For more information on string formatting with placeholders visit https://docs.python.org/3/library/stdtypes.html#old-string-formatting"
   ]
  },
  {
   "cell_type": "markdown",
   "id": "3c7d6887",
   "metadata": {},
   "source": [
    "### Multiple Formatting with placeholders (%)\n",
    "Nothing prohibits using more than one conversion tool in the same print statement:"
   ]
  },
  {
   "cell_type": "code",
   "execution_count": 123,
   "id": "93a79418",
   "metadata": {},
   "outputs": [
    {
     "name": "stdout",
     "output_type": "stream",
     "text": [
      "First: hi!, Second:# 3.14, Third: 'bye!'\n"
     ]
    }
   ],
   "source": [
    "print('First: %s, Second:#%5.2f, Third: %r' % ('hi!', 3.1415, 'bye!'))"
   ]
  },
  {
   "cell_type": "markdown",
   "id": "9fb79b4e",
   "metadata": {},
   "source": [
    "## Formatting with the `.format()` method\n",
    "A better way to format objects into your strings for print statements is with the string `.format()` method. The syntax is:\n",
    "\n",
    "    'String here {} then also {}'.format('something1','something2')\n",
    "    \n",
    "For example:"
   ]
  },
  {
   "cell_type": "code",
   "execution_count": 124,
   "id": "282a8c1f",
   "metadata": {},
   "outputs": [
    {
     "name": "stdout",
     "output_type": "stream",
     "text": [
      "This is a string with an insert\n"
     ]
    }
   ],
   "source": [
    "print('This is a string with an {}'.format('insert'))"
   ]
  },
  {
   "cell_type": "code",
   "execution_count": 125,
   "id": "8a7c1f46",
   "metadata": {},
   "outputs": [
    {
     "data": {
      "text/plain": [
       "'String here something1 then also something2'"
      ]
     },
     "execution_count": 125,
     "metadata": {},
     "output_type": "execute_result"
    }
   ],
   "source": [
    "'String here {} then also {}'.format('something1','something2')"
   ]
  },
  {
   "cell_type": "code",
   "execution_count": 126,
   "id": "2ff3d48b",
   "metadata": {},
   "outputs": [
    {
     "name": "stdout",
     "output_type": "stream",
     "text": [
      "I'm going to inject some text here, and more text here.\n"
     ]
    }
   ],
   "source": [
    "print(\"I'm going to inject %s text here, and %s text here.\" %('some','more'))"
   ]
  },
  {
   "cell_type": "code",
   "execution_count": 127,
   "id": "f6926384",
   "metadata": {},
   "outputs": [
    {
     "name": "stdout",
     "output_type": "stream",
     "text": [
      "I'm going to inject some text here, and more text here.\n"
     ]
    }
   ],
   "source": [
    "print(\"I'm going to inject {} text here, and {} text here.\".format('some', 'more'))"
   ]
  },
  {
   "cell_type": "code",
   "execution_count": null,
   "id": "1af6c691",
   "metadata": {},
   "outputs": [],
   "source": []
  },
  {
   "cell_type": "markdown",
   "id": "2a0df99c",
   "metadata": {},
   "source": [
    "### String Formatting using  format()\n",
    "To make sure a string will display as expected, we can format the result with the format() method.\n",
    "\n",
    "The format() method allows you to format selected parts of a string.\n",
    "\n",
    "Sometimes there are parts of a text that you do not control, maybe they come from a database, or user input?\n",
    "\n",
    "To control such values, add placeholders (curly brackets {}) in the text, and run the values through the format() method:"
   ]
  },
  {
   "cell_type": "code",
   "execution_count": 128,
   "id": "a180d1b6",
   "metadata": {},
   "outputs": [
    {
     "name": "stdout",
     "output_type": "stream",
     "text": [
      "The price is 49 dollars\n"
     ]
    }
   ],
   "source": [
    "price = 49\n",
    "txt = \"The price is {} dollars\"\n",
    "print(txt.format(price))"
   ]
  },
  {
   "cell_type": "markdown",
   "id": "1593b0de",
   "metadata": {},
   "source": [
    "You can add parameters inside the curly brackets to specify how to convert the value"
   ]
  },
  {
   "cell_type": "code",
   "execution_count": 129,
   "id": "92d55e6a",
   "metadata": {},
   "outputs": [
    {
     "name": "stdout",
     "output_type": "stream",
     "text": [
      "The price is 49.00 dollars\n"
     ]
    }
   ],
   "source": [
    "# Format the price to be displayed as a number with two decimals:\n",
    "\n",
    "price = 49\n",
    "txt = \"The price is {:.2f} dollars\"\n",
    "print(txt.format(price))\n"
   ]
  },
  {
   "cell_type": "markdown",
   "id": "f42157a8",
   "metadata": {},
   "source": [
    "__Multiple Values__\n",
    "\n",
    "If you want to use more values, just add more values to the format() method:\n",
    "\n",
    "print(txt.format(price, itemno, count))  And add more placeholders:"
   ]
  },
  {
   "cell_type": "code",
   "execution_count": 130,
   "id": "b7c4644d",
   "metadata": {},
   "outputs": [
    {
     "name": "stdout",
     "output_type": "stream",
     "text": [
      "I want 3 pieces of item number 567 for 49.00 dollars.\n"
     ]
    }
   ],
   "source": [
    "quantity = 3\n",
    "itemno = 567\n",
    "price = 49\n",
    "myorder = \"I want {} pieces of item number {} for {:.2f} dollars.\"\n",
    "print(myorder.format(quantity, itemno, price))\n"
   ]
  },
  {
   "cell_type": "markdown",
   "id": "96d34d1e",
   "metadata": {},
   "source": [
    "__Index Numbers__\n",
    "\n",
    "You can use index numbers (a number inside the curly brackets {0}) to be sure the values are placed in the correct placeholders:"
   ]
  },
  {
   "cell_type": "code",
   "execution_count": 131,
   "id": "0c390e98",
   "metadata": {},
   "outputs": [
    {
     "name": "stdout",
     "output_type": "stream",
     "text": [
      "I want 3 pieces of item number 567 for 49.00 dollars.\n"
     ]
    }
   ],
   "source": [
    "quantity = 3\n",
    "itemno = 567\n",
    "price = 49\n",
    "myorder = \"I want {0} pieces of item number {1} for {2:.2f} dollars.\"\n",
    "print(myorder.format(quantity, itemno, price))"
   ]
  },
  {
   "cell_type": "markdown",
   "id": "2ed64c33",
   "metadata": {},
   "source": [
    "Also, if you want to refer to the same value more than once, use the index number:"
   ]
  },
  {
   "cell_type": "code",
   "execution_count": 132,
   "id": "c28861f4",
   "metadata": {},
   "outputs": [
    {
     "name": "stdout",
     "output_type": "stream",
     "text": [
      "His name is John. John is 36 years old.\n"
     ]
    }
   ],
   "source": [
    "age = 36\n",
    "name = \"John\"\n",
    "txt = \"His name is {1}. {1} is {0} years old.\"\n",
    "print(txt.format(age, name))"
   ]
  },
  {
   "cell_type": "markdown",
   "id": "a2b701b7",
   "metadata": {},
   "source": [
    "__Named Indexes__\n",
    "\n",
    "You can also use named indexes by entering a name inside the curly brackets {carname}, but then you must use names when you pass the parameter values txt.format(carname = \"Ford\"):"
   ]
  },
  {
   "cell_type": "code",
   "execution_count": 133,
   "id": "1615c8a5",
   "metadata": {},
   "outputs": [
    {
     "name": "stdout",
     "output_type": "stream",
     "text": [
      "I have a Ford, it is a Mustang.\n"
     ]
    }
   ],
   "source": [
    "myorder = \"I have a {carname}, it is a {model}.\"\n",
    "print(myorder.format(carname=\"Ford\", model=\"Mustang\"))"
   ]
  },
  {
   "cell_type": "markdown",
   "id": "a95283c9",
   "metadata": {},
   "source": [
    "__Definition and Usage__\n",
    "\n",
    "The format() method formats the specified value(s) and insert them inside the string's placeholder.\n",
    "\n",
    "The placeholder is defined using curly brackets: {}. Read more about the placeholders in the Placeholder section below.\n",
    "\n",
    "The format() method returns the formatted string.\n",
    "\n",
    "\n",
    "Syntax\n",
    "\n",
    "string.format(value1, value2...)\n",
    "\n",
    "Parameter Values\n",
    "\n",
    "Parameter\tDescription\n",
    "\n",
    "value1, value2...\tRequired. One or more values that should be formatted and inserted in the string.\n",
    "\n",
    "The values are either a list of values separated by commas, a key=value list, or a combination of both.\n",
    "\n",
    "The values can be of any data type.\n"
   ]
  },
  {
   "cell_type": "markdown",
   "id": "aee327ea",
   "metadata": {},
   "source": [
    "__The Placeholders__\n",
    "The placeholders can be identified using named indexes {price}, numbered indexes {0}, or even empty placeholders {}.\n",
    "\n",
    "\n",
    "Formatting Types\n",
    "Inside the placeholders you can add a formatting type to format the result:\n",
    "\n",
    ":<\t\tLeft aligns the result (within the available space)\n",
    "\n",
    ":>\t\tRight aligns the result (within the available space)\n",
    "\n",
    ":^\t\tCenter aligns the result (within the available space)\n",
    "\n",
    ":=\t\tPlaces the sign to the left most position\n",
    "\n",
    ":+\t\tUse a plus sign to indicate if the result is positive or negative\n",
    "\n",
    ":-\t\tUse a minus sign for negative values only\n",
    "\n",
    ": \t\tUse a space to insert an extra space before positive numbers (and a minus sign before negative numbers)\n",
    "\n",
    ":,\t\tUse a comma as a thousand separator\n",
    "\n",
    ":_\t\tUse a underscore as a thousand separator\n",
    "\n",
    ":b\t\tBinary format\n",
    "\n",
    ":c\t\tConverts the value into the corresponding unicode character\n",
    "\n",
    ":d\t\tDecimal format\n",
    "\n",
    ":e\t\tScientific format, with a lower case e\n",
    "\n",
    ":E\t\tScientific format, with an upper case E\n",
    "\n",
    ":f\t\tFix point number format\n",
    "\n",
    ":F\t\tFix point number format, in uppercase format (show inf and nan as INF and NAN)\n",
    "\n",
    ":g\t\tGeneral format\n",
    "\n",
    ":G\t\tGeneral format (using a upper case E for scientific notations)\n",
    "\n",
    ":o\t\tOctal format\n",
    "\n",
    ":x\t\tHex format, lower case\n",
    "\n",
    ":X\t\tHex format, upper case\n",
    "\n",
    ":n\t\tNumber format\n",
    "\n",
    ":%\t\tPercentage format\n",
    "\n",
    "\n"
   ]
  },
  {
   "cell_type": "code",
   "execution_count": null,
   "id": "693a830c",
   "metadata": {},
   "outputs": [],
   "source": []
  },
  {
   "cell_type": "code",
   "execution_count": 134,
   "id": "2816928d",
   "metadata": {},
   "outputs": [
    {
     "name": "stdout",
     "output_type": "stream",
     "text": [
      "We have 49       chickens.\n",
      "We have       49 chickens.\n",
      "We have    49    chickens.\n",
      "The temperature is -      5 degrees celsius.\n",
      "The temperature is between -3 and +7 degrees celsius.\n",
      "The temperature is between -3 and 7 degrees celsius.\n",
      "The temperature is between-3and 7degrees celsius.\n",
      "The universe is 13,800,000,000 years old.\n",
      "The universe is 13_800_000_000 years old.\n",
      "The binary version of 5 is 101\n",
      "unicode character for number 256 is Ā \n",
      "We have 5 chickens.\n",
      "We have 5.000000e+00 chickens.\n",
      "We have 5.000000E+00 chickens.\n",
      "The octal version of 255 is 377\n",
      "The Hexadecimal version of 255 is ff\n",
      "The Hexadecimal version of 255 is FF\n"
     ]
    }
   ],
   "source": [
    "# To demonstrate, we insert the number 8 to set the available space for the value to 8 characters.\n",
    "# Use \"<\" to left-align the value:\n",
    "txt = \"We have {:<8} chickens.\"\n",
    "print(txt.format(49))\n",
    "\n",
    "# Use \">\" to right-align the value:\n",
    "txt = \"We have {:>8} chickens.\"\n",
    "print(txt.format(49))\n",
    "\n",
    "# Use \"^\" to center-align the value:\n",
    "\n",
    "txt = \"We have {:^8} chickens.\"\n",
    "print(txt.format(49))\n",
    "\n",
    "# Use \"=\" to place the plus/minus sign at the left most position:\n",
    "txt = \"The temperature is {:=8} degrees celsius.\"\n",
    "print(txt.format(-5))\n",
    "\n",
    "# Use \"+\" to always indicate if the number is positive or negative:\n",
    "txt = \"The temperature is between {:+} and {:+} degrees celsius.\"\n",
    "print(txt.format(-3, 7))\n",
    "\n",
    "# Use \"-\" to always indicate if the number is negative (positive numbers are displayed without any sign):\n",
    "txt = \"The temperature is between {:-} and {:-} degrees celsius.\"\n",
    "print(txt.format(-3, 7))\n",
    "\n",
    "# Use \" \" (a space) to;\n",
    "# insert a space before positive numbers and\n",
    "# insert a minus sign before negative numbers:\n",
    "txt = \"The temperature is between{: }and{: }degrees celsius.\"\n",
    "print(txt.format(-3, 7))\n",
    "\n",
    "\n",
    "# Use \",\" to add a comma as a thousand separator:\n",
    "txt = \"The universe is {:,} years old.\"\n",
    "print(txt.format(13800000000))\n",
    "\n",
    "#Use \"_\" to add a underscore character as a thousand separator:\n",
    "txt = \"The universe is {:_} years old.\"\n",
    "print(txt.format(13800000000))\n",
    "\n",
    "#Use \"b\" to convert the number into binary format:\n",
    "txt = \"The binary version of {0} is {0:b}\"\n",
    "print(txt.format(5))\n",
    "\n",
    "\n",
    "# :c\t\tConverts the value into the corresponding unicode character\n",
    "txt = \"unicode character for number {0} is {0:c} \"\n",
    "print(txt.format(256))\n",
    "\n",
    "#Use \"d\" to convert a number, in this case a binary number, into decimal number format:\n",
    "txt = \"We have {:d} chickens.\"\n",
    "print(txt.format(0b101))\n",
    "\n",
    "#Use \"e\" to convert a number into scientific number format (with a lower-case e here e = 10.0^1):\n",
    "txt = \"We have {:e} chickens.\"\n",
    "print(txt.format(5))\n",
    "\n",
    "#Use \"E\" to convert a number into scientific number format (with an upper-case E):\n",
    "txt = \"We have {:E} chickens.\"\n",
    "print(txt.format(5))\n",
    "\n",
    "#Use \"o\" to convert the number into octal format:\n",
    "txt = \"The octal version of {0} is {0:o}\"\n",
    "print(txt.format(255))\n",
    "\n",
    "#Use \"x\" to convert the number into Hex format:\n",
    "txt = \"The Hexadecimal version of {0} is {0:x}\"\n",
    "print(txt.format(255))\n",
    "\n",
    "#Use \"X\" to convert the number into Hex format:\n",
    "txt = \"The Hexadecimal version of {0} is {0:X}\"\n",
    "print(txt.format(255))\n",
    "\n",
    "\n"
   ]
  },
  {
   "cell_type": "code",
   "execution_count": 135,
   "id": "bac1b524",
   "metadata": {},
   "outputs": [
    {
     "name": "stdout",
     "output_type": "stream",
     "text": [
      "You scored 25.000000%\n",
      "You scored 25%\n",
      "You scored 25.600000%\n",
      "You scored 26%\n"
     ]
    }
   ],
   "source": [
    "# Use \"%\" to convert the number into a percentage format:\n",
    "txt = \"You scored {:%}\"\n",
    "print(txt.format(0.25))\n",
    "# Or, without any decimals:\n",
    "txt = \"You scored {:.0%}\"\n",
    "print(txt.format(0.25))\n",
    "\n",
    "\n",
    "txt = \"You scored {:%}\"\n",
    "print(txt.format(0.256))\n",
    "# Or, without any decimals:\n",
    "txt = \"You scored {:.0%}\"\n",
    "print(txt.format(0.256))\n"
   ]
  },
  {
   "cell_type": "code",
   "execution_count": 136,
   "id": "a8e1360d",
   "metadata": {},
   "outputs": [
    {
     "name": "stdout",
     "output_type": "stream",
     "text": [
      "The price is 45.00 dollars.\n",
      "The price is 45.000000 dollars.\n",
      "The price is INF dollars.\n",
      "The price is inf dollars.\n"
     ]
    }
   ],
   "source": [
    "# Use \"f\" to convert a number into a fixed point number, default with 6 decimals, \n",
    "# but use a period followed by a number to specify the number of decimals:\n",
    "txt = \"The price is {:.2f} dollars.\"\n",
    "print(txt.format(45))\n",
    "\n",
    "# without the \".2\" inside the placeholder, this number will be displayed like this:\n",
    "txt = \"The price is {:f} dollars.\"\n",
    "print(txt.format(45))\n",
    "\n",
    "#Use \"F\" to convert a number into a fixed point number, but display inf and nan as INF and NAN:\n",
    "x = float('inf')\n",
    "txt = \"The price is {:F} dollars.\"\n",
    "print(txt.format(x))\n",
    "\n",
    "#same example, but with a lower case f:\n",
    "txt = \"The price is {:f} dollars.\"\n",
    "print(txt.format(x))"
   ]
  },
  {
   "cell_type": "code",
   "execution_count": 137,
   "id": "418d9df1",
   "metadata": {},
   "outputs": [
    {
     "name": "stdout",
     "output_type": "stream",
     "text": [
      "inf\n",
      "<class 'float'>\n"
     ]
    }
   ],
   "source": [
    "x = float('inf')\n",
    "print(x)\n",
    "print(type(x))"
   ]
  },
  {
   "cell_type": "code",
   "execution_count": 138,
   "id": "f9f35b4f",
   "metadata": {
    "scrolled": true
   },
   "outputs": [
    {
     "name": "stdout",
     "output_type": "stream",
     "text": [
      "My name is John, I'm 36\n",
      "My name is John, I'm 36\n",
      "My name is John, I'm 36\n",
      "My name is John, I'm 36 lets play hocky\n"
     ]
    }
   ],
   "source": [
    "# Using different placeholder values:\n",
    "\n",
    "# named indexes:\n",
    "txt1 = \"My name is {fname}, I'm {age}\".format(fname=\"John\", age=36)\n",
    "print(txt1)\n",
    "\n",
    "# numbered indexes:\n",
    "txt2 = \"My name is {0}, I'm {1}\".format(\"John\", 36)\n",
    "print(txt2)\n",
    "\n",
    "# empty placeholders:\n",
    "txt3 = \"My name is {}, I'm {}\".format(\"John\", 36)\n",
    "print(txt3)\n",
    "\n",
    "# The values are either a list of values separated by commas, a key=value list, or a combination of both.\n",
    "txt4 = \"My name is {key}, I'm {} lets {}\".format(36, \"play hocky\", key=\"John\")\n",
    "print(txt4)"
   ]
  },
  {
   "cell_type": "code",
   "execution_count": 139,
   "id": "e73259ce",
   "metadata": {},
   "outputs": [
    {
     "name": "stdout",
     "output_type": "stream",
     "text": [
      "inf\n",
      "<class 'float'>\n"
     ]
    }
   ],
   "source": [
    "x = float('inf')\n",
    "print(x)\n",
    "print(type(x))"
   ]
  },
  {
   "cell_type": "markdown",
   "id": "56484973",
   "metadata": {},
   "source": [
    "### The .format() method has several advantages over the %s placeholder method:"
   ]
  },
  {
   "cell_type": "markdown",
   "id": "b569b020",
   "metadata": {},
   "source": [
    "#### 1. Inserted objects can be called by index position:"
   ]
  },
  {
   "cell_type": "code",
   "execution_count": 140,
   "id": "a961efea",
   "metadata": {},
   "outputs": [
    {
     "name": "stdout",
     "output_type": "stream",
     "text": [
      "The quick brown fox\n"
     ]
    }
   ],
   "source": [
    "print('The {2} {1} {0}'.format('fox', 'brown', 'quick'))"
   ]
  },
  {
   "cell_type": "markdown",
   "id": "a8d219bb",
   "metadata": {},
   "source": [
    "#### 2. Inserted objects can be assigned keywords:"
   ]
  },
  {
   "cell_type": "code",
   "execution_count": 141,
   "id": "02353c3f",
   "metadata": {},
   "outputs": [
    {
     "name": "stdout",
     "output_type": "stream",
     "text": [
      "First Object: 1, Second Object: Two, Third Object: 12.3\n"
     ]
    }
   ],
   "source": [
    "print('First Object: {a}, Second Object: {b}, Third Object: {c}'.format(a=1, b='Two', c=12.3))"
   ]
  },
  {
   "cell_type": "markdown",
   "id": "39f6531b",
   "metadata": {},
   "source": [
    "#### 3. Inserted objects can be reused, avoiding duplication:"
   ]
  },
  {
   "cell_type": "code",
   "execution_count": 142,
   "id": "14776491",
   "metadata": {},
   "outputs": [
    {
     "name": "stdout",
     "output_type": "stream",
     "text": [
      "A penny saved is a penny earned.\n",
      "A penny saved is a penny earned.\n"
     ]
    }
   ],
   "source": [
    "print('A %s saved is a %s earned.' %('penny','penny'))\n",
    "# vs.\n",
    "print('A {p} saved is a {p} earned.'.format(p='penny'))"
   ]
  },
  {
   "cell_type": "markdown",
   "id": "a102d5ef",
   "metadata": {},
   "source": [
    "### Alignment, padding and precision with `.format()`\n",
    "Within the curly braces you can assign field lengths, left/right alignments, rounding parameters and more"
   ]
  },
  {
   "cell_type": "code",
   "execution_count": 143,
   "id": "5339c895",
   "metadata": {},
   "outputs": [
    {
     "name": "stdout",
     "output_type": "stream",
     "text": [
      "Fruit    | Quantity \n",
      "Apples   |       3.0\n",
      "Oranges  |        10\n"
     ]
    }
   ],
   "source": [
    "print('{0:8} | {1:9}'.format('Fruit', 'Quantity'))\n",
    "print('{0:8} | {1:9}'.format('Apples', 3.))\n",
    "print('{0:8} | {1:9}'.format('Oranges', 10))"
   ]
  },
  {
   "cell_type": "code",
   "execution_count": 144,
   "id": "91496b2d",
   "metadata": {},
   "outputs": [
    {
     "name": "stdout",
     "output_type": "stream",
     "text": [
      "Fruit   |Quantity \n",
      "Apples   |      3.0\n",
      "Oranges   |       10\n"
     ]
    }
   ],
   "source": [
    "print('{0:8}|{1:9}'.format('Fruit', 'Quantity'))\n",
    "print('{0:9}|{1:9}'.format('Apples', 3.))\n",
    "print('{0:10}|{1:9}'.format('Oranges', 10))"
   ]
  },
  {
   "cell_type": "markdown",
   "id": "2b1ab7fe",
   "metadata": {},
   "source": [
    "By default, `.format()` aligns text to the left, numbers to the right. You can pass an optional `<`,`^`, or `>` to set a left, center or right alignment:"
   ]
  },
  {
   "cell_type": "code",
   "execution_count": 145,
   "id": "e05233fa",
   "metadata": {},
   "outputs": [
    {
     "name": "stdout",
     "output_type": "stream",
     "text": [
      "Left    ,Center  ,Right   \n",
      "Left    | Center |   Right\n",
      "11      |   12   |      13\n"
     ]
    }
   ],
   "source": [
    "print(\"{0:8},{1:8},{2:8}\".format(\"Left\", \"Center\", \"Right\"))\n",
    "print(\"{0:<8}|{1:^8}|{2:>8}\".format('Left', 'Center', 'Right'))\n",
    "print(\"{0:<8}|{1:^8}|{2:>8}\".format(11, 12, 13))"
   ]
  },
  {
   "cell_type": "markdown",
   "id": "6b408804",
   "metadata": {},
   "source": [
    "`NOTE : By default, .format() aligns numbers to the right but here we are passing alignment option also `"
   ]
  },
  {
   "cell_type": "markdown",
   "id": "fc6c8652",
   "metadata": {},
   "source": [
    "You can precede the aligment operator with a padding character"
   ]
  },
  {
   "cell_type": "code",
   "execution_count": 146,
   "id": "3f236e34",
   "metadata": {},
   "outputs": [
    {
     "name": "stdout",
     "output_type": "stream",
     "text": [
      "Hi Left==== | -Center-- | ...Right\n",
      "11====== | ---12---- | ......13\n"
     ]
    }
   ],
   "source": [
    "print('Hi {0:=<8} | {1:-^9} | {2:.>8}'.format('Left', 'Center', 'Right'))\n",
    "print('{0:=<8} | {1:-^9} | {2:.>8}'.format(11, 12, 13))"
   ]
  },
  {
   "cell_type": "code",
   "execution_count": 147,
   "id": "20e273b0",
   "metadata": {},
   "outputs": [
    {
     "name": "stdout",
     "output_type": "stream",
     "text": [
      "Left====#|$=Center=|@===Right\n",
      "11======#|$===12===|@======13\n"
     ]
    }
   ],
   "source": [
    "print(\"{0:=<8}#|${1:=^8}|@{2:=>8}\".format('Left', 'Center', 'Right'))\n",
    "print(\"{0:=<8}#|${1:=^8}|@{2:=>8}\".format(11, 12, 13))"
   ]
  },
  {
   "cell_type": "code",
   "execution_count": 148,
   "id": "074204c4",
   "metadata": {},
   "outputs": [
    {
     "name": "stdout",
     "output_type": "stream",
     "text": [
      "Left====#|$=Center=|@===Right\n",
      "13======#|$===11===|@======12\n"
     ]
    }
   ],
   "source": [
    "print(\"{0:=<8}#|${1:=^8}|@{2:=>8}\".format('Left', 'Center', 'Right'))\n",
    "# here we have asked to take 13 first , then 11 and last is 12 by putting different index values\n",
    "print(\"{2:=<8}#|${0:=^8}|@{1:=>8}\".format(11, 12, 13))"
   ]
  },
  {
   "cell_type": "markdown",
   "id": "6e0d50f8",
   "metadata": {},
   "source": [
    "Field widths and float precision are handled in a way similar to placeholders. The following two print statements are equivalent:"
   ]
  },
  {
   "cell_type": "code",
   "execution_count": 149,
   "id": "d64c02bf",
   "metadata": {},
   "outputs": [
    {
     "name": "stdout",
     "output_type": "stream",
     "text": [
      "Floating point numbers with placeholder: #13.15\n",
      "Floating point numbers with placeholder: #13\n",
      "Floating point numbers with placeholder: #13.14400\n",
      "Floating point numbers with placeholder: #     13.14\n",
      "Floating point numbers with placeholder: #     13.58\n",
      "Floating point numbers with placeholder: #13.58\n",
      "20 white space Padded before#with placeholder#Floating point numbers:                    13.14\n"
     ]
    }
   ],
   "source": [
    "print(\"Floating point numbers with placeholder: #%5.2f\" % 13.149)\n",
    "print(\"Floating point numbers with placeholder: #%1.0f\" % 13.144)\n",
    "print(\"Floating point numbers with placeholder: #%1.5f\" % 13.144)\n",
    "print(\"Floating point numbers with placeholder: #%10.2f\" % 13.144) # 13 and 8 spaces will be there \n",
    "print(\"Floating point numbers with placeholder: #%10.2f\" % 13.579) \n",
    "print(\"Floating point numbers with placeholder: #%.2f\" % 13.579)  # no minium char so it take all \n",
    "print(\"20 white space Padded before\", \"with placeholder\", \"Floating point numbers:%25.2f\" % 13.144, sep=\"#\")"
   ]
  },
  {
   "cell_type": "code",
   "execution_count": 150,
   "id": "3143c419",
   "metadata": {},
   "outputs": [
    {
     "name": "stdout",
     "output_type": "stream",
     "text": [
      "Floating point numbers with format: #13.15\n",
      "Floating point numbers with format: #13\n",
      "Floating point numbers with format: #13.14400\n",
      "Floating point numbers with format: #     13.14\n",
      "Floating point numbers with format: #     13.58\n",
      "Floating point numbers with format: #13.58\n",
      "20 white space Padded before#with placeholder#Floating point numbers:#%25.2f\n"
     ]
    }
   ],
   "source": [
    "print(\"Floating point numbers with format: #{0:5.2f}\".format(13.149))\n",
    "print(\"Floating point numbers with format: #{0:1.0f}\".format(13.144))\n",
    "print(\"Floating point numbers with format: #{0:1.5f}\".format(13.144))\n",
    "print(\"Floating point numbers with format: #{0:10.2f}\".format(13.144)) # 13 and 8 spaces will be there \n",
    "print(\"Floating point numbers with format: #{0:10.2f}\".format(13.579) )\n",
    "print(\"Floating point numbers with format: #{0:.2f}\".format(13.579))  # no minium char so it take all \n",
    "print(\"20 white space Padded before\", \"with placeholder\", \"Floating point numbers:#%25.2f\".format(13.144), sep=\"#\")"
   ]
  },
  {
   "cell_type": "code",
   "execution_count": 151,
   "id": "b5e4a649",
   "metadata": {},
   "outputs": [
    {
     "name": "stdout",
     "output_type": "stream",
     "text": [
      "This is my ten-character, two-decimal number:     13.58\n",
      "This is my ten-character, two-decimal number:     13.58\n"
     ]
    }
   ],
   "source": [
    "print('This is my ten-character, two-decimal number:%10.2f' %13.579)\n",
    "print('This is my ten-character, two-decimal number:{0:10.2f}'.format(13.579))"
   ]
  },
  {
   "cell_type": "markdown",
   "id": "cd940840",
   "metadata": {},
   "source": [
    "Other way could be ;"
   ]
  },
  {
   "cell_type": "code",
   "execution_count": 152,
   "id": "2fc444b4",
   "metadata": {},
   "outputs": [
    {
     "name": "stdout",
     "output_type": "stream",
     "text": [
      "This is my ten-character, two-decimal number:13.579\n",
      "This is my ten-character, two-decimal number:     13.58\n"
     ]
    }
   ],
   "source": [
    "print('This is my ten-character, two-decimal number:{a}'.format(a=13.579))\n",
    "print('This is my ten-character, two-decimal number:{a:10.2f}'.format(a=13.579))"
   ]
  },
  {
   "cell_type": "markdown",
   "id": "2993f7d9",
   "metadata": {},
   "source": [
    "Note that there are 5 spaces following the colon, and 5 characters taken up by 13.58, for a total of ten characters.\n",
    "\n",
    "For more information on the string `.format()` method visit https://docs.python.org/3/library/string.html#formatstrings"
   ]
  },
  {
   "cell_type": "code",
   "execution_count": 153,
   "id": "aa8dc035",
   "metadata": {},
   "outputs": [
    {
     "name": "stdout",
     "output_type": "stream",
     "text": [
      "The price is 49.00 dollars\n"
     ]
    }
   ],
   "source": [
    "# Add a placeholder where you want to display the price:\n",
    "price = 49\n",
    "txt = \"The price is {:.2f} dollars\"\n",
    "print(txt.format(price))"
   ]
  },
  {
   "cell_type": "code",
   "execution_count": 154,
   "id": "4549746c",
   "metadata": {},
   "outputs": [
    {
     "name": "stdout",
     "output_type": "stream",
     "text": [
      "For only 49.00 dollars!\n"
     ]
    }
   ],
   "source": [
    "# Insert the price inside the placeholder, the price should be in fixed point, two-decimal format:\n",
    "txt = \"For only {price:.2f} dollars!\"\n",
    "print(txt.format(price = 49))"
   ]
  },
  {
   "cell_type": "code",
   "execution_count": 155,
   "id": "18d3d377",
   "metadata": {},
   "outputs": [
    {
     "name": "stdout",
     "output_type": "stream",
     "text": [
      "For only 49.00 dollars!\n"
     ]
    }
   ],
   "source": [
    "print(\"For only {price:.2f} dollars!\".format(price = 49))"
   ]
  },
  {
   "cell_type": "markdown",
   "id": "4e8d88cd",
   "metadata": {},
   "source": [
    "## Formatted String Literals (f-strings)"
   ]
  },
  {
   "cell_type": "markdown",
   "id": "67855246",
   "metadata": {},
   "source": [
    "Introduced in Python 3.6, f-strings offer several benefits over the older `.format()` string method described above. \n",
    "\n",
    "For one, you can bring outside variables immediately into to the string rather than pass them as arguments through `.format(var)`."
   ]
  },
  {
   "cell_type": "code",
   "execution_count": 156,
   "id": "61f0e25d",
   "metadata": {},
   "outputs": [
    {
     "name": "stdout",
     "output_type": "stream",
     "text": [
      "He said his name is Fred.\n",
      "He said His name is Fred.@"
     ]
    }
   ],
   "source": [
    "name = 'Fred'\n",
    "\n",
    "print(f\"He said his name is {name}.\")\n",
    "print(f\"He said His name is {name}.\", end=\"@\")"
   ]
  },
  {
   "cell_type": "markdown",
   "id": "b1223c75",
   "metadata": {},
   "source": [
    "Pass `!r` to get the string representation:"
   ]
  },
  {
   "cell_type": "code",
   "execution_count": 157,
   "id": "7fdc14c9",
   "metadata": {},
   "outputs": [
    {
     "name": "stdout",
     "output_type": "stream",
     "text": [
      "He said his name is 'Fred'\n",
      "\n",
      "He said His name is 'Fred'.\n"
     ]
    }
   ],
   "source": [
    "print(f\"He said his name is {name!r}\")\n",
    "print(f\"\\nHe said His name is {name!r}.\")"
   ]
  },
  {
   "cell_type": "code",
   "execution_count": 158,
   "id": "bd8d5b9c",
   "metadata": {},
   "outputs": [],
   "source": [
    "name ='sam'\n",
    "age = 3"
   ]
  },
  {
   "cell_type": "code",
   "execution_count": 159,
   "id": "b4bc9923",
   "metadata": {},
   "outputs": [
    {
     "name": "stdout",
     "output_type": "stream",
     "text": [
      "sam is 3 years old.\n"
     ]
    }
   ],
   "source": [
    "print(f'{name} is {age} years old.')"
   ]
  },
  {
   "cell_type": "code",
   "execution_count": 160,
   "id": "20930891",
   "metadata": {},
   "outputs": [
    {
     "data": {
      "text/plain": [
       "'sam is 3 years old.'"
      ]
     },
     "execution_count": 160,
     "metadata": {},
     "output_type": "execute_result"
    }
   ],
   "source": [
    "f'{name} is {age} years old.'"
   ]
  },
  {
   "cell_type": "markdown",
   "id": "dca02131",
   "metadata": {},
   "source": [
    "#### Float formatting follows `\"result: {value:{width}.{precision}}\"`\n",
    "\n",
    "https://saralgyaan.com/posts/f-string-in-python-usage-guide/#How_to_add_decimal_places_in_a_float_in_Python_f-strings_(Formatting_a_float)?"
   ]
  },
  {
   "cell_type": "markdown",
   "id": "7fb45041",
   "metadata": {},
   "source": [
    "Where with the `.format()` method you might see `{value:10.4f}`, with f-strings this can become `{value:{10}.{6}}`\n"
   ]
  },
  {
   "cell_type": "code",
   "execution_count": 161,
   "id": "87887f2e",
   "metadata": {},
   "outputs": [
    {
     "name": "stdout",
     "output_type": "stream",
     "text": [
      "My 10 character, four decimal number is with place holder:#   23.4625\n"
     ]
    }
   ],
   "source": [
    "num = 23.46254\n",
    "print(\"My 10 character, four decimal number is with place holder:#%10.4f\" % num)"
   ]
  },
  {
   "cell_type": "code",
   "execution_count": 162,
   "id": "09e4915d",
   "metadata": {},
   "outputs": [
    {
     "name": "stdout",
     "output_type": "stream",
     "text": [
      "My 10 character, four decimal number is with format():#   23.4568\n"
     ]
    }
   ],
   "source": [
    "num = 23.45678\n",
    "print(\"My 10 character, four decimal number is with format():#{0:10.4f}\".format(num))"
   ]
  },
  {
   "cell_type": "code",
   "execution_count": 163,
   "id": "93b09cfa",
   "metadata": {},
   "outputs": [
    {
     "name": "stdout",
     "output_type": "stream",
     "text": [
      "with f-string 23.46254 num:(10).(6) is:#   23.4625\n"
     ]
    }
   ],
   "source": [
    "num = 23.46254\n",
    "\n",
    "#  result:{10}.{6}}\n",
    "# Rresult ki Total length 10 char hogi\n",
    "# only 6 digit Display honge excluding \".\"  so like that 6 digitsd + 1 \".\" so = total 7 char display honge\n",
    "# now if width given is more than 7 then rest postion will be filled by white space\n",
    "# {num:{a}.{b}} => when a > b  No. of Digit displayed = b+1(for .) AND No. of whitespace =  a-(b+1)\n",
    "# {num:{a}.{b}} => when a <= b No. of digit displayed = b+1(for .) AND No. of whitespace =  0\n",
    "\n",
    "# Note : Width => This maximum  Width. Full length of result can NOT go more that Width but can go less than Width\n",
    "\n",
    "# here\n",
    "# num:{10}.{6}} => when 10 > 6  No. of char to be displayed = 6+1(for .) = 7\n",
    "#         AND No. of whitespace =  10-(6+1) = 10- 7 = 3\n",
    "print(f\"with f-string {num} num:(10).(6) is:#{num:{10}.{6}}\")"
   ]
  },
  {
   "cell_type": "code",
   "execution_count": 164,
   "id": "7e76a661",
   "metadata": {},
   "outputs": [
    {
     "name": "stdout",
     "output_type": "stream",
     "text": [
      "with f-string 23.46254 num:(3).(5) is:#23.463\n"
     ]
    }
   ],
   "source": [
    "num = 23.46254\n",
    "print(f\"with f-string {num} num:(3).(5) is:#{num:{3}.{5}}\")"
   ]
  },
  {
   "cell_type": "code",
   "execution_count": 165,
   "id": "ca3ae26d",
   "metadata": {},
   "outputs": [
    {
     "name": "stdout",
     "output_type": "stream",
     "text": [
      "with f-string 123.46254 num:(3).(5) is:#123.46\n"
     ]
    }
   ],
   "source": [
    "num = 123.46254\n",
    "print(f\"with f-string {num} num:(3).(5) is:#{num:{3}.{5}}\")"
   ]
  },
  {
   "cell_type": "code",
   "execution_count": 166,
   "id": "ee2ca054",
   "metadata": {},
   "outputs": [
    {
     "name": "stdout",
     "output_type": "stream",
     "text": [
      "with f-string 9123.46254 num:(3).(5) is:#9123.5\n"
     ]
    }
   ],
   "source": [
    "num = 9123.46254\n",
    "print(f\"with f-string {num} num:(3).(5) is:#{num:{3}.{5}}\")"
   ]
  },
  {
   "cell_type": "code",
   "execution_count": 167,
   "id": "a9d116ee",
   "metadata": {},
   "outputs": [
    {
     "name": "stdout",
     "output_type": "stream",
     "text": [
      "with f-string 79123.46254 num:(10).(6) is:#7.9123e+04\n"
     ]
    }
   ],
   "source": [
    "num = 79123.46254\n",
    "print(f\"with f-string {num} num:(10).(6) is:#{num:{3}.{5}}\")"
   ]
  },
  {
   "cell_type": "code",
   "execution_count": 168,
   "id": "7c2f18ac",
   "metadata": {},
   "outputs": [
    {
     "name": "stdout",
     "output_type": "stream",
     "text": [
      "with f-string(23.45678:(0).(4))  is:#23.46\n",
      "with f-string(23.45678:(1).(4))  is:#23.46\n",
      "with f-string(23.45678:(10).(4)) is:#     23.46\n",
      "with f-string(23.45678:(10).(5)) is:#    23.457\n",
      "with f-string(23.45678:(10).(6)) is:#   23.4568\n",
      "with f-string(23.45678:(10).(7)) is:#  23.45678\n",
      "with f-string(1234567.45678:(10).(8)) is:# 1234567.5\n",
      "with f-string(9.45678:(10).(8)) is:#   9.45678\n"
     ]
    }
   ],
   "source": [
    "print(f\"with f-string(23.45678:(0).(4))  is:#{23.45678:{0}.{4}}\")\n",
    "print(f\"with f-string(23.45678:(1).(4))  is:#{23.45678:{1}.{4}}\")\n",
    "print(f\"with f-string(23.45678:(10).(4)) is:#{23.45678:{10}.{4}}\")\n",
    "print(f\"with f-string(23.45678:(10).(5)) is:#{23.45678:{10}.{5}}\")\n",
    "print(f\"with f-string(23.45678:(10).(6)) is:#{23.45678:{10}.{6}}\")\n",
    "print(f\"with f-string(23.45678:(10).(7)) is:#{23.45678:{10}.{7}}\")\n",
    "\n",
    "# If char are more (i.e. 14 in this case ) than width (10)\n",
    "print(f\"with f-string(1234567.45678:(10).(8)) is:#{1234567.45678:{10}.{8}}\")\n",
    "\n",
    "# If char are less (i.e. 7 in this case ) than width(10)\n",
    "print(f\"with f-string(9.45678:(10).(8)) is:#{9.45678:{10}.{8}}\")"
   ]
  },
  {
   "cell_type": "code",
   "execution_count": 169,
   "id": "4a5e4ae9",
   "metadata": {},
   "outputs": [
    {
     "name": "stdout",
     "output_type": "stream",
     "text": [
      "with f-string(123.456723:(8).(6))  is:# 123.457\n",
      "with f-string(123.4:(8).(6))  is:#   123.4\n",
      "with f-string(123.456723:(8).(4))  is:#   123.5\n",
      "with f-string(123.456723:(8).(2))  is:# 1.2e+02\n",
      "with f-string(123.456723:(8).(3))  is:#1.23e+02\n"
     ]
    }
   ],
   "source": [
    "print(f\"with f-string(123.456723:(8).(6))  is:#{123.456723:{8}.{6}}\")\n",
    "print(f\"with f-string(123.4:(8).(6))  is:#{123.4:{8}.{6}}\")\n",
    "\n",
    "print(f\"with f-string(123.456723:(8).(4))  is:#{123.456723:{8}.{4}}\")\n",
    "print(f\"with f-string(123.456723:(8).(2))  is:#{123.456723:{8}.{2}}\")\n",
    "print(f\"with f-string(123.456723:(8).(3))  is:#{123.456723:{8}.{3}}\")"
   ]
  },
  {
   "cell_type": "code",
   "execution_count": 170,
   "id": "684114e6",
   "metadata": {},
   "outputs": [
    {
     "name": "stdout",
     "output_type": "stream",
     "text": [
      "result= 0.1287001287001287\n",
      "\n",
      "The result was 0.1287001287001287\n",
      "The result was 0.1287001287001287\n",
      "The result was 0.129\n",
      "The result was      0.129\n",
      "The result was    0.12870\n",
      "The result was 0.12870\n",
      "The result was 104.12345\n",
      "The result was 104.12\n"
     ]
    }
   ],
   "source": [
    "result = 100/777\n",
    "print(\"result=\", result)\n",
    "print()\n",
    "print(\"The result was {}\".format(result))\n",
    "print(\"The result was {r}\".format(r=result))\n",
    "print(\"The result was {r:1.3f}\".format(r=result))\n",
    "print(\"The result was {r:10.3f}\".format(r=result))\n",
    "print(\"The result was {r:10.5f}\".format(r=result))\n",
    "print(\"The result was {r:1.5f}\".format(r=result))\n",
    "print(\"The result was {r:1.5f}\".format(r=104.12345))\n",
    "print(\"The result was {r:1.2f}\".format(r=104.12345))"
   ]
  },
  {
   "cell_type": "markdown",
   "id": "bc7f44cb",
   "metadata": {},
   "source": [
    "Note :  **that with f-strings, *precision* refers to the total number of digits, not just those following the decimal.** \n",
    "\n",
    "This fits more closely with scientific notation and statistical analysis. Unfortunately, f-strings do not pad to the right of the decimal, even if precision allows it: (i.e. zero padding at right side doent happen in f-string)"
   ]
  },
  {
   "cell_type": "code",
   "execution_count": 171,
   "id": "2e4fe27e",
   "metadata": {},
   "outputs": [
    {
     "name": "stdout",
     "output_type": "stream",
     "text": [
      "My 10 character, four decimal number is:#   23.4500\n",
      "My 10 character, four decimal number is:#     23.45\n"
     ]
    }
   ],
   "source": [
    "num = 23.45\n",
    "print(\"My 10 character, four decimal number is:#{0:10.4f}\".format(num))\n",
    "print(f\"My 10 character, four decimal number is:#{num:{10}.{6}}\")"
   ]
  },
  {
   "cell_type": "markdown",
   "id": "ebed773d",
   "metadata": {},
   "source": [
    "If this becomes important, you can always use `.format()` method syntax inside an f-string:"
   ]
  },
  {
   "cell_type": "code",
   "execution_count": 172,
   "id": "8bc912a1",
   "metadata": {},
   "outputs": [
    {
     "name": "stdout",
     "output_type": "stream",
     "text": [
      "My 10 character, four decimal number is:   23.4500\n",
      "My 10 character, four decimal number is:   23.4500\n"
     ]
    }
   ],
   "source": [
    "num = 23.45\n",
    "print(\"My 10 character, four decimal number is:{0:10.4f}\".format(num))\n",
    "print(f\"My 10 character, four decimal number is:{num:10.4f}\")"
   ]
  },
  {
   "cell_type": "markdown",
   "id": "df89c154",
   "metadata": {},
   "source": [
    "For more info on formatted string literals visit https://docs.python.org/3/reference/lexical_analysis.html#f-strings"
   ]
  },
  {
   "cell_type": "code",
   "execution_count": 173,
   "id": "46c2da13",
   "metadata": {},
   "outputs": [
    {
     "name": "stdout",
     "output_type": "stream",
     "text": [
      "Left====@|$=center=|@===Right\n",
      "13======@|$===12===|@======11\n",
      "13======@|$===12===|@======11\n"
     ]
    }
   ],
   "source": [
    "print(f\"{'Left':=<8}@|${'center':=^8}|@{'Right':=>8}\")\n",
    "print(f\"{'13':=<8}@|${'12':=^8}|@{'11':=>8}\")\n",
    "print(f\"{13:=<8}@|${12:=^8}|@{11:=>8}\")"
   ]
  },
  {
   "cell_type": "markdown",
   "id": "9c79176c",
   "metadata": {},
   "source": [
    "That is the basics of string formatting!"
   ]
  },
  {
   "cell_type": "markdown",
   "id": "4a3d1980",
   "metadata": {},
   "source": [
    "## Python - Escape Characters\n",
    "\n",
    "Escape Character\n",
    "\n",
    "To insert characters that are illegal in a string, use an escape character.\n",
    "\n",
    "An escape character is a backslash `\\` followed by the character you want to insert.\n",
    "\n",
    "An example of an illegal character is a double quote inside a string that is surrounded by double quotes:"
   ]
  },
  {
   "cell_type": "code",
   "execution_count": 174,
   "id": "9b42dd3f",
   "metadata": {},
   "outputs": [
    {
     "ename": "SyntaxError",
     "evalue": "invalid syntax (<ipython-input-174-1305ada74cd2>, line 2)",
     "output_type": "error",
     "traceback": [
      "\u001b[1;36m  File \u001b[1;32m\"<ipython-input-174-1305ada74cd2>\"\u001b[1;36m, line \u001b[1;32m2\u001b[0m\n\u001b[1;33m    txt = \"We are the so-called \"Vikings\" from the north.\"\u001b[0m\n\u001b[1;37m                                 ^\u001b[0m\n\u001b[1;31mSyntaxError\u001b[0m\u001b[1;31m:\u001b[0m invalid syntax\n"
     ]
    }
   ],
   "source": [
    "# You will get an error if you use double quotes inside a string that is surrounded by double quotes:\n",
    "txt = \"We are the so-called \"Vikings\" from the north.\"\n",
    "print(txt)"
   ]
  },
  {
   "cell_type": "markdown",
   "id": "d8946450",
   "metadata": {},
   "source": [
    "to fix this problem, use the escape character `\\\"`:"
   ]
  },
  {
   "cell_type": "code",
   "execution_count": 175,
   "id": "8e31e62e",
   "metadata": {},
   "outputs": [
    {
     "name": "stdout",
     "output_type": "stream",
     "text": [
      "We are the so-called \"Vikings\" from the north.\n"
     ]
    }
   ],
   "source": [
    "txt = \"We are the so-called \\\"Vikings\\\" from the north.\"\n",
    "print(txt)"
   ]
  },
  {
   "cell_type": "markdown",
   "id": "6492ffdd",
   "metadata": {},
   "source": [
    "__Other escape characters used in Python:__\n",
    "\n",
    "> Code\tResult\t\n",
    "`\\'`\tSingle Quote\t\n",
    "`\\\\`\tBackslash\t\n",
    "`\\n`\tNew Line\t\n",
    "`\\r`\tCarriage Return\t\n",
    "`\\t`\tTab\t\n",
    "`\\b`\tBackspace\t\n",
    "`\\f`\tForm Feed\t\n",
    "`\\ooo`\tOctal value\t\n",
    "`\\xhh`\tHex value"
   ]
  },
  {
   "cell_type": "code",
   "execution_count": 176,
   "id": "be4c2a67",
   "metadata": {},
   "outputs": [
    {
     "name": "stdout",
     "output_type": "stream",
     "text": [
      "This will insert one ' (Single Quote).\n",
      "\n",
      "This will insert one \\ (backslash).\n",
      "\n",
      "This will insert one$\t@(tab).\n",
      "\n",
      "This will insert one$\n",
      "@(new line).\n",
      "\n",
      "This will insert one$\b@(backspace and delete $).\n",
      "Hello \bWorld!\n",
      "\n",
      "x48x65x6cx6cx6f\n",
      "Hello\n",
      "\n",
      "Hello\n",
      "Octal\n",
      "\n",
      "Hello\r",
      "World!\n"
     ]
    }
   ],
   "source": [
    "# \\'\tSingle Quote\n",
    "txt2 = \"This will insert one \\' (Single Quote).\"\n",
    "print(txt2)\n",
    "print()\n",
    "\n",
    "# \\\\\tBackslash\n",
    "txt1 = \"This will insert one \\\\ (backslash).\"\n",
    "print(txt1)\n",
    "print()\n",
    "\n",
    "# \\t\tTab\n",
    "txt3 = \"This will insert one$\\t@(tab).\"\n",
    "print(txt3)\n",
    "print()\n",
    "\n",
    "# \\n\tNew Line\n",
    "txt3 = \"This will insert one$\\n@(new line).\"\n",
    "print(txt3)\n",
    "print()\n",
    "\n",
    "# \\b\tBackspace\n",
    "# This example erases one character (backspace):\n",
    "txt5 = \"This will insert one$\\b@(backspace and delete $).\"\n",
    "print(txt5)\n",
    "txt4 = \"Hello \\bWorld!\"\n",
    "print(txt4)\n",
    "\n",
    "print()\n",
    "\n",
    "# xhh\tHex value\n",
    "# A backslash followed by an 'x' and a hex number represents a hex value:\n",
    "txt6 = \"x48x65x6cx6cx6f\"\n",
    "print(txt6)\n",
    "txt7 = \"\\x48\\x65\\x6c\\x6c\\x6f\"\n",
    "print(txt7)\n",
    "print()\n",
    "\n",
    "# ooo\tOctal value\n",
    "# A backslash f1ollowed by three integers will result in a octal value:\n",
    "txt = \"\\110\\145\\154\\154\\157\"  # hello\n",
    "print(txt)\n",
    "txt = \"\\117\\143\\164\\141\\154\"  # Octal\n",
    "print(txt)\n",
    "print()\n",
    "\n",
    "# \\r Carriage Return\n",
    "txt = \"Hello\\rWorld!\"\n",
    "print(txt)\n",
    "\n",
    "# \\f\tForm Feed"
   ]
  },
  {
   "cell_type": "code",
   "execution_count": 177,
   "id": "497f2562",
   "metadata": {
    "scrolled": true
   },
   "outputs": [
    {
     "name": "stdout",
     "output_type": "stream",
     "text": [
      "Hey!@It's #\n",
      "alright.$"
     ]
    }
   ],
   "source": [
    "print(\"Hey!\", \"It\\'s #\\nalright.\", sep='@', end='$')"
   ]
  },
  {
   "cell_type": "markdown",
   "id": "0c132236",
   "metadata": {},
   "source": [
    "# Python - String Methods\n",
    "\n",
    "Python has a set of built-in methods that you can use on strings.\n",
    "\n",
    "`Note: All string methods returns new values. They do not change the original string.`\n",
    "\n",
    "https://www.w3schools.com/python/python_strings_methods.asp\n",
    "\n",
    "`Method\t\t\tDescription\n",
    "capitalize()\tConverts the first character to upper case\n",
    "casefold()\t\tConverts string into lower case\n",
    "center()\t\tReturns a centered string\n",
    "count()\t\t\tReturns the number of times a specified value occurs in a string\n",
    "encode()\t\tReturns an encoded version of the string\n",
    "endswith()\t\tReturns true if the string ends with the specified value\n",
    "expandtabs()\tSets the tab size of the string\n",
    "find()\t\t\tSearches the string for a specified value and returns the position of where it was found\n",
    "format()\t\tFormats specified values in a string\n",
    "format_map()\tFormats specified values in a string\n",
    "index()\t\t\tSearches the string for a specified value and returns the position of where it was found\n",
    "isalnum()\t\tReturns True if all characters in the string are alphanumeric\n",
    "isalpha()\t\tReturns True if all characters in the string are in the alphabet\n",
    "isdecimal()\t\tReturns True if all characters in the string are decimals\n",
    "isdigit()\t\tReturns True if all characters in the string are digits\n",
    "isidentifier()\tReturns True if the string is an identifier\n",
    "islower()\t\tReturns True if all characters in the string are lower case\n",
    "isnumeric()\t\tReturns True if all characters in the string are numeric\n",
    "isprintable()\tReturns True if all characters in the string are printable\n",
    "isspace()\t\tReturns True if all characters in the string are whitespaces\n",
    "istitle()\t\tReturns True if the string follows the rules of a title\n",
    "isupper()\t\tReturns True if all characters in the string are upper case\n",
    "join()\t\t\tJoins the elements of an iterable to the end of the string\n",
    "ljust()\t\t\tReturns a left justified version of the string\n",
    "lower()\t\t\tConverts a string into lower case\n",
    "lstrip()\t\tReturns a left trim version of the string\n",
    "maketrans()\t\tReturns a translation table to be used in translations\n",
    "partition()\t\tReturns a tuple where the string is parted into three parts\n",
    "replace()\t\tReturns a string where a specified value is replaced with a specified value\n",
    "rfind()\t\t\tSearches the string for a specified value and returns the last position of where it was found\n",
    "rindex()\t\tSearches the string for a specified value and returns the last position of where it was found\n",
    "rjust()\t\t\tReturns a right justified version of the string\n",
    "rpartition()\tReturns a tuple where the string is parted into three parts\n",
    "rsplit()\t\tSplits the string at the specified separator, and returns a list\n",
    "rstrip()\t\tReturns a right trim version of the string\n",
    "split()\t\t\tSplits the string at the specified separator, and returns a list\n",
    "splitlines()\tSplits the string at line breaks and returns a list\n",
    "startswith()\tReturns true if the string starts with the specified value\n",
    "strip()\t\t\tReturns a trimmed version of the string\n",
    "swapcase()\t\tSwaps cases, lower case becomes upper case and vice versa\n",
    "title()\t\t\tConverts the first character of each word to upper case\n",
    "translate()\t\tReturns a translated string\n",
    "upper()\t\t\tConverts a string into upper case\n",
    "zfill()\t\t\tFills the string with a specified number of 0 values at the beginning`"
   ]
  },
  {
   "cell_type": "markdown",
   "id": "e01d9f2a",
   "metadata": {},
   "source": [
    "## capitalize()\n",
    "(https://www.w3schools.com/python/ref_string_capitalize.asp)\n",
    "\n",
    "Python String capitalize() Method\n",
    "\n",
    "Example\n",
    "Upper case the first letter in this sentence:\n",
    "\n",
    "txt = \"hello, and welcome to my world.\"\n",
    "\n",
    "x = txt.capitalize()\n",
    "\n",
    "print (x)\n",
    "\n",
    "Definition and Usage\n",
    "\n",
    "The capitalize() method returns a string where the first character is upper case, and the rest is lower case.\n",
    "\n",
    "Syntax\n",
    "\n",
    "string.capitalize()\n",
    "\n",
    "Parameter Values\n",
    "\n",
    "No parameters\n",
    "\n",
    "More Examples\n",
    "\n",
    "Example\n",
    "\n",
    "The first character is converted to upper case, and the rest are converted to lower case:\n",
    "\n",
    "txt = \"python is FUN!\"\n",
    "\n",
    "x = txt.capitalize()\n",
    "\n",
    "print (x)\n",
    "\n",
    "Example\n",
    "\n",
    "See what happens if the first character is a number:\n",
    "\n",
    "txt = \"36 is my age.\"\n",
    "\n",
    "x = txt.capitalize()\n",
    "\n",
    "print (x)"
   ]
  },
  {
   "cell_type": "code",
   "execution_count": 178,
   "id": "5a303b2b",
   "metadata": {},
   "outputs": [
    {
     "name": "stdout",
     "output_type": "stream",
     "text": [
      "Hello, and welcome to my world.\n"
     ]
    }
   ],
   "source": [
    "# Upper case the first letter in this sentence:\n",
    "\n",
    "txt = \"hello, and welcome to my world.\"\n",
    "\n",
    "x = txt.capitalize()\n",
    "\n",
    "print (x)"
   ]
  },
  {
   "cell_type": "code",
   "execution_count": 179,
   "id": "7fa9c081",
   "metadata": {},
   "outputs": [
    {
     "name": "stdout",
     "output_type": "stream",
     "text": [
      "Python is fun!\n"
     ]
    }
   ],
   "source": [
    "# The first character is converted to upper case, and the rest are converted to lower case:\n",
    "\n",
    "txt = \"python is FUN!\"\n",
    "\n",
    "x = txt.capitalize()\n",
    "\n",
    "print (x)"
   ]
  },
  {
   "cell_type": "code",
   "execution_count": 180,
   "id": "3e12c0e6",
   "metadata": {},
   "outputs": [
    {
     "name": "stdout",
     "output_type": "stream",
     "text": [
      "36 is my age.\n"
     ]
    }
   ],
   "source": [
    "# See what happens if the first character is a number:\n",
    "\n",
    "txt = \"36 is my age.\"\n",
    "\n",
    "x = txt.capitalize()\n",
    "\n",
    "print (x)"
   ]
  },
  {
   "cell_type": "markdown",
   "id": "10f677ff",
   "metadata": {},
   "source": [
    "## casefold()\n",
    "\n",
    "https://www.w3schools.com/python/ref_string_casefold.asp\n",
    "\n",
    "Python String casefold() Method\n",
    "\n",
    "Example\n",
    "\n",
    "Make the string lower case:\n",
    "\n",
    "txt = \"Hello, And Welcome To My World!\"\n",
    "\n",
    "x = txt.casefold()\n",
    "\n",
    "print(x)\n",
    "\n",
    "Definition and Usage\n",
    "\n",
    "The casefold() method returns a string where all the characters are lower case.\n",
    "\n",
    "This method is similar to the lower() method, but the casefold() method is stronger, more aggressive, meaning that it will convert more characters into lower case, and will find more matches when comparing two strings and both are converted using the casefold() method.\n",
    "\n",
    "Syntax\n",
    "\n",
    "string.casefold()\n",
    "\n",
    "Parameter Values\n",
    "\n",
    "No parameters\n",
    "\n",
    "\n"
   ]
  },
  {
   "cell_type": "code",
   "execution_count": 181,
   "id": "87543750",
   "metadata": {},
   "outputs": [
    {
     "name": "stdout",
     "output_type": "stream",
     "text": [
      "hello, and welcome to my world!\n",
      "hello, and welcome to my world!\n"
     ]
    }
   ],
   "source": [
    "# Make the string lower case:\n",
    "\n",
    "txt = \"Hello, And Welcome To My World!\"\n",
    "\n",
    "x = txt.casefold()\n",
    "\n",
    "print(x)\n",
    "\n",
    "\n",
    "txt2 = \"Hello, And Welcome To My World!\"\n",
    "\n",
    "x2 = txt2.lower()\n",
    "\n",
    "print(x2)"
   ]
  },
  {
   "cell_type": "markdown",
   "id": "65f49cd2",
   "metadata": {},
   "source": [
    "## center()\n",
    "\n",
    "https://www.w3schools.com/python/ref_string_center.asp\n",
    "\n",
    "`Example\n",
    "Print the word \"banana\", taking up the space of 20 characters, with \"banana\" in the middle:\n",
    "txt = \"banana\"\n",
    "x = txt.center(20)\n",
    "print(x)\n",
    "Definition and Usage\n",
    "The center() method will center align the string, using a specified character (space is default) as the fill character.\n",
    "Syntax\n",
    "string.center(length, character)\n",
    "Parameter Values\n",
    "Parameter\tDescription\n",
    "length\tRequired. The length of the returned string\n",
    "character\tOptional. The character to fill the missing space on each side. Default is \" \" (space)\n",
    "More Examples\n",
    "Example\n",
    "Using the letter \"O\" as the padding character:\n",
    "txt = \"banana\"\n",
    "x = txt.center(20, \"O\")\n",
    "print(x)`\n",
    "\n"
   ]
  },
  {
   "cell_type": "code",
   "execution_count": 182,
   "id": "ec41a9f9",
   "metadata": {
    "scrolled": true
   },
   "outputs": [
    {
     "name": "stdout",
     "output_type": "stream",
     "text": [
      "       banana       \n"
     ]
    }
   ],
   "source": [
    "# Print the word \"banana\", taking up the space of 20 characters, with \"banana\" in the middle:\n",
    "txt = \"banana\"\n",
    "x = txt.center(20)\n",
    "print(x)"
   ]
  },
  {
   "cell_type": "code",
   "execution_count": 183,
   "id": "fdf14998",
   "metadata": {},
   "outputs": [
    {
     "name": "stdout",
     "output_type": "stream",
     "text": [
      "$$$$$$$banana$$$$$$$\n"
     ]
    }
   ],
   "source": [
    "# Using the letter \"O\" as the padding character:\n",
    "txt = \"banana\"\n",
    "x = txt.center(20, \"$\")\n",
    "print(x)"
   ]
  },
  {
   "cell_type": "markdown",
   "id": "48906b8d",
   "metadata": {},
   "source": [
    "## count() \n",
    "https://www.w3schools.com/python/ref_string_count.asp\n",
    "\n",
    "`Example\n",
    "Return the number of times the value \"apple\" appears in the string:\n",
    "txt = \"I love apples, apple are my favorite fruit\"\n",
    "x = txt.count(\"apple\")\n",
    "print(x)\n",
    "Definition and Usage\n",
    "The count() method returns the number of times a specified value appears in the string.\n",
    "Syntax\n",
    "string.count(value, start, end)\n",
    "Parameter Values\n",
    "Parameter\tDescription\n",
    "value\tRequired. A String. The string to value to search for\n",
    "start\tOptional. An Integer. The position to start the search. Default is 0\n",
    "end\tOptional. An Integer. The position to end the search. Default is the end of the string\n",
    "More Examples\n",
    "Example\n",
    "Search from position 10 to 24:\n",
    "txt = \"I love apples, apple are my favorite fruit\"\n",
    "x = txt.count(\"apple\", 10, 24)\n",
    "print(x)`\n"
   ]
  },
  {
   "cell_type": "code",
   "execution_count": 184,
   "id": "8ea88158",
   "metadata": {},
   "outputs": [
    {
     "name": "stdout",
     "output_type": "stream",
     "text": [
      "2\n"
     ]
    }
   ],
   "source": [
    "# Return the number of times the value \"apple\" appears in the string:\n",
    "txt = \"I love apples, apple are my favorite fruit\"\n",
    "x = txt.count(\"apple\")  # we have word as apples NOT apple still it will get counted \n",
    "print(x)"
   ]
  },
  {
   "cell_type": "code",
   "execution_count": 185,
   "id": "03c3911b",
   "metadata": {},
   "outputs": [
    {
     "name": "stdout",
     "output_type": "stream",
     "text": [
      "1\n",
      "42\n"
     ]
    }
   ],
   "source": [
    "# Search from position 10 to 24:\n",
    "txt = \"I love apples, apple are my favorite fruit\"\n",
    "x = txt.count(\"apple\", 10, 24)\n",
    "print(x)\n",
    "print(len(txt))"
   ]
  },
  {
   "cell_type": "markdown",
   "id": "a632ab03",
   "metadata": {},
   "source": [
    "## lower()\n",
    "\n",
    "https://www.w3schools.com/python/ref_string_lower.asp\n",
    "\n",
    "`Example\n",
    "Lower case the string:\n",
    "txt = \"Hello my FRIENDS\"\n",
    "x = txt.lower()\n",
    "print(x)\n",
    "Definition and Usage\n",
    "The lower() method returns a string where all characters are lower case.\n",
    "Symbols and Numbers are ignored.\n",
    "Syntax\n",
    "string.lower()\n",
    "Parameter Values\n",
    "No parameters`\n",
    "\n",
    "\n",
    "\n"
   ]
  },
  {
   "cell_type": "code",
   "execution_count": 186,
   "id": "67aecb95",
   "metadata": {},
   "outputs": [
    {
     "name": "stdout",
     "output_type": "stream",
     "text": [
      "hello my friends\n"
     ]
    }
   ],
   "source": [
    "# Lower case the string:\n",
    "txt = \"Hello my FRIENDS\"\n",
    "x = txt.lower()\n",
    "print(x)"
   ]
  },
  {
   "cell_type": "markdown",
   "id": "a31a5a40",
   "metadata": {},
   "source": [
    "## upper()\n",
    "\n",
    "https://www.w3schools.com/python/ref_string_upper.asp\n",
    "\n",
    "`Example\n",
    "Upper case the string:\n",
    "txt = \"Hello my friends\"\n",
    "x = txt.upper()\n",
    "print(x)\n",
    "Definition and Usage\n",
    "The upper() method returns a string where all characters are in upper case.\n",
    "Symbols and Numbers are ignored.\n",
    "Syntax\n",
    "string.upper()\n",
    "Parameter Values\n",
    "No parameters`\n",
    "\n",
    "\n"
   ]
  },
  {
   "cell_type": "code",
   "execution_count": 187,
   "id": "c1ebec42",
   "metadata": {},
   "outputs": [
    {
     "name": "stdout",
     "output_type": "stream",
     "text": [
      "HELLO MY FRIENDS\n"
     ]
    }
   ],
   "source": [
    "# Upper case the string:\n",
    "txt = \"Hello my friends\"\n",
    "x = txt.upper()\n",
    "print(x)"
   ]
  }
 ],
 "metadata": {
  "kernelspec": {
   "display_name": "Python 3",
   "language": "python",
   "name": "python3"
  },
  "language_info": {
   "codemirror_mode": {
    "name": "ipython",
    "version": 3
   },
   "file_extension": ".py",
   "mimetype": "text/x-python",
   "name": "python",
   "nbconvert_exporter": "python",
   "pygments_lexer": "ipython3",
   "version": "3.8.8"
  },
  "toc": {
   "base_numbering": 1,
   "nav_menu": {},
   "number_sections": true,
   "sideBar": true,
   "skip_h1_title": false,
   "title_cell": "Table of Contents",
   "title_sidebar": "Contents",
   "toc_cell": true,
   "toc_position": {
    "height": "calc(100% - 180px)",
    "left": "10px",
    "top": "150px",
    "width": "279.409px"
   },
   "toc_section_display": true,
   "toc_window_display": true
  }
 },
 "nbformat": 4,
 "nbformat_minor": 5
}
